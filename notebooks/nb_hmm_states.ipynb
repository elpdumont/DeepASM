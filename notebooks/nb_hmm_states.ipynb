{
 "cells": [
  {
   "cell_type": "code",
   "execution_count": null,
   "metadata": {},
   "outputs": [],
   "source": [
    "# docker pull --platform linux/amd64 us-east1-docker.pkg.dev/hmh-em-deepasm/docker-repo/python:${SHORT_SHA}\n",
    "\n",
    "# docker run --platform linux/amd64 -p 8888:8888 -v \"$PWD/notebooks:/Users/em/code/DeepASM/notebooks\" us-east1-docker.pkg.dev/hmh-em-deepasm/docker-repo/python\n",
    "\n",
    "\n",
    "import sys\n",
    "import os\n",
    "import io\n",
    "\n",
    "from google.cloud import bigquery\n",
    "from google.cloud import storage\n",
    "\n",
    "import numpy as np\n",
    "import pandas as pd\n",
    "\n",
    "import hmm"
   ]
  }
 ],
 "metadata": {
  "language_info": {
   "name": "python"
  }
 },
 "nbformat": 4,
 "nbformat_minor": 2
}
