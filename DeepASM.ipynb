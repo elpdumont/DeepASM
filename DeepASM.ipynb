{
 "cells": [
  {
   "cell_type": "markdown",
   "id": "a71a3685-b41b-4dd7-8987-fb26729209a6",
   "metadata": {},
   "source": [
    "# DeepASM\n",
    "## Import packages"
   ]
  },
  {
   "cell_type": "code",
   "execution_count": 1,
   "id": "9eb55e93-2391-4791-bca2-a69b4ec7a4be",
   "metadata": {},
   "outputs": [],
   "source": [
    "import sys\n",
    "\n",
    "# Python packages for data, stats, and visualization\n",
    "from matplotlib import pyplot as plt\n",
    "import matplotlib as mpl\n",
    "import numpy as np\n",
    "import pandas as pd\n",
    "import seaborn as sns \n",
    "\n",
    "# Machine learning libraries\n",
    "from sklearn.preprocessing import LabelEncoder, OneHotEncoder, StandardScaler\n",
    "import tensorflow as tf\n",
    "from tensorflow import keras\n",
    "#from tensorflow.keras.models import load_model\n",
    "from tensorflow.keras import layers\n",
    "import sklearn\n",
    "from sklearn import metrics\n",
    "from sklearn.metrics import confusion_matrix\n",
    "from sklearn.model_selection import train_test_split\n",
    "\n",
    "# Kernel functions\n",
    "from sklearn.neighbors import KernelDensity\n",
    "from numpy import asarray\n",
    "from matplotlib import pyplot\n",
    "from numpy import exp\n",
    "\n",
    "# Dimensionality reduction\n",
    "from sklearn.decomposition import PCA, KernelPCA, NMF, TruncatedSVD\n",
    "from sklearn.manifold import TSNE, LocallyLinearEmbedding, SpectralEmbedding\n",
    "\n",
    "# To get the time\n",
    "from datetime import datetime\n",
    "\n",
    " \n",
    "# Figure parameters\n",
    "mpl.rcParams['figure.figsize'] = (10, 10)\n",
    "mpl.rcParams['axes.titlesize'] = 15\n",
    "mpl.rcParams['axes.labelsize'] = 12\n",
    "mpl.rcParams['xtick.labelsize'] = 12\n",
    "mpl.rcParams['ytick.labelsize'] = 12\n",
    "colors = plt.rcParams['axes.prop_cycle'].by_key()['color']"
   ]
  },
  {
   "cell_type": "code",
   "execution_count": 2,
   "id": "683ebf71-130f-4ea0-8eaa-c27478ebb990",
   "metadata": {},
   "outputs": [
    {
     "name": "stdout",
     "output_type": "stream",
     "text": [
      "3.7.12 | packaged by conda-forge | (default, Oct 26 2021, 06:08:53) \n",
      "[GCC 9.4.0]\n",
      "TensorFlow version: 2.7.0\n",
      "Keras version: 2.7.0\n",
      "Numpy version: 1.19.5\n",
      "Num GPUs Available:  1\n"
     ]
    }
   ],
   "source": [
    "# Print different versions\n",
    "print(sys.version)\n",
    "print(\"TensorFlow version:\", tf.__version__)\n",
    "print(\"Keras version:\", keras.__version__)\n",
    "print(\"Numpy version:\", np.__version__)\n",
    "print(\"Num GPUs Available: \", len(tf.config.list_physical_devices('GPU')))"
   ]
  },
  {
   "cell_type": "markdown",
   "id": "abddb628-6484-4f52-9386-ced2fb0f456a",
   "metadata": {},
   "source": [
    "## GCP Variables"
   ]
  },
  {
   "cell_type": "code",
   "execution_count": 3,
   "id": "2cb33deb-7b19-4795-acd3-4511eb464de1",
   "metadata": {},
   "outputs": [],
   "source": [
    "# Import raw data from bucket. False if you want to import the processed dataset\n",
    "IMPORT_RAW_FROM_BUCKET = True\n",
    "\n",
    "# Export data after it's been prepared\n",
    "EXPORT_PROCESSED_DATA = False\n",
    "\n",
    "# Bucket name where the training datasets are\n",
    "DEEPASM_BUCKET=\"deepasm\"\n",
    "\n",
    "# GCP variable\n",
    "import os\n",
    "projectid = 'hackensack-tyco'\n",
    "os.environ[\"GOOGLE_CLOUD_PROJECT\"] = 'hackensack-tyco'\n",
    "cloud_bucket = \"gs://deepasm/colab\"\n"
   ]
  },
  {
   "cell_type": "markdown",
   "id": "abb144c7-b3d9-4ca7-836b-027939589d48",
   "metadata": {},
   "source": [
    "## Model variables"
   ]
  },
  {
   "cell_type": "code",
   "execution_count": 4,
   "id": "d49f672e-93d9-485a-9914-010650158ce0",
   "metadata": {},
   "outputs": [],
   "source": [
    "# MODELS FOR WHICH WE NEED TO RECORD THE RESULTS\n",
    "\n",
    "models = ['linear', 'perceptron', 'simple_cnn',  'cnn', 'simple_rnn', 'rnn']\n",
    "#models = ['simple_rnn']\n",
    "\n",
    "# Loss is better than AUC for monitoring\n",
    "PARAM_TO_CHANGE = \"keep_chr\"\n",
    "\n",
    "#--------------------------------------------------\n",
    "# Parameters common to all models\n",
    "\n",
    "# Number of rows to take into the dataset after import\n",
    "NB_ROWS_RAW_DATASET = int(0.2e6) # The maximum is 5e6. We use 200k to test the code\n",
    "\n",
    "# Minimum correlation factor\n",
    "MIN_CORR = 0.03\n",
    "\n",
    "# Size of the genomic window\n",
    "GENOMIC_INTERVAL = 1000\n",
    "\n",
    "# Kernel values for probability estimates\n",
    "KERNEL_FM_NB_VALUES = 10\n",
    "KERNEL_FM_BANDWIDTH = 0.1\n",
    "KERNEL_COV_NB_MAX = 200\n",
    "KERNEL_COV_NB_STEP = 40\n",
    "KERNEL_COV_BANDWIDTH = 20\n",
    "\n",
    "# Normalization method\n",
    "norm_method = \"z_score\" # \"min_max\" or \"z_score\"\n",
    "\n",
    "# Keep the chromosomes in the model (correlate poorly with ASM)\n",
    "KEEP_CHR_IN_MODEL = False\n",
    "\n",
    "# Early stopping\n",
    "EARLY_STOPPING = tf.keras.callbacks.EarlyStopping(\n",
    "    monitor='val_loss', \n",
    "    verbose=0,\n",
    "    patience=5,\n",
    "    mode='auto',\n",
    "    restore_best_weights=True)\n",
    "\n",
    "# Percentage of data points to be used in the Test dataset\n",
    "TEST_SPLIT = 0.2\n",
    "\n",
    "# Percentage of datapoints used between training and validation\n",
    "VALIDATION_SPLIT = 0.3 # How to divide the training dataset for validation\n",
    "\n",
    "EPOCHS = 100 # We have so many datapoints that 20 epochs are enough to stabilize the training\n",
    "BATCH_SIZE = 1000 # to get a few identified ASM we need at a few hundreds since the\n",
    "# frequency of ASM is 1.38%\n",
    "# A batch size of 1000 will run into a memory error on TF 2.7\n",
    "\n",
    "# Regularlization L1 and L2 (defaults are l1 = 0.01 and l2 = 0.01)\n",
    "L1_R = 0\n",
    "L2_R = 1e-3\n",
    "\n",
    "#--------------------------------------------------\n",
    "# Parameters common to neural network models\n",
    "ACTIVATION_FUNCTION = 'relu' # 'tanh' # or 'relu' or 'gelu (Gaussian Error Linear Unit)'\n",
    "NB_NODES_PERCEPTRON = 10\n",
    "NB_LAYERS_PERCEPTRON = 5\n",
    "NB_NODES_AFTER_CNN = 2\n",
    "CNN_FILTERS = 8\n",
    "CNN_KERNEL = 100 # Must be smaller than the genomic region (250). The av distance between CpG is 37 bp and the std dev of the distances between cpgs is 24 bp\n",
    "LEARNING_RATE = 3e-4 \n",
    "\n",
    "# Learning rate was taken from this\n",
    "# http://karpathy.github.io/2019/04/25/recipe/#2-set-up-the-end-to-end-trainingevaluation-skeleton--get-dumb-baselines\n",
    "\n",
    "#--------------------------------------------------\n",
    "# Parameters common to RNN\n",
    "\n",
    "RNN_UNITS = 64 # 64 orginally\n",
    "\n",
    "#--------------------------------------------------\n",
    "# SPECIFIC TO RANDOM FOREST ALGORITHM\n",
    "use_raw_df_for_forest_models = False"
   ]
  },
  {
   "cell_type": "markdown",
   "id": "c22515ca-30c7-4a83-a982-6eb67b884f37",
   "metadata": {},
   "source": [
    "## ML evaluation metrics"
   ]
  },
  {
   "cell_type": "code",
   "execution_count": 5,
   "id": "2f38b202-fe69-489c-aae0-638bcd40b2d8",
   "metadata": {},
   "outputs": [
    {
     "name": "stderr",
     "output_type": "stream",
     "text": [
      "2022-03-08 15:01:03.880575: I tensorflow/core/platform/cpu_feature_guard.cc:151] This TensorFlow binary is optimized with oneAPI Deep Neural Network Library (oneDNN) to use the following CPU instructions in performance-critical operations:  AVX2 AVX512F FMA\n",
      "To enable them in other operations, rebuild TensorFlow with the appropriate compiler flags.\n",
      "2022-03-08 15:01:04.491774: I tensorflow/core/common_runtime/gpu/gpu_device.cc:1525] Created device /job:localhost/replica:0/task:0/device:GPU:0 with 38444 MB memory:  -> device: 0, name: A100-SXM4-40GB, pci bus id: 0000:00:04.0, compute capability: 8.0\n"
     ]
    }
   ],
   "source": [
    "METRICS = [\n",
    "      keras.metrics.TruePositives(name='tp'),\n",
    "      keras.metrics.FalsePositives(name='fp'),\n",
    "      keras.metrics.TrueNegatives(name='tn'),\n",
    "      keras.metrics.FalseNegatives(name='fn'), \n",
    "      keras.metrics.BinaryAccuracy(name='accuracy'),\n",
    "      keras.metrics.Precision(name='precision'),\n",
    "      keras.metrics.Recall(name='sensitivity'),\n",
    "      keras.metrics.AUC(name='auc')\n",
    "      ]\n",
    "\n",
    "def plot_metrics(history):\n",
    "  metrics =  ['loss', 'auc', 'precision', 'sensitivity']\n",
    "  plt.figure(figsize=(10,10))\n",
    "  for n, metric in enumerate(metrics):\n",
    "    name = metric.replace(\"_\",\" \").capitalize()\n",
    "    plt.subplot(2,2,n+1)\n",
    "    plt.plot(history.epoch,  history.history[metric], color=colors[0], label='Train')\n",
    "    plt.plot(history.epoch, history.history['val_'+metric],\n",
    "             color=colors[0], linestyle=\"--\", label='Val')\n",
    "    plt.xlabel('Epoch')\n",
    "    plt.ylabel(name)\n",
    "    plt.ylim([0,1])\n",
    "\n",
    "    plt.legend()\n",
    "\n",
    "\n",
    "def display_results(df_results):\n",
    "  print(\"Loss\", np.round(df_results[0], 3))\n",
    "  print(\"True positives\", np.round(df_results[1], 3))\n",
    "  print(\"False positives\", np.round(df_results[2], 3))\n",
    "  print(\"True negatives\", np.round(df_results[3], 3))\n",
    "  print(\"False negatives\", np.round(df_results[4], 3))\n",
    "  print(\"Accuracy\", np.round(df_results[5], 3))\n",
    "  print(\"Precision\", np.round(df_results[6], 3))\n",
    "  print(\"Sensitivity\", np.round(df_results[7], 3))\n",
    "  print(\"AUC\", np.round(df_results[8], 3))\n",
    "\n",
    "def plot_roc(name, labels, predictions, **kwargs):\n",
    "  fp, tp, _ = sklearn.metrics.roc_curve(labels, predictions)\n",
    "\n",
    "  plt.plot(100*fp, 100*tp, label=name, linewidth=2, **kwargs)\n",
    "  plt.xlabel('False positives [%]')\n",
    "  plt.ylabel('True positives [%]')\n",
    "  plt.xlim([-0.5,80])\n",
    "  plt.ylim([0,100.5])\n",
    "  plt.grid(True)\n",
    "  ax = plt.gca()\n",
    "  ax.set_aspect('equal')\n",
    "\n"
   ]
  },
  {
   "cell_type": "markdown",
   "id": "025e5515-6785-4461-b139-ced8487e2eee",
   "metadata": {},
   "source": [
    "## Import raw data"
   ]
  },
  {
   "cell_type": "code",
   "execution_count": 8,
   "id": "d440a700-3f8d-443b-87f4-3036f2a0f5b8",
   "metadata": {},
   "outputs": [
    {
     "name": "stdout",
     "output_type": "stream",
     "text": [
      "Appending file...\n"
     ]
    }
   ],
   "source": [
    "if IMPORT_RAW_FROM_BUCKET == True:\n",
    "    !gsutil ls gs://$DEEPASM_BUCKET/$GENOMIC_INTERVAL*bp/encode_training_data/*.json > list_to_download.txt\n",
    "    files_to_download_df = pd.read_csv('list_to_download.txt', header=None)\n",
    "\n",
    "    imported_df = pd.DataFrame()\n",
    "\n",
    "    for index_file in range(files_to_download_df.shape[0]):\n",
    "        file_name_bucket = files_to_download_df[0][index_file]\n",
    "        local_file_name = \"training_\" + str(index_file) + \".json\"\n",
    "        \n",
    "        # Download the file from bucket\n",
    "        !gsutil cp $file_name_bucket $local_file_name\n",
    "        \n",
    "        print(\"Appending file...\")\n",
    "        imported_df = imported_df.append(pd.read_json(local_file_name, lines = True))"
   ]
  },
  {
   "cell_type": "code",
   "execution_count": 9,
   "id": "f83a257f-e990-4f89-bec0-0011061db225",
   "metadata": {},
   "outputs": [
    {
     "name": "stdout",
     "output_type": "stream",
     "text": [
      "Size of the imported dataset: (214673, 23)\n"
     ]
    }
   ],
   "source": [
    "print(\"Size of the imported dataset:\", imported_df.shape)"
   ]
  },
  {
   "cell_type": "markdown",
   "id": "cd44574e-a6e1-4e5b-b254-bcf6959d60a0",
   "metadata": {},
   "source": [
    "## Prepare the features\n",
    "\n",
    "Note: we do not randomize the rows because the scripts preceding this notebook already sampled the rows."
   ]
  },
  {
   "cell_type": "markdown",
   "id": "1b3f096d-c8fd-4270-b822-97fd20c94331",
   "metadata": {},
   "source": [
    "### Copy & clean dataframe "
   ]
  },
  {
   "cell_type": "code",
   "execution_count": 10,
   "id": "0b1bbac4-bc09-4786-b688-b8976eeac8bf",
   "metadata": {},
   "outputs": [],
   "source": [
    "# Copy of the dataframe\n",
    "raw_df = imported_df.copy()\n",
    "raw_df = raw_df.head(NB_ROWS_RAW_DATASET)\n",
    "\n",
    "# We drop columns that are not going to be features\n",
    "raw_df.drop('sample', axis = 1, inplace = True)\n",
    "raw_df.drop('snp_id', axis = 1, inplace = True)\n",
    "raw_df.drop('snp_pos', axis = 1, inplace = True)\n",
    "raw_df.drop('wilcoxon_corr_pvalue', axis = 1, inplace = True)\n",
    "raw_df.drop('asm_region_effect', axis = 1, inplace = True)\n",
    "\n",
    "# We remove the chromosomes X and Y (no ASM)\n",
    "raw_df = raw_df.loc[raw_df['chr'] != 'X']\n",
    "raw_df = raw_df.loc[raw_df['chr'] != 'Y']"
   ]
  },
  {
   "cell_type": "code",
   "execution_count": 11,
   "id": "26e8e447-ea95-4b96-a467-19606d3f0f2d",
   "metadata": {},
   "outputs": [
    {
     "name": "stdout",
     "output_type": "stream",
     "text": [
      "Size of the dataset:  (197237, 18)\n"
     ]
    }
   ],
   "source": [
    "print(\"Size of the dataset: \", raw_df.shape)"
   ]
  },
  {
   "cell_type": "markdown",
   "id": "c8a0c078-541c-4563-a68a-4dd87bb34e5f",
   "metadata": {},
   "source": [
    "### Calculate the distance between CpGs"
   ]
  },
  {
   "cell_type": "code",
   "execution_count": 12,
   "id": "1f2362ad-6e00-4d94-961d-8081ada1d11b",
   "metadata": {},
   "outputs": [],
   "source": [
    "# Create a function to calculate the distance between CpGs (~3min)\n",
    "def dist_cpg(cpg_pos):\n",
    "  distances = []\n",
    "  for index in range(len(cpg_pos)):\n",
    "    if index >= len(cpg_pos)-1:\n",
    "      return distances\n",
    "    else:\n",
    "      distances.append(cpg_pos[index + 1] - cpg_pos[index])\n",
    "  return distances\n",
    "\n",
    "# Apply the function \"distance\" to the array of CpG positions\n",
    "raw_df['cpg_dist'] = raw_df['cpg_pos'].apply(lambda x: dist_cpg(x))"
   ]
  },
  {
   "cell_type": "code",
   "execution_count": 13,
   "id": "fe7a2cbb-37a8-4e15-b420-e61802e539c6",
   "metadata": {},
   "outputs": [
    {
     "data": {
      "text/html": [
       "<div>\n",
       "<style scoped>\n",
       "    .dataframe tbody tr th:only-of-type {\n",
       "        vertical-align: middle;\n",
       "    }\n",
       "\n",
       "    .dataframe tbody tr th {\n",
       "        vertical-align: top;\n",
       "    }\n",
       "\n",
       "    .dataframe thead th {\n",
       "        text-align: right;\n",
       "    }\n",
       "</style>\n",
       "<table border=\"1\" class=\"dataframe\">\n",
       "  <thead>\n",
       "    <tr style=\"text-align: right;\">\n",
       "      <th></th>\n",
       "      <th>asm_snp</th>\n",
       "      <th>sample_category</th>\n",
       "      <th>chr</th>\n",
       "      <th>region_inf</th>\n",
       "      <th>region_sup</th>\n",
       "      <th>region_nb_cpg</th>\n",
       "      <th>nb_cpg_found</th>\n",
       "      <th>nb_reads</th>\n",
       "      <th>dnase</th>\n",
       "      <th>encode_ChiP_V2</th>\n",
       "      <th>tf_motifs</th>\n",
       "      <th>global_cpg_fm</th>\n",
       "      <th>tot_nb_cpg</th>\n",
       "      <th>tot_nb_reads</th>\n",
       "      <th>read_fm</th>\n",
       "      <th>cpg_fm</th>\n",
       "      <th>cpg_cov</th>\n",
       "      <th>cpg_pos</th>\n",
       "      <th>cpg_dist</th>\n",
       "    </tr>\n",
       "  </thead>\n",
       "  <tbody>\n",
       "    <tr>\n",
       "      <th>0</th>\n",
       "      <td>0</td>\n",
       "      <td>1</td>\n",
       "      <td>1</td>\n",
       "      <td>119313001</td>\n",
       "      <td>119314000</td>\n",
       "      <td>8</td>\n",
       "      <td>6</td>\n",
       "      <td>141</td>\n",
       "      <td>0</td>\n",
       "      <td>0</td>\n",
       "      <td>0</td>\n",
       "      <td>0.632</td>\n",
       "      <td>24030712</td>\n",
       "      <td>420944333</td>\n",
       "      <td>[0, 0, 1, 0.5, 0.667, 1, 1, 1, 1, 1, 1, 1, 0, ...</td>\n",
       "      <td>[0.463, 0.981, 1, 0.796, 0.927, 0.943000000000...</td>\n",
       "      <td>[54, 53, 58, 54, 55, 53]</td>\n",
       "      <td>[119313416, 119313421, 119313464, 119313512, 1...</td>\n",
       "      <td>[5, 43, 48, 2, 448]</td>\n",
       "    </tr>\n",
       "    <tr>\n",
       "      <th>1</th>\n",
       "      <td>0</td>\n",
       "      <td>1</td>\n",
       "      <td>1</td>\n",
       "      <td>211213001</td>\n",
       "      <td>211214000</td>\n",
       "      <td>16</td>\n",
       "      <td>14</td>\n",
       "      <td>182</td>\n",
       "      <td>0</td>\n",
       "      <td>0</td>\n",
       "      <td>0</td>\n",
       "      <td>0.632</td>\n",
       "      <td>24030712</td>\n",
       "      <td>420944333</td>\n",
       "      <td>[1, 0, 0, 0.5, 0, 0, 0, 0, 0, 0, 0, 0.25, 0, 0...</td>\n",
       "      <td>[0.182, 0.2, 0.23800000000000002, 0.2380000000...</td>\n",
       "      <td>[22, 10, 21, 21, 19, 21, 15, 14, 23, 10, 34, 1...</td>\n",
       "      <td>[211213024, 211213259, 211213269, 211213313, 2...</td>\n",
       "      <td>[235, 10, 44, 14, 31, 35, 8, 4, 44, 106, 58, 1...</td>\n",
       "    </tr>\n",
       "    <tr>\n",
       "      <th>2</th>\n",
       "      <td>0</td>\n",
       "      <td>1</td>\n",
       "      <td>4</td>\n",
       "      <td>17661001</td>\n",
       "      <td>17662000</td>\n",
       "      <td>16</td>\n",
       "      <td>15</td>\n",
       "      <td>181</td>\n",
       "      <td>2</td>\n",
       "      <td>0</td>\n",
       "      <td>1</td>\n",
       "      <td>0.632</td>\n",
       "      <td>24030712</td>\n",
       "      <td>420944333</td>\n",
       "      <td>[1, 0, 0, 0, 1, 1, 1, 1, 0.75, 1, 1, 0.667, 1,...</td>\n",
       "      <td>[0.857, 0.794, 0.967, 0.862, 0.677, 0.903, 0.9...</td>\n",
       "      <td>[28, 34, 61, 29, 31, 31, 32, 31, 33, 44, 40, 4...</td>\n",
       "      <td>[17661167, 17661172, 17661178, 17661234, 17661...</td>\n",
       "      <td>[5, 6, 56, 20, 4, 70, 32, 28, 239, 146, 6, 34,...</td>\n",
       "    </tr>\n",
       "    <tr>\n",
       "      <th>3</th>\n",
       "      <td>0</td>\n",
       "      <td>1</td>\n",
       "      <td>5</td>\n",
       "      <td>55314001</td>\n",
       "      <td>55315000</td>\n",
       "      <td>11</td>\n",
       "      <td>11</td>\n",
       "      <td>141</td>\n",
       "      <td>1</td>\n",
       "      <td>0</td>\n",
       "      <td>2</td>\n",
       "      <td>0.632</td>\n",
       "      <td>24030712</td>\n",
       "      <td>420944333</td>\n",
       "      <td>[1, 1, 0, 1, 1, 1, 1, 1, 1, 1, 1, 1, 1, 0, 1, ...</td>\n",
       "      <td>[0.444, 0.975, 0.97, 0.714, 1, 1, 1, 0.976, 0....</td>\n",
       "      <td>[27, 40, 33, 28, 31, 38, 38, 41, 29, 33, 65]</td>\n",
       "      <td>[55314039, 55314070, 55314084, 55314091, 55314...</td>\n",
       "      <td>[31, 14, 7, 4, 43, 2, 4, 4, 412, 195]</td>\n",
       "    </tr>\n",
       "    <tr>\n",
       "      <th>4</th>\n",
       "      <td>0</td>\n",
       "      <td>1</td>\n",
       "      <td>1</td>\n",
       "      <td>81647001</td>\n",
       "      <td>81648000</td>\n",
       "      <td>8</td>\n",
       "      <td>8</td>\n",
       "      <td>209</td>\n",
       "      <td>1</td>\n",
       "      <td>0</td>\n",
       "      <td>0</td>\n",
       "      <td>0.632</td>\n",
       "      <td>24030712</td>\n",
       "      <td>420944333</td>\n",
       "      <td>[0, 0, 0, 0, 0, 0, 0, 0, 0, 0.667, 0, 1, 0.25,...</td>\n",
       "      <td>[0.191, 0.13, 0.396, 0.396, 0.341, 0.245, 0.42...</td>\n",
       "      <td>[47, 46, 48, 48, 44, 53, 63, 36]</td>\n",
       "      <td>[81647176, 81647266, 81647334, 81647369, 81647...</td>\n",
       "      <td>[90, 68, 35, 8, 153, 78, 208]</td>\n",
       "    </tr>\n",
       "    <tr>\n",
       "      <th>...</th>\n",
       "      <td>...</td>\n",
       "      <td>...</td>\n",
       "      <td>...</td>\n",
       "      <td>...</td>\n",
       "      <td>...</td>\n",
       "      <td>...</td>\n",
       "      <td>...</td>\n",
       "      <td>...</td>\n",
       "      <td>...</td>\n",
       "      <td>...</td>\n",
       "      <td>...</td>\n",
       "      <td>...</td>\n",
       "      <td>...</td>\n",
       "      <td>...</td>\n",
       "      <td>...</td>\n",
       "      <td>...</td>\n",
       "      <td>...</td>\n",
       "      <td>...</td>\n",
       "      <td>...</td>\n",
       "    </tr>\n",
       "    <tr>\n",
       "      <th>199995</th>\n",
       "      <td>0</td>\n",
       "      <td>1</td>\n",
       "      <td>20</td>\n",
       "      <td>24299001</td>\n",
       "      <td>24300000</td>\n",
       "      <td>17</td>\n",
       "      <td>16</td>\n",
       "      <td>95</td>\n",
       "      <td>3</td>\n",
       "      <td>1</td>\n",
       "      <td>12</td>\n",
       "      <td>0.647</td>\n",
       "      <td>25049829</td>\n",
       "      <td>535812384</td>\n",
       "      <td>[0, 0, 0.5, 0.5, 0.14300000000000002, 0, 0, 0....</td>\n",
       "      <td>[0.222, 0.467, 0.063, 0.08700000000000001, 0, ...</td>\n",
       "      <td>[27, 15, 16, 23, 30, 28, 27, 13, 19, 24, 26, 1...</td>\n",
       "      <td>[24299132, 24299154, 24299221, 24299227, 24299...</td>\n",
       "      <td>[22, 67, 6, 8, 55, 15, 25, 92, 6, 30, 15, 178,...</td>\n",
       "    </tr>\n",
       "    <tr>\n",
       "      <th>199996</th>\n",
       "      <td>0</td>\n",
       "      <td>1</td>\n",
       "      <td>9</td>\n",
       "      <td>134148001</td>\n",
       "      <td>134149000</td>\n",
       "      <td>28</td>\n",
       "      <td>28</td>\n",
       "      <td>202</td>\n",
       "      <td>3</td>\n",
       "      <td>6</td>\n",
       "      <td>8</td>\n",
       "      <td>0.646</td>\n",
       "      <td>22540136</td>\n",
       "      <td>527040401</td>\n",
       "      <td>[1, 1, 1, 1, 1, 1, 1, 1, 1, 1, 1, 1, 1, 1, 1, ...</td>\n",
       "      <td>[1, 0.917, 0.9570000000000001, 0.9570000000000...</td>\n",
       "      <td>[36, 12, 47, 23, 30, 14, 62, 60, 31, 40, 35, 3...</td>\n",
       "      <td>[134148115, 134148133, 134148135, 134148146, 1...</td>\n",
       "      <td>[18, 2, 11, 40, 38, 18, 55, 121, 47, 23, 40, 1...</td>\n",
       "    </tr>\n",
       "    <tr>\n",
       "      <th>199997</th>\n",
       "      <td>0</td>\n",
       "      <td>1</td>\n",
       "      <td>11</td>\n",
       "      <td>50708001</td>\n",
       "      <td>50709000</td>\n",
       "      <td>11</td>\n",
       "      <td>9</td>\n",
       "      <td>266</td>\n",
       "      <td>0</td>\n",
       "      <td>0</td>\n",
       "      <td>5</td>\n",
       "      <td>0.646</td>\n",
       "      <td>22540136</td>\n",
       "      <td>527040401</td>\n",
       "      <td>[0, 1, 0, 1, 0, 0, 0.333, 0, 0, 0.5, 0, 0, 0, ...</td>\n",
       "      <td>[0.86, 0.015, 0.016, 0, 0.022, 0.5660000000000...</td>\n",
       "      <td>[50, 65, 63, 48, 46, 53, 55, 43, 47]</td>\n",
       "      <td>[50708082, 50708248, 50708388, 50708405, 50708...</td>\n",
       "      <td>[166, 140, 17, 47, 173, 64, 213, 26]</td>\n",
       "    </tr>\n",
       "    <tr>\n",
       "      <th>199998</th>\n",
       "      <td>0</td>\n",
       "      <td>1</td>\n",
       "      <td>17</td>\n",
       "      <td>74537001</td>\n",
       "      <td>74538000</td>\n",
       "      <td>23</td>\n",
       "      <td>21</td>\n",
       "      <td>130</td>\n",
       "      <td>1</td>\n",
       "      <td>9</td>\n",
       "      <td>20</td>\n",
       "      <td>0.646</td>\n",
       "      <td>22540136</td>\n",
       "      <td>527040401</td>\n",
       "      <td>[1, 1, 0, 0.333, 0, 0, 0.5, 0.333, 0, 1, 1, 0....</td>\n",
       "      <td>[0, 0.13, 0.87, 0.973, 0, 0.043000000000000003...</td>\n",
       "      <td>[20, 23, 23, 37, 17, 23, 23, 11, 23, 34, 20, 3...</td>\n",
       "      <td>[74537027, 74537068, 74537092, 74537147, 74537...</td>\n",
       "      <td>[41, 24, 55, 9, 112, 4, 12, 93, 63, 22, 44, 81...</td>\n",
       "    </tr>\n",
       "    <tr>\n",
       "      <th>199999</th>\n",
       "      <td>0</td>\n",
       "      <td>1</td>\n",
       "      <td>18</td>\n",
       "      <td>56046001</td>\n",
       "      <td>56047000</td>\n",
       "      <td>28</td>\n",
       "      <td>18</td>\n",
       "      <td>78</td>\n",
       "      <td>4</td>\n",
       "      <td>0</td>\n",
       "      <td>17</td>\n",
       "      <td>0.646</td>\n",
       "      <td>22540136</td>\n",
       "      <td>527040401</td>\n",
       "      <td>[1, 0.667, 1, 0.8, 1, 1, 1, 0.75, 1, 0.667, 0....</td>\n",
       "      <td>[1, 0.929, 0.905, 1, 1, 1, 0.8260000000000001,...</td>\n",
       "      <td>[10, 14, 21, 14, 12, 10, 23, 18, 20, 15, 21, 1...</td>\n",
       "      <td>[56046069, 56046109, 56046497, 56046532, 56046...</td>\n",
       "      <td>[40, 388, 35, 6, 20, 28, 8, 31, 89, 54, 25, 21...</td>\n",
       "    </tr>\n",
       "  </tbody>\n",
       "</table>\n",
       "<p>197237 rows × 19 columns</p>\n",
       "</div>"
      ],
      "text/plain": [
       "        asm_snp  sample_category chr  region_inf  region_sup  region_nb_cpg  \\\n",
       "0             0                1   1   119313001   119314000              8   \n",
       "1             0                1   1   211213001   211214000             16   \n",
       "2             0                1   4    17661001    17662000             16   \n",
       "3             0                1   5    55314001    55315000             11   \n",
       "4             0                1   1    81647001    81648000              8   \n",
       "...         ...              ...  ..         ...         ...            ...   \n",
       "199995        0                1  20    24299001    24300000             17   \n",
       "199996        0                1   9   134148001   134149000             28   \n",
       "199997        0                1  11    50708001    50709000             11   \n",
       "199998        0                1  17    74537001    74538000             23   \n",
       "199999        0                1  18    56046001    56047000             28   \n",
       "\n",
       "        nb_cpg_found  nb_reads  dnase  encode_ChiP_V2  tf_motifs  \\\n",
       "0                  6       141      0               0          0   \n",
       "1                 14       182      0               0          0   \n",
       "2                 15       181      2               0          1   \n",
       "3                 11       141      1               0          2   \n",
       "4                  8       209      1               0          0   \n",
       "...              ...       ...    ...             ...        ...   \n",
       "199995            16        95      3               1         12   \n",
       "199996            28       202      3               6          8   \n",
       "199997             9       266      0               0          5   \n",
       "199998            21       130      1               9         20   \n",
       "199999            18        78      4               0         17   \n",
       "\n",
       "        global_cpg_fm  tot_nb_cpg  tot_nb_reads  \\\n",
       "0               0.632    24030712     420944333   \n",
       "1               0.632    24030712     420944333   \n",
       "2               0.632    24030712     420944333   \n",
       "3               0.632    24030712     420944333   \n",
       "4               0.632    24030712     420944333   \n",
       "...               ...         ...           ...   \n",
       "199995          0.647    25049829     535812384   \n",
       "199996          0.646    22540136     527040401   \n",
       "199997          0.646    22540136     527040401   \n",
       "199998          0.646    22540136     527040401   \n",
       "199999          0.646    22540136     527040401   \n",
       "\n",
       "                                                  read_fm  \\\n",
       "0       [0, 0, 1, 0.5, 0.667, 1, 1, 1, 1, 1, 1, 1, 0, ...   \n",
       "1       [1, 0, 0, 0.5, 0, 0, 0, 0, 0, 0, 0, 0.25, 0, 0...   \n",
       "2       [1, 0, 0, 0, 1, 1, 1, 1, 0.75, 1, 1, 0.667, 1,...   \n",
       "3       [1, 1, 0, 1, 1, 1, 1, 1, 1, 1, 1, 1, 1, 0, 1, ...   \n",
       "4       [0, 0, 0, 0, 0, 0, 0, 0, 0, 0.667, 0, 1, 0.25,...   \n",
       "...                                                   ...   \n",
       "199995  [0, 0, 0.5, 0.5, 0.14300000000000002, 0, 0, 0....   \n",
       "199996  [1, 1, 1, 1, 1, 1, 1, 1, 1, 1, 1, 1, 1, 1, 1, ...   \n",
       "199997  [0, 1, 0, 1, 0, 0, 0.333, 0, 0, 0.5, 0, 0, 0, ...   \n",
       "199998  [1, 1, 0, 0.333, 0, 0, 0.5, 0.333, 0, 1, 1, 0....   \n",
       "199999  [1, 0.667, 1, 0.8, 1, 1, 1, 0.75, 1, 0.667, 0....   \n",
       "\n",
       "                                                   cpg_fm  \\\n",
       "0       [0.463, 0.981, 1, 0.796, 0.927, 0.943000000000...   \n",
       "1       [0.182, 0.2, 0.23800000000000002, 0.2380000000...   \n",
       "2       [0.857, 0.794, 0.967, 0.862, 0.677, 0.903, 0.9...   \n",
       "3       [0.444, 0.975, 0.97, 0.714, 1, 1, 1, 0.976, 0....   \n",
       "4       [0.191, 0.13, 0.396, 0.396, 0.341, 0.245, 0.42...   \n",
       "...                                                   ...   \n",
       "199995  [0.222, 0.467, 0.063, 0.08700000000000001, 0, ...   \n",
       "199996  [1, 0.917, 0.9570000000000001, 0.9570000000000...   \n",
       "199997  [0.86, 0.015, 0.016, 0, 0.022, 0.5660000000000...   \n",
       "199998  [0, 0.13, 0.87, 0.973, 0, 0.043000000000000003...   \n",
       "199999  [1, 0.929, 0.905, 1, 1, 1, 0.8260000000000001,...   \n",
       "\n",
       "                                                  cpg_cov  \\\n",
       "0                                [54, 53, 58, 54, 55, 53]   \n",
       "1       [22, 10, 21, 21, 19, 21, 15, 14, 23, 10, 34, 1...   \n",
       "2       [28, 34, 61, 29, 31, 31, 32, 31, 33, 44, 40, 4...   \n",
       "3            [27, 40, 33, 28, 31, 38, 38, 41, 29, 33, 65]   \n",
       "4                        [47, 46, 48, 48, 44, 53, 63, 36]   \n",
       "...                                                   ...   \n",
       "199995  [27, 15, 16, 23, 30, 28, 27, 13, 19, 24, 26, 1...   \n",
       "199996  [36, 12, 47, 23, 30, 14, 62, 60, 31, 40, 35, 3...   \n",
       "199997               [50, 65, 63, 48, 46, 53, 55, 43, 47]   \n",
       "199998  [20, 23, 23, 37, 17, 23, 23, 11, 23, 34, 20, 3...   \n",
       "199999  [10, 14, 21, 14, 12, 10, 23, 18, 20, 15, 21, 1...   \n",
       "\n",
       "                                                  cpg_pos  \\\n",
       "0       [119313416, 119313421, 119313464, 119313512, 1...   \n",
       "1       [211213024, 211213259, 211213269, 211213313, 2...   \n",
       "2       [17661167, 17661172, 17661178, 17661234, 17661...   \n",
       "3       [55314039, 55314070, 55314084, 55314091, 55314...   \n",
       "4       [81647176, 81647266, 81647334, 81647369, 81647...   \n",
       "...                                                   ...   \n",
       "199995  [24299132, 24299154, 24299221, 24299227, 24299...   \n",
       "199996  [134148115, 134148133, 134148135, 134148146, 1...   \n",
       "199997  [50708082, 50708248, 50708388, 50708405, 50708...   \n",
       "199998  [74537027, 74537068, 74537092, 74537147, 74537...   \n",
       "199999  [56046069, 56046109, 56046497, 56046532, 56046...   \n",
       "\n",
       "                                                 cpg_dist  \n",
       "0                                     [5, 43, 48, 2, 448]  \n",
       "1       [235, 10, 44, 14, 31, 35, 8, 4, 44, 106, 58, 1...  \n",
       "2       [5, 6, 56, 20, 4, 70, 32, 28, 239, 146, 6, 34,...  \n",
       "3                   [31, 14, 7, 4, 43, 2, 4, 4, 412, 195]  \n",
       "4                           [90, 68, 35, 8, 153, 78, 208]  \n",
       "...                                                   ...  \n",
       "199995  [22, 67, 6, 8, 55, 15, 25, 92, 6, 30, 15, 178,...  \n",
       "199996  [18, 2, 11, 40, 38, 18, 55, 121, 47, 23, 40, 1...  \n",
       "199997               [166, 140, 17, 47, 173, 64, 213, 26]  \n",
       "199998  [41, 24, 55, 9, 112, 4, 12, 93, 63, 22, 44, 81...  \n",
       "199999  [40, 388, 35, 6, 20, 28, 8, 31, 89, 54, 25, 21...  \n",
       "\n",
       "[197237 rows x 19 columns]"
      ]
     },
     "execution_count": 13,
     "metadata": {},
     "output_type": "execute_result"
    }
   ],
   "source": [
    "raw_df"
   ]
  },
  {
   "cell_type": "markdown",
   "id": "9ebc6f7c-ccef-4681-a609-dbde5ac5e379",
   "metadata": {},
   "source": [
    "### Convert arrays into numerical features\n",
    "\n",
    "To do this, we use kernel estimates as well as simpler metrics like mean and standard deviation"
   ]
  },
  {
   "cell_type": "markdown",
   "id": "6653f9e8-b3a9-4077-8bd9-52d25fd22626",
   "metadata": {},
   "source": [
    "#### Kernel functions"
   ]
  },
  {
   "cell_type": "code",
   "execution_count": 14,
   "id": "a5452c4c-7ff6-43a5-97ec-da1ccbdee6b2",
   "metadata": {},
   "outputs": [
    {
     "name": "stdout",
     "output_type": "stream",
     "text": [
      "X-axis values used for the FM kernel estimate: [0.  0.1 0.2 0.3 0.4 0.5 0.6 0.7 0.8 0.9 1. ]\n"
     ]
    },
    {
     "data": {
      "text/plain": [
       "array([2.9267, 1.8709, 0.5784, 0.2146, 0.2302, 0.2894, 0.2103, 0.1486,\n",
       "       0.1677, 0.3284, 0.4871])"
      ]
     },
     "execution_count": 14,
     "metadata": {},
     "output_type": "execute_result"
    }
   ],
   "source": [
    "# FRACTIONAL METHYLATION\n",
    "\n",
    "# Values for fractional methylation (between 0 and 1)\n",
    "values_for_kernel_fm = asarray([value for value in range(0, KERNEL_FM_NB_VALUES+1)])\n",
    "values_for_kernel_fm = values_for_kernel_fm / KERNEL_FM_NB_VALUES\n",
    "print(\"X-axis values used for the FM kernel estimate:\", values_for_kernel_fm)\n",
    "values_for_kernel_fm = values_for_kernel_fm.reshape((len(values_for_kernel_fm), 1))\n",
    "\n",
    "# Build Kernel model\n",
    "kernel_fm_model = KernelDensity(bandwidth=KERNEL_FM_BANDWIDTH, kernel='gaussian')\n",
    "\n",
    "# Function to be applied to each array in the columns read_fm and cpg_fm\n",
    "def estimate_kernels_fm(x):\n",
    "  sample = np.reshape(x, (len(x), 1))\n",
    "  kernel_fm_model.fit(sample)\n",
    "  probabilities = kernel_fm_model.score_samples(values_for_kernel_fm)\n",
    "  probabilities = exp(probabilities)\n",
    "  return np.round(probabilities, 4)\n",
    "\n",
    "# Try function\n",
    "estimate_kernels_fm(raw_df['read_fm'][1])\n"
   ]
  },
  {
   "cell_type": "code",
   "execution_count": 15,
   "id": "97c6d384-d6a5-4ad9-bc40-74584337290f",
   "metadata": {},
   "outputs": [
    {
     "name": "stdout",
     "output_type": "stream",
     "text": [
      "Values used in kernel estimate: [  0  40  80 120 160]\n"
     ]
    },
    {
     "data": {
      "text/plain": [
       "array([0., 0., 0., 0., 0.])"
      ]
     },
     "execution_count": 15,
     "metadata": {},
     "output_type": "execute_result"
    }
   ],
   "source": [
    "# COVERAGE AND CPG DISTANCE\n",
    "\n",
    "# Values for fractional methylation (between 0 and 1)\n",
    "values_for_kernel_cov = asarray([value for value in range(0, KERNEL_COV_NB_MAX, KERNEL_COV_NB_STEP)])\n",
    "print(\"Values used in kernel estimate:\", values_for_kernel_cov)\n",
    "values_for_kernel_cov = values_for_kernel_cov.reshape((len(values_for_kernel_cov), 1))\n",
    "\n",
    "# Build Kernel model\n",
    "kernel_cov_model = KernelDensity(bandwidth=KERNEL_COV_BANDWIDTH, kernel='gaussian')\n",
    "\n",
    "# Function to be applied to each array in the columns read_fm and cpg_fm\n",
    "def estimate_kernels_cov(x):\n",
    "  sample = np.reshape(x, (len(x), 1))\n",
    "  kernel_fm_model.fit(sample)\n",
    "  probabilities = kernel_fm_model.score_samples(values_for_kernel_cov)\n",
    "  probabilities = exp(probabilities)\n",
    "  return np.round(probabilities, 4)\n",
    "\n",
    "# Try function\n",
    "estimate_kernels_cov(raw_df['cpg_cov'][1])"
   ]
  },
  {
   "cell_type": "markdown",
   "id": "c6ed3b36-3216-458e-83f5-4e24c38c814e",
   "metadata": {},
   "source": [
    "#### Test kernel estimates"
   ]
  },
  {
   "cell_type": "code",
   "execution_count": 16,
   "id": "8775a79c-f61b-48fb-bd6e-555c3d12e478",
   "metadata": {},
   "outputs": [],
   "source": [
    "variable_to_plot = 'cpg_fm' # cpg_fm or read_fm or cpg_dist or cpg_cov\n",
    "\n",
    "n_extract = 10\n",
    "extract_asm = raw_df[raw_df['asm_snp'] == 1].sample(n=n_extract, ignore_index = True)\n",
    "extract_noasm = raw_df[raw_df['asm_snp'] == 0].sample(n=n_extract, ignore_index = True)\n",
    "n_x = round(np.sqrt(n_extract))"
   ]
  },
  {
   "cell_type": "markdown",
   "id": "a6eb3ee5-1333-43a5-99f0-a7481f682a7d",
   "metadata": {},
   "source": [
    "##### Plots for regions with ASM"
   ]
  },
  {
   "cell_type": "code",
   "execution_count": 17,
   "id": "c309fc8e-8acb-4955-bb8e-53fa1b602fd8",
   "metadata": {},
   "outputs": [
    {
     "data": {
      "image/png": "[encoded data removed]",
      "text/plain": [
       "<Figure size 720x720 with 9 Axes>"
      ]
     },
     "metadata": {
      "needs_background": "light"
     },
     "output_type": "display_data"
    }
   ],
   "source": [
    "mpl.rcParams['figure.figsize'] = (10, 10)\n",
    "fig, axs = plt.subplots(n_x, n_x, sharey=True, sharex=True, tight_layout=True)\n",
    "\n",
    "for k in range(n_x):\n",
    "  for m in range(n_x):\n",
    "\n",
    "    # Print data distribution\n",
    "    data_distribution = extract_asm[variable_to_plot][k+m]\n",
    "    axs[k,m].hist(data_distribution, density = True, bins = 10)\n",
    "\n",
    "    # Print kernel density\n",
    "    if 'fm' in variable_to_plot:\n",
    "        #print(\"Using the FM kernel estimates\")\n",
    "        kernel_probabilities = estimate_kernels_fm(data_distribution)\n",
    "        values = values_for_kernel_fm\n",
    "    else:\n",
    "        #print(\"Using the COV kernel estimates\")\n",
    "        kernel_probabilities = estimate_kernels_cov(data_distribution)\n",
    "        values = values_for_kernel_cov\n",
    "    axs[k,m].plot(values[:], kernel_probabilities)\n"
   ]
  },
  {
   "cell_type": "markdown",
   "id": "23eef467-301c-4c3a-8c14-65c63bd6704e",
   "metadata": {},
   "source": [
    "##### Plots for regions without ASM"
   ]
  },
  {
   "cell_type": "code",
   "execution_count": 18,
   "id": "305fe19d-1890-45e8-9429-bd26f9503dbd",
   "metadata": {},
   "outputs": [
    {
     "data": {
      "image/png": "[encoded data removed]",
      "text/plain": [
       "<Figure size 720x720 with 9 Axes>"
      ]
     },
     "metadata": {
      "needs_background": "light"
     },
     "output_type": "display_data"
    }
   ],
   "source": [
    "mpl.rcParams['figure.figsize'] = (10, 10)\n",
    "fig, axs = plt.subplots(n_x, n_x, sharey=True, sharex=True, tight_layout=True)\n",
    "\n",
    "for k in range(n_x):\n",
    "  for m in range(n_x):\n",
    "\n",
    "    # Print data distribution\n",
    "    data_distribution = extract_noasm[variable_to_plot][k+m]\n",
    "    axs[k,m].hist(data_distribution, density = True, bins = 10)\n",
    "\n",
    "    # Print kernel density\n",
    "    if 'fm' in variable_to_plot:\n",
    "        #print(\"Using the FM kernel estimates\")\n",
    "        kernel_probabilities = estimate_kernels_fm(data_distribution)\n",
    "        values = values_for_kernel_fm\n",
    "    else:\n",
    "        #print(\"Using the COV kernel estimates\")\n",
    "        kernel_probabilities = estimate_kernels_cov(data_distribution)\n",
    "        values = values_for_kernel_cov\n",
    "    axs[k,m].plot(values[:], kernel_probabilities)"
   ]
  },
  {
   "cell_type": "markdown",
   "id": "8474e90d-b2cf-4b02-9627-ebb593bc1a2b",
   "metadata": {},
   "source": [
    "#### Calculate the mean, std, and kernel estimates of arrays"
   ]
  },
  {
   "cell_type": "code",
   "execution_count": 19,
   "id": "6b85aea5-083a-47ca-93cc-7a554a3f7cf5",
   "metadata": {},
   "outputs": [],
   "source": [
    "def convert_arrays(df, column_name):\n",
    "  \"\"\"Inputs: dataframe and a column name that contains arrays\"\"\"\n",
    "\n",
    "  # Mean and Standard deviation\n",
    "  std_name = \"std_\" + column_name\n",
    "  av_name = \"mean_\" + column_name\n",
    "\n",
    "  print(\"Calculating the standard deviation\")\n",
    "  df[std_name] = df[column_name].apply(lambda x: np.round(np.std(x), 4))\n",
    "  print(\"Calculating the average\")\n",
    "  df[av_name] = df[column_name].apply(lambda x: np.round(np.mean(x), 4))\n",
    "  \n",
    "  # Kernel density estimates\n",
    "  kernel_name = \"kernel_\" + column_name\n",
    "  if (column_name == 'cpg_cov' or column_name == 'cpg_dist'):\n",
    "    print(\"Calculating the proba distribution for cov or dist\")\n",
    "    df[kernel_name] = df[column_name].apply(lambda x: estimate_kernels_cov(x))\n",
    "  else:\n",
    "    print(\"Calculating the proba distribution for fractional methylation\")\n",
    "    df[kernel_name] = df[column_name].apply(lambda x: estimate_kernels_fm(x))\n"
   ]
  },
  {
   "cell_type": "code",
   "execution_count": 20,
   "id": "da7d5288-af28-40f5-8bb5-9abf3d30014c",
   "metadata": {},
   "outputs": [
    {
     "name": "stdout",
     "output_type": "stream",
     "text": [
      "Column:  read_fm\n",
      "Calculating the standard deviation\n",
      "Calculating the average\n",
      "Calculating the proba distribution for fractional methylation\n",
      "Column:  cpg_fm\n",
      "Calculating the standard deviation\n",
      "Calculating the average\n",
      "Calculating the proba distribution for fractional methylation\n",
      "Column:  cpg_cov\n",
      "Calculating the standard deviation\n",
      "Calculating the average\n",
      "Calculating the proba distribution for cov or dist\n",
      "Column:  cpg_dist\n",
      "Calculating the standard deviation\n",
      "Calculating the average\n",
      "Calculating the proba distribution for cov or dist\n"
     ]
    }
   ],
   "source": [
    "# Apply the function\n",
    "for col in ['read_fm', 'cpg_fm', 'cpg_cov', 'cpg_dist']:\n",
    "  print(\"Column: \", col)\n",
    "  convert_arrays(raw_df, col)"
   ]
  },
  {
   "cell_type": "code",
   "execution_count": 21,
   "id": "3522320d-cfe7-457d-9d50-e6394d71a68a",
   "metadata": {},
   "outputs": [],
   "source": [
    "def export_kernel_array(col):\n",
    "    # Col must be a column of kernel estimate arrays\n",
    "    print(\"Processing:\", col)\n",
    "    kernel_name_list = []\n",
    "    if 'fm' in col:\n",
    "        values = values_for_kernel_fm\n",
    "    else:\n",
    "        values = values_for_kernel_cov\n",
    "    # Create a list of the new column names\n",
    "    for k in range(0, values.shape[0]):\n",
    "        kernel_name = col + \"_kernel_\" + str(k)\n",
    "        kernel_name_list = kernel_name_list + [kernel_name]\n",
    "    print(kernel_name_list)\n",
    "    \n",
    "    # Create the additional columns\n",
    "    kernel_estimates_column = \"kernel_\" + col\n",
    "    raw_df[kernel_name_list] = pd.DataFrame(raw_df[kernel_estimates_column].tolist(), index= raw_df.index)"
   ]
  },
  {
   "cell_type": "code",
   "execution_count": 22,
   "id": "2052717c-c317-4b71-bce8-fe5729896820",
   "metadata": {},
   "outputs": [
    {
     "name": "stdout",
     "output_type": "stream",
     "text": [
      "Processing: read_fm\n",
      "['read_fm_kernel_0', 'read_fm_kernel_1', 'read_fm_kernel_2', 'read_fm_kernel_3', 'read_fm_kernel_4', 'read_fm_kernel_5', 'read_fm_kernel_6', 'read_fm_kernel_7', 'read_fm_kernel_8', 'read_fm_kernel_9', 'read_fm_kernel_10']\n",
      "Processing: cpg_fm\n",
      "['cpg_fm_kernel_0', 'cpg_fm_kernel_1', 'cpg_fm_kernel_2', 'cpg_fm_kernel_3', 'cpg_fm_kernel_4', 'cpg_fm_kernel_5', 'cpg_fm_kernel_6', 'cpg_fm_kernel_7', 'cpg_fm_kernel_8', 'cpg_fm_kernel_9', 'cpg_fm_kernel_10']\n",
      "Processing: cpg_cov\n",
      "['cpg_cov_kernel_0', 'cpg_cov_kernel_1', 'cpg_cov_kernel_2', 'cpg_cov_kernel_3', 'cpg_cov_kernel_4']\n",
      "Processing: cpg_dist\n",
      "['cpg_dist_kernel_0', 'cpg_dist_kernel_1', 'cpg_dist_kernel_2', 'cpg_dist_kernel_3', 'cpg_dist_kernel_4']\n"
     ]
    }
   ],
   "source": [
    "# Use the function\n",
    "for col in ['read_fm', 'cpg_fm', 'cpg_cov', 'cpg_dist']:\n",
    "            export_kernel_array(col)"
   ]
  },
  {
   "cell_type": "code",
   "execution_count": 23,
   "id": "3889362e-ba69-4a65-8de1-92be70ff8c06",
   "metadata": {},
   "outputs": [],
   "source": [
    "# Delete columns that we no longer need\n",
    "for col in ['read_fm', 'cpg_dist', 'kernel_cpg_cov', \n",
    "            'kernel_cpg_dist', 'kernel_cpg_fm', 'kernel_read_fm']:\n",
    "    raw_df.drop(col, axis = 1, inplace = True)"
   ]
  },
  {
   "cell_type": "markdown",
   "id": "f6fb4754-b931-4004-949b-80652daa233a",
   "metadata": {},
   "source": [
    "### Convert epigenetic signals into dummy variables"
   ]
  },
  {
   "cell_type": "code",
   "execution_count": 24,
   "id": "b79f67df-b84f-4456-99a7-93e12d2916ec",
   "metadata": {},
   "outputs": [],
   "source": [
    "def convert_epi_signal(epi_signal):\n",
    "  print(\"Processing signal\", epi_signal)\n",
    "  unique_values = raw_df[epi_signal].unique()\n",
    "  print(unique_values)\n",
    "  min_epi_value = 0 # It's always zero (no signal) for all signals\n",
    "  median_epi_value = np.median(unique_values)\n",
    "  print(\"Median epi value:\", median_epi_value)\n",
    "  epi_signal_null = epi_signal + \"_null\"\n",
    "  epi_signal_low = epi_signal + \"_low\"\n",
    "  epi_signal_high = epi_signal + \"_high\"\n",
    "  raw_df[epi_signal_null] = raw_df[epi_signal].apply(lambda x: 1 if x == min_epi_value else 0)\n",
    "  raw_df[epi_signal_low] = raw_df[epi_signal].apply(lambda x: 1 if (x > min_epi_value and x <= median_epi_value) else 0)\n",
    "  raw_df[epi_signal_high] = raw_df[epi_signal].apply(lambda x: 1 if x > median_epi_value else 0)"
   ]
  },
  {
   "cell_type": "code",
   "execution_count": 25,
   "id": "e43bdee0-cd0f-46fd-b54a-301b1b3975cf",
   "metadata": {},
   "outputs": [
    {
     "name": "stdout",
     "output_type": "stream",
     "text": [
      "Processing signal dnase\n",
      "[0 2 1 3 4 5 6]\n",
      "Median epi value: 3.0\n",
      "Processing signal encode_ChiP_V2\n",
      "[  0   4   1   2   8   9   3  10  11   5   6  39  25   7  21  36  14  12\n",
      "  43  16  32  58  22  56  30  20  38  13  18  19  15  17  45  64  31  47\n",
      "  52  26  67  29  28  48  24  42  27  23  41  34  46  35  60  54  96  53\n",
      "  71  33  66  68  55  40  57  51  49  61  37  44  59  63  76  83 100  69\n",
      "  62  70  74  81  65  50  73  78  72  75  84]\n",
      "Median epi value: 41.0\n",
      "Processing signal tf_motifs\n",
      "[  0   1   2  18  12   3  10   8  48  17  14   6   4  11   5   7  22   9\n",
      "  13  15  16  23  60  28  19  30  25  36  21  29  20  27  26  31  34  41\n",
      "  24  32  56  33  42  55  35  38  59  58  43  52  37  45  46  50  39  47\n",
      "  44  49  51  40  70  88  69  75  84  72  77  62  66  65  53  63  68  54\n",
      "  98  57  61  94  96  99  78  64  83  81  93  74  67  71  73  80  86 109\n",
      "  87 119  92  90  76  89  82 111  95 101  79 152 133]\n",
      "Median epi value: 51.0\n"
     ]
    }
   ],
   "source": [
    "# Apply the function to all epigenetic signals\n",
    "for epi_signal in ['dnase', 'encode_ChiP_V2', 'tf_motifs']:\n",
    "  convert_epi_signal(epi_signal)"
   ]
  },
  {
   "cell_type": "code",
   "execution_count": 26,
   "id": "10fceac6-13e4-44f9-80e7-cad08a4f7ce8",
   "metadata": {},
   "outputs": [],
   "source": [
    "# Delete the raw epigenetic signals\n",
    "for epi_signal in ['dnase', 'encode_ChiP_V2', 'tf_motifs']:\n",
    "  raw_df.drop(epi_signal, axis = 1, inplace = True)"
   ]
  },
  {
   "cell_type": "code",
   "execution_count": 27,
   "id": "9229e490-b543-4f31-b69f-70cc5b3e8a4d",
   "metadata": {},
   "outputs": [
    {
     "data": {
      "text/plain": [
       "Index(['asm_snp', 'sample_category', 'chr', 'region_inf', 'region_sup',\n",
       "       'region_nb_cpg', 'nb_cpg_found', 'nb_reads', 'global_cpg_fm',\n",
       "       'tot_nb_cpg', 'tot_nb_reads', 'cpg_fm', 'cpg_cov', 'cpg_pos',\n",
       "       'std_read_fm', 'mean_read_fm', 'std_cpg_fm', 'mean_cpg_fm',\n",
       "       'std_cpg_cov', 'mean_cpg_cov', 'std_cpg_dist', 'mean_cpg_dist',\n",
       "       'read_fm_kernel_0', 'read_fm_kernel_1', 'read_fm_kernel_2',\n",
       "       'read_fm_kernel_3', 'read_fm_kernel_4', 'read_fm_kernel_5',\n",
       "       'read_fm_kernel_6', 'read_fm_kernel_7', 'read_fm_kernel_8',\n",
       "       'read_fm_kernel_9', 'read_fm_kernel_10', 'cpg_fm_kernel_0',\n",
       "       'cpg_fm_kernel_1', 'cpg_fm_kernel_2', 'cpg_fm_kernel_3',\n",
       "       'cpg_fm_kernel_4', 'cpg_fm_kernel_5', 'cpg_fm_kernel_6',\n",
       "       'cpg_fm_kernel_7', 'cpg_fm_kernel_8', 'cpg_fm_kernel_9',\n",
       "       'cpg_fm_kernel_10', 'cpg_cov_kernel_0', 'cpg_cov_kernel_1',\n",
       "       'cpg_cov_kernel_2', 'cpg_cov_kernel_3', 'cpg_cov_kernel_4',\n",
       "       'cpg_dist_kernel_0', 'cpg_dist_kernel_1', 'cpg_dist_kernel_2',\n",
       "       'cpg_dist_kernel_3', 'cpg_dist_kernel_4', 'dnase_null', 'dnase_low',\n",
       "       'dnase_high', 'encode_ChiP_V2_null', 'encode_ChiP_V2_low',\n",
       "       'encode_ChiP_V2_high', 'tf_motifs_null', 'tf_motifs_low',\n",
       "       'tf_motifs_high'],\n",
       "      dtype='object')"
      ]
     },
     "execution_count": 27,
     "metadata": {},
     "output_type": "execute_result"
    }
   ],
   "source": [
    "raw_df.columns"
   ]
  },
  {
   "cell_type": "markdown",
   "id": "ef021547-c9fc-447c-93be-712ecf1d1b98",
   "metadata": {},
   "source": [
    "### Convert chromosome column in dummy variable"
   ]
  },
  {
   "cell_type": "code",
   "execution_count": 28,
   "id": "cf7ba911-d711-4864-ab2a-c9c66924e65b",
   "metadata": {},
   "outputs": [],
   "source": [
    "raw_df = pd.get_dummies(raw_df, columns = ['chr'], dtype=int)"
   ]
  },
  {
   "cell_type": "markdown",
   "id": "4aae6224-d8e0-4444-8d19-6ef29d7742e1",
   "metadata": {},
   "source": [
    "### Create an image of the genomic region\n",
    "\n",
    "We create an 1D-image (length: genomic region interval) with 3 information per \"pixel\": CpG presence (0 or 1), CpG coverage, CpG fractional methylation"
   ]
  },
  {
   "cell_type": "code",
   "execution_count": 29,
   "id": "d30e5e77-f178-4d1b-b8b5-0d9754bd0855",
   "metadata": {},
   "outputs": [],
   "source": [
    "# Create arrays of positions, fractional methylation, and coverage for CpGs (~2h30)\n",
    "def create_genomic_array(df):\n",
    "  genomic_positions = []\n",
    "  genomic_fm = []\n",
    "  genomic_cov = [] \n",
    "  for position in range(df['region_inf'], df['region_sup'] + 1):\n",
    "    if position in df['cpg_pos']:\n",
    "      new_pos = 1\n",
    "      pos_index = df['cpg_pos'].index(position)\n",
    "      new_fm = df['cpg_fm'][pos_index]\n",
    "      new_cov = df['cpg_cov'][pos_index]\n",
    "    else:\n",
    "      new_pos = 0\n",
    "      new_fm = 0\n",
    "      new_cov = 0\n",
    "    genomic_positions = genomic_positions + [new_pos]\n",
    "    genomic_fm = genomic_fm + [new_fm]\n",
    "    genomic_cov = genomic_cov + [new_cov]\n",
    "  return np.transpose([genomic_positions, genomic_fm, genomic_cov])"
   ]
  },
  {
   "cell_type": "code",
   "execution_count": 30,
   "id": "4ff4e0f2-9355-4174-8d14-cf1333af9495",
   "metadata": {},
   "outputs": [],
   "source": [
    "# Apply the function to the dataframe\n",
    "raw_df['genomic_matrix'] = raw_df.apply(lambda x: create_genomic_array(x), \n",
    "                                      axis = 1)"
   ]
  },
  {
   "cell_type": "code",
   "execution_count": 34,
   "id": "6a630899-e2ca-4037-bcd4-7a7d528b1bd0",
   "metadata": {},
   "outputs": [],
   "source": [
    "# Delete the variables we no longer need\n",
    "for var in ['cpg_cov', 'cpg_fm', 'region_inf', 'region_sup']:\n",
    "  raw_df.drop(var, axis = 1 , inplace = True)"
   ]
  },
  {
   "cell_type": "markdown",
   "id": "c23fd340-7827-4182-b371-554436af51f8",
   "metadata": {},
   "source": [
    "### Save dataframe with features on Cloud Storage"
   ]
  },
  {
   "cell_type": "code",
   "execution_count": 36,
   "id": "9cf90a2f-dc29-4a84-8c3d-500e3bf49c35",
   "metadata": {},
   "outputs": [
    {
     "data": {
      "text/plain": [
       "Index(['asm_snp', 'sample_category', 'region_nb_cpg', 'nb_cpg_found',\n",
       "       'nb_reads', 'global_cpg_fm', 'tot_nb_cpg', 'tot_nb_reads', 'cpg_pos',\n",
       "       'std_read_fm', 'mean_read_fm', 'std_cpg_fm', 'mean_cpg_fm',\n",
       "       'std_cpg_cov', 'mean_cpg_cov', 'std_cpg_dist', 'mean_cpg_dist',\n",
       "       'read_fm_kernel_0', 'read_fm_kernel_1', 'read_fm_kernel_2',\n",
       "       'read_fm_kernel_3', 'read_fm_kernel_4', 'read_fm_kernel_5',\n",
       "       'read_fm_kernel_6', 'read_fm_kernel_7', 'read_fm_kernel_8',\n",
       "       'read_fm_kernel_9', 'read_fm_kernel_10', 'cpg_fm_kernel_0',\n",
       "       'cpg_fm_kernel_1', 'cpg_fm_kernel_2', 'cpg_fm_kernel_3',\n",
       "       'cpg_fm_kernel_4', 'cpg_fm_kernel_5', 'cpg_fm_kernel_6',\n",
       "       'cpg_fm_kernel_7', 'cpg_fm_kernel_8', 'cpg_fm_kernel_9',\n",
       "       'cpg_fm_kernel_10', 'cpg_cov_kernel_0', 'cpg_cov_kernel_1',\n",
       "       'cpg_cov_kernel_2', 'cpg_cov_kernel_3', 'cpg_cov_kernel_4',\n",
       "       'cpg_dist_kernel_0', 'cpg_dist_kernel_1', 'cpg_dist_kernel_2',\n",
       "       'cpg_dist_kernel_3', 'cpg_dist_kernel_4', 'dnase_null', 'dnase_low',\n",
       "       'dnase_high', 'encode_ChiP_V2_null', 'encode_ChiP_V2_low',\n",
       "       'encode_ChiP_V2_high', 'tf_motifs_null', 'tf_motifs_low',\n",
       "       'tf_motifs_high', 'chr_1', 'chr_10', 'chr_11', 'chr_12', 'chr_13',\n",
       "       'chr_14', 'chr_15', 'chr_16', 'chr_17', 'chr_18', 'chr_19', 'chr_2',\n",
       "       'chr_20', 'chr_21', 'chr_22', 'chr_3', 'chr_4', 'chr_5', 'chr_6',\n",
       "       'chr_7', 'chr_8', 'chr_9', 'genomic_matrix'],\n",
       "      dtype='object')"
      ]
     },
     "execution_count": 36,
     "metadata": {},
     "output_type": "execute_result"
    }
   ],
   "source": [
    "# Check the columns\n",
    "raw_df.columns"
   ]
  },
  {
   "cell_type": "code",
   "execution_count": 37,
   "id": "80b71320-e518-43a9-ad95-f9dca4fe6f09",
   "metadata": {},
   "outputs": [
    {
     "data": {
      "text/plain": [
       "(197237, 81)"
      ]
     },
     "execution_count": 37,
     "metadata": {},
     "output_type": "execute_result"
    }
   ],
   "source": [
    "# Check the size of the dataframe\n",
    "raw_df.shape"
   ]
  },
  {
   "cell_type": "code",
   "execution_count": 38,
   "id": "7cdade84-79fc-452e-9ab7-11317804c23d",
   "metadata": {},
   "outputs": [],
   "source": [
    "# Obtain the date/time\n",
    "now = datetime.today()\n",
    "dt_string = now.strftime(\"%Y-%m-%d_%H-%M-%S\")"
   ]
  },
  {
   "cell_type": "code",
   "execution_count": null,
   "id": "940d939f-8b48-4670-bba5-9877e03b3f49",
   "metadata": {},
   "outputs": [],
   "source": [
    "# Export the variable names to the bucket\n",
    "var_file_name = dt_string + \"_variables.txt\"\n",
    "\n",
    "sys.stdout = open(var_file_name, \"w\")\n",
    "%whos\n",
    "sys.stdout.close()\n",
    "\n",
    "# Export to Cloud Storage\n",
    "!gsutil cp $var_file_name gs://$DEEPASM_BUCKET/notebook/"
   ]
  },
  {
   "cell_type": "code",
   "execution_count": null,
   "id": "bb8ae93f-af30-4df4-8cc1-3e754a0f5666",
   "metadata": {},
   "outputs": [
    {
     "name": "stderr",
     "output_type": "stream",
     "text": [
      "Exception in thread IPythonHistorySavingThread:\n",
      "Traceback (most recent call last):\n",
      "  File \"/opt/conda/lib/python3.7/site-packages/IPython/core/history.py\", line 780, in writeout_cache\n",
      "    self._writeout_input_cache(conn)\n",
      "  File \"/opt/conda/lib/python3.7/site-packages/IPython/core/history.py\", line 764, in _writeout_input_cache\n",
      "    (self.session_number,)+line)\n",
      "sqlite3.IntegrityError: UNIQUE constraint failed: history.session, history.line\n",
      "\n",
      "During handling of the above exception, another exception occurred:\n",
      "\n",
      "Traceback (most recent call last):\n",
      "  File \"/opt/conda/lib/python3.7/site-packages/IPython/core/history.py\", line 834, in run\n",
      "    self.history_manager.writeout_cache(self.db)\n",
      "  File \"/opt/conda/lib/python3.7/site-packages/decorator.py\", line 232, in fun\n",
      "    return caller(func, *(extras + args), **kw)\n",
      "  File \"/opt/conda/lib/python3.7/site-packages/IPython/core/history.py\", line 58, in needs_sqlite\n",
      "    return f(self, *a, **kw)\n",
      "  File \"/opt/conda/lib/python3.7/site-packages/IPython/core/history.py\", line 785, in writeout_cache\n",
      "    self.session_number)\n",
      "ValueError: I/O operation on closed file.\n",
      "\n",
      "During handling of the above exception, another exception occurred:\n",
      "\n",
      "Traceback (most recent call last):\n",
      "  File \"/opt/conda/lib/python3.7/threading.py\", line 926, in _bootstrap_inner\n",
      "    self.run()\n",
      "  File \"/opt/conda/lib/python3.7/site-packages/decorator.py\", line 232, in fun\n",
      "    return caller(func, *(extras + args), **kw)\n",
      "  File \"/opt/conda/lib/python3.7/site-packages/IPython/core/history.py\", line 58, in needs_sqlite\n",
      "    return f(self, *a, **kw)\n",
      "  File \"/opt/conda/lib/python3.7/site-packages/IPython/core/history.py\", line 837, in run\n",
      "    \"History will not be written to the database.\") % repr(e))\n",
      "ValueError: I/O operation on closed file.\n",
      "\n"
     ]
    }
   ],
   "source": [
    "# Export the dataframe of features\n",
    "\n",
    "# File name\n",
    "file_name = dt_string + '_prepared_features.csv'\n",
    "print(file_name)\n",
    "\n",
    "# Save to VM\n",
    "raw_df.to_csv(file_name, index = False)\n",
    "\n",
    "# Export to Cloud storage\n",
    "!gsutil cp $file_name gs://$DEEPASM_BUCKET/notebook/"
   ]
  },
  {
   "cell_type": "code",
   "execution_count": null,
   "id": "b344ce6e-c986-4848-98a4-73b128ca62bc",
   "metadata": {},
   "outputs": [],
   "source": [
    "raw_df.to_csv('test.csv', index = False)"
   ]
  },
  {
   "cell_type": "code",
   "execution_count": null,
   "id": "849f412a-3b7f-42b7-9d9e-06363cb2b7ba",
   "metadata": {},
   "outputs": [],
   "source": []
  }
 ],
 "metadata": {
  "environment": {
   "kernel": "python3",
   "name": "tf2-gpu.2-7.m87",
   "type": "gcloud",
   "uri": "gcr.io/deeplearning-platform-release/tf2-gpu.2-7:m87"
  },
  "kernelspec": {
   "display_name": "Python 3",
   "language": "python",
   "name": "python3"
  },
  "language_info": {
   "codemirror_mode": {
    "name": "ipython",
    "version": 3
   },
   "file_extension": ".py",
   "mimetype": "text/x-python",
   "name": "python",
   "nbconvert_exporter": "python",
   "pygments_lexer": "ipython3",
   "version": "3.7.12"
  },
  "toc-autonumbering": false,
  "toc-showcode": false,
  "toc-showmarkdowntxt": false
 },
 "nbformat": 4,
 "nbformat_minor": 5
}
