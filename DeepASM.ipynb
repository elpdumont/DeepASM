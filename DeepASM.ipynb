{
 "cells": [
  {
   "cell_type": "markdown",
   "id": "a71a3685-b41b-4dd7-8987-fb26729209a6",
   "metadata": {},
   "source": [
    "# DeepASM"
   ]
  },
  {
   "cell_type": "markdown",
   "id": "30ca0fb9-e45a-4d26-be20-575214beec95",
   "metadata": {
    "tags": []
   },
   "source": [
    "## Install packages"
   ]
  },
  {
   "cell_type": "code",
   "execution_count": 237,
   "id": "7aa06369-0a4f-4120-8b0f-a4dfcb5e7627",
   "metadata": {},
   "outputs": [
    {
     "name": "stdout",
     "output_type": "stream",
     "text": [
      "Requirement already satisfied: tables in /opt/conda/lib/python3.7/site-packages (3.7.0)\n",
      "Requirement already satisfied: packaging in /opt/conda/lib/python3.7/site-packages (from tables) (21.3)\n",
      "Requirement already satisfied: numexpr>=2.6.2 in /opt/conda/lib/python3.7/site-packages (from tables) (2.8.1)\n",
      "Requirement already satisfied: numpy>=1.19.0 in /opt/conda/lib/python3.7/site-packages (from tables) (1.21.5)\n",
      "Requirement already satisfied: pyparsing!=3.0.5,>=2.0.2 in /opt/conda/lib/python3.7/site-packages (from packaging->tables) (3.0.6)\n",
      "Collecting tensorflow_decision_forests==0.2.2\n",
      "  Downloading tensorflow_decision_forests-0.2.2-cp37-cp37m-manylinux_2_12_x86_64.manylinux2010_x86_64.whl (17.7 MB)\n",
      "     |████████████████████████████████| 17.7 MB 4.4 MB/s            \n",
      "\u001b[?25hRequirement already satisfied: tensorflow~=2.7.0 in /opt/conda/lib/python3.7/site-packages (from tensorflow_decision_forests==0.2.2) (2.7.0)\n",
      "Requirement already satisfied: absl-py in /opt/conda/lib/python3.7/site-packages (from tensorflow_decision_forests==0.2.2) (1.0.0)\n",
      "Requirement already satisfied: pandas in /opt/conda/lib/python3.7/site-packages (from tensorflow_decision_forests==0.2.2) (1.3.5)\n",
      "Requirement already satisfied: numpy in /opt/conda/lib/python3.7/site-packages (from tensorflow_decision_forests==0.2.2) (1.21.5)\n",
      "Requirement already satisfied: wheel in /opt/conda/lib/python3.7/site-packages (from tensorflow_decision_forests==0.2.2) (0.37.0)\n",
      "Requirement already satisfied: six in /opt/conda/lib/python3.7/site-packages (from tensorflow_decision_forests==0.2.2) (1.16.0)\n",
      "Collecting wurlitzer\n",
      "  Using cached wurlitzer-3.0.2-py3-none-any.whl (7.3 kB)\n",
      "Requirement already satisfied: h5py>=2.9.0 in /opt/conda/lib/python3.7/site-packages (from tensorflow~=2.7.0->tensorflow_decision_forests==0.2.2) (3.6.0)\n",
      "Requirement already satisfied: tensorboard~=2.6 in /opt/conda/lib/python3.7/site-packages (from tensorflow~=2.7.0->tensorflow_decision_forests==0.2.2) (2.7.0)\n",
      "Requirement already satisfied: tensorflow-estimator<2.8,~=2.7.0rc0 in /opt/conda/lib/python3.7/site-packages (from tensorflow~=2.7.0->tensorflow_decision_forests==0.2.2) (2.7.0)\n",
      "Requirement already satisfied: keras-preprocessing>=1.1.1 in /opt/conda/lib/python3.7/site-packages (from tensorflow~=2.7.0->tensorflow_decision_forests==0.2.2) (1.1.2)\n",
      "Requirement already satisfied: termcolor>=1.1.0 in /opt/conda/lib/python3.7/site-packages (from tensorflow~=2.7.0->tensorflow_decision_forests==0.2.2) (1.1.0)\n",
      "Requirement already satisfied: wrapt>=1.11.0 in /opt/conda/lib/python3.7/site-packages (from tensorflow~=2.7.0->tensorflow_decision_forests==0.2.2) (1.13.3)\n",
      "Requirement already satisfied: flatbuffers<3.0,>=1.12 in /opt/conda/lib/python3.7/site-packages (from tensorflow~=2.7.0->tensorflow_decision_forests==0.2.2) (2.0)\n",
      "Requirement already satisfied: gast<0.5.0,>=0.2.1 in /opt/conda/lib/python3.7/site-packages (from tensorflow~=2.7.0->tensorflow_decision_forests==0.2.2) (0.4.0)\n",
      "Requirement already satisfied: grpcio<2.0,>=1.24.3 in /opt/conda/lib/python3.7/site-packages (from tensorflow~=2.7.0->tensorflow_decision_forests==0.2.2) (1.43.0)\n",
      "Requirement already satisfied: tensorflow-io-gcs-filesystem>=0.21.0 in /opt/conda/lib/python3.7/site-packages (from tensorflow~=2.7.0->tensorflow_decision_forests==0.2.2) (0.23.1)\n",
      "Requirement already satisfied: libclang>=9.0.1 in /opt/conda/lib/python3.7/site-packages (from tensorflow~=2.7.0->tensorflow_decision_forests==0.2.2) (12.0.0)\n",
      "Requirement already satisfied: keras<2.8,>=2.7.0rc0 in /opt/conda/lib/python3.7/site-packages (from tensorflow~=2.7.0->tensorflow_decision_forests==0.2.2) (2.7.0)\n",
      "Requirement already satisfied: google-pasta>=0.1.1 in /opt/conda/lib/python3.7/site-packages (from tensorflow~=2.7.0->tensorflow_decision_forests==0.2.2) (0.2.0)\n",
      "Requirement already satisfied: protobuf>=3.9.2 in /opt/conda/lib/python3.7/site-packages (from tensorflow~=2.7.0->tensorflow_decision_forests==0.2.2) (3.19.1)\n",
      "Requirement already satisfied: typing-extensions>=3.6.6 in /opt/conda/lib/python3.7/site-packages (from tensorflow~=2.7.0->tensorflow_decision_forests==0.2.2) (4.0.1)\n",
      "Requirement already satisfied: opt-einsum>=2.3.2 in /opt/conda/lib/python3.7/site-packages (from tensorflow~=2.7.0->tensorflow_decision_forests==0.2.2) (3.3.0)\n",
      "Requirement already satisfied: astunparse>=1.6.0 in /opt/conda/lib/python3.7/site-packages (from tensorflow~=2.7.0->tensorflow_decision_forests==0.2.2) (1.6.3)\n",
      "Requirement already satisfied: python-dateutil>=2.7.3 in /opt/conda/lib/python3.7/site-packages (from pandas->tensorflow_decision_forests==0.2.2) (2.8.2)\n",
      "Requirement already satisfied: pytz>=2017.3 in /opt/conda/lib/python3.7/site-packages (from pandas->tensorflow_decision_forests==0.2.2) (2021.3)\n",
      "Requirement already satisfied: cached-property in /opt/conda/lib/python3.7/site-packages (from h5py>=2.9.0->tensorflow~=2.7.0->tensorflow_decision_forests==0.2.2) (1.5.2)\n",
      "Requirement already satisfied: werkzeug>=0.11.15 in /opt/conda/lib/python3.7/site-packages (from tensorboard~=2.6->tensorflow~=2.7.0->tensorflow_decision_forests==0.2.2) (2.0.2)\n",
      "Requirement already satisfied: tensorboard-plugin-wit>=1.6.0 in /opt/conda/lib/python3.7/site-packages (from tensorboard~=2.6->tensorflow~=2.7.0->tensorflow_decision_forests==0.2.2) (1.8.0)\n",
      "Requirement already satisfied: google-auth<3,>=1.6.3 in /opt/conda/lib/python3.7/site-packages (from tensorboard~=2.6->tensorflow~=2.7.0->tensorflow_decision_forests==0.2.2) (2.3.3)\n",
      "Requirement already satisfied: google-auth-oauthlib<0.5,>=0.4.1 in /opt/conda/lib/python3.7/site-packages (from tensorboard~=2.6->tensorflow~=2.7.0->tensorflow_decision_forests==0.2.2) (0.4.6)\n",
      "Requirement already satisfied: setuptools>=41.0.0 in /opt/conda/lib/python3.7/site-packages (from tensorboard~=2.6->tensorflow~=2.7.0->tensorflow_decision_forests==0.2.2) (59.6.0)\n",
      "Requirement already satisfied: tensorboard-data-server<0.7.0,>=0.6.0 in /opt/conda/lib/python3.7/site-packages (from tensorboard~=2.6->tensorflow~=2.7.0->tensorflow_decision_forests==0.2.2) (0.6.1)\n",
      "Requirement already satisfied: markdown>=2.6.8 in /opt/conda/lib/python3.7/site-packages (from tensorboard~=2.6->tensorflow~=2.7.0->tensorflow_decision_forests==0.2.2) (3.3.6)\n",
      "Requirement already satisfied: requests<3,>=2.21.0 in /opt/conda/lib/python3.7/site-packages (from tensorboard~=2.6->tensorflow~=2.7.0->tensorflow_decision_forests==0.2.2) (2.26.0)\n",
      "Requirement already satisfied: rsa<5,>=3.1.4 in /opt/conda/lib/python3.7/site-packages (from google-auth<3,>=1.6.3->tensorboard~=2.6->tensorflow~=2.7.0->tensorflow_decision_forests==0.2.2) (4.8)\n",
      "Requirement already satisfied: cachetools<5.0,>=2.0.0 in /opt/conda/lib/python3.7/site-packages (from google-auth<3,>=1.6.3->tensorboard~=2.6->tensorflow~=2.7.0->tensorflow_decision_forests==0.2.2) (4.2.4)\n",
      "Requirement already satisfied: pyasn1-modules>=0.2.1 in /opt/conda/lib/python3.7/site-packages (from google-auth<3,>=1.6.3->tensorboard~=2.6->tensorflow~=2.7.0->tensorflow_decision_forests==0.2.2) (0.2.7)\n",
      "Requirement already satisfied: requests-oauthlib>=0.7.0 in /opt/conda/lib/python3.7/site-packages (from google-auth-oauthlib<0.5,>=0.4.1->tensorboard~=2.6->tensorflow~=2.7.0->tensorflow_decision_forests==0.2.2) (1.3.0)\n",
      "Requirement already satisfied: importlib-metadata>=4.4 in /opt/conda/lib/python3.7/site-packages (from markdown>=2.6.8->tensorboard~=2.6->tensorflow~=2.7.0->tensorflow_decision_forests==0.2.2) (4.9.0)\n",
      "Requirement already satisfied: charset-normalizer~=2.0.0 in /opt/conda/lib/python3.7/site-packages (from requests<3,>=2.21.0->tensorboard~=2.6->tensorflow~=2.7.0->tensorflow_decision_forests==0.2.2) (2.0.9)\n",
      "Requirement already satisfied: urllib3<1.27,>=1.21.1 in /opt/conda/lib/python3.7/site-packages (from requests<3,>=2.21.0->tensorboard~=2.6->tensorflow~=2.7.0->tensorflow_decision_forests==0.2.2) (1.26.7)\n",
      "Requirement already satisfied: idna<4,>=2.5 in /opt/conda/lib/python3.7/site-packages (from requests<3,>=2.21.0->tensorboard~=2.6->tensorflow~=2.7.0->tensorflow_decision_forests==0.2.2) (3.1)\n",
      "Requirement already satisfied: certifi>=2017.4.17 in /opt/conda/lib/python3.7/site-packages (from requests<3,>=2.21.0->tensorboard~=2.6->tensorflow~=2.7.0->tensorflow_decision_forests==0.2.2) (2021.10.8)\n",
      "Requirement already satisfied: zipp>=0.5 in /opt/conda/lib/python3.7/site-packages (from importlib-metadata>=4.4->markdown>=2.6.8->tensorboard~=2.6->tensorflow~=2.7.0->tensorflow_decision_forests==0.2.2) (3.6.0)\n",
      "Requirement already satisfied: pyasn1<0.5.0,>=0.4.6 in /opt/conda/lib/python3.7/site-packages (from pyasn1-modules>=0.2.1->google-auth<3,>=1.6.3->tensorboard~=2.6->tensorflow~=2.7.0->tensorflow_decision_forests==0.2.2) (0.4.8)\n",
      "Requirement already satisfied: oauthlib>=3.0.0 in /opt/conda/lib/python3.7/site-packages (from requests-oauthlib>=0.7.0->google-auth-oauthlib<0.5,>=0.4.1->tensorboard~=2.6->tensorflow~=2.7.0->tensorflow_decision_forests==0.2.2) (3.1.1)\n",
      "Installing collected packages: wurlitzer, tensorflow-decision-forests\n",
      "Successfully installed tensorflow-decision-forests-0.2.2 wurlitzer-3.0.2\n"
     ]
    }
   ],
   "source": [
    "# To manipulate HDF5 files (RUN FOR ALL MODELS)\n",
    "!pip3 install --upgrade tables\n",
    "\n",
    "# Install Decision Forest models\n",
    "!pip3 install tensorflow_decision_forests==0.2.2\n"
   ]
  },
  {
   "cell_type": "markdown",
   "id": "08ecb353-258f-451d-8c2a-2488137356b1",
   "metadata": {
    "tags": []
   },
   "source": [
    "## Import packages"
   ]
  },
  {
   "cell_type": "code",
   "execution_count": 397,
   "id": "9eb55e93-2391-4791-bca2-a69b4ec7a4be",
   "metadata": {},
   "outputs": [],
   "source": [
    "import sys\n",
    "\n",
    "# Python packages for data, stats, and visualization\n",
    "from matplotlib import pyplot as plt\n",
    "import matplotlib as mpl\n",
    "import numpy as np\n",
    "import pandas as pd\n",
    "import seaborn as sns \n",
    "\n",
    "# Machine learning libraries\n",
    "from sklearn.preprocessing import LabelEncoder, OneHotEncoder, StandardScaler\n",
    "import tensorflow as tf\n",
    "from tensorflow import keras\n",
    "#from tensorflow.keras.models import load_model\n",
    "from tensorflow.keras import layers\n",
    "import sklearn\n",
    "from sklearn import metrics\n",
    "from sklearn.metrics import confusion_matrix\n",
    "from sklearn.model_selection import train_test_split\n",
    "\n",
    "# Kernel functions\n",
    "from sklearn.neighbors import KernelDensity\n",
    "from numpy import asarray\n",
    "from matplotlib import pyplot\n",
    "from numpy import exp\n",
    "\n",
    "# Dimensionality reduction\n",
    "from sklearn.decomposition import PCA, KernelPCA, NMF, TruncatedSVD\n",
    "from sklearn.manifold import TSNE, LocallyLinearEmbedding, SpectralEmbedding\n",
    "\n",
    "# To get the time\n",
    "from datetime import datetime\n",
    "\n",
    "# To write on the same line\n",
    "from IPython.display import clear_output\n",
    "\n",
    "# Decision tree algorithms\n",
    "import tensorflow_decision_forests as tfdf\n",
    " \n",
    "# Figure parameters\n",
    "mpl.rcParams['figure.figsize'] = (10, 10)\n",
    "mpl.rcParams['axes.titlesize'] = 15\n",
    "mpl.rcParams['axes.labelsize'] = 12\n",
    "mpl.rcParams['xtick.labelsize'] = 12\n",
    "mpl.rcParams['ytick.labelsize'] = 12\n",
    "colors = plt.rcParams['axes.prop_cycle'].by_key()['color']"
   ]
  },
  {
   "cell_type": "code",
   "execution_count": 398,
   "id": "683ebf71-130f-4ea0-8eaa-c27478ebb990",
   "metadata": {},
   "outputs": [],
   "source": [
    "# Print different versions\n",
    "print(sys.version)\n",
    "print(\"TensorFlow version:\", tf.__version__)\n",
    "print(\"Keras version:\", keras.__version__)\n",
    "print(\"Numpy version:\", np.__version__)\n",
    "print(\"Num GPUs Available: \", len(tf.config.list_physical_devices('GPU')))"
   ]
  },
  {
   "cell_type": "markdown",
   "id": "abddb628-6484-4f52-9386-ced2fb0f456a",
   "metadata": {},
   "source": [
    "## GCP Variables"
   ]
  },
  {
   "cell_type": "code",
   "execution_count": 399,
   "id": "2cb33deb-7b19-4795-acd3-4511eb464de1",
   "metadata": {},
   "outputs": [],
   "source": [
    "# Import raw data from bucket. False if you want to import the processed dataset\n",
    "IMPORT_RAW_FROM_BUCKET = True\n",
    "\n",
    "# Export data after it's been prepared\n",
    "EXPORT_PROCESSED_DATA = True\n",
    "\n",
    "# Import data after its features have been prepared\n",
    "IMPORT_PROCESSED_DATA = True\n",
    "PROCESSED_DATA_PATH = \"deepasm/notebook/250bp_500000rows_2022-03-15_16-04-20\"\n",
    "\n",
    "# Bucket name where the training datasets are\n",
    "DEEPASM_BUCKET=\"deepasm\"\n"
   ]
  },
  {
   "cell_type": "markdown",
   "id": "55dbab41-0938-4ddf-83b3-f216430ac6de",
   "metadata": {},
   "source": [
    "## Dataset used for training"
   ]
  },
  {
   "cell_type": "code",
   "execution_count": 400,
   "id": "25c6a036-22a5-46ae-8095-25b43b70696d",
   "metadata": {},
   "outputs": [],
   "source": [
    "# Run the training on a small sample size (50k)\n",
    "TEST_RUN = True\n",
    "\n",
    "# Size of the genomic window (250bp, 500bp, 1000bp)\n",
    "GENOMIC_INTERVAL = 250\n",
    "\n",
    "# Number of rows to take into the dataset after import\n",
    "if TEST_RUN == True:\n",
    "    NB_ROWS_RAW_DATASET = int(500000) # The maximum is 5e6. We use 200k to test the code\n",
    "else:\n",
    "    NB_ROWS_RAW_DATASET = int(5e6) "
   ]
  },
  {
   "cell_type": "markdown",
   "id": "abb144c7-b3d9-4ca7-836b-027939589d48",
   "metadata": {},
   "source": [
    "## Model variables"
   ]
  },
  {
   "cell_type": "code",
   "execution_count": 462,
   "id": "d49f672e-93d9-485a-9914-010650158ce0",
   "metadata": {},
   "outputs": [],
   "source": [
    "#--------------------------------------------------\n",
    "# Gradient-Boosted algorithms\n",
    "\n",
    "GROWING_STRATEGY = \"BEST_FIRST_GLOBAL\"  # LOCAL (default). or BEST_FIRST_GLOBAL is the default\n",
    "NUM_TREES = 600 # Maxmimum number of decision trees. (default 300)\n",
    "MIN_EXAMPLES = 10 # Minimum number of examples in a node (default: 5)\n",
    "MAX_DEPTH = 12 # Maximum depth of the tree (default 6)\n",
    "SUBSAMPLE = 0.5 # Ratio of the dataset (sampling without replacement) used to train individual trees for the random sampling method (Default 1)\n",
    "SAMPLING_METHOD = \"RANDOM\"\n",
    "\n",
    "#--------------------------------------------------\n",
    "# Parameters common to all models\n",
    "\n",
    "# Minimum correlation factor. Under that, remove features\n",
    "MIN_CORR = 0.05\n",
    "\n",
    "# Kernel values for probability estimates\n",
    "KERNEL_FM_NB_VALUES = 10\n",
    "KERNEL_FM_BANDWIDTH = 0.1\n",
    "KERNEL_COV_NB_MAX = 200\n",
    "KERNEL_COV_NB_STEP = 40\n",
    "KERNEL_COV_BANDWIDTH = 20\n",
    "\n",
    "# Early stopping\n",
    "EARLY_STOPPING = tf.keras.callbacks.EarlyStopping(\n",
    "    monitor='val_auc', \n",
    "    verbose=0,\n",
    "    patience=10,\n",
    "    mode='auto',\n",
    "    restore_best_weights=True)\n",
    "\n",
    "# Percentage of data points to be used in the Test dataset\n",
    "TEST_SPLIT = 0.2\n",
    "\n",
    "# Percentage of datapoints used between training and validation\n",
    "VALIDATION_SPLIT = 0.3 # How to divide the training dataset for validation\n",
    "\n",
    "EPOCHS = 100 # We have so many datapoints that 20 epochs are enough to stabilize the training\n",
    "BATCH_SIZE = 1000 # to get a few identified ASM we need at a few hundreds since the\n",
    "# frequency of ASM is 1.38%\n",
    "# A batch size of 1000 will run into a memory error on TF 2.7\n",
    "\n",
    "# Regularlization L1 and L2 (defaults are l1 = 0.01 and l2 = 0.01)\n",
    "L1_R = 0\n",
    "L2_R = 1e-3\n",
    "\n",
    "#--------------------------------------------------\n",
    "# Parameters common to neural network models\n",
    "ACTIVATION_FUNCTION = 'tanh' # 'tanh' # or 'relu' or 'gelu (Gaussian Error Linear Unit)'\n",
    "NB_NODES_PERCEPTRON = 60\n",
    "NB_LAYERS_PERCEPTRON = 5\n",
    "NB_NODES_AFTER_CNN = 2\n",
    "\n",
    "# CNN parameters\n",
    "CNN_FILTERS = 8\n",
    "CNN_KERNEL = 100 # Must be smaller than the genomic region (250). The av distance between CpG is 37 bp and the std dev of the distances between cpgs is 24 bp\n",
    "LEARNING_RATE = 3e-4 \n",
    "\n",
    "# Learning rate was taken from this\n",
    "# http://karpathy.github.io/2019/04/25/recipe/#2-set-up-the-end-to-end-trainingevaluation-skeleton--get-dumb-baselines\n",
    "\n",
    "#--------------------------------------------------\n",
    "# Parameters common to RNN\n",
    "\n",
    "RNN_UNITS = 128 # 64 orginally\n",
    "\n",
    "#--------------------------------------------------\n",
    "# SPECIFIC TO RANDOM FOREST ALGORITHM\n",
    "use_raw_df_for_forest_models = False"
   ]
  },
  {
   "cell_type": "markdown",
   "id": "c22515ca-30c7-4a83-a982-6eb67b884f37",
   "metadata": {},
   "source": [
    "## ML evaluation metrics"
   ]
  },
  {
   "cell_type": "code",
   "execution_count": 402,
   "id": "2f38b202-fe69-489c-aae0-638bcd40b2d8",
   "metadata": {},
   "outputs": [],
   "source": [
    "METRICS = [\n",
    "      keras.metrics.TruePositives(name='tp'),\n",
    "      keras.metrics.FalsePositives(name='fp'),\n",
    "      keras.metrics.TrueNegatives(name='tn'),\n",
    "      keras.metrics.FalseNegatives(name='fn'), \n",
    "      keras.metrics.BinaryAccuracy(name='accuracy'),\n",
    "      keras.metrics.Precision(name='precision'),\n",
    "      keras.metrics.Recall(name='sensitivity'),\n",
    "      keras.metrics.AUC(name='auc')\n",
    "      ]\n",
    "\n",
    "def plot_metrics(history):\n",
    "  metrics =  ['loss', 'auc', 'precision', 'sensitivity']\n",
    "  plt.figure(figsize=(10,10))\n",
    "  for n, metric in enumerate(metrics):\n",
    "    name = metric.replace(\"_\",\" \").capitalize()\n",
    "    plt.subplot(2,2,n+1)\n",
    "    plt.plot(history.epoch,  history.history[metric], color=colors[0], label='Train')\n",
    "    plt.plot(history.epoch, history.history['val_'+metric],\n",
    "             color=colors[0], linestyle=\"--\", label='Val')\n",
    "    plt.xlabel('Epoch')\n",
    "    plt.ylabel(name)\n",
    "    plt.ylim([0,1])\n",
    "\n",
    "    plt.legend()\n",
    "\n",
    "\n",
    "def display_results(df_results):\n",
    "  print(\"Loss\", np.round(df_results[0], 3))\n",
    "  print(\"True positives\", np.round(df_results[1], 3))\n",
    "  print(\"False positives\", np.round(df_results[2], 3))\n",
    "  print(\"True negatives\", np.round(df_results[3], 3))\n",
    "  print(\"False negatives\", np.round(df_results[4], 3))\n",
    "  print(\"Accuracy\", np.round(df_results[5], 3))\n",
    "  print(\"Precision\", np.round(df_results[6], 3))\n",
    "  print(\"Sensitivity\", np.round(df_results[7], 3))\n",
    "  print(\"AUC\", np.round(df_results[8], 3))\n",
    "\n",
    "def plot_roc(name, labels, predictions, **kwargs):\n",
    "  fp, tp, _ = sklearn.metrics.roc_curve(labels, predictions)\n",
    "\n",
    "  plt.plot(100*fp, 100*tp, label=name, linewidth=2, **kwargs)\n",
    "  plt.xlabel('False positives [%]')\n",
    "  plt.ylabel('True positives [%]')\n",
    "  plt.xlim([-0.5,80])\n",
    "  plt.ylim([0,100.5])\n",
    "  plt.grid(True)\n",
    "  ax = plt.gca()\n",
    "  ax.set_aspect('equal')\n",
    "\n"
   ]
  },
  {
   "cell_type": "markdown",
   "id": "025e5515-6785-4461-b139-ced8487e2eee",
   "metadata": {},
   "source": [
    "## Import raw data"
   ]
  },
  {
   "cell_type": "code",
   "execution_count": 362,
   "id": "d440a700-3f8d-443b-87f4-3036f2a0f5b8",
   "metadata": {},
   "outputs": [
    {
     "name": "stdout",
     "output_type": "stream",
     "text": [
      "Number of files to download: 20\n",
      "Copying gs://deepasm/1000bp/encode_training_data/encode_training-000000000000.json...\n",
      "- [1 files][236.8 MiB/236.8 MiB]                                                \n",
      "Operation completed over 1 objects/236.8 MiB.                                    \n",
      "Appending file...\n",
      "Copying gs://deepasm/1000bp/encode_training_data/encode_training-000000000001.json...\n",
      "- [1 files][236.9 MiB/236.9 MiB]                                                \n",
      "Operation completed over 1 objects/236.9 MiB.                                    \n",
      "Appending file...\n",
      "Copying gs://deepasm/1000bp/encode_training_data/encode_training-000000000002.json...\n",
      "\\ [1 files][238.4 MiB/238.4 MiB]                                                \n",
      "Operation completed over 1 objects/238.4 MiB.                                    \n",
      "Appending file...\n"
     ]
    }
   ],
   "source": [
    "if IMPORT_RAW_FROM_BUCKET == True:\n",
    "    !gsutil ls gs://$DEEPASM_BUCKET/$GENOMIC_INTERVAL*bp/encode_training_data/*.json > list_to_download.txt\n",
    "    files_to_download_df = pd.read_csv('list_to_download.txt', header=None)\n",
    "    print(\"Number of files to download:\", files_to_download_df.shape[0])\n",
    "\n",
    "    imported_df = pd.DataFrame()\n",
    "    \n",
    "    if TEST_RUN == True:\n",
    "        range_files = 3\n",
    "    else: # Download all the files\n",
    "        range_files = files_to_download_df.shape[0]\n",
    "\n",
    "    for index_file in range(range_files): \n",
    "        file_name_bucket = files_to_download_df[0][index_file]\n",
    "        local_file_name = \"training_\" + str(index_file) + \".json\"\n",
    "        \n",
    "        # Download the file from bucket\n",
    "        !gsutil cp $file_name_bucket $local_file_name\n",
    "        \n",
    "        print(\"Appending file...\")\n",
    "        imported_df = imported_df.append(pd.read_json(local_file_name, lines = True))"
   ]
  },
  {
   "cell_type": "code",
   "execution_count": 363,
   "id": "f83a257f-e990-4f89-bec0-0011061db225",
   "metadata": {},
   "outputs": [
    {
     "name": "stdout",
     "output_type": "stream",
     "text": [
      "Size of the imported dataset: (676790, 18)\n"
     ]
    }
   ],
   "source": [
    "print(\"Size of the imported dataset:\", imported_df.shape)"
   ]
  },
  {
   "cell_type": "markdown",
   "id": "cd44574e-a6e1-4e5b-b254-bcf6959d60a0",
   "metadata": {},
   "source": [
    "## Prepare the features\n",
    "\n",
    "Note: we do not randomize the rows because the scripts preceding this notebook already sampled the rows."
   ]
  },
  {
   "cell_type": "markdown",
   "id": "1b3f096d-c8fd-4270-b822-97fd20c94331",
   "metadata": {},
   "source": [
    "### Copy & clean dataframe "
   ]
  },
  {
   "cell_type": "code",
   "execution_count": 364,
   "id": "0b1bbac4-bc09-4786-b688-b8976eeac8bf",
   "metadata": {},
   "outputs": [],
   "source": [
    "# Copy of the dataframe\n",
    "raw_df = imported_df.copy()\n",
    "raw_df = raw_df.head(NB_ROWS_RAW_DATASET)\n",
    "\n",
    "# Randomize the rows\n",
    "raw_df = raw_df.sample(frac = 1, ignore_index = True)\n"
   ]
  },
  {
   "cell_type": "code",
   "execution_count": 365,
   "id": "83d48e94-5264-4e01-913a-222b72bde9f7",
   "metadata": {},
   "outputs": [
    {
     "name": "stdout",
     "output_type": "stream",
     "text": [
      "Size of the dataset:  (500000, 18)\n",
      "Number of samples (12 expected): 12\n",
      "Chromosomes found (24 expected): ['4' '17' '12' '3' '10' '7' '16' '8' '1' '18' '19' '9' '2' '11' '13' '15'\n",
      " '5' 'X' '14' '21' '6' '20' '22' 'Y']\n"
     ]
    }
   ],
   "source": [
    "print(\"Size of the dataset: \", raw_df.shape)\n",
    "print(\"Number of samples (12 expected):\", len(raw_df['sample'].unique()))\n",
    "print(\"Chromosomes found (24 expected):\", raw_df['chr'].unique())\n",
    "\n",
    "# We remove the sample column\n",
    "raw_df = raw_df.drop('sample', axis = 1)\n",
    "\n",
    "# We remove chromosomes X and Y because ASM cannot be reliabily evaluated in these chromosomes\n",
    "raw_df = raw_df[raw_df['chr'] != 'X']\n",
    "raw_df = raw_df[raw_df['chr'] != 'Y']\n",
    "\n",
    "# We remove the chr column\n",
    "raw_df = raw_df.drop('chr', axis = 1)"
   ]
  },
  {
   "cell_type": "code",
   "execution_count": 366,
   "id": "e51a306c-f998-48b3-812b-0900d382663e",
   "metadata": {},
   "outputs": [
    {
     "data": {
      "text/html": [
       "<div>\n",
       "<style scoped>\n",
       "    .dataframe tbody tr th:only-of-type {\n",
       "        vertical-align: middle;\n",
       "    }\n",
       "\n",
       "    .dataframe tbody tr th {\n",
       "        vertical-align: top;\n",
       "    }\n",
       "\n",
       "    .dataframe thead th {\n",
       "        text-align: right;\n",
       "    }\n",
       "</style>\n",
       "<table border=\"1\" class=\"dataframe\">\n",
       "  <thead>\n",
       "    <tr style=\"text-align: right;\">\n",
       "      <th></th>\n",
       "      <th>asm_snp</th>\n",
       "      <th>sample_category</th>\n",
       "      <th>region_inf</th>\n",
       "      <th>region_sup</th>\n",
       "      <th>region_nb_cpg</th>\n",
       "      <th>nb_cpg_found</th>\n",
       "      <th>nb_reads</th>\n",
       "      <th>dnase</th>\n",
       "      <th>encode_ChiP_V2</th>\n",
       "      <th>tf_motifs</th>\n",
       "      <th>global_cpg_fm</th>\n",
       "      <th>tot_nb_cpg</th>\n",
       "      <th>tot_nb_reads</th>\n",
       "      <th>read_fm</th>\n",
       "      <th>cpg_fm</th>\n",
       "      <th>cpg_pos</th>\n",
       "    </tr>\n",
       "  </thead>\n",
       "  <tbody>\n",
       "    <tr>\n",
       "      <th>0</th>\n",
       "      <td>0</td>\n",
       "      <td>0</td>\n",
       "      <td>94159001</td>\n",
       "      <td>94160000</td>\n",
       "      <td>3</td>\n",
       "      <td>3</td>\n",
       "      <td>118</td>\n",
       "      <td>0</td>\n",
       "      <td>0</td>\n",
       "      <td>6</td>\n",
       "      <td>0.815</td>\n",
       "      <td>21223988</td>\n",
       "      <td>307561222</td>\n",
       "      <td>[0, 1, 0, 1, 1, 1, 0, 1, 1, 1, 1, 1, 0, 1, 1, ...</td>\n",
       "      <td>[0.9520000000000001, 0.9430000000000001, 0.844]</td>\n",
       "      <td>[94159636, 94159667, 94159837]</td>\n",
       "    </tr>\n",
       "    <tr>\n",
       "      <th>1</th>\n",
       "      <td>0</td>\n",
       "      <td>0</td>\n",
       "      <td>66064001</td>\n",
       "      <td>66065000</td>\n",
       "      <td>17</td>\n",
       "      <td>16</td>\n",
       "      <td>189</td>\n",
       "      <td>2</td>\n",
       "      <td>0</td>\n",
       "      <td>0</td>\n",
       "      <td>0.801</td>\n",
       "      <td>21598754</td>\n",
       "      <td>267706709</td>\n",
       "      <td>[1, 1, 1, 1, 1, 1, 1, 1, 1, 1, 1, 1, 1, 1, 1, ...</td>\n",
       "      <td>[0.9520000000000001, 0.9580000000000001, 0.931...</td>\n",
       "      <td>[66064049, 66064076, 66064142, 66064186, 66064...</td>\n",
       "    </tr>\n",
       "    <tr>\n",
       "      <th>2</th>\n",
       "      <td>0</td>\n",
       "      <td>0</td>\n",
       "      <td>90670001</td>\n",
       "      <td>90671000</td>\n",
       "      <td>9</td>\n",
       "      <td>9</td>\n",
       "      <td>180</td>\n",
       "      <td>0</td>\n",
       "      <td>0</td>\n",
       "      <td>5</td>\n",
       "      <td>0.815</td>\n",
       "      <td>21223988</td>\n",
       "      <td>307561222</td>\n",
       "      <td>[1, 1, 1, 1, 1, 1, 1, 1, 0.5, 1, 1, 1, 0, 1, 0...</td>\n",
       "      <td>[0.766, 0.776, 0.79, 0.893, 1, 0.9380000000000...</td>\n",
       "      <td>[90670359, 90670485, 90670526, 90670786, 90670...</td>\n",
       "    </tr>\n",
       "    <tr>\n",
       "      <th>3</th>\n",
       "      <td>0</td>\n",
       "      <td>1</td>\n",
       "      <td>171611001</td>\n",
       "      <td>171612000</td>\n",
       "      <td>9</td>\n",
       "      <td>9</td>\n",
       "      <td>389</td>\n",
       "      <td>1</td>\n",
       "      <td>0</td>\n",
       "      <td>3</td>\n",
       "      <td>0.507</td>\n",
       "      <td>22337289</td>\n",
       "      <td>499451636</td>\n",
       "      <td>[1, 1, 1, 0, 1, 0.5, 1, 1, 1, 1, 1, 1, 1, 1, 0...</td>\n",
       "      <td>[0.933, 0.9440000000000001, 0.961, 0.851, 0.94...</td>\n",
       "      <td>[171611084, 171611110, 171611178, 171611348, 1...</td>\n",
       "    </tr>\n",
       "    <tr>\n",
       "      <th>4</th>\n",
       "      <td>0</td>\n",
       "      <td>1</td>\n",
       "      <td>30805001</td>\n",
       "      <td>30806000</td>\n",
       "      <td>9</td>\n",
       "      <td>9</td>\n",
       "      <td>167</td>\n",
       "      <td>1</td>\n",
       "      <td>0</td>\n",
       "      <td>1</td>\n",
       "      <td>0.632</td>\n",
       "      <td>24030712</td>\n",
       "      <td>420944333</td>\n",
       "      <td>[1, 0, 0, 1, 1, 1, 0, 1, 1, 1, 1, 1, 0, 1, 1, ...</td>\n",
       "      <td>[0.587, 0.9580000000000001, 1, 0.9570000000000...</td>\n",
       "      <td>[30805003, 30805258, 30805266, 30805274, 30805...</td>\n",
       "    </tr>\n",
       "    <tr>\n",
       "      <th>...</th>\n",
       "      <td>...</td>\n",
       "      <td>...</td>\n",
       "      <td>...</td>\n",
       "      <td>...</td>\n",
       "      <td>...</td>\n",
       "      <td>...</td>\n",
       "      <td>...</td>\n",
       "      <td>...</td>\n",
       "      <td>...</td>\n",
       "      <td>...</td>\n",
       "      <td>...</td>\n",
       "      <td>...</td>\n",
       "      <td>...</td>\n",
       "      <td>...</td>\n",
       "      <td>...</td>\n",
       "      <td>...</td>\n",
       "    </tr>\n",
       "    <tr>\n",
       "      <th>499995</th>\n",
       "      <td>0</td>\n",
       "      <td>0</td>\n",
       "      <td>12744001</td>\n",
       "      <td>12745000</td>\n",
       "      <td>15</td>\n",
       "      <td>13</td>\n",
       "      <td>118</td>\n",
       "      <td>2</td>\n",
       "      <td>1</td>\n",
       "      <td>11</td>\n",
       "      <td>0.801</td>\n",
       "      <td>21598754</td>\n",
       "      <td>267706709</td>\n",
       "      <td>[1, 1, 0, 1, 0, 1, 0, 1, 1, 1, 1, 1, 1, 0.5, 1...</td>\n",
       "      <td>[0.778, 1, 0.9390000000000001, 0.903, 0.806, 1...</td>\n",
       "      <td>[12744009, 12744057, 12744093, 12744184, 12744...</td>\n",
       "    </tr>\n",
       "    <tr>\n",
       "      <th>499996</th>\n",
       "      <td>0</td>\n",
       "      <td>1</td>\n",
       "      <td>91901001</td>\n",
       "      <td>91902000</td>\n",
       "      <td>10</td>\n",
       "      <td>10</td>\n",
       "      <td>325</td>\n",
       "      <td>3</td>\n",
       "      <td>0</td>\n",
       "      <td>3</td>\n",
       "      <td>0.647</td>\n",
       "      <td>25049829</td>\n",
       "      <td>535812384</td>\n",
       "      <td>[0, 0, 0.5, 0, 0.75, 0, 1, 0.75, 1, 0.333, 0, ...</td>\n",
       "      <td>[0.383, 0.167, 0.983, 0.045, 0.921, 0.928, 0.3...</td>\n",
       "      <td>[91901127, 91901237, 91901285, 91901547, 91901...</td>\n",
       "    </tr>\n",
       "    <tr>\n",
       "      <th>499997</th>\n",
       "      <td>0</td>\n",
       "      <td>1</td>\n",
       "      <td>52766001</td>\n",
       "      <td>52767000</td>\n",
       "      <td>15</td>\n",
       "      <td>13</td>\n",
       "      <td>200</td>\n",
       "      <td>1</td>\n",
       "      <td>1</td>\n",
       "      <td>3</td>\n",
       "      <td>0.647</td>\n",
       "      <td>25049829</td>\n",
       "      <td>535812384</td>\n",
       "      <td>[1, 1, 0, 1, 0, 1, 0, 0.75, 1, 1, 1, 0, 1, 0.5...</td>\n",
       "      <td>[0.65, 0.9440000000000001, 1, 0.971, 0.259, 0....</td>\n",
       "      <td>[52766082, 52766243, 52766260, 52766262, 52766...</td>\n",
       "    </tr>\n",
       "    <tr>\n",
       "      <th>499998</th>\n",
       "      <td>0</td>\n",
       "      <td>1</td>\n",
       "      <td>206835001</td>\n",
       "      <td>206836000</td>\n",
       "      <td>13</td>\n",
       "      <td>12</td>\n",
       "      <td>154</td>\n",
       "      <td>2</td>\n",
       "      <td>0</td>\n",
       "      <td>20</td>\n",
       "      <td>0.646</td>\n",
       "      <td>22540136</td>\n",
       "      <td>527040401</td>\n",
       "      <td>[0.25, 1, 1, 0.5, 1, 1, 1, 0, 1, 0, 1, 0, 0.5,...</td>\n",
       "      <td>[0.5740000000000001, 0.543, 0.972, 0.939000000...</td>\n",
       "      <td>[206835102, 206835152, 206835235, 206835243, 2...</td>\n",
       "    </tr>\n",
       "    <tr>\n",
       "      <th>499999</th>\n",
       "      <td>0</td>\n",
       "      <td>1</td>\n",
       "      <td>94887001</td>\n",
       "      <td>94888000</td>\n",
       "      <td>11</td>\n",
       "      <td>11</td>\n",
       "      <td>176</td>\n",
       "      <td>0</td>\n",
       "      <td>0</td>\n",
       "      <td>0</td>\n",
       "      <td>0.632</td>\n",
       "      <td>24030712</td>\n",
       "      <td>420944333</td>\n",
       "      <td>[0.667, 1, 0, 1, 1, 1, 1, 0.667, 1, 1, 0.667, ...</td>\n",
       "      <td>[0.541, 0.9490000000000001, 0.9470000000000001...</td>\n",
       "      <td>[94887271, 94887472, 94887484, 94887609, 94887...</td>\n",
       "    </tr>\n",
       "  </tbody>\n",
       "</table>\n",
       "<p>493399 rows × 16 columns</p>\n",
       "</div>"
      ],
      "text/plain": [
       "        asm_snp  sample_category  region_inf  region_sup  region_nb_cpg  \\\n",
       "0             0                0    94159001    94160000              3   \n",
       "1             0                0    66064001    66065000             17   \n",
       "2             0                0    90670001    90671000              9   \n",
       "3             0                1   171611001   171612000              9   \n",
       "4             0                1    30805001    30806000              9   \n",
       "...         ...              ...         ...         ...            ...   \n",
       "499995        0                0    12744001    12745000             15   \n",
       "499996        0                1    91901001    91902000             10   \n",
       "499997        0                1    52766001    52767000             15   \n",
       "499998        0                1   206835001   206836000             13   \n",
       "499999        0                1    94887001    94888000             11   \n",
       "\n",
       "        nb_cpg_found  nb_reads  dnase  encode_ChiP_V2  tf_motifs  \\\n",
       "0                  3       118      0               0          6   \n",
       "1                 16       189      2               0          0   \n",
       "2                  9       180      0               0          5   \n",
       "3                  9       389      1               0          3   \n",
       "4                  9       167      1               0          1   \n",
       "...              ...       ...    ...             ...        ...   \n",
       "499995            13       118      2               1         11   \n",
       "499996            10       325      3               0          3   \n",
       "499997            13       200      1               1          3   \n",
       "499998            12       154      2               0         20   \n",
       "499999            11       176      0               0          0   \n",
       "\n",
       "        global_cpg_fm  tot_nb_cpg  tot_nb_reads  \\\n",
       "0               0.815    21223988     307561222   \n",
       "1               0.801    21598754     267706709   \n",
       "2               0.815    21223988     307561222   \n",
       "3               0.507    22337289     499451636   \n",
       "4               0.632    24030712     420944333   \n",
       "...               ...         ...           ...   \n",
       "499995          0.801    21598754     267706709   \n",
       "499996          0.647    25049829     535812384   \n",
       "499997          0.647    25049829     535812384   \n",
       "499998          0.646    22540136     527040401   \n",
       "499999          0.632    24030712     420944333   \n",
       "\n",
       "                                                  read_fm  \\\n",
       "0       [0, 1, 0, 1, 1, 1, 0, 1, 1, 1, 1, 1, 0, 1, 1, ...   \n",
       "1       [1, 1, 1, 1, 1, 1, 1, 1, 1, 1, 1, 1, 1, 1, 1, ...   \n",
       "2       [1, 1, 1, 1, 1, 1, 1, 1, 0.5, 1, 1, 1, 0, 1, 0...   \n",
       "3       [1, 1, 1, 0, 1, 0.5, 1, 1, 1, 1, 1, 1, 1, 1, 0...   \n",
       "4       [1, 0, 0, 1, 1, 1, 0, 1, 1, 1, 1, 1, 0, 1, 1, ...   \n",
       "...                                                   ...   \n",
       "499995  [1, 1, 0, 1, 0, 1, 0, 1, 1, 1, 1, 1, 1, 0.5, 1...   \n",
       "499996  [0, 0, 0.5, 0, 0.75, 0, 1, 0.75, 1, 0.333, 0, ...   \n",
       "499997  [1, 1, 0, 1, 0, 1, 0, 0.75, 1, 1, 1, 0, 1, 0.5...   \n",
       "499998  [0.25, 1, 1, 0.5, 1, 1, 1, 0, 1, 0, 1, 0, 0.5,...   \n",
       "499999  [0.667, 1, 0, 1, 1, 1, 1, 0.667, 1, 1, 0.667, ...   \n",
       "\n",
       "                                                   cpg_fm  \\\n",
       "0         [0.9520000000000001, 0.9430000000000001, 0.844]   \n",
       "1       [0.9520000000000001, 0.9580000000000001, 0.931...   \n",
       "2       [0.766, 0.776, 0.79, 0.893, 1, 0.9380000000000...   \n",
       "3       [0.933, 0.9440000000000001, 0.961, 0.851, 0.94...   \n",
       "4       [0.587, 0.9580000000000001, 1, 0.9570000000000...   \n",
       "...                                                   ...   \n",
       "499995  [0.778, 1, 0.9390000000000001, 0.903, 0.806, 1...   \n",
       "499996  [0.383, 0.167, 0.983, 0.045, 0.921, 0.928, 0.3...   \n",
       "499997  [0.65, 0.9440000000000001, 1, 0.971, 0.259, 0....   \n",
       "499998  [0.5740000000000001, 0.543, 0.972, 0.939000000...   \n",
       "499999  [0.541, 0.9490000000000001, 0.9470000000000001...   \n",
       "\n",
       "                                                  cpg_pos  \n",
       "0                          [94159636, 94159667, 94159837]  \n",
       "1       [66064049, 66064076, 66064142, 66064186, 66064...  \n",
       "2       [90670359, 90670485, 90670526, 90670786, 90670...  \n",
       "3       [171611084, 171611110, 171611178, 171611348, 1...  \n",
       "4       [30805003, 30805258, 30805266, 30805274, 30805...  \n",
       "...                                                   ...  \n",
       "499995  [12744009, 12744057, 12744093, 12744184, 12744...  \n",
       "499996  [91901127, 91901237, 91901285, 91901547, 91901...  \n",
       "499997  [52766082, 52766243, 52766260, 52766262, 52766...  \n",
       "499998  [206835102, 206835152, 206835235, 206835243, 2...  \n",
       "499999  [94887271, 94887472, 94887484, 94887609, 94887...  \n",
       "\n",
       "[493399 rows x 16 columns]"
      ]
     },
     "execution_count": 366,
     "metadata": {},
     "output_type": "execute_result"
    }
   ],
   "source": [
    "raw_df"
   ]
  },
  {
   "cell_type": "markdown",
   "id": "c8a0c078-541c-4563-a68a-4dd87bb34e5f",
   "metadata": {},
   "source": [
    "### Calculate the distance between CpGs"
   ]
  },
  {
   "cell_type": "code",
   "execution_count": 367,
   "id": "1f2362ad-6e00-4d94-961d-8081ada1d11b",
   "metadata": {},
   "outputs": [],
   "source": [
    "# Create a function to calculate the distance between CpGs (~3min)\n",
    "def dist_cpg(cpg_pos):\n",
    "  distances = []\n",
    "  for index in range(len(cpg_pos)):\n",
    "    if index >= len(cpg_pos)-1:\n",
    "      return distances\n",
    "    else:\n",
    "      distances.append(cpg_pos[index + 1] - cpg_pos[index])\n",
    "  return distances\n",
    "\n",
    "# Apply the function \"distance\" to the array of CpG positions\n",
    "raw_df['cpg_dist'] = raw_df['cpg_pos'].apply(lambda x: dist_cpg(x))"
   ]
  },
  {
   "cell_type": "markdown",
   "id": "9ebc6f7c-ccef-4681-a609-dbde5ac5e379",
   "metadata": {
    "tags": []
   },
   "source": [
    "### Convert arrays into numerical features\n",
    "\n",
    "To do this, we use kernel estimates as well as simpler metrics like mean and standard deviation"
   ]
  },
  {
   "cell_type": "markdown",
   "id": "6653f9e8-b3a9-4077-8bd9-52d25fd22626",
   "metadata": {},
   "source": [
    "#### Kernel functions"
   ]
  },
  {
   "cell_type": "code",
   "execution_count": 368,
   "id": "a5452c4c-7ff6-43a5-97ec-da1ccbdee6b2",
   "metadata": {},
   "outputs": [
    {
     "name": "stdout",
     "output_type": "stream",
     "text": [
      "X-axis values used for the FM kernel estimate: [0.  0.1 0.2 0.3 0.4 0.5 0.6 0.7 0.8 0.9 1. ]\n"
     ]
    }
   ],
   "source": [
    "# FRACTIONAL METHYLATION\n",
    "\n",
    "# Values for fractional methylation (between 0 and 1)\n",
    "values_for_kernel_fm = asarray([value for value in range(0, KERNEL_FM_NB_VALUES+1)])\n",
    "values_for_kernel_fm = values_for_kernel_fm / KERNEL_FM_NB_VALUES\n",
    "print(\"X-axis values used for the FM kernel estimate:\", values_for_kernel_fm)\n",
    "values_for_kernel_fm = values_for_kernel_fm.reshape((len(values_for_kernel_fm), 1))\n",
    "\n",
    "# Build Kernel model\n",
    "kernel_fm_model = KernelDensity(bandwidth=KERNEL_FM_BANDWIDTH, kernel='gaussian')\n",
    "\n",
    "# Function to be applied to each array in the columns read_fm and cpg_fm\n",
    "def estimate_kernels_fm(x):\n",
    "  sample = np.reshape(x, (len(x), 1))\n",
    "  kernel_fm_model.fit(sample)\n",
    "  probabilities = kernel_fm_model.score_samples(values_for_kernel_fm)\n",
    "  probabilities = exp(probabilities)\n",
    "  return np.round(probabilities, 4)\n",
    "\n",
    "# Try function\n",
    "#estimate_kernels_fm(raw_df['cpg_fm'][0])\n"
   ]
  },
  {
   "cell_type": "code",
   "execution_count": 369,
   "id": "97c6d384-d6a5-4ad9-bc40-74584337290f",
   "metadata": {},
   "outputs": [
    {
     "name": "stdout",
     "output_type": "stream",
     "text": [
      "Values used in kernel estimate: [  0  40  80 120 160]\n"
     ]
    }
   ],
   "source": [
    "# COVERAGE AND CPG DISTANCE\n",
    "\n",
    "# Values for fractional methylation (between 0 and 1)\n",
    "values_for_kernel_cov = asarray([value for value in range(0, KERNEL_COV_NB_MAX, KERNEL_COV_NB_STEP)])\n",
    "print(\"Values used in kernel estimate:\", values_for_kernel_cov)\n",
    "values_for_kernel_cov = values_for_kernel_cov.reshape((len(values_for_kernel_cov), 1))\n",
    "\n",
    "# Build Kernel model\n",
    "kernel_cov_model = KernelDensity(bandwidth=KERNEL_COV_BANDWIDTH, kernel='gaussian')\n",
    "\n",
    "# Function to be applied to each array in the columns read_fm and cpg_fm\n",
    "def estimate_kernels_cov(x):\n",
    "  sample = np.reshape(x, (len(x), 1))\n",
    "  kernel_fm_model.fit(sample)\n",
    "  probabilities = kernel_fm_model.score_samples(values_for_kernel_cov)\n",
    "  probabilities = exp(probabilities)\n",
    "  return np.round(probabilities, 4)\n",
    "\n",
    "# Try function\n",
    "#estimate_kernels_cov(raw_df['cpg_cov'][1])"
   ]
  },
  {
   "cell_type": "markdown",
   "id": "c6ed3b36-3216-458e-83f5-4e24c38c814e",
   "metadata": {},
   "source": [
    "#### Test kernel estimates"
   ]
  },
  {
   "cell_type": "code",
   "execution_count": 370,
   "id": "8775a79c-f61b-48fb-bd6e-555c3d12e478",
   "metadata": {},
   "outputs": [],
   "source": [
    "variable_to_plot = 'cpg_fm' # cpg_fm or read_fm or cpg_dist or cpg_cov\n",
    "\n",
    "n_extract = 10\n",
    "extract_asm = raw_df[raw_df['asm_snp'] == 1].sample(n=n_extract, ignore_index = True)\n",
    "extract_noasm = raw_df[raw_df['asm_snp'] == 0].sample(n=n_extract, ignore_index = True)\n",
    "n_x = round(np.sqrt(n_extract))"
   ]
  },
  {
   "cell_type": "markdown",
   "id": "a6eb3ee5-1333-43a5-99f0-a7481f682a7d",
   "metadata": {},
   "source": [
    "##### Plots for regions with ASM"
   ]
  },
  {
   "cell_type": "code",
   "execution_count": 371,
   "id": "c309fc8e-8acb-4955-bb8e-53fa1b602fd8",
   "metadata": {},
   "outputs": [
    {
     "data": {
      "image/png": "[encoded data removed]",
      "text/plain": [
       "<Figure size 720x720 with 9 Axes>"
      ]
     },
     "metadata": {
      "needs_background": "light"
     },
     "output_type": "display_data"
    }
   ],
   "source": [
    "mpl.rcParams['figure.figsize'] = (10, 10)\n",
    "fig, axs = plt.subplots(n_x, n_x, sharey=True, sharex=True, tight_layout=True)\n",
    "\n",
    "for k in range(n_x):\n",
    "  for m in range(n_x):\n",
    "\n",
    "    # Print data distribution\n",
    "    data_distribution = extract_asm[variable_to_plot][k+m]\n",
    "    axs[k,m].hist(data_distribution, density = True, bins = 10)\n",
    "\n",
    "    # Print kernel density\n",
    "    if 'fm' in variable_to_plot:\n",
    "        #print(\"Using the FM kernel estimates\")\n",
    "        kernel_probabilities = estimate_kernels_fm(data_distribution)\n",
    "        values = values_for_kernel_fm\n",
    "    else:\n",
    "        #print(\"Using the COV kernel estimates\")\n",
    "        kernel_probabilities = estimate_kernels_cov(data_distribution)\n",
    "        values = values_for_kernel_cov\n",
    "    axs[k,m].plot(values[:], kernel_probabilities)\n"
   ]
  },
  {
   "cell_type": "markdown",
   "id": "23eef467-301c-4c3a-8c14-65c63bd6704e",
   "metadata": {},
   "source": [
    "##### Plots for regions without ASM"
   ]
  },
  {
   "cell_type": "code",
   "execution_count": 372,
   "id": "305fe19d-1890-45e8-9429-bd26f9503dbd",
   "metadata": {},
   "outputs": [
    {
     "data": {
      "image/png": "[encoded data removed]",
      "text/plain": [
       "<Figure size 720x720 with 9 Axes>"
      ]
     },
     "metadata": {
      "needs_background": "light"
     },
     "output_type": "display_data"
    }
   ],
   "source": [
    "mpl.rcParams['figure.figsize'] = (10, 10)\n",
    "fig, axs = plt.subplots(n_x, n_x, sharey=True, sharex=True, tight_layout=True)\n",
    "\n",
    "for k in range(n_x):\n",
    "  for m in range(n_x):\n",
    "\n",
    "    # Print data distribution\n",
    "    data_distribution = extract_noasm[variable_to_plot][k+m]\n",
    "    axs[k,m].hist(data_distribution, density = True, bins = 10)\n",
    "\n",
    "    # Print kernel density\n",
    "    if 'fm' in variable_to_plot:\n",
    "        #print(\"Using the FM kernel estimates\")\n",
    "        kernel_probabilities = estimate_kernels_fm(data_distribution)\n",
    "        values = values_for_kernel_fm\n",
    "    else:\n",
    "        #print(\"Using the COV kernel estimates\")\n",
    "        kernel_probabilities = estimate_kernels_cov(data_distribution)\n",
    "        values = values_for_kernel_cov\n",
    "    axs[k,m].plot(values[:], kernel_probabilities)"
   ]
  },
  {
   "cell_type": "markdown",
   "id": "8474e90d-b2cf-4b02-9627-ebb593bc1a2b",
   "metadata": {},
   "source": [
    "#### Calculate the mean, std, and kernel estimates of arrays"
   ]
  },
  {
   "cell_type": "code",
   "execution_count": 373,
   "id": "6b85aea5-083a-47ca-93cc-7a554a3f7cf5",
   "metadata": {},
   "outputs": [],
   "source": [
    "def convert_arrays(df, column_name):\n",
    "  \"\"\"Inputs: dataframe and a column name that contains arrays\"\"\"\n",
    "\n",
    "  # Mean and Standard deviation\n",
    "  std_name = \"std_\" + column_name\n",
    "  av_name = \"mean_\" + column_name\n",
    "\n",
    "  print(\"Calculating the standard deviation\")\n",
    "  df[std_name] = df[column_name].apply(lambda x: np.round(np.std(x), 4))\n",
    "  print(\"Calculating the average\")\n",
    "  df[av_name] = df[column_name].apply(lambda x: np.round(np.mean(x), 4))\n",
    "  \n",
    "  # Kernel density estimates\n",
    "  kernel_name = \"kernel_\" + column_name\n",
    "  if (column_name == 'cpg_cov' or column_name == 'cpg_dist'):\n",
    "    print(\"Calculating the proba distribution for cov or dist\")\n",
    "    df[kernel_name] = df[column_name].apply(lambda x: estimate_kernels_cov(x))\n",
    "  else:\n",
    "    print(\"Calculating the proba distribution for fractional methylation\")\n",
    "    df[kernel_name] = df[column_name].apply(lambda x: estimate_kernels_fm(x))\n"
   ]
  },
  {
   "cell_type": "code",
   "execution_count": 374,
   "id": "da7d5288-af28-40f5-8bb5-9abf3d30014c",
   "metadata": {},
   "outputs": [
    {
     "name": "stdout",
     "output_type": "stream",
     "text": [
      "Column:  cpg_dist\n",
      "Calculating the standard deviation\n",
      "Calculating the average\n",
      "Calculating the proba distribution for cov or dist\n",
      "DONE\n"
     ]
    }
   ],
   "source": [
    "# Apply the function\n",
    "for col in ['read_fm', 'cpg_fm', 'cpg_dist']:\n",
    "    clear_output(wait=True)\n",
    "    print(\"Column: \", col)\n",
    "    convert_arrays(raw_df, col)\n",
    "print(\"DONE\")"
   ]
  },
  {
   "cell_type": "code",
   "execution_count": 375,
   "id": "3522320d-cfe7-457d-9d50-e6394d71a68a",
   "metadata": {},
   "outputs": [],
   "source": [
    "def export_kernel_array(col):\n",
    "    # Col must be a column of kernel estimate arrays\n",
    "    print(\"Processing:\", col)\n",
    "    kernel_name_list = []\n",
    "    if 'fm' in col:\n",
    "        values = values_for_kernel_fm\n",
    "    else:\n",
    "        values = values_for_kernel_cov\n",
    "    # Create a list of the new column names\n",
    "    for k in range(0, values.shape[0]):\n",
    "        kernel_name = col + \"_kernel_\" + str(k)\n",
    "        kernel_name_list = kernel_name_list + [kernel_name]\n",
    "    print(kernel_name_list)\n",
    "    \n",
    "    # Create the additional columns\n",
    "    kernel_estimates_column = \"kernel_\" + col\n",
    "    raw_df[kernel_name_list] = pd.DataFrame(raw_df[kernel_estimates_column].tolist(), index= raw_df.index)"
   ]
  },
  {
   "cell_type": "code",
   "execution_count": 376,
   "id": "2052717c-c317-4b71-bce8-fe5729896820",
   "metadata": {},
   "outputs": [
    {
     "name": "stdout",
     "output_type": "stream",
     "text": [
      "Processing: read_fm\n",
      "['read_fm_kernel_0', 'read_fm_kernel_1', 'read_fm_kernel_2', 'read_fm_kernel_3', 'read_fm_kernel_4', 'read_fm_kernel_5', 'read_fm_kernel_6', 'read_fm_kernel_7', 'read_fm_kernel_8', 'read_fm_kernel_9', 'read_fm_kernel_10']\n",
      "Processing: cpg_fm\n",
      "['cpg_fm_kernel_0', 'cpg_fm_kernel_1', 'cpg_fm_kernel_2', 'cpg_fm_kernel_3', 'cpg_fm_kernel_4', 'cpg_fm_kernel_5', 'cpg_fm_kernel_6', 'cpg_fm_kernel_7', 'cpg_fm_kernel_8', 'cpg_fm_kernel_9', 'cpg_fm_kernel_10']\n",
      "Processing: cpg_dist\n",
      "['cpg_dist_kernel_0', 'cpg_dist_kernel_1', 'cpg_dist_kernel_2', 'cpg_dist_kernel_3', 'cpg_dist_kernel_4']\n"
     ]
    }
   ],
   "source": [
    "# Use the function\n",
    "for col in ['read_fm', 'cpg_fm', 'cpg_dist']:\n",
    "    export_kernel_array(col)"
   ]
  },
  {
   "cell_type": "code",
   "execution_count": 377,
   "id": "3889362e-ba69-4a65-8de1-92be70ff8c06",
   "metadata": {},
   "outputs": [],
   "source": [
    "# Delete columns that we no longer need\n",
    "for col in ['read_fm', 'cpg_dist',\n",
    "            'kernel_cpg_dist', 'kernel_cpg_fm', 'kernel_read_fm']:\n",
    "    raw_df.drop(col, axis = 1, inplace = True)"
   ]
  },
  {
   "cell_type": "markdown",
   "id": "f6fb4754-b931-4004-949b-80652daa233a",
   "metadata": {},
   "source": [
    "### Convert epigenetic signals into dummy variables"
   ]
  },
  {
   "cell_type": "markdown",
   "id": "988cff6a-e3f5-4320-8a95-a2f8607bc5ab",
   "metadata": {},
   "source": [
    "#### Plot histograms for the values of epigenetic signals"
   ]
  },
  {
   "cell_type": "code",
   "execution_count": 378,
   "id": "2c2f3c8c-f04a-4f7d-b0a0-c012a9ace7a5",
   "metadata": {},
   "outputs": [
    {
     "data": {
      "text/plain": [
       "<seaborn.axisgrid.PairGrid at 0x7f25efc7f490>"
      ]
     },
     "execution_count": 378,
     "metadata": {},
     "output_type": "execute_result"
    },
    {
     "data": {
      "image/png": "[encoded data removed]",
      "text/plain": [
       "<Figure size 602.05x540 with 12 Axes>"
      ]
     },
     "metadata": {},
     "output_type": "display_data"
    }
   ],
   "source": [
    "#df_extract = raw_df[['dnase','encode_ChiP_V2', 'tf_motifs']]\n",
    "#df_extract\n",
    "#hist = raw_df[['dnase','encode_ChiP_V2', 'tf_motifs']].hist(density = True, bins = 3)\n",
    "\n",
    "sns.set(rc = {'figure.figsize':(12,12)})\n",
    "sns.pairplot(raw_df[['asm_snp','dnase','encode_ChiP_V2', 'tf_motifs']], hue = 'asm_snp', diag_kind='kde')"
   ]
  },
  {
   "cell_type": "code",
   "execution_count": 379,
   "id": "121b08f5-8e0a-4cdd-9542-944b91096f7f",
   "metadata": {},
   "outputs": [
    {
     "data": {
      "text/plain": [
       "Index(['asm_snp', 'sample_category', 'region_inf', 'region_sup',\n",
       "       'region_nb_cpg', 'nb_cpg_found', 'nb_reads', 'dnase', 'encode_ChiP_V2',\n",
       "       'tf_motifs', 'global_cpg_fm', 'tot_nb_cpg', 'tot_nb_reads', 'cpg_fm',\n",
       "       'cpg_pos', 'std_read_fm', 'mean_read_fm', 'std_cpg_fm', 'mean_cpg_fm',\n",
       "       'std_cpg_dist', 'mean_cpg_dist', 'read_fm_kernel_0', 'read_fm_kernel_1',\n",
       "       'read_fm_kernel_2', 'read_fm_kernel_3', 'read_fm_kernel_4',\n",
       "       'read_fm_kernel_5', 'read_fm_kernel_6', 'read_fm_kernel_7',\n",
       "       'read_fm_kernel_8', 'read_fm_kernel_9', 'read_fm_kernel_10',\n",
       "       'cpg_fm_kernel_0', 'cpg_fm_kernel_1', 'cpg_fm_kernel_2',\n",
       "       'cpg_fm_kernel_3', 'cpg_fm_kernel_4', 'cpg_fm_kernel_5',\n",
       "       'cpg_fm_kernel_6', 'cpg_fm_kernel_7', 'cpg_fm_kernel_8',\n",
       "       'cpg_fm_kernel_9', 'cpg_fm_kernel_10', 'cpg_dist_kernel_0',\n",
       "       'cpg_dist_kernel_1', 'cpg_dist_kernel_2', 'cpg_dist_kernel_3',\n",
       "       'cpg_dist_kernel_4'],\n",
       "      dtype='object')"
      ]
     },
     "execution_count": 379,
     "metadata": {},
     "output_type": "execute_result"
    }
   ],
   "source": [
    "raw_df.columns"
   ]
  },
  {
   "cell_type": "code",
   "execution_count": 380,
   "id": "b79f67df-b84f-4456-99a7-93e12d2916ec",
   "metadata": {},
   "outputs": [],
   "source": [
    "def convert_epi_signal(epi_signal):\n",
    "  print(\"Processing signal\", epi_signal)\n",
    "  unique_values = raw_df[epi_signal].unique()\n",
    "  print(unique_values)\n",
    "  min_epi_value = 0 # It's always zero (no signal) for all signals\n",
    "  median_epi_value = np.median(unique_values)\n",
    "  print(\"Median epi value:\", median_epi_value)\n",
    "  epi_signal_null = epi_signal + \"_null\"\n",
    "  epi_signal_low = epi_signal + \"_low\"\n",
    "  epi_signal_high = epi_signal + \"_high\"\n",
    "  raw_df[epi_signal_null] = raw_df[epi_signal].apply(lambda x: 1 if x == min_epi_value else 0)\n",
    "  raw_df[epi_signal_low] = raw_df[epi_signal].apply(lambda x: 1 if (x > min_epi_value and x <= median_epi_value) else 0)\n",
    "  raw_df[epi_signal_high] = raw_df[epi_signal].apply(lambda x: 1 if x > median_epi_value else 0)"
   ]
  },
  {
   "cell_type": "code",
   "execution_count": 381,
   "id": "e43bdee0-cd0f-46fd-b54a-301b1b3975cf",
   "metadata": {},
   "outputs": [
    {
     "name": "stdout",
     "output_type": "stream",
     "text": [
      "Processing signal dnase\n",
      "[0 2 1 3 4 5 6]\n",
      "Median epi value: 3.0\n",
      "Processing signal encode_ChiP_V2\n",
      "[ 0  1 24  3 31  2  5  6 21 14  8  4 15  7 10 20 33  9 23 13 12 32 44 26\n",
      " 36 27 49 16 25 39 19 37 18 40 11 38 17 64 22 42 56 45 43 28 73 30 48 35\n",
      " 47 50 58 46 53 65 29 34 52 66 51 55 54 75 41 72 62 61 69 63 86 68 71 57\n",
      " 59 70 60 76 74 79 83 67 84 88 81 90 78 80 77]\n",
      "Median epi value: 43.0\n",
      "Processing signal tf_motifs\n",
      "[  6   0   5   3   1  16  12  42  17   2   8   7   9  13   4  18  14  19\n",
      "  11  10  23  15  41  47  22  40  28  21  36  48  33  20  30  27  26  24\n",
      "  58  31  25  66  32  57  55  29  39  49  37  60  35  34  43  38  44  46\n",
      "  51  53  62  52  45  64  54  56  69  50  63  70  61  73  83  79  59  65\n",
      "  72  68  82 101  76  71 106  77 107  94  74  85  84  78  80  75  67  88\n",
      " 103  98  89  99  97 111  93  95  87 104  81  96  90  92  86 133 119 125]\n",
      "Median epi value: 53.5\n"
     ]
    }
   ],
   "source": [
    "# Apply the function to all epigenetic signals\n",
    "for epi_signal in ['dnase', 'encode_ChiP_V2', 'tf_motifs']:\n",
    "  convert_epi_signal(epi_signal)"
   ]
  },
  {
   "cell_type": "code",
   "execution_count": 382,
   "id": "10fceac6-13e4-44f9-80e7-cad08a4f7ce8",
   "metadata": {},
   "outputs": [],
   "source": [
    "# Delete the raw epigenetic signals\n",
    "# for epi_signal in ['dnase', 'encode_ChiP_V2', 'tf_motifs']:\n",
    "#   raw_df.drop(epi_signal, axis = 1, inplace = True)"
   ]
  },
  {
   "cell_type": "code",
   "execution_count": 383,
   "id": "9229e490-b543-4f31-b69f-70cc5b3e8a4d",
   "metadata": {},
   "outputs": [
    {
     "data": {
      "text/plain": [
       "Index(['asm_snp', 'sample_category', 'region_inf', 'region_sup',\n",
       "       'region_nb_cpg', 'nb_cpg_found', 'nb_reads', 'dnase', 'encode_ChiP_V2',\n",
       "       'tf_motifs', 'global_cpg_fm', 'tot_nb_cpg', 'tot_nb_reads', 'cpg_fm',\n",
       "       'cpg_pos', 'std_read_fm', 'mean_read_fm', 'std_cpg_fm', 'mean_cpg_fm',\n",
       "       'std_cpg_dist', 'mean_cpg_dist', 'read_fm_kernel_0', 'read_fm_kernel_1',\n",
       "       'read_fm_kernel_2', 'read_fm_kernel_3', 'read_fm_kernel_4',\n",
       "       'read_fm_kernel_5', 'read_fm_kernel_6', 'read_fm_kernel_7',\n",
       "       'read_fm_kernel_8', 'read_fm_kernel_9', 'read_fm_kernel_10',\n",
       "       'cpg_fm_kernel_0', 'cpg_fm_kernel_1', 'cpg_fm_kernel_2',\n",
       "       'cpg_fm_kernel_3', 'cpg_fm_kernel_4', 'cpg_fm_kernel_5',\n",
       "       'cpg_fm_kernel_6', 'cpg_fm_kernel_7', 'cpg_fm_kernel_8',\n",
       "       'cpg_fm_kernel_9', 'cpg_fm_kernel_10', 'cpg_dist_kernel_0',\n",
       "       'cpg_dist_kernel_1', 'cpg_dist_kernel_2', 'cpg_dist_kernel_3',\n",
       "       'cpg_dist_kernel_4', 'dnase_null', 'dnase_low', 'dnase_high',\n",
       "       'encode_ChiP_V2_null', 'encode_ChiP_V2_low', 'encode_ChiP_V2_high',\n",
       "       'tf_motifs_null', 'tf_motifs_low', 'tf_motifs_high'],\n",
       "      dtype='object')"
      ]
     },
     "execution_count": 383,
     "metadata": {},
     "output_type": "execute_result"
    }
   ],
   "source": [
    "raw_df.columns"
   ]
  },
  {
   "cell_type": "markdown",
   "id": "4aae6224-d8e0-4444-8d19-6ef29d7742e1",
   "metadata": {
    "tags": []
   },
   "source": [
    "## Create an \"image\" of the genomic region\n",
    "\n",
    "We create an 1D-image (length: genomic region interval) with 3 information per \"pixel\": CpG presence (0 or 1), CpG coverage, CpG fractional methylation"
   ]
  },
  {
   "cell_type": "code",
   "execution_count": 384,
   "id": "d30e5e77-f178-4d1b-b8b5-0d9754bd0855",
   "metadata": {},
   "outputs": [],
   "source": [
    "# Create arrays of positions, fractional methylation, and coverage for CpGs (~2h30)\n",
    "def create_genomic_array(df):\n",
    "    genomic_positions = []\n",
    "    genomic_fm = []\n",
    "    for position in range(df['region_inf'], df['region_sup'] + 1):\n",
    "        if position in df['cpg_pos']:\n",
    "            new_pos = 1\n",
    "            pos_index = df['cpg_pos'].index(position)\n",
    "            new_fm = df['cpg_fm'][pos_index]\n",
    "        else:\n",
    "            new_pos = 0\n",
    "            new_fm = 0\n",
    "        genomic_positions = genomic_positions + [new_pos]\n",
    "        genomic_fm = genomic_fm + [new_fm]\n",
    "    return np.transpose([genomic_positions, genomic_fm])\n"
   ]
  },
  {
   "cell_type": "code",
   "execution_count": 385,
   "id": "7706ea3d-e4a0-4398-bc26-ee64f817daee",
   "metadata": {},
   "outputs": [
    {
     "data": {
      "text/html": [
       "<div>\n",
       "<style scoped>\n",
       "    .dataframe tbody tr th:only-of-type {\n",
       "        vertical-align: middle;\n",
       "    }\n",
       "\n",
       "    .dataframe tbody tr th {\n",
       "        vertical-align: top;\n",
       "    }\n",
       "\n",
       "    .dataframe thead th {\n",
       "        text-align: right;\n",
       "    }\n",
       "</style>\n",
       "<table border=\"1\" class=\"dataframe\">\n",
       "  <thead>\n",
       "    <tr style=\"text-align: right;\">\n",
       "      <th></th>\n",
       "      <th>cpg_pos</th>\n",
       "      <th>region_inf</th>\n",
       "      <th>region_sup</th>\n",
       "      <th>cpg_fm</th>\n",
       "      <th>genomic_pic</th>\n",
       "    </tr>\n",
       "  </thead>\n",
       "  <tbody>\n",
       "    <tr>\n",
       "      <th>0</th>\n",
       "      <td>[2]</td>\n",
       "      <td>1</td>\n",
       "      <td>4</td>\n",
       "      <td>[0.0]</td>\n",
       "      <td>[[0.0, 0.0], [1.0, 0.0], [0.0, 0.0], [0.0, 0.0]]</td>\n",
       "    </tr>\n",
       "    <tr>\n",
       "      <th>1</th>\n",
       "      <td>[21, 22]</td>\n",
       "      <td>20</td>\n",
       "      <td>23</td>\n",
       "      <td>[1.0, 0.0]</td>\n",
       "      <td>[[0.0, 0.0], [1.0, 1.0], [1.0, 0.0], [0.0, 0.0]]</td>\n",
       "    </tr>\n",
       "  </tbody>\n",
       "</table>\n",
       "</div>"
      ],
      "text/plain": [
       "    cpg_pos  region_inf  region_sup      cpg_fm  \\\n",
       "0       [2]           1           4       [0.0]   \n",
       "1  [21, 22]          20          23  [1.0, 0.0]   \n",
       "\n",
       "                                        genomic_pic  \n",
       "0  [[0.0, 0.0], [1.0, 0.0], [0.0, 0.0], [0.0, 0.0]]  \n",
       "1  [[0.0, 0.0], [1.0, 1.0], [1.0, 0.0], [0.0, 0.0]]  "
      ]
     },
     "execution_count": 385,
     "metadata": {},
     "output_type": "execute_result"
    }
   ],
   "source": [
    "# Test function\n",
    "d = {'cpg_pos': [[2],[21,22]], \n",
    "              'region_inf':[1,20], \n",
    "              'region_sup':[4,23],\n",
    "              'cpg_fm': [[0.0],[1.0,0.0]]\n",
    "             }\n",
    "example_df = pd.DataFrame(data = d)\n",
    "example_df['genomic_pic'] = example_df.apply(lambda x: create_genomic_array(x), axis = 1)\n",
    "example_df"
   ]
  },
  {
   "cell_type": "markdown",
   "id": "6018cf7e-bdf4-4be4-af9f-42d14e7723c0",
   "metadata": {},
   "source": [
    "### Split the dataset for calculating the images"
   ]
  },
  {
   "cell_type": "code",
   "execution_count": 386,
   "id": "06096995-690f-4aab-8bc5-259e884992ff",
   "metadata": {},
   "outputs": [
    {
     "name": "stdout",
     "output_type": "stream",
     "text": [
      "The dataframe has been split into 9868 pieces\n"
     ]
    }
   ],
   "source": [
    "# Split the dataframe into a list of dataframes of 10 rows. Otherwise it stalls\n",
    "nb_dataframe_pieces = max(1, round(raw_df.shape[0]/50))\n",
    "raw_df_pieces = np.array_split(raw_df, nb_dataframe_pieces)\n",
    "print(\"The dataframe has been split into\", nb_dataframe_pieces, \"pieces\")\n"
   ]
  },
  {
   "cell_type": "code",
   "execution_count": 387,
   "id": "4ff4e0f2-9355-4174-8d14-cf1333af9495",
   "metadata": {},
   "outputs": [
    {
     "name": "stdout",
     "output_type": "stream",
     "text": [
      "processing the piece at position: 9867\n"
     ]
    }
   ],
   "source": [
    "# Apply the function to the dataframe which we split before because it takes a lot of memory.\n",
    "for df_piece in range(nb_dataframe_pieces): # nb_dataframe_pieces\n",
    "        clear_output(wait=True)\n",
    "        print(\"processing the piece at position:\", df_piece)\n",
    "        raw_df_pieces[df_piece]['genomic_matrix'] = raw_df_pieces[df_piece].apply(lambda x: create_genomic_array(x), \n",
    "                                                                                      axis = 1)"
   ]
  },
  {
   "cell_type": "code",
   "execution_count": 388,
   "id": "192e3c7b-0731-4766-95db-0713df166b97",
   "metadata": {},
   "outputs": [
    {
     "name": "stdout",
     "output_type": "stream",
     "text": [
      "processing the piece at position: 9867\n"
     ]
    }
   ],
   "source": [
    "# Concatenate the dataframes\n",
    "prepared_df = pd.DataFrame()\n",
    "\n",
    "for df_piece in range(nb_dataframe_pieces):\n",
    "    clear_output(wait=True)\n",
    "    print(\"processing the piece at position:\", df_piece)\n",
    "    tmp_df = raw_df_pieces[df_piece]\n",
    "    for var in ['cpg_pos', 'cpg_fm', 'region_inf', 'region_sup']:\n",
    "        tmp_df.drop(var, axis = 1, inplace = True)\n",
    "    prepared_df = prepared_df.append(tmp_df)"
   ]
  },
  {
   "cell_type": "markdown",
   "id": "c23fd340-7827-4182-b371-554436af51f8",
   "metadata": {
    "tags": []
   },
   "source": [
    "## Save dataframe with features on Cloud Storage"
   ]
  },
  {
   "cell_type": "code",
   "execution_count": 389,
   "id": "9cf90a2f-dc29-4a84-8c3d-500e3bf49c35",
   "metadata": {},
   "outputs": [
    {
     "data": {
      "text/plain": [
       "Index(['asm_snp', 'sample_category', 'region_nb_cpg', 'nb_cpg_found',\n",
       "       'nb_reads', 'dnase', 'encode_ChiP_V2', 'tf_motifs', 'global_cpg_fm',\n",
       "       'tot_nb_cpg', 'tot_nb_reads', 'std_read_fm', 'mean_read_fm',\n",
       "       'std_cpg_fm', 'mean_cpg_fm', 'std_cpg_dist', 'mean_cpg_dist',\n",
       "       'read_fm_kernel_0', 'read_fm_kernel_1', 'read_fm_kernel_2',\n",
       "       'read_fm_kernel_3', 'read_fm_kernel_4', 'read_fm_kernel_5',\n",
       "       'read_fm_kernel_6', 'read_fm_kernel_7', 'read_fm_kernel_8',\n",
       "       'read_fm_kernel_9', 'read_fm_kernel_10', 'cpg_fm_kernel_0',\n",
       "       'cpg_fm_kernel_1', 'cpg_fm_kernel_2', 'cpg_fm_kernel_3',\n",
       "       'cpg_fm_kernel_4', 'cpg_fm_kernel_5', 'cpg_fm_kernel_6',\n",
       "       'cpg_fm_kernel_7', 'cpg_fm_kernel_8', 'cpg_fm_kernel_9',\n",
       "       'cpg_fm_kernel_10', 'cpg_dist_kernel_0', 'cpg_dist_kernel_1',\n",
       "       'cpg_dist_kernel_2', 'cpg_dist_kernel_3', 'cpg_dist_kernel_4',\n",
       "       'dnase_null', 'dnase_low', 'dnase_high', 'encode_ChiP_V2_null',\n",
       "       'encode_ChiP_V2_low', 'encode_ChiP_V2_high', 'tf_motifs_null',\n",
       "       'tf_motifs_low', 'tf_motifs_high', 'genomic_matrix'],\n",
       "      dtype='object')"
      ]
     },
     "execution_count": 389,
     "metadata": {},
     "output_type": "execute_result"
    }
   ],
   "source": [
    "# Check the columns\n",
    "prepared_df.columns"
   ]
  },
  {
   "cell_type": "code",
   "execution_count": 390,
   "id": "7cdade84-79fc-452e-9ab7-11317804c23d",
   "metadata": {},
   "outputs": [
    {
     "name": "stdout",
     "output_type": "stream",
     "text": [
      "2022-03-16_04-13-38\n"
     ]
    }
   ],
   "source": [
    "# Obtain the date/time\n",
    "now = datetime.today()\n",
    "dt_string = now.strftime(\"%Y-%m-%d_%H-%M-%S\")\n",
    "print(dt_string)"
   ]
  },
  {
   "cell_type": "code",
   "execution_count": 391,
   "id": "52abf4ba-fd30-4102-b419-2713aeaa79f0",
   "metadata": {},
   "outputs": [],
   "source": [
    "# Export the variable names to the bucket\n",
    "sys.stdout = open(\"variables.txt\", \"w\")\n",
    "%whos"
   ]
  },
  {
   "cell_type": "code",
   "execution_count": 392,
   "id": "940d939f-8b48-4670-bba5-9877e03b3f49",
   "metadata": {},
   "outputs": [],
   "source": [
    "# Export variable names to to Cloud Storage\n",
    "dt_string = str(GENOMIC_INTERVAL) + \"bp_\" + str(NB_ROWS_RAW_DATASET) + \"rows_\" + dt_string\n",
    "!gsutil cp variables.txt gs://$DEEPASM_BUCKET/notebook/$dt_string/"
   ]
  },
  {
   "cell_type": "code",
   "execution_count": 393,
   "id": "67397ca8-78ff-44ac-8f7f-9114182fc3ac",
   "metadata": {},
   "outputs": [
    {
     "name": "stderr",
     "output_type": "stream",
     "text": [
      "/opt/conda/lib/python3.7/site-packages/pandas/core/generic.py:2718: PerformanceWarning: \n",
      "your performance may suffer as PyTables will pickle object types that it cannot\n",
      "map directly to c-types [inferred_type->mixed,key->block2_values] [items->Index(['genomic_matrix'], dtype='object')]\n",
      "\n",
      "  encoding=encoding,\n"
     ]
    }
   ],
   "source": [
    "if EXPORT_PROCESSED_DATA == True:\n",
    "    \n",
    "    nb_pieces_export = max(1, round(raw_df.shape[0]/10000))\n",
    "    prepared_df_pieces = np.array_split(prepared_df, nb_pieces_export)\n",
    "    print(\"The dataframe has been split into\", nb_pieces_export, \"pieces\")\n",
    "    \n",
    "    for df_piece in range(nb_pieces_export):\n",
    "        print(\"processing the piece at position:\", df_piece)\n",
    "        df_to_export = prepared_df_pieces[df_piece]\n",
    "        print(\"Size of dataframe:\", df_to_export.shape)\n",
    "\n",
    "        print(\"Saving the file as HDF5...\")\n",
    "        file_name = \"prepared_df_\" + str(df_piece) + \".h5\"\n",
    "        print(\"File name:\", file_name)\n",
    "        df_to_export.to_hdf(file_name, key = 'df', mode = 'w')\n",
    "\n",
    "        print(\"Exporting file to bucket...\")\n",
    "        !gsutil cp $file_name gs://$DEEPASM_BUCKET/notebook/$dt_string/\n",
    "else:\n",
    "        print(\"Not exporting the scaled DF per variable\")"
   ]
  },
  {
   "cell_type": "markdown",
   "id": "ac4449d8-ef60-4d41-b099-19781a2817f5",
   "metadata": {},
   "source": [
    "## Importing prepared features from bucket"
   ]
  },
  {
   "cell_type": "code",
   "execution_count": 403,
   "id": "b31230ac-36bd-47da-9055-b840367e4c25",
   "metadata": {},
   "outputs": [
    {
     "data": {
      "text/plain": [
       "'Processing file:'"
      ]
     },
     "metadata": {},
     "output_type": "display_data"
    },
    {
     "data": {
      "text/plain": [
       "47"
      ]
     },
     "metadata": {},
     "output_type": "display_data"
    },
    {
     "data": {
      "text/plain": [
       "'gs://deepasm/notebook/250bp_500000rows_2022-03-15_16-04-20/prepared_df_47.h5'"
      ]
     },
     "metadata": {},
     "output_type": "display_data"
    }
   ],
   "source": [
    "if IMPORT_PROCESSED_DATA == True:\n",
    "    display(\"Downloading from the bucket...\")\n",
    "    # Obtain path from GCP Cloud Storage\n",
    "    bucket_path = \"gs://\" + PROCESSED_DATA_PATH\n",
    "    file_path = bucket_path + \"/*.h5\"\n",
    "\n",
    "    # Find all the H5 files with the same normalization method.\n",
    "    !gsutil ls $file_path > list_to_download.txt\n",
    "    files_to_download_df = pd.read_csv('list_to_download.txt', header=None)\n",
    "\n",
    "    prepared_df = pd.DataFrame()\n",
    "\n",
    "    for index_file in range(files_to_download_df.shape[0]):\n",
    "        clear_output(wait=True)\n",
    "        display(\"Processing file:\", index_file)\n",
    "        file_name_bucket = bucket_path + \"/prepared_df_\" + str(index_file) + \".h5\"\n",
    "        display(file_name_bucket)\n",
    "        file_name_local = \"prepared_df_\" +  str(index_file) + \".h5\"\n",
    "        !gsutil cp $file_name_bucket $file_name_local\n",
    "        tmp = pd.read_hdf(file_name_local)\n",
    "        prepared_df = prepared_df.append(tmp)\n",
    "else:\n",
    "    display(\"Not downloading from the bucket\")\n",
    "    prepared_df = pd.DataFrame()\n",
    "    !ls *.h5 > list_files.txt\n",
    "    files_to_append = pd.read_csv('list_files.txt', header=None)\n",
    "    for file_number in range(files_to_append.shape[0]):\n",
    "        clear_output(wait=True)\n",
    "        file_name_local = \"prepared_df_\" +  str(file_number) + \".h5\"\n",
    "        print(\"Processing:\", file_name_local)\n",
    "        tmp = pd.read_hdf(file_name_local)\n",
    "        prepared_df = prepared_df.append(tmp)"
   ]
  },
  {
   "cell_type": "code",
   "execution_count": 404,
   "id": "653db181-b4d3-42f9-87d3-af0df13d3daa",
   "metadata": {},
   "outputs": [],
   "source": [
    "print(\"Dataset size:\", prepared_df.shape)\n",
    "print(\"Columns of dataset:\", prepared_df.columns)"
   ]
  },
  {
   "cell_type": "markdown",
   "id": "66f11de7-362c-499d-8cc0-03b7f6bd8748",
   "metadata": {},
   "source": [
    "## Class weights\n",
    "\n",
    "There are approximately 100x more regions without ASM than with ASM. We'll have to use weights in our training."
   ]
  },
  {
   "cell_type": "code",
   "execution_count": 406,
   "id": "51b93e1b-580a-42df-88cd-2273b892649e",
   "metadata": {},
   "outputs": [],
   "source": [
    "neg, pos = np.bincount(prepared_df['asm_snp'])\n",
    "total = neg + pos\n",
    "print('Number of regions assessed for ASM: {}\\nRegions with ASM found: {} ({:.2f}% of total)\\n'.format(\n",
    "    total, pos, 100 * pos / total))"
   ]
  },
  {
   "cell_type": "code",
   "execution_count": 407,
   "id": "0cb591cd-0295-4ee8-8334-07199035fed7",
   "metadata": {},
   "outputs": [],
   "source": [
    "# Scaling by total/2 helps keep the loss to a similar magnitude.\n",
    "# The sum of the weights of all examples stays the same.\n",
    "weight_for_0 = (1 / neg)*(total)/2.0 \n",
    "weight_for_1 = (1 / pos)*(total)/2.0\n",
    "\n",
    "class_weight_asm = {0: weight_for_0, 1: weight_for_1}\n",
    "\n",
    "print('Weight for class 0: {:.2f}'.format(weight_for_0))\n",
    "print('Weight for class 1: {:.2f}'.format(weight_for_1))"
   ]
  },
  {
   "cell_type": "markdown",
   "id": "f8f31db6-6e8b-4050-b1ca-10876e376d8a",
   "metadata": {},
   "source": [
    "## Normalize the features"
   ]
  },
  {
   "cell_type": "code",
   "execution_count": 408,
   "id": "921c0908-86bd-40d6-ab7d-66e4f519b9e4",
   "metadata": {},
   "outputs": [
    {
     "data": {
      "text/plain": [
       "Index(['asm_snp', 'sample_category', 'region_nb_cpg', 'nb_cpg_found',\n",
       "       'nb_reads', 'dnase', 'encode_ChiP_V2', 'tf_motifs', 'global_cpg_fm',\n",
       "       'tot_nb_cpg', 'tot_nb_reads', 'std_read_fm', 'mean_read_fm',\n",
       "       'std_cpg_fm', 'mean_cpg_fm', 'std_cpg_dist', 'mean_cpg_dist',\n",
       "       'read_fm_kernel_0', 'read_fm_kernel_1', 'read_fm_kernel_2',\n",
       "       'read_fm_kernel_3', 'read_fm_kernel_4', 'read_fm_kernel_5',\n",
       "       'read_fm_kernel_6', 'read_fm_kernel_7', 'read_fm_kernel_8',\n",
       "       'read_fm_kernel_9', 'read_fm_kernel_10', 'cpg_fm_kernel_0',\n",
       "       'cpg_fm_kernel_1', 'cpg_fm_kernel_2', 'cpg_fm_kernel_3',\n",
       "       'cpg_fm_kernel_4', 'cpg_fm_kernel_5', 'cpg_fm_kernel_6',\n",
       "       'cpg_fm_kernel_7', 'cpg_fm_kernel_8', 'cpg_fm_kernel_9',\n",
       "       'cpg_fm_kernel_10', 'cpg_dist_kernel_0', 'cpg_dist_kernel_1',\n",
       "       'cpg_dist_kernel_2', 'cpg_dist_kernel_3', 'cpg_dist_kernel_4',\n",
       "       'dnase_null', 'dnase_low', 'dnase_high', 'encode_ChiP_V2_null',\n",
       "       'encode_ChiP_V2_low', 'encode_ChiP_V2_high', 'tf_motifs_null',\n",
       "       'tf_motifs_low', 'tf_motifs_high', 'genomic_matrix'],\n",
       "      dtype='object')"
      ]
     },
     "execution_count": 408,
     "metadata": {},
     "output_type": "execute_result"
    }
   ],
   "source": [
    "prepared_df.columns"
   ]
  },
  {
   "cell_type": "code",
   "execution_count": 409,
   "id": "46dcd565-8237-48da-8926-79d00290eac3",
   "metadata": {},
   "outputs": [],
   "source": [
    "non_continous_columns = ['asm_snp', 'sample_category', 'dnase', \n",
    "                                    'dnase_high', 'dnase_null', 'dnase_low', \n",
    "                                    'encode_ChiP_V2_low', 'encode_ChiP_V2_null', 'encode_ChiP_V2_high',\n",
    "                                    'tf_motifs_null', 'tf_motifs_low', 'tf_motifs_null',\n",
    "                                    'genomic_matrix']"
   ]
  },
  {
   "cell_type": "code",
   "execution_count": 410,
   "id": "7be36d41-5ae6-4a59-974e-56b5621582b8",
   "metadata": {},
   "outputs": [
    {
     "data": {
      "text/html": [
       "<div>\n",
       "<style scoped>\n",
       "    .dataframe tbody tr th:only-of-type {\n",
       "        vertical-align: middle;\n",
       "    }\n",
       "\n",
       "    .dataframe tbody tr th {\n",
       "        vertical-align: top;\n",
       "    }\n",
       "\n",
       "    .dataframe thead th {\n",
       "        text-align: right;\n",
       "    }\n",
       "</style>\n",
       "<table border=\"1\" class=\"dataframe\">\n",
       "  <thead>\n",
       "    <tr style=\"text-align: right;\">\n",
       "      <th></th>\n",
       "      <th>region_nb_cpg</th>\n",
       "      <th>nb_cpg_found</th>\n",
       "      <th>nb_reads</th>\n",
       "      <th>encode_ChiP_V2</th>\n",
       "      <th>tf_motifs</th>\n",
       "      <th>global_cpg_fm</th>\n",
       "      <th>tot_nb_cpg</th>\n",
       "      <th>tot_nb_reads</th>\n",
       "      <th>std_read_fm</th>\n",
       "      <th>mean_read_fm</th>\n",
       "      <th>...</th>\n",
       "      <th>dnase_high</th>\n",
       "      <th>dnase_null</th>\n",
       "      <th>dnase_low</th>\n",
       "      <th>encode_ChiP_V2_low</th>\n",
       "      <th>encode_ChiP_V2_null</th>\n",
       "      <th>encode_ChiP_V2_high</th>\n",
       "      <th>tf_motifs_null</th>\n",
       "      <th>tf_motifs_low</th>\n",
       "      <th>tf_motifs_null</th>\n",
       "      <th>genomic_matrix</th>\n",
       "    </tr>\n",
       "  </thead>\n",
       "  <tbody>\n",
       "    <tr>\n",
       "      <th>0</th>\n",
       "      <td>-0.844228</td>\n",
       "      <td>-0.781621</td>\n",
       "      <td>-0.009571</td>\n",
       "      <td>-0.129449</td>\n",
       "      <td>-0.519321</td>\n",
       "      <td>-1.603182</td>\n",
       "      <td>0.719085</td>\n",
       "      <td>0.370250</td>\n",
       "      <td>0.538110</td>\n",
       "      <td>-1.895438</td>\n",
       "      <td>...</td>\n",
       "      <td>0</td>\n",
       "      <td>1</td>\n",
       "      <td>0</td>\n",
       "      <td>0</td>\n",
       "      <td>1</td>\n",
       "      <td>0</td>\n",
       "      <td>1</td>\n",
       "      <td>0</td>\n",
       "      <td>1</td>\n",
       "      <td>[[0.0, 0.0], [0.0, 0.0], [0.0, 0.0], [0.0, 0.0...</td>\n",
       "    </tr>\n",
       "    <tr>\n",
       "      <th>1</th>\n",
       "      <td>1.550885</td>\n",
       "      <td>1.484286</td>\n",
       "      <td>0.157892</td>\n",
       "      <td>-0.129449</td>\n",
       "      <td>1.203046</td>\n",
       "      <td>0.934097</td>\n",
       "      <td>0.160580</td>\n",
       "      <td>-0.251736</td>\n",
       "      <td>-1.375386</td>\n",
       "      <td>0.880083</td>\n",
       "      <td>...</td>\n",
       "      <td>0</td>\n",
       "      <td>1</td>\n",
       "      <td>0</td>\n",
       "      <td>0</td>\n",
       "      <td>1</td>\n",
       "      <td>0</td>\n",
       "      <td>0</td>\n",
       "      <td>1</td>\n",
       "      <td>0</td>\n",
       "      <td>[[0.0, 0.0], [0.0, 0.0], [0.0, 0.0], [0.0, 0.0...</td>\n",
       "    </tr>\n",
       "    <tr>\n",
       "      <th>2</th>\n",
       "      <td>0.353328</td>\n",
       "      <td>0.477216</td>\n",
       "      <td>-0.751191</td>\n",
       "      <td>-0.129449</td>\n",
       "      <td>-0.232260</td>\n",
       "      <td>-0.251547</td>\n",
       "      <td>0.996009</td>\n",
       "      <td>0.941261</td>\n",
       "      <td>0.205677</td>\n",
       "      <td>0.133074</td>\n",
       "      <td>...</td>\n",
       "      <td>0</td>\n",
       "      <td>1</td>\n",
       "      <td>0</td>\n",
       "      <td>0</td>\n",
       "      <td>1</td>\n",
       "      <td>0</td>\n",
       "      <td>0</td>\n",
       "      <td>1</td>\n",
       "      <td>0</td>\n",
       "      <td>[[0.0, 0.0], [0.0, 0.0], [0.0, 0.0], [0.0, 0.0...</td>\n",
       "    </tr>\n",
       "    <tr>\n",
       "      <th>3</th>\n",
       "      <td>0.592840</td>\n",
       "      <td>0.728983</td>\n",
       "      <td>-0.440189</td>\n",
       "      <td>-0.129449</td>\n",
       "      <td>1.490107</td>\n",
       "      <td>-1.603182</td>\n",
       "      <td>0.719085</td>\n",
       "      <td>0.370250</td>\n",
       "      <td>0.848262</td>\n",
       "      <td>-0.698062</td>\n",
       "      <td>...</td>\n",
       "      <td>1</td>\n",
       "      <td>0</td>\n",
       "      <td>0</td>\n",
       "      <td>0</td>\n",
       "      <td>1</td>\n",
       "      <td>0</td>\n",
       "      <td>0</td>\n",
       "      <td>1</td>\n",
       "      <td>0</td>\n",
       "      <td>[[1.0, 0.808], [0.0, 0.0], [0.0, 0.0], [0.0, 0...</td>\n",
       "    </tr>\n",
       "    <tr>\n",
       "      <th>4</th>\n",
       "      <td>-0.365206</td>\n",
       "      <td>-0.278086</td>\n",
       "      <td>-0.727268</td>\n",
       "      <td>-0.129449</td>\n",
       "      <td>-0.519321</td>\n",
       "      <td>0.566547</td>\n",
       "      <td>-0.854463</td>\n",
       "      <td>-1.878348</td>\n",
       "      <td>-1.355779</td>\n",
       "      <td>0.891570</td>\n",
       "      <td>...</td>\n",
       "      <td>1</td>\n",
       "      <td>0</td>\n",
       "      <td>0</td>\n",
       "      <td>0</td>\n",
       "      <td>1</td>\n",
       "      <td>0</td>\n",
       "      <td>1</td>\n",
       "      <td>0</td>\n",
       "      <td>1</td>\n",
       "      <td>[[0.0, 0.0], [0.0, 0.0], [0.0, 0.0], [0.0, 0.0...</td>\n",
       "    </tr>\n",
       "    <tr>\n",
       "      <th>...</th>\n",
       "      <td>...</td>\n",
       "      <td>...</td>\n",
       "      <td>...</td>\n",
       "      <td>...</td>\n",
       "      <td>...</td>\n",
       "      <td>...</td>\n",
       "      <td>...</td>\n",
       "      <td>...</td>\n",
       "      <td>...</td>\n",
       "      <td>...</td>\n",
       "      <td>...</td>\n",
       "      <td>...</td>\n",
       "      <td>...</td>\n",
       "      <td>...</td>\n",
       "      <td>...</td>\n",
       "      <td>...</td>\n",
       "      <td>...</td>\n",
       "      <td>...</td>\n",
       "      <td>...</td>\n",
       "      <td>...</td>\n",
       "      <td>...</td>\n",
       "    </tr>\n",
       "    <tr>\n",
       "      <th>489883</th>\n",
       "      <td>0.353328</td>\n",
       "      <td>0.225448</td>\n",
       "      <td>-0.320573</td>\n",
       "      <td>-0.129449</td>\n",
       "      <td>-0.519321</td>\n",
       "      <td>-1.603182</td>\n",
       "      <td>0.719085</td>\n",
       "      <td>0.370250</td>\n",
       "      <td>-1.287153</td>\n",
       "      <td>0.848662</td>\n",
       "      <td>...</td>\n",
       "      <td>0</td>\n",
       "      <td>1</td>\n",
       "      <td>0</td>\n",
       "      <td>0</td>\n",
       "      <td>1</td>\n",
       "      <td>0</td>\n",
       "      <td>1</td>\n",
       "      <td>0</td>\n",
       "      <td>1</td>\n",
       "      <td>[[0.0, 0.0], [0.0, 0.0], [0.0, 0.0], [0.0, 0.0...</td>\n",
       "    </tr>\n",
       "    <tr>\n",
       "      <th>489884</th>\n",
       "      <td>0.592840</td>\n",
       "      <td>0.477216</td>\n",
       "      <td>1.043052</td>\n",
       "      <td>-0.129449</td>\n",
       "      <td>-0.519321</td>\n",
       "      <td>-0.619097</td>\n",
       "      <td>0.376794</td>\n",
       "      <td>1.849665</td>\n",
       "      <td>-0.824598</td>\n",
       "      <td>0.784807</td>\n",
       "      <td>...</td>\n",
       "      <td>0</td>\n",
       "      <td>1</td>\n",
       "      <td>0</td>\n",
       "      <td>0</td>\n",
       "      <td>1</td>\n",
       "      <td>0</td>\n",
       "      <td>1</td>\n",
       "      <td>0</td>\n",
       "      <td>1</td>\n",
       "      <td>[[0.0, 0.0], [0.0, 0.0], [0.0, 0.0], [0.0, 0.0...</td>\n",
       "    </tr>\n",
       "    <tr>\n",
       "      <th>489885</th>\n",
       "      <td>-0.365206</td>\n",
       "      <td>-0.529854</td>\n",
       "      <td>-0.320573</td>\n",
       "      <td>-0.129449</td>\n",
       "      <td>-0.519321</td>\n",
       "      <td>-0.180409</td>\n",
       "      <td>-0.681004</td>\n",
       "      <td>0.233424</td>\n",
       "      <td>-1.690885</td>\n",
       "      <td>0.937857</td>\n",
       "      <td>...</td>\n",
       "      <td>0</td>\n",
       "      <td>1</td>\n",
       "      <td>0</td>\n",
       "      <td>0</td>\n",
       "      <td>1</td>\n",
       "      <td>0</td>\n",
       "      <td>1</td>\n",
       "      <td>0</td>\n",
       "      <td>1</td>\n",
       "      <td>[[0.0, 0.0], [0.0, 0.0], [0.0, 0.0], [0.0, 0.0...</td>\n",
       "    </tr>\n",
       "    <tr>\n",
       "      <th>489886</th>\n",
       "      <td>-0.844228</td>\n",
       "      <td>-0.781621</td>\n",
       "      <td>0.181815</td>\n",
       "      <td>-0.129449</td>\n",
       "      <td>-0.519321</td>\n",
       "      <td>0.649543</td>\n",
       "      <td>0.098143</td>\n",
       "      <td>-0.478474</td>\n",
       "      <td>-0.263116</td>\n",
       "      <td>0.682097</td>\n",
       "      <td>...</td>\n",
       "      <td>0</td>\n",
       "      <td>1</td>\n",
       "      <td>0</td>\n",
       "      <td>0</td>\n",
       "      <td>1</td>\n",
       "      <td>0</td>\n",
       "      <td>1</td>\n",
       "      <td>0</td>\n",
       "      <td>1</td>\n",
       "      <td>[[0.0, 0.0], [0.0, 0.0], [0.0, 0.0], [0.0, 0.0...</td>\n",
       "    </tr>\n",
       "    <tr>\n",
       "      <th>489887</th>\n",
       "      <td>0.113817</td>\n",
       "      <td>-0.026319</td>\n",
       "      <td>1.138745</td>\n",
       "      <td>-0.129449</td>\n",
       "      <td>-0.519321</td>\n",
       "      <td>1.242365</td>\n",
       "      <td>0.914709</td>\n",
       "      <td>0.305239</td>\n",
       "      <td>-0.183796</td>\n",
       "      <td>0.748318</td>\n",
       "      <td>...</td>\n",
       "      <td>1</td>\n",
       "      <td>0</td>\n",
       "      <td>0</td>\n",
       "      <td>0</td>\n",
       "      <td>1</td>\n",
       "      <td>0</td>\n",
       "      <td>1</td>\n",
       "      <td>0</td>\n",
       "      <td>1</td>\n",
       "      <td>[[0.0, 0.0], [0.0, 0.0], [0.0, 0.0], [0.0, 0.0...</td>\n",
       "    </tr>\n",
       "  </tbody>\n",
       "</table>\n",
       "<p>483092 rows × 55 columns</p>\n",
       "</div>"
      ],
      "text/plain": [
       "        region_nb_cpg  nb_cpg_found  nb_reads  encode_ChiP_V2  tf_motifs  \\\n",
       "0           -0.844228     -0.781621 -0.009571       -0.129449  -0.519321   \n",
       "1            1.550885      1.484286  0.157892       -0.129449   1.203046   \n",
       "2            0.353328      0.477216 -0.751191       -0.129449  -0.232260   \n",
       "3            0.592840      0.728983 -0.440189       -0.129449   1.490107   \n",
       "4           -0.365206     -0.278086 -0.727268       -0.129449  -0.519321   \n",
       "...               ...           ...       ...             ...        ...   \n",
       "489883       0.353328      0.225448 -0.320573       -0.129449  -0.519321   \n",
       "489884       0.592840      0.477216  1.043052       -0.129449  -0.519321   \n",
       "489885      -0.365206     -0.529854 -0.320573       -0.129449  -0.519321   \n",
       "489886      -0.844228     -0.781621  0.181815       -0.129449  -0.519321   \n",
       "489887       0.113817     -0.026319  1.138745       -0.129449  -0.519321   \n",
       "\n",
       "        global_cpg_fm  tot_nb_cpg  tot_nb_reads  std_read_fm  mean_read_fm  \\\n",
       "0           -1.603182    0.719085      0.370250     0.538110     -1.895438   \n",
       "1            0.934097    0.160580     -0.251736    -1.375386      0.880083   \n",
       "2           -0.251547    0.996009      0.941261     0.205677      0.133074   \n",
       "3           -1.603182    0.719085      0.370250     0.848262     -0.698062   \n",
       "4            0.566547   -0.854463     -1.878348    -1.355779      0.891570   \n",
       "...               ...         ...           ...          ...           ...   \n",
       "489883      -1.603182    0.719085      0.370250    -1.287153      0.848662   \n",
       "489884      -0.619097    0.376794      1.849665    -0.824598      0.784807   \n",
       "489885      -0.180409   -0.681004      0.233424    -1.690885      0.937857   \n",
       "489886       0.649543    0.098143     -0.478474    -0.263116      0.682097   \n",
       "489887       1.242365    0.914709      0.305239    -0.183796      0.748318   \n",
       "\n",
       "        ...  dnase_high  dnase_null  dnase_low  encode_ChiP_V2_low  \\\n",
       "0       ...           0           1          0                   0   \n",
       "1       ...           0           1          0                   0   \n",
       "2       ...           0           1          0                   0   \n",
       "3       ...           1           0          0                   0   \n",
       "4       ...           1           0          0                   0   \n",
       "...     ...         ...         ...        ...                 ...   \n",
       "489883  ...           0           1          0                   0   \n",
       "489884  ...           0           1          0                   0   \n",
       "489885  ...           0           1          0                   0   \n",
       "489886  ...           0           1          0                   0   \n",
       "489887  ...           1           0          0                   0   \n",
       "\n",
       "        encode_ChiP_V2_null  encode_ChiP_V2_high  tf_motifs_null  \\\n",
       "0                         1                    0               1   \n",
       "1                         1                    0               0   \n",
       "2                         1                    0               0   \n",
       "3                         1                    0               0   \n",
       "4                         1                    0               1   \n",
       "...                     ...                  ...             ...   \n",
       "489883                    1                    0               1   \n",
       "489884                    1                    0               1   \n",
       "489885                    1                    0               1   \n",
       "489886                    1                    0               1   \n",
       "489887                    1                    0               1   \n",
       "\n",
       "        tf_motifs_low  tf_motifs_null  \\\n",
       "0                   0               1   \n",
       "1                   1               0   \n",
       "2                   1               0   \n",
       "3                   1               0   \n",
       "4                   0               1   \n",
       "...               ...             ...   \n",
       "489883              0               1   \n",
       "489884              0               1   \n",
       "489885              0               1   \n",
       "489886              0               1   \n",
       "489887              0               1   \n",
       "\n",
       "                                           genomic_matrix  \n",
       "0       [[0.0, 0.0], [0.0, 0.0], [0.0, 0.0], [0.0, 0.0...  \n",
       "1       [[0.0, 0.0], [0.0, 0.0], [0.0, 0.0], [0.0, 0.0...  \n",
       "2       [[0.0, 0.0], [0.0, 0.0], [0.0, 0.0], [0.0, 0.0...  \n",
       "3       [[1.0, 0.808], [0.0, 0.0], [0.0, 0.0], [0.0, 0...  \n",
       "4       [[0.0, 0.0], [0.0, 0.0], [0.0, 0.0], [0.0, 0.0...  \n",
       "...                                                   ...  \n",
       "489883  [[0.0, 0.0], [0.0, 0.0], [0.0, 0.0], [0.0, 0.0...  \n",
       "489884  [[0.0, 0.0], [0.0, 0.0], [0.0, 0.0], [0.0, 0.0...  \n",
       "489885  [[0.0, 0.0], [0.0, 0.0], [0.0, 0.0], [0.0, 0.0...  \n",
       "489886  [[0.0, 0.0], [0.0, 0.0], [0.0, 0.0], [0.0, 0.0...  \n",
       "489887  [[0.0, 0.0], [0.0, 0.0], [0.0, 0.0], [0.0, 0.0...  \n",
       "\n",
       "[483092 rows x 55 columns]"
      ]
     },
     "execution_count": 410,
     "metadata": {},
     "output_type": "execute_result"
    }
   ],
   "source": [
    "# Copy dataframe and remove non-continous variables\n",
    "normalized_df = prepared_df.copy()\n",
    "normalized_df = normalized_df.drop(columns = non_continous_columns)\n",
    "\n",
    "# Apply StandardScaler to continous variables\n",
    "columns = normalized_df.columns\n",
    "scaler = StandardScaler()\n",
    "scaler.fit(normalized_df)\n",
    "normalized_df = pd.DataFrame(data = scaler.transform(normalized_df), index = normalized_df.index)\n",
    "normalized_df.columns = columns\n",
    "\n",
    "# Concatenate with other columns\n",
    "normalized_df = pd.concat([normalized_df, \n",
    "                           prepared_df[non_continous_columns]], axis = 1)\n",
    "\n",
    "normalized_df"
   ]
  },
  {
   "cell_type": "markdown",
   "id": "e1626493-61fd-4c9f-8f2b-df05048c1d96",
   "metadata": {
    "jp-MarkdownHeadingCollapsed": true,
    "tags": []
   },
   "source": [
    "## Perform a PCA to reduce the number of the features to be used in the models"
   ]
  },
  {
   "cell_type": "code",
   "execution_count": 105,
   "id": "7938e1dd-8e0b-48db-8db2-1cb7b0803706",
   "metadata": {},
   "outputs": [],
   "source": [
    "# # Do a test on normalized features\n",
    "# features_df = normalized_df.copy()\n",
    "\n",
    "# # Not normalized features\n",
    "# #features_df = prepared_df.copy()\n"
   ]
  },
  {
   "cell_type": "code",
   "execution_count": 123,
   "id": "35b9ca48-1ce7-4cff-99c5-20cee3f0be3d",
   "metadata": {},
   "outputs": [
    {
     "data": {
      "text/plain": [
       "<AxesSubplot:>"
      ]
     },
     "execution_count": 123,
     "metadata": {},
     "output_type": "execute_result"
    },
    {
     "data": {
      "image/png": "[encoded data removed]",
      "text/plain": [
       "<Figure size 720x720 with 2 Axes>"
      ]
     },
     "metadata": {
      "needs_background": "light"
     },
     "output_type": "display_data"
    }
   ],
   "source": [
    "# corr_matrix = pd.DataFrame(abs(features_df.corr()))\n",
    "# sns.heatmap(corr_matrix)"
   ]
  },
  {
   "cell_type": "code",
   "execution_count": 140,
   "id": "97f3dcc3-da1c-496d-89c9-d012558b6cd0",
   "metadata": {},
   "outputs": [
    {
     "data": {
      "text/html": [
       "<div>\n",
       "<style scoped>\n",
       "    .dataframe tbody tr th:only-of-type {\n",
       "        vertical-align: middle;\n",
       "    }\n",
       "\n",
       "    .dataframe tbody tr th {\n",
       "        vertical-align: top;\n",
       "    }\n",
       "\n",
       "    .dataframe thead th {\n",
       "        text-align: right;\n",
       "    }\n",
       "</style>\n",
       "<table border=\"1\" class=\"dataframe\">\n",
       "  <thead>\n",
       "    <tr style=\"text-align: right;\">\n",
       "      <th></th>\n",
       "      <th>asm_snp</th>\n",
       "    </tr>\n",
       "  </thead>\n",
       "  <tbody>\n",
       "    <tr>\n",
       "      <th>read_fm_kernel_6</th>\n",
       "      <td>0.053496</td>\n",
       "    </tr>\n",
       "    <tr>\n",
       "      <th>std_cpg_fm</th>\n",
       "      <td>0.060246</td>\n",
       "    </tr>\n",
       "    <tr>\n",
       "      <th>cpg_fm_kernel_7</th>\n",
       "      <td>0.066350</td>\n",
       "    </tr>\n",
       "    <tr>\n",
       "      <th>cpg_fm_kernel_8</th>\n",
       "      <td>0.066822</td>\n",
       "    </tr>\n",
       "    <tr>\n",
       "      <th>read_fm_kernel_5</th>\n",
       "      <td>0.067951</td>\n",
       "    </tr>\n",
       "    <tr>\n",
       "      <th>read_fm_kernel_0</th>\n",
       "      <td>0.073214</td>\n",
       "    </tr>\n",
       "    <tr>\n",
       "      <th>sample_category</th>\n",
       "      <td>0.077299</td>\n",
       "    </tr>\n",
       "    <tr>\n",
       "      <th>global_cpg_fm</th>\n",
       "      <td>0.078505</td>\n",
       "    </tr>\n",
       "    <tr>\n",
       "      <th>read_fm_kernel_1</th>\n",
       "      <td>0.083070</td>\n",
       "    </tr>\n",
       "    <tr>\n",
       "      <th>read_fm_kernel_4</th>\n",
       "      <td>0.086682</td>\n",
       "    </tr>\n",
       "    <tr>\n",
       "      <th>cpg_fm_kernel_2</th>\n",
       "      <td>0.086810</td>\n",
       "    </tr>\n",
       "    <tr>\n",
       "      <th>mean_read_fm</th>\n",
       "      <td>0.095021</td>\n",
       "    </tr>\n",
       "    <tr>\n",
       "      <th>mean_cpg_fm</th>\n",
       "      <td>0.095092</td>\n",
       "    </tr>\n",
       "    <tr>\n",
       "      <th>read_fm_kernel_9</th>\n",
       "      <td>0.099203</td>\n",
       "    </tr>\n",
       "    <tr>\n",
       "      <th>read_fm_kernel_3</th>\n",
       "      <td>0.104026</td>\n",
       "    </tr>\n",
       "    <tr>\n",
       "      <th>read_fm_kernel_10</th>\n",
       "      <td>0.106576</td>\n",
       "    </tr>\n",
       "    <tr>\n",
       "      <th>read_fm_kernel_2</th>\n",
       "      <td>0.118325</td>\n",
       "    </tr>\n",
       "    <tr>\n",
       "      <th>cpg_fm_kernel_10</th>\n",
       "      <td>0.137609</td>\n",
       "    </tr>\n",
       "    <tr>\n",
       "      <th>std_read_fm</th>\n",
       "      <td>0.143349</td>\n",
       "    </tr>\n",
       "    <tr>\n",
       "      <th>cpg_fm_kernel_9</th>\n",
       "      <td>0.143990</td>\n",
       "    </tr>\n",
       "    <tr>\n",
       "      <th>cpg_fm_kernel_3</th>\n",
       "      <td>0.155179</td>\n",
       "    </tr>\n",
       "    <tr>\n",
       "      <th>cpg_fm_kernel_6</th>\n",
       "      <td>0.156640</td>\n",
       "    </tr>\n",
       "    <tr>\n",
       "      <th>cpg_fm_kernel_4</th>\n",
       "      <td>0.199885</td>\n",
       "    </tr>\n",
       "    <tr>\n",
       "      <th>cpg_fm_kernel_5</th>\n",
       "      <td>0.203748</td>\n",
       "    </tr>\n",
       "    <tr>\n",
       "      <th>asm_snp</th>\n",
       "      <td>1.000000</td>\n",
       "    </tr>\n",
       "  </tbody>\n",
       "</table>\n",
       "</div>"
      ],
      "text/plain": [
       "                    asm_snp\n",
       "read_fm_kernel_6   0.053496\n",
       "std_cpg_fm         0.060246\n",
       "cpg_fm_kernel_7    0.066350\n",
       "cpg_fm_kernel_8    0.066822\n",
       "read_fm_kernel_5   0.067951\n",
       "read_fm_kernel_0   0.073214\n",
       "sample_category    0.077299\n",
       "global_cpg_fm      0.078505\n",
       "read_fm_kernel_1   0.083070\n",
       "read_fm_kernel_4   0.086682\n",
       "cpg_fm_kernel_2    0.086810\n",
       "mean_read_fm       0.095021\n",
       "mean_cpg_fm        0.095092\n",
       "read_fm_kernel_9   0.099203\n",
       "read_fm_kernel_3   0.104026\n",
       "read_fm_kernel_10  0.106576\n",
       "read_fm_kernel_2   0.118325\n",
       "cpg_fm_kernel_10   0.137609\n",
       "std_read_fm        0.143349\n",
       "cpg_fm_kernel_9    0.143990\n",
       "cpg_fm_kernel_3    0.155179\n",
       "cpg_fm_kernel_6    0.156640\n",
       "cpg_fm_kernel_4    0.199885\n",
       "cpg_fm_kernel_5    0.203748\n",
       "asm_snp            1.000000"
      ]
     },
     "execution_count": 140,
     "metadata": {},
     "output_type": "execute_result"
    }
   ],
   "source": [
    "# corr_matrix = pd.DataFrame(abs(features_df.corr()['asm_snp'])).sort_values(by = 'asm_snp')\n",
    "# corr_matrix"
   ]
  },
  {
   "cell_type": "markdown",
   "id": "f7144bbf-b15f-41cd-97ed-4453a42d71eb",
   "metadata": {},
   "source": [
    "### Remove variables with no correlation"
   ]
  },
  {
   "cell_type": "code",
   "execution_count": 108,
   "id": "e64a3440-74f2-4467-871b-1864750f9494",
   "metadata": {},
   "outputs": [
    {
     "name": "stdout",
     "output_type": "stream",
     "text": [
      "['cpg_dist_kernel_0', 'dnase_low']\n"
     ]
    }
   ],
   "source": [
    "# vars_no_corr = list(corr_matrix[pd.isna(corr_matrix['asm_snp']) == True].index)\n",
    "# print(vars_no_corr)\n",
    "# features_df = features_df.drop(columns = vars_no_corr)"
   ]
  },
  {
   "cell_type": "markdown",
   "id": "cdea96ea-7ca8-40f0-8e38-c252a8863fb4",
   "metadata": {},
   "source": [
    "### Remove variables that are poorly correlated with ASM"
   ]
  },
  {
   "cell_type": "code",
   "execution_count": 109,
   "id": "2b029f39-714d-4d67-984b-43627207f9a8",
   "metadata": {},
   "outputs": [
    {
     "name": "stdout",
     "output_type": "stream",
     "text": [
      "['region_nb_cpg', 'nb_cpg_found', 'nb_reads', 'encode_ChiP_V2', 'tf_motifs', 'tot_nb_cpg', 'tot_nb_reads', 'std_cpg_dist', 'mean_cpg_dist', 'read_fm_kernel_7', 'read_fm_kernel_8', 'cpg_fm_kernel_0', 'cpg_fm_kernel_1', 'cpg_dist_kernel_1', 'cpg_dist_kernel_2', 'cpg_dist_kernel_3', 'cpg_dist_kernel_4', 'tf_motifs_high', 'dnase', 'dnase_high', 'dnase_null', 'encode_ChiP_V2_low', 'encode_ChiP_V2_null', 'encode_ChiP_V2_high', 'tf_motifs_null', 'tf_motifs_low', 'tf_motifs_null']\n"
     ]
    }
   ],
   "source": [
    "# vars_low_corr = list(corr_matrix[corr_matrix['asm_snp'] < MIN_CORR].index)\n",
    "# print(vars_low_corr)\n",
    "# features_df = features_df.drop(columns = vars_low_corr, axis =1)"
   ]
  },
  {
   "cell_type": "markdown",
   "id": "39eee5ed-4858-4277-987a-153e3e8672ea",
   "metadata": {},
   "source": [
    "### Run a PCA for the remaining variables"
   ]
  },
  {
   "cell_type": "code",
   "execution_count": 133,
   "id": "26fa7b62-051b-4cf9-ba28-64fdecd8a229",
   "metadata": {},
   "outputs": [
    {
     "name": "stdout",
     "output_type": "stream",
     "text": [
      "Number of features: 24\n"
     ]
    }
   ],
   "source": [
    "# #Remove the column of genomic matrix and labels\n",
    "# features_df_pca = features_df.copy()\n",
    "# features_df_pca = features_df_pca.drop(columns = ['asm_snp', 'genomic_matrix'])\n",
    "# print(\"Number of features:\", len(features_df_pca.columns))"
   ]
  },
  {
   "cell_type": "code",
   "execution_count": 134,
   "id": "8ff97713-e8bc-4ae6-a489-ce44c5a84508",
   "metadata": {},
   "outputs": [],
   "source": [
    "# pca = PCA(n_components=10)\n",
    "# principalComponents = pca.fit_transform(features_df_pca)"
   ]
  },
  {
   "cell_type": "code",
   "execution_count": 135,
   "id": "25e9ff45-f710-41d7-b5ad-2702828a8e3a",
   "metadata": {},
   "outputs": [
    {
     "name": "stdout",
     "output_type": "stream",
     "text": [
      "['pca_1', 'pca_2', 'pca_3', 'pca_4', 'pca_5', 'pca_6', 'pca_7', 'pca_8', 'pca_9', 'pca_10']\n"
     ]
    }
   ],
   "source": [
    "# columns_pca = []\n",
    "# for k in range(1,11):\n",
    "#     name = 'pca_' + str(k)\n",
    "#     columns_pca = columns_pca + [name]\n",
    "# print(columns_pca)\n",
    "# features_df_pca = pd.DataFrame(data = principalComponents, columns = columns_pca, index = features_df.index)"
   ]
  },
  {
   "cell_type": "code",
   "execution_count": 136,
   "id": "f9cd6768-7341-4029-9ca8-749bf206d40d",
   "metadata": {},
   "outputs": [
    {
     "data": {
      "text/html": [
       "<div>\n",
       "<style scoped>\n",
       "    .dataframe tbody tr th:only-of-type {\n",
       "        vertical-align: middle;\n",
       "    }\n",
       "\n",
       "    .dataframe tbody tr th {\n",
       "        vertical-align: top;\n",
       "    }\n",
       "\n",
       "    .dataframe thead th {\n",
       "        text-align: right;\n",
       "    }\n",
       "</style>\n",
       "<table border=\"1\" class=\"dataframe\">\n",
       "  <thead>\n",
       "    <tr style=\"text-align: right;\">\n",
       "      <th></th>\n",
       "      <th>pca_1</th>\n",
       "      <th>pca_2</th>\n",
       "      <th>pca_3</th>\n",
       "      <th>pca_4</th>\n",
       "      <th>pca_5</th>\n",
       "      <th>pca_6</th>\n",
       "      <th>pca_7</th>\n",
       "      <th>pca_8</th>\n",
       "      <th>pca_9</th>\n",
       "      <th>pca_10</th>\n",
       "      <th>asm_snp</th>\n",
       "      <th>genomic_matrix</th>\n",
       "    </tr>\n",
       "  </thead>\n",
       "  <tbody>\n",
       "    <tr>\n",
       "      <th>0</th>\n",
       "      <td>5.648832</td>\n",
       "      <td>2.841814</td>\n",
       "      <td>-0.804502</td>\n",
       "      <td>-0.282548</td>\n",
       "      <td>-0.640087</td>\n",
       "      <td>-0.546380</td>\n",
       "      <td>0.185798</td>\n",
       "      <td>-0.115402</td>\n",
       "      <td>0.532518</td>\n",
       "      <td>0.289689</td>\n",
       "      <td>0</td>\n",
       "      <td>[[0.0, 0.0], [0.0, 0.0], [0.0, 0.0], [0.0, 0.0...</td>\n",
       "    </tr>\n",
       "    <tr>\n",
       "      <th>1</th>\n",
       "      <td>-3.687701</td>\n",
       "      <td>1.061724</td>\n",
       "      <td>-0.518748</td>\n",
       "      <td>0.458308</td>\n",
       "      <td>0.559741</td>\n",
       "      <td>0.528794</td>\n",
       "      <td>0.064901</td>\n",
       "      <td>-0.038650</td>\n",
       "      <td>-0.262289</td>\n",
       "      <td>-0.180496</td>\n",
       "      <td>0</td>\n",
       "      <td>[[0.0, 0.0], [0.0, 0.0], [0.0, 0.0], [0.0, 0.0...</td>\n",
       "    </tr>\n",
       "    <tr>\n",
       "      <th>2</th>\n",
       "      <td>0.783934</td>\n",
       "      <td>-1.016317</td>\n",
       "      <td>-2.282964</td>\n",
       "      <td>-1.440246</td>\n",
       "      <td>0.357206</td>\n",
       "      <td>-0.263926</td>\n",
       "      <td>-1.028692</td>\n",
       "      <td>0.021469</td>\n",
       "      <td>-0.173809</td>\n",
       "      <td>-0.789667</td>\n",
       "      <td>0</td>\n",
       "      <td>[[0.0, 0.0], [0.0, 0.0], [0.0, 0.0], [0.0, 0.0...</td>\n",
       "    </tr>\n",
       "    <tr>\n",
       "      <th>3</th>\n",
       "      <td>5.968170</td>\n",
       "      <td>-2.562183</td>\n",
       "      <td>-1.700728</td>\n",
       "      <td>1.001177</td>\n",
       "      <td>-0.623926</td>\n",
       "      <td>1.015342</td>\n",
       "      <td>0.965507</td>\n",
       "      <td>-0.705747</td>\n",
       "      <td>1.211605</td>\n",
       "      <td>-0.410239</td>\n",
       "      <td>0</td>\n",
       "      <td>[[1.0, 0.808], [0.0, 0.0], [0.0, 0.0], [0.0, 0...</td>\n",
       "    </tr>\n",
       "    <tr>\n",
       "      <th>4</th>\n",
       "      <td>-3.693951</td>\n",
       "      <td>1.074243</td>\n",
       "      <td>-0.645609</td>\n",
       "      <td>0.383509</td>\n",
       "      <td>0.261182</td>\n",
       "      <td>0.507587</td>\n",
       "      <td>0.063970</td>\n",
       "      <td>-0.236126</td>\n",
       "      <td>-0.234776</td>\n",
       "      <td>-0.112176</td>\n",
       "      <td>0</td>\n",
       "      <td>[[0.0, 0.0], [0.0, 0.0], [0.0, 0.0], [0.0, 0.0...</td>\n",
       "    </tr>\n",
       "    <tr>\n",
       "      <th>...</th>\n",
       "      <td>...</td>\n",
       "      <td>...</td>\n",
       "      <td>...</td>\n",
       "      <td>...</td>\n",
       "      <td>...</td>\n",
       "      <td>...</td>\n",
       "      <td>...</td>\n",
       "      <td>...</td>\n",
       "      <td>...</td>\n",
       "      <td>...</td>\n",
       "      <td>...</td>\n",
       "      <td>...</td>\n",
       "    </tr>\n",
       "    <tr>\n",
       "      <th>489883</th>\n",
       "      <td>-3.259157</td>\n",
       "      <td>0.820616</td>\n",
       "      <td>-0.865058</td>\n",
       "      <td>-0.368734</td>\n",
       "      <td>-1.878826</td>\n",
       "      <td>0.004368</td>\n",
       "      <td>0.447122</td>\n",
       "      <td>-0.366355</td>\n",
       "      <td>0.025628</td>\n",
       "      <td>-0.306312</td>\n",
       "      <td>0</td>\n",
       "      <td>[[0.0, 0.0], [0.0, 0.0], [0.0, 0.0], [0.0, 0.0...</td>\n",
       "    </tr>\n",
       "    <tr>\n",
       "      <th>489884</th>\n",
       "      <td>-3.150317</td>\n",
       "      <td>0.510794</td>\n",
       "      <td>-0.580027</td>\n",
       "      <td>-0.304704</td>\n",
       "      <td>-0.973869</td>\n",
       "      <td>-0.128911</td>\n",
       "      <td>0.296156</td>\n",
       "      <td>-0.216677</td>\n",
       "      <td>0.143690</td>\n",
       "      <td>0.026059</td>\n",
       "      <td>0</td>\n",
       "      <td>[[0.0, 0.0], [0.0, 0.0], [0.0, 0.0], [0.0, 0.0...</td>\n",
       "    </tr>\n",
       "    <tr>\n",
       "      <th>489885</th>\n",
       "      <td>-3.663320</td>\n",
       "      <td>1.468092</td>\n",
       "      <td>-1.012480</td>\n",
       "      <td>0.399935</td>\n",
       "      <td>-0.833682</td>\n",
       "      <td>0.646013</td>\n",
       "      <td>0.396948</td>\n",
       "      <td>-0.243186</td>\n",
       "      <td>-0.474474</td>\n",
       "      <td>-0.210601</td>\n",
       "      <td>0</td>\n",
       "      <td>[[0.0, 0.0], [0.0, 0.0], [0.0, 0.0], [0.0, 0.0...</td>\n",
       "    </tr>\n",
       "    <tr>\n",
       "      <th>489886</th>\n",
       "      <td>-2.579507</td>\n",
       "      <td>-0.409037</td>\n",
       "      <td>0.497304</td>\n",
       "      <td>-0.273411</td>\n",
       "      <td>0.546975</td>\n",
       "      <td>-0.283218</td>\n",
       "      <td>0.010784</td>\n",
       "      <td>-0.008432</td>\n",
       "      <td>0.116585</td>\n",
       "      <td>-0.362557</td>\n",
       "      <td>0</td>\n",
       "      <td>[[0.0, 0.0], [0.0, 0.0], [0.0, 0.0], [0.0, 0.0...</td>\n",
       "    </tr>\n",
       "    <tr>\n",
       "      <th>489887</th>\n",
       "      <td>-3.312784</td>\n",
       "      <td>0.712184</td>\n",
       "      <td>-0.184403</td>\n",
       "      <td>0.441122</td>\n",
       "      <td>0.897003</td>\n",
       "      <td>-0.077398</td>\n",
       "      <td>-0.001935</td>\n",
       "      <td>0.538488</td>\n",
       "      <td>0.060550</td>\n",
       "      <td>0.266547</td>\n",
       "      <td>0</td>\n",
       "      <td>[[0.0, 0.0], [0.0, 0.0], [0.0, 0.0], [0.0, 0.0...</td>\n",
       "    </tr>\n",
       "  </tbody>\n",
       "</table>\n",
       "<p>483092 rows × 12 columns</p>\n",
       "</div>"
      ],
      "text/plain": [
       "           pca_1     pca_2     pca_3     pca_4     pca_5     pca_6     pca_7  \\\n",
       "0       5.648832  2.841814 -0.804502 -0.282548 -0.640087 -0.546380  0.185798   \n",
       "1      -3.687701  1.061724 -0.518748  0.458308  0.559741  0.528794  0.064901   \n",
       "2       0.783934 -1.016317 -2.282964 -1.440246  0.357206 -0.263926 -1.028692   \n",
       "3       5.968170 -2.562183 -1.700728  1.001177 -0.623926  1.015342  0.965507   \n",
       "4      -3.693951  1.074243 -0.645609  0.383509  0.261182  0.507587  0.063970   \n",
       "...          ...       ...       ...       ...       ...       ...       ...   \n",
       "489883 -3.259157  0.820616 -0.865058 -0.368734 -1.878826  0.004368  0.447122   \n",
       "489884 -3.150317  0.510794 -0.580027 -0.304704 -0.973869 -0.128911  0.296156   \n",
       "489885 -3.663320  1.468092 -1.012480  0.399935 -0.833682  0.646013  0.396948   \n",
       "489886 -2.579507 -0.409037  0.497304 -0.273411  0.546975 -0.283218  0.010784   \n",
       "489887 -3.312784  0.712184 -0.184403  0.441122  0.897003 -0.077398 -0.001935   \n",
       "\n",
       "           pca_8     pca_9    pca_10  asm_snp  \\\n",
       "0      -0.115402  0.532518  0.289689        0   \n",
       "1      -0.038650 -0.262289 -0.180496        0   \n",
       "2       0.021469 -0.173809 -0.789667        0   \n",
       "3      -0.705747  1.211605 -0.410239        0   \n",
       "4      -0.236126 -0.234776 -0.112176        0   \n",
       "...          ...       ...       ...      ...   \n",
       "489883 -0.366355  0.025628 -0.306312        0   \n",
       "489884 -0.216677  0.143690  0.026059        0   \n",
       "489885 -0.243186 -0.474474 -0.210601        0   \n",
       "489886 -0.008432  0.116585 -0.362557        0   \n",
       "489887  0.538488  0.060550  0.266547        0   \n",
       "\n",
       "                                           genomic_matrix  \n",
       "0       [[0.0, 0.0], [0.0, 0.0], [0.0, 0.0], [0.0, 0.0...  \n",
       "1       [[0.0, 0.0], [0.0, 0.0], [0.0, 0.0], [0.0, 0.0...  \n",
       "2       [[0.0, 0.0], [0.0, 0.0], [0.0, 0.0], [0.0, 0.0...  \n",
       "3       [[1.0, 0.808], [0.0, 0.0], [0.0, 0.0], [0.0, 0...  \n",
       "4       [[0.0, 0.0], [0.0, 0.0], [0.0, 0.0], [0.0, 0.0...  \n",
       "...                                                   ...  \n",
       "489883  [[0.0, 0.0], [0.0, 0.0], [0.0, 0.0], [0.0, 0.0...  \n",
       "489884  [[0.0, 0.0], [0.0, 0.0], [0.0, 0.0], [0.0, 0.0...  \n",
       "489885  [[0.0, 0.0], [0.0, 0.0], [0.0, 0.0], [0.0, 0.0...  \n",
       "489886  [[0.0, 0.0], [0.0, 0.0], [0.0, 0.0], [0.0, 0.0...  \n",
       "489887  [[0.0, 0.0], [0.0, 0.0], [0.0, 0.0], [0.0, 0.0...  \n",
       "\n",
       "[483092 rows x 12 columns]"
      ]
     },
     "execution_count": 136,
     "metadata": {},
     "output_type": "execute_result"
    }
   ],
   "source": [
    "# features_df_pca = pd.concat([features_df_pca, features_df[['asm_snp', 'genomic_matrix']]], axis = 1)\n",
    "# features_df_pca"
   ]
  },
  {
   "cell_type": "code",
   "execution_count": 137,
   "id": "dd508432-1839-437a-a88a-aaa42b129199",
   "metadata": {},
   "outputs": [
    {
     "data": {
      "text/plain": [
       "<AxesSubplot:>"
      ]
     },
     "execution_count": 137,
     "metadata": {},
     "output_type": "execute_result"
    },
    {
     "data": {
      "image/png": "[encoded data removed]",
      "text/plain": [
       "<Figure size 720x720 with 2 Axes>"
      ]
     },
     "metadata": {
      "needs_background": "light"
     },
     "output_type": "display_data"
    }
   ],
   "source": [
    "# corr_matrix = pd.DataFrame(abs(features_df_pca.corr()))\n",
    "# sns.heatmap(corr_matrix)"
   ]
  },
  {
   "cell_type": "code",
   "execution_count": 141,
   "id": "dc38b188-003e-424b-9579-eda7edd3e583",
   "metadata": {},
   "outputs": [
    {
     "data": {
      "text/html": [
       "<div>\n",
       "<style scoped>\n",
       "    .dataframe tbody tr th:only-of-type {\n",
       "        vertical-align: middle;\n",
       "    }\n",
       "\n",
       "    .dataframe tbody tr th {\n",
       "        vertical-align: top;\n",
       "    }\n",
       "\n",
       "    .dataframe thead th {\n",
       "        text-align: right;\n",
       "    }\n",
       "</style>\n",
       "<table border=\"1\" class=\"dataframe\">\n",
       "  <thead>\n",
       "    <tr style=\"text-align: right;\">\n",
       "      <th></th>\n",
       "      <th>asm_snp</th>\n",
       "    </tr>\n",
       "  </thead>\n",
       "  <tbody>\n",
       "    <tr>\n",
       "      <th>pca_9</th>\n",
       "      <td>0.009998</td>\n",
       "    </tr>\n",
       "    <tr>\n",
       "      <th>pca_3</th>\n",
       "      <td>0.015564</td>\n",
       "    </tr>\n",
       "    <tr>\n",
       "      <th>pca_8</th>\n",
       "      <td>0.018471</td>\n",
       "    </tr>\n",
       "    <tr>\n",
       "      <th>pca_7</th>\n",
       "      <td>0.036512</td>\n",
       "    </tr>\n",
       "    <tr>\n",
       "      <th>pca_6</th>\n",
       "      <td>0.043287</td>\n",
       "    </tr>\n",
       "    <tr>\n",
       "      <th>pca_10</th>\n",
       "      <td>0.048365</td>\n",
       "    </tr>\n",
       "    <tr>\n",
       "      <th>pca_2</th>\n",
       "      <td>0.050133</td>\n",
       "    </tr>\n",
       "    <tr>\n",
       "      <th>pca_5</th>\n",
       "      <td>0.053500</td>\n",
       "    </tr>\n",
       "    <tr>\n",
       "      <th>pca_1</th>\n",
       "      <td>0.144427</td>\n",
       "    </tr>\n",
       "    <tr>\n",
       "      <th>pca_4</th>\n",
       "      <td>0.159708</td>\n",
       "    </tr>\n",
       "    <tr>\n",
       "      <th>asm_snp</th>\n",
       "      <td>1.000000</td>\n",
       "    </tr>\n",
       "  </tbody>\n",
       "</table>\n",
       "</div>"
      ],
      "text/plain": [
       "          asm_snp\n",
       "pca_9    0.009998\n",
       "pca_3    0.015564\n",
       "pca_8    0.018471\n",
       "pca_7    0.036512\n",
       "pca_6    0.043287\n",
       "pca_10   0.048365\n",
       "pca_2    0.050133\n",
       "pca_5    0.053500\n",
       "pca_1    0.144427\n",
       "pca_4    0.159708\n",
       "asm_snp  1.000000"
      ]
     },
     "execution_count": 141,
     "metadata": {},
     "output_type": "execute_result"
    }
   ],
   "source": [
    "# corr_matrix = pd.DataFrame(abs(features_df_pca.corr()['asm_snp'])).sort_values(by = 'asm_snp')\n",
    "# corr_matrix"
   ]
  },
  {
   "cell_type": "markdown",
   "id": "05d39f59-bad8-4ed9-90fd-27d746d1e0b8",
   "metadata": {},
   "source": [
    "## Split the dataset for training and testing\n",
    "\n",
    "We use the sklearn `train_test_split` function. The validation set will be carved out from the training set when training the model. The validation set will be  used during the model fitting to evaluate the loss and any metrics, however the model is not fit with this data. The test set is completely unused during the training phase and is only used at the end to evaluate how well the model generalizes to new data. "
   ]
  },
  {
   "cell_type": "code",
   "execution_count": 411,
   "id": "1fb3c4b5-c0b7-4414-8348-c0605eea67b6",
   "metadata": {},
   "outputs": [],
   "source": [
    "df_for_split = normalized_df.copy()"
   ]
  },
  {
   "cell_type": "code",
   "execution_count": 412,
   "id": "5bde7afa-f9f7-4f27-a627-91be3074dbd2",
   "metadata": {},
   "outputs": [
    {
     "data": {
      "text/plain": [
       "'Image features'"
      ]
     },
     "metadata": {},
     "output_type": "display_data"
    },
    {
     "data": {
      "text/plain": [
       "'Size of the TRAIN dataset for images:'"
      ]
     },
     "metadata": {},
     "output_type": "display_data"
    },
    {
     "data": {
      "text/plain": [
       "(386473, 250, 2)"
      ]
     },
     "metadata": {},
     "output_type": "display_data"
    },
    {
     "data": {
      "text/plain": [
       "'Size of the TEST dataset for images:'"
      ]
     },
     "metadata": {},
     "output_type": "display_data"
    },
    {
     "data": {
      "text/plain": [
       "(96619, 250, 2)"
      ]
     },
     "metadata": {},
     "output_type": "display_data"
    },
    {
     "data": {
      "text/plain": [
       "'SCALAR FEATURES:'"
      ]
     },
     "metadata": {},
     "output_type": "display_data"
    },
    {
     "data": {
      "text/plain": [
       "'Size of the TRAIN datase:'"
      ]
     },
     "metadata": {},
     "output_type": "display_data"
    },
    {
     "data": {
      "text/plain": [
       "(386473, 53)"
      ]
     },
     "metadata": {},
     "output_type": "display_data"
    },
    {
     "data": {
      "text/plain": [
       "'Size of the TEST dataset:'"
      ]
     },
     "metadata": {},
     "output_type": "display_data"
    },
    {
     "data": {
      "text/plain": [
       "(96619, 53)"
      ]
     },
     "metadata": {},
     "output_type": "display_data"
    },
    {
     "data": {
      "text/plain": [
       "'LABELS:'"
      ]
     },
     "metadata": {},
     "output_type": "display_data"
    },
    {
     "data": {
      "text/plain": [
       "'Size of the TRAIN LABELS dataset:'"
      ]
     },
     "metadata": {},
     "output_type": "display_data"
    },
    {
     "data": {
      "text/plain": [
       "(386473,)"
      ]
     },
     "metadata": {},
     "output_type": "display_data"
    },
    {
     "data": {
      "text/plain": [
       "'Size of the TEST LABELS dataset:'"
      ]
     },
     "metadata": {},
     "output_type": "display_data"
    },
    {
     "data": {
      "text/plain": [
       "(96619,)"
      ]
     },
     "metadata": {},
     "output_type": "display_data"
    }
   ],
   "source": [
    "# Use a utility from sklearn to split and shuffle our dataset.\n",
    "train_df, test_df = train_test_split(df_for_split, test_size=TEST_SPLIT)\n",
    "\n",
    "# Form np arrays of labels\n",
    "train_labels = np.array(train_df.pop('asm_snp'))\n",
    "test_labels = np.array(test_df.pop('asm_snp'))\n",
    "\n",
    "# Np arrays of features for CNN/RNN\n",
    "train_image_feature = np.array(train_df['genomic_matrix'].tolist())\n",
    "test_image_feature = np.array(test_df['genomic_matrix'].tolist())\n",
    "\n",
    "# Remove the matrix for the datasets\n",
    "train_df.drop('genomic_matrix', axis = 1, inplace = True)\n",
    "test_df.drop('genomic_matrix', axis = 1, inplace = True)\n",
    "\n",
    "# np arrays for  linear/perceptron\n",
    "train_scalar_features = np.array(train_df)\n",
    "test_scalar_features = np.array(test_df)\n",
    "\n",
    "# Check size of arrays for CNN (X,250,3)\n",
    "display(\"Image features\")\n",
    "display(\"Size of the TRAIN dataset for images:\", train_image_feature.shape)\n",
    "display(\"Size of the TEST dataset for images:\", test_image_feature.shape)\n",
    "\n",
    "# # Check size of arrays for scalar features (X, 39)\n",
    "display(\"SCALAR FEATURES:\")\n",
    "display(\"Size of the TRAIN datase:\", train_scalar_features.shape)\n",
    "display(\"Size of the TEST dataset:\", test_scalar_features.shape)\n",
    "\n",
    "# # Check size of arrays for the labels\n",
    "display(\"LABELS:\")\n",
    "display(\"Size of the TRAIN LABELS dataset:\", train_labels.shape)\n",
    "display(\"Size of the TEST LABELS dataset:\", test_labels.shape)"
   ]
  },
  {
   "cell_type": "markdown",
   "id": "615cef5c-2b03-4553-b66b-2d36a60bfd91",
   "metadata": {
    "tags": []
   },
   "source": [
    "## Logistic regression"
   ]
  },
  {
   "cell_type": "code",
   "execution_count": 413,
   "id": "4a16a918-449b-445f-b312-c81ead250b7b",
   "metadata": {},
   "outputs": [],
   "source": [
    "def make_logistic_regression_model(output_bias = None):\n",
    "    if output_bias is not None:\n",
    "        output_bias = tf.keras.initializers.Constant(output_bias)\n",
    "    model = keras.Sequential()\n",
    "    \n",
    "    # Normalize the features\n",
    "    # model.add(\n",
    "    #     layers.BatchNormalization(\n",
    "    #         axis=-1,\n",
    "    #         momentum = 0.99,\n",
    "    #         epsilon = 0.001,\n",
    "    #         input_dim = train_scalar_features.shape[1])\n",
    "    # )\n",
    "    model.add(\n",
    "        layers.Normalization(\n",
    "            axis = 1,\n",
    "            input_dim = train_scalar_features.shape[1])\n",
    "    )\n",
    "    \n",
    "    # Linear model\n",
    "    model.add(\n",
    "        layers.Dense(\n",
    "                1,  # number of classes\n",
    "                activation='sigmoid', #'sigmoid' 'softmax'\n",
    "                kernel_regularizer = keras.regularizers.L1L2(\n",
    "                    l1 = L1_R, \n",
    "                    l2 = L2_R),\n",
    "                bias_initializer=output_bias\n",
    "                )\n",
    "    )\n",
    " \n",
    "  \n",
    "    model.compile(\n",
    "        optimizer = 'sgd' , # sgd = stochastic gradient descent, rmsprop\n",
    "        loss= 'binary_crossentropy', # 'mse' 'categorical_crossentropy', 'binary_crossentropy'\n",
    "        metrics = METRICS)\n",
    "\n",
    "    return model\n"
   ]
  },
  {
   "cell_type": "code",
   "execution_count": 219,
   "id": "76b1b309-16d9-4b5e-85ab-bde22b42dba0",
   "metadata": {},
   "outputs": [],
   "source": [
    "normalizer = layers.Normalization()\n",
    "normalizer.adapt(train_scalar_features)"
   ]
  },
  {
   "cell_type": "code",
   "execution_count": 181,
   "id": "99b11f3e-c73a-4218-8096-3ca435e6ee89",
   "metadata": {},
   "outputs": [
    {
     "data": {
      "text/html": [
       "<div>\n",
       "<style scoped>\n",
       "    .dataframe tbody tr th:only-of-type {\n",
       "        vertical-align: middle;\n",
       "    }\n",
       "\n",
       "    .dataframe tbody tr th {\n",
       "        vertical-align: top;\n",
       "    }\n",
       "\n",
       "    .dataframe thead th {\n",
       "        text-align: right;\n",
       "    }\n",
       "</style>\n",
       "<table border=\"1\" class=\"dataframe\">\n",
       "  <thead>\n",
       "    <tr style=\"text-align: right;\">\n",
       "      <th></th>\n",
       "      <th>asm_snp</th>\n",
       "      <th>pca_cpg_fm_1</th>\n",
       "      <th>pca_cpg_fm_2</th>\n",
       "      <th>pca_cpg_fm_3</th>\n",
       "      <th>pca_cpg_fm_4</th>\n",
       "      <th>pca_cpg_fm_5</th>\n",
       "      <th>pca_read_fm_1</th>\n",
       "      <th>pca_read_fm_2</th>\n",
       "      <th>pca_read_fm_3</th>\n",
       "      <th>pca_read_fm_4</th>\n",
       "      <th>pca_read_fm_5</th>\n",
       "    </tr>\n",
       "  </thead>\n",
       "  <tbody>\n",
       "    <tr>\n",
       "      <th>count</th>\n",
       "      <td>50000.000000</td>\n",
       "      <td>5.000000e+04</td>\n",
       "      <td>5.000000e+04</td>\n",
       "      <td>5.000000e+04</td>\n",
       "      <td>5.000000e+04</td>\n",
       "      <td>5.000000e+04</td>\n",
       "      <td>5.000000e+04</td>\n",
       "      <td>5.000000e+04</td>\n",
       "      <td>5.000000e+04</td>\n",
       "      <td>5.000000e+04</td>\n",
       "      <td>5.000000e+04</td>\n",
       "    </tr>\n",
       "    <tr>\n",
       "      <th>mean</th>\n",
       "      <td>0.014260</td>\n",
       "      <td>2.402878e-16</td>\n",
       "      <td>4.306192e-16</td>\n",
       "      <td>-7.468870e-16</td>\n",
       "      <td>2.706119e-16</td>\n",
       "      <td>1.747935e-16</td>\n",
       "      <td>2.402878e-16</td>\n",
       "      <td>4.306192e-16</td>\n",
       "      <td>-7.468870e-16</td>\n",
       "      <td>2.706119e-16</td>\n",
       "      <td>1.747935e-16</td>\n",
       "    </tr>\n",
       "    <tr>\n",
       "      <th>std</th>\n",
       "      <td>0.118562</td>\n",
       "      <td>2.208884e+00</td>\n",
       "      <td>9.007871e-01</td>\n",
       "      <td>4.905100e-01</td>\n",
       "      <td>4.041753e-01</td>\n",
       "      <td>3.076128e-01</td>\n",
       "      <td>2.208884e+00</td>\n",
       "      <td>9.007871e-01</td>\n",
       "      <td>4.905100e-01</td>\n",
       "      <td>4.041753e-01</td>\n",
       "      <td>3.076128e-01</td>\n",
       "    </tr>\n",
       "    <tr>\n",
       "      <th>min</th>\n",
       "      <td>0.000000</td>\n",
       "      <td>-3.062736e+00</td>\n",
       "      <td>-1.549168e+00</td>\n",
       "      <td>-1.562781e+00</td>\n",
       "      <td>-1.420869e+00</td>\n",
       "      <td>-1.314317e+00</td>\n",
       "      <td>-3.062736e+00</td>\n",
       "      <td>-1.549168e+00</td>\n",
       "      <td>-1.562781e+00</td>\n",
       "      <td>-1.420869e+00</td>\n",
       "      <td>-1.314317e+00</td>\n",
       "    </tr>\n",
       "    <tr>\n",
       "      <th>25%</th>\n",
       "      <td>0.000000</td>\n",
       "      <td>-2.232006e+00</td>\n",
       "      <td>-7.486027e-01</td>\n",
       "      <td>-3.279233e-01</td>\n",
       "      <td>-2.303849e-01</td>\n",
       "      <td>-1.572722e-01</td>\n",
       "      <td>-2.232006e+00</td>\n",
       "      <td>-7.486027e-01</td>\n",
       "      <td>-3.279233e-01</td>\n",
       "      <td>-2.303849e-01</td>\n",
       "      <td>-1.572722e-01</td>\n",
       "    </tr>\n",
       "    <tr>\n",
       "      <th>50%</th>\n",
       "      <td>0.000000</td>\n",
       "      <td>-5.206468e-01</td>\n",
       "      <td>-2.096190e-01</td>\n",
       "      <td>1.048871e-02</td>\n",
       "      <td>-3.865631e-02</td>\n",
       "      <td>7.664590e-02</td>\n",
       "      <td>-5.206468e-01</td>\n",
       "      <td>-2.096190e-01</td>\n",
       "      <td>1.048871e-02</td>\n",
       "      <td>-3.865631e-02</td>\n",
       "      <td>7.664590e-02</td>\n",
       "    </tr>\n",
       "    <tr>\n",
       "      <th>75%</th>\n",
       "      <td>0.000000</td>\n",
       "      <td>2.506118e+00</td>\n",
       "      <td>5.712621e-01</td>\n",
       "      <td>2.793249e-01</td>\n",
       "      <td>1.702202e-01</td>\n",
       "      <td>1.517640e-01</td>\n",
       "      <td>2.506118e+00</td>\n",
       "      <td>5.712621e-01</td>\n",
       "      <td>2.793249e-01</td>\n",
       "      <td>1.702202e-01</td>\n",
       "      <td>1.517640e-01</td>\n",
       "    </tr>\n",
       "    <tr>\n",
       "      <th>max</th>\n",
       "      <td>1.000000</td>\n",
       "      <td>3.594936e+00</td>\n",
       "      <td>4.172272e+00</td>\n",
       "      <td>3.125927e+00</td>\n",
       "      <td>3.740141e+00</td>\n",
       "      <td>2.670186e+00</td>\n",
       "      <td>3.594936e+00</td>\n",
       "      <td>4.172272e+00</td>\n",
       "      <td>3.125927e+00</td>\n",
       "      <td>3.740141e+00</td>\n",
       "      <td>2.670186e+00</td>\n",
       "    </tr>\n",
       "  </tbody>\n",
       "</table>\n",
       "</div>"
      ],
      "text/plain": [
       "            asm_snp  pca_cpg_fm_1  pca_cpg_fm_2  pca_cpg_fm_3  pca_cpg_fm_4  \\\n",
       "count  50000.000000  5.000000e+04  5.000000e+04  5.000000e+04  5.000000e+04   \n",
       "mean       0.014260  2.402878e-16  4.306192e-16 -7.468870e-16  2.706119e-16   \n",
       "std        0.118562  2.208884e+00  9.007871e-01  4.905100e-01  4.041753e-01   \n",
       "min        0.000000 -3.062736e+00 -1.549168e+00 -1.562781e+00 -1.420869e+00   \n",
       "25%        0.000000 -2.232006e+00 -7.486027e-01 -3.279233e-01 -2.303849e-01   \n",
       "50%        0.000000 -5.206468e-01 -2.096190e-01  1.048871e-02 -3.865631e-02   \n",
       "75%        0.000000  2.506118e+00  5.712621e-01  2.793249e-01  1.702202e-01   \n",
       "max        1.000000  3.594936e+00  4.172272e+00  3.125927e+00  3.740141e+00   \n",
       "\n",
       "       pca_cpg_fm_5  pca_read_fm_1  pca_read_fm_2  pca_read_fm_3  \\\n",
       "count  5.000000e+04   5.000000e+04   5.000000e+04   5.000000e+04   \n",
       "mean   1.747935e-16   2.402878e-16   4.306192e-16  -7.468870e-16   \n",
       "std    3.076128e-01   2.208884e+00   9.007871e-01   4.905100e-01   \n",
       "min   -1.314317e+00  -3.062736e+00  -1.549168e+00  -1.562781e+00   \n",
       "25%   -1.572722e-01  -2.232006e+00  -7.486027e-01  -3.279233e-01   \n",
       "50%    7.664590e-02  -5.206468e-01  -2.096190e-01   1.048871e-02   \n",
       "75%    1.517640e-01   2.506118e+00   5.712621e-01   2.793249e-01   \n",
       "max    2.670186e+00   3.594936e+00   4.172272e+00   3.125927e+00   \n",
       "\n",
       "       pca_read_fm_4  pca_read_fm_5  \n",
       "count   5.000000e+04   5.000000e+04  \n",
       "mean    2.706119e-16   1.747935e-16  \n",
       "std     4.041753e-01   3.076128e-01  \n",
       "min    -1.420869e+00  -1.314317e+00  \n",
       "25%    -2.303849e-01  -1.572722e-01  \n",
       "50%    -3.865631e-02   7.664590e-02  \n",
       "75%     1.702202e-01   1.517640e-01  \n",
       "max     3.740141e+00   2.670186e+00  "
      ]
     },
     "execution_count": 181,
     "metadata": {},
     "output_type": "execute_result"
    }
   ],
   "source": [
    "selected_features_df.describe()"
   ]
  },
  {
   "cell_type": "code",
   "execution_count": 144,
   "id": "8ee45aaf-045a-46d5-8f7c-1202f013c199",
   "metadata": {},
   "outputs": [
    {
     "name": "stdout",
     "output_type": "stream",
     "text": [
      "(10,)\n"
     ]
    },
    {
     "ename": "NameError",
     "evalue": "name 'normalizer' is not defined",
     "output_type": "error",
     "traceback": [
      "\u001b[0;31m---------------------------------------------------------------------------\u001b[0m",
      "\u001b[0;31mNameError\u001b[0m                                 Traceback (most recent call last)",
      "\u001b[0;32m/tmp/ipykernel_20121/3248672548.py\u001b[0m in \u001b[0;36m<module>\u001b[0;34m\u001b[0m\n\u001b[1;32m      6\u001b[0m \u001b[0mprint\u001b[0m\u001b[0;34m(\u001b[0m\u001b[0minput_shape\u001b[0m\u001b[0;34m)\u001b[0m\u001b[0;34m\u001b[0m\u001b[0;34m\u001b[0m\u001b[0m\n\u001b[1;32m      7\u001b[0m \u001b[0minputs\u001b[0m \u001b[0;34m=\u001b[0m \u001b[0mkeras\u001b[0m\u001b[0;34m.\u001b[0m\u001b[0mInput\u001b[0m\u001b[0;34m(\u001b[0m\u001b[0mshape\u001b[0m\u001b[0;34m=\u001b[0m\u001b[0minput_shape\u001b[0m\u001b[0;34m)\u001b[0m\u001b[0;34m\u001b[0m\u001b[0;34m\u001b[0m\u001b[0m\n\u001b[0;32m----> 8\u001b[0;31m \u001b[0mx\u001b[0m \u001b[0;34m=\u001b[0m \u001b[0mnormalizer\u001b[0m\u001b[0;34m(\u001b[0m\u001b[0minputs\u001b[0m\u001b[0;34m)\u001b[0m\u001b[0;34m\u001b[0m\u001b[0;34m\u001b[0m\u001b[0m\n\u001b[0m\u001b[1;32m      9\u001b[0m \u001b[0moutputs\u001b[0m \u001b[0;34m=\u001b[0m \u001b[0mlayers\u001b[0m\u001b[0;34m.\u001b[0m\u001b[0mDense\u001b[0m\u001b[0;34m(\u001b[0m\u001b[0;36m1\u001b[0m\u001b[0;34m,\u001b[0m \u001b[0mactivation\u001b[0m\u001b[0;34m=\u001b[0m\u001b[0;34m\"sigmoid\"\u001b[0m\u001b[0;34m)\u001b[0m\u001b[0;34m(\u001b[0m\u001b[0mx\u001b[0m\u001b[0;34m)\u001b[0m\u001b[0;34m\u001b[0m\u001b[0;34m\u001b[0m\u001b[0m\n\u001b[1;32m     10\u001b[0m \u001b[0mlinear_model\u001b[0m \u001b[0;34m=\u001b[0m \u001b[0mkeras\u001b[0m\u001b[0;34m.\u001b[0m\u001b[0mModel\u001b[0m\u001b[0;34m(\u001b[0m\u001b[0minputs\u001b[0m\u001b[0;34m,\u001b[0m \u001b[0moutputs\u001b[0m\u001b[0;34m)\u001b[0m\u001b[0;34m\u001b[0m\u001b[0;34m\u001b[0m\u001b[0m\n",
      "\u001b[0;31mNameError\u001b[0m: name 'normalizer' is not defined"
     ]
    }
   ],
   "source": [
    "# Create a Normalization layer and set its internal state using the training data\n",
    "#normalizer = layers.Normalization()\n",
    "#normalizer.adapt(train_scalar_features)\n",
    "\n",
    "input_shape = train_scalar_features.shape[1:]\n",
    "print(input_shape)\n",
    "inputs = keras.Input(shape=input_shape)\n",
    "x = normalizer(inputs)\n",
    "outputs = layers.Dense(1, activation=\"sigmoid\")(x)\n",
    "linear_model = keras.Model(inputs, outputs)\n"
   ]
  },
  {
   "cell_type": "code",
   "execution_count": 202,
   "id": "b765c748-85de-468a-ae52-1ba6590a26c9",
   "metadata": {},
   "outputs": [],
   "source": [
    "linear_model.compile(\n",
    "        optimizer = 'sgd' , # sgd = stochastic gradient descent, rmsprop\n",
    "        loss= 'binary_crossentropy', # 'mse' 'categorical_crossentropy', 'binary_crossentropy'\n",
    "        metrics = METRICS)"
   ]
  },
  {
   "cell_type": "code",
   "execution_count": 414,
   "id": "f2ec731b-3677-4cc9-bc5f-28aa4079e175",
   "metadata": {},
   "outputs": [],
   "source": [
    "linear_model = make_logistic_regression_model()"
   ]
  },
  {
   "cell_type": "code",
   "execution_count": 415,
   "id": "243dcae0-a04f-4fbe-b46b-2f06f39bab9b",
   "metadata": {},
   "outputs": [
    {
     "data": {
      "image/png": "[encoded data removed]",
      "text/plain": [
       "<IPython.core.display.Image object>"
      ]
     },
     "execution_count": 415,
     "metadata": {},
     "output_type": "execute_result"
    }
   ],
   "source": [
    "linear_model.summary()\n",
    "keras.utils.plot_model(linear_model, \"linear_model.png\", show_shapes=True)"
   ]
  },
  {
   "cell_type": "code",
   "execution_count": 416,
   "id": "9089d144-77ad-4cf6-92bd-01278e2d7055",
   "metadata": {},
   "outputs": [],
   "source": [
    "linear_training = linear_model.fit(\n",
    "    train_scalar_features,\n",
    "    train_labels,\n",
    "    batch_size = BATCH_SIZE,\n",
    "    epochs = EPOCHS,\n",
    "    callbacks = [EARLY_STOPPING],\n",
    "    validation_split = VALIDATION_SPLIT,\n",
    "    class_weight = class_weight_asm) "
   ]
  },
  {
   "cell_type": "code",
   "execution_count": 417,
   "id": "0143fd5e-3a70-4c8a-ab63-f3e4fdd8c13d",
   "metadata": {},
   "outputs": [
    {
     "data": {
      "image/png": "[encoded data removed]",
      "text/plain": [
       "<Figure size 720x720 with 4 Axes>"
      ]
     },
     "metadata": {},
     "output_type": "display_data"
    }
   ],
   "source": [
    "plot_metrics(linear_training)"
   ]
  },
  {
   "cell_type": "code",
   "execution_count": 418,
   "id": "a2c44784-07aa-4f88-91d5-aade135911f5",
   "metadata": {},
   "outputs": [],
   "source": [
    "# Evaluate model on the test dataset\n",
    "linear_results = linear_model.evaluate(test_scalar_features, test_labels, batch_size= BATCH_SIZE,\n",
    "                                           verbose=1)\n",
    "\n",
    "display_results(linear_results)"
   ]
  },
  {
   "cell_type": "markdown",
   "id": "94734896-b3e3-4f7b-9a29-b932984703e2",
   "metadata": {},
   "source": [
    "## Forest models"
   ]
  },
  {
   "cell_type": "markdown",
   "id": "90ba5104-d4d9-4aaf-bb4b-9a9c6cec04b0",
   "metadata": {},
   "source": [
    "### Simple Forest model"
   ]
  },
  {
   "cell_type": "code",
   "execution_count": 420,
   "id": "e80d4daa-2218-4f95-bb0f-ee33b0424c21",
   "metadata": {},
   "outputs": [],
   "source": [
    "simple_tree = tfdf.keras.RandomForestModel(\n",
    "    task=tfdf.keras.Task.CLASSIFICATION)\n",
    "\n",
    "simple_tree.compile(metrics=METRICS)"
   ]
  },
  {
   "cell_type": "code",
   "execution_count": 421,
   "id": "9dc0b62f-aa87-4cf6-bb3d-d9b1f059f2e0",
   "metadata": {},
   "outputs": [
    {
     "data": {
      "text/plain": [
       "<keras.callbacks.History at 0x7f25f0acd110>"
      ]
     },
     "execution_count": 421,
     "metadata": {},
     "output_type": "execute_result"
    }
   ],
   "source": [
    "simple_tree.fit(x=train_scalar_features, \n",
    "             y = train_labels, \n",
    "             batch_size=BATCH_SIZE,\n",
    "             callbacks = [EARLY_STOPPING],\n",
    "             class_weight=class_weight_asm, \n",
    "             validation_split = VALIDATION_SPLIT,\n",
    "             verbose = 0)\n"
   ]
  },
  {
   "cell_type": "code",
   "execution_count": 446,
   "id": "9bf42da2-3031-4706-af79-1cfaea164975",
   "metadata": {},
   "outputs": [
    {
     "data": {
      "text/plain": [
       "{'loss': 0.0,\n",
       " 'tp': 84.0,\n",
       " 'fp': 35.0,\n",
       " 'tn': 95284.0,\n",
       " 'fn': 1216.0,\n",
       " 'accuracy': 0.9870522618293762,\n",
       " 'precision': 0.7058823704719543,\n",
       " 'sensitivity': 0.06461538374423981,\n",
       " 'auc': 0.9251663088798523}"
      ]
     },
     "execution_count": 446,
     "metadata": {},
     "output_type": "execute_result"
    }
   ],
   "source": [
    "simple_tree_results = simple_tree.evaluate(\n",
    "    test_scalar_features, \n",
    "    test_labels, \n",
    "    batch_size = BATCH_SIZE, \n",
    "    return_dict=True)\n",
    "\n",
    "simple_tree_results"
   ]
  },
  {
   "cell_type": "markdown",
   "id": "7c4083ba-e019-4380-b8cf-02241ab5df25",
   "metadata": {},
   "source": [
    "### Gradient Boosted Tree model"
   ]
  },
  {
   "cell_type": "code",
   "execution_count": 424,
   "id": "a8c7dad3-27a3-4511-bafa-8bd4a80d7f26",
   "metadata": {},
   "outputs": [],
   "source": [
    "def create_gbt_model():\n",
    "    boosted_tree = tfdf.keras.GradientBoostedTreesModel(\n",
    "        #features = specify_feature_usages(df_for_split),\n",
    "        growing_strategy=GROWING_STRATEGY,\n",
    "        num_trees=NUM_TREES,\n",
    "        max_depth=MAX_DEPTH,\n",
    "        min_examples=MIN_EXAMPLES,\n",
    "        subsample=SUBSAMPLE,\n",
    "        task=tfdf.keras.Task.CLASSIFICATION,\n",
    "        loss=\"DEFAULT\",\n",
    "    )\n",
    "\n",
    "    boosted_tree.compile(metrics=METRICS)\n",
    "    return boosted_tree"
   ]
  },
  {
   "cell_type": "code",
   "execution_count": 425,
   "id": "cb4bf7ee-5a31-4c62-8ce0-96e585e89ecc",
   "metadata": {},
   "outputs": [],
   "source": [
    "boosted_tree = create_gbt_model()"
   ]
  },
  {
   "cell_type": "code",
   "execution_count": 426,
   "id": "cd3318ab-c493-46cf-a3c3-30a380c588f9",
   "metadata": {},
   "outputs": [
    {
     "data": {
      "text/plain": [
       "<keras.callbacks.History at 0x7f2570228cd0>"
      ]
     },
     "execution_count": 426,
     "metadata": {},
     "output_type": "execute_result"
    }
   ],
   "source": [
    "boosted_tree.fit(x = train_scalar_features, \n",
    "              y = train_labels, \n",
    "              batch_size=BATCH_SIZE, \n",
    "              validation_split = VALIDATION_SPLIT,\n",
    "              callbacks = [EARLY_STOPPING],\n",
    "              class_weight=class_weight_asm, \n",
    "              verbose = 1)"
   ]
  },
  {
   "cell_type": "code",
   "execution_count": 445,
   "id": "b37be835-9571-4671-82e2-44699b6f5180",
   "metadata": {},
   "outputs": [
    {
     "data": {
      "text/plain": [
       "{'loss': 0.0,\n",
       " 'tp': 215.0,\n",
       " 'fp': 240.0,\n",
       " 'tn': 95079.0,\n",
       " 'fn': 1085.0,\n",
       " 'accuracy': 0.9862863421440125,\n",
       " 'precision': 0.47252747416496277,\n",
       " 'sensitivity': 0.16538462042808533,\n",
       " 'auc': 0.9426530003547668}"
      ]
     },
     "execution_count": 445,
     "metadata": {},
     "output_type": "execute_result"
    }
   ],
   "source": [
    "boosted_tree_results = gbt_model.evaluate(\n",
    "    test_scalar_features, \n",
    "    test_labels, \n",
    "    batch_size = BATCH_SIZE, \n",
    "    return_dict=True)\n",
    "boosted_tree_results"
   ]
  },
  {
   "cell_type": "markdown",
   "id": "b066fd87-a5f8-4225-9385-f1b8c21d1b01",
   "metadata": {},
   "source": [
    "## Perceptron model"
   ]
  },
  {
   "cell_type": "code",
   "execution_count": 428,
   "id": "5e55a34e-c704-4f19-8ebc-2eb81070e764",
   "metadata": {},
   "outputs": [],
   "source": [
    "def make_perceptron_model(output_bias = None):\n",
    "    if output_bias is not None:\n",
    "        output_bias = tf.keras.initializers.Constant(output_bias)\n",
    "  \n",
    "    model = keras.Sequential()\n",
    "  \n",
    "#     # Normalize the features\n",
    "#     model.add(\n",
    "#         layers.Normalization(\n",
    "#             axis = 1,\n",
    "#             input_dim = train_scalar_features.shape[-1])\n",
    "#     )\n",
    "        \n",
    "  # Initial perceptron layer\n",
    "    model.add(\n",
    "        layers.Dense(\n",
    "            NB_NODES_PERCEPTRON, \n",
    "            activation=ACTIVATION_FUNCTION,\n",
    "            input_dim = train_scalar_features.shape[-1],\n",
    "            kernel_regularizer = keras.regularizers.L1L2(\n",
    "                    l1 = L1_R, \n",
    "                    l2 = L2_R)\n",
    "        )\n",
    "    )\n",
    "  \n",
    "    # Range of neuron layers\n",
    "    for layer_number in range(0, NB_LAYERS_PERCEPTRON-1): \n",
    "        model.add(layers.Dense(\n",
    "            NB_NODES_PERCEPTRON, \n",
    "            activation = ACTIVATION_FUNCTION,\n",
    "            kernel_regularizer = keras.regularizers.L1L2(\n",
    "                    l1 = L1_R, \n",
    "                    l2 = L2_R)))\n",
    "  \n",
    "        # Dropout layer in between layers\n",
    "        model.add(layers.Dropout(0.5))\n",
    "\n",
    "    # We add a sigmoid to create the probability function of the ASM event.\n",
    "    model.add(\n",
    "        layers.Dense(\n",
    "            1, \n",
    "            activation='sigmoid',\n",
    "            bias_initializer=output_bias,\n",
    "            kernel_regularizer = keras.regularizers.L1L2(\n",
    "                    l1 = L1_R, \n",
    "                    l2 = L2_R)))\n",
    "\n",
    "    model.compile(\n",
    "        optimizer = keras.optimizers.Adam(learning_rate = LEARNING_RATE),\n",
    "        loss = keras.losses.BinaryCrossentropy(),\n",
    "        metrics = METRICS)\n",
    "\n",
    "    return model\n"
   ]
  },
  {
   "cell_type": "code",
   "execution_count": 429,
   "id": "d240b81b-547d-4b53-bd34-7caff787d77a",
   "metadata": {},
   "outputs": [],
   "source": [
    "perceptron_model = make_perceptron_model()\n",
    "perceptron_model.summary()"
   ]
  },
  {
   "cell_type": "code",
   "execution_count": 430,
   "id": "7c2a8496-1b8c-49bf-af90-ab57cf6651da",
   "metadata": {},
   "outputs": [],
   "source": [
    "perceptron_training = perceptron_model.fit(\n",
    "    train_scalar_features,\n",
    "    train_labels,\n",
    "    batch_size=BATCH_SIZE,\n",
    "    epochs=EPOCHS,\n",
    "    callbacks = [EARLY_STOPPING],\n",
    "    validation_split = VALIDATION_SPLIT,\n",
    "    class_weight=class_weight_asm,\n",
    "    verbose = 0) "
   ]
  },
  {
   "cell_type": "code",
   "execution_count": 431,
   "id": "e84bda20-b408-47a8-b3e2-d47bd4dd1c88",
   "metadata": {},
   "outputs": [
    {
     "data": {
      "image/png": "[encoded data removed]",
      "text/plain": [
       "<Figure size 720x720 with 4 Axes>"
      ]
     },
     "metadata": {},
     "output_type": "display_data"
    }
   ],
   "source": [
    "plot_metrics(perceptron_training)"
   ]
  },
  {
   "cell_type": "code",
   "execution_count": 432,
   "id": "f00cfbe0-f510-4126-8765-92540accf00d",
   "metadata": {},
   "outputs": [],
   "source": [
    "perceptron_results = perceptron_model.evaluate(test_scalar_features, \n",
    "                                               test_labels, \n",
    "                                               batch_size= BATCH_SIZE,\n",
    "                                               verbose=1)\n",
    "display_results(perceptron_results)"
   ]
  },
  {
   "cell_type": "markdown",
   "id": "93948497-6b99-4032-abf4-3e8c34904cb4",
   "metadata": {},
   "source": [
    "## CNN model with the genomic picture as sole input"
   ]
  },
  {
   "cell_type": "code",
   "execution_count": 433,
   "id": "866a3648-bb78-4ca9-a3a4-39cc9ef83e70",
   "metadata": {},
   "outputs": [],
   "source": [
    "def make_simple_cnn_model(output_bias = None):\n",
    "\n",
    "    if output_bias is not None:\n",
    "        output_bias = tf.keras.initializers.Constant(output_bias)\n",
    "\n",
    "    # Start the model\n",
    "    model = keras.Sequential()\n",
    "    \n",
    "    # Normalize the features\n",
    "    # model.add(\n",
    "    #     layers.BatchNormalization(\n",
    "    #         axis=-1,\n",
    "    #         momentum = 0.99,\n",
    "    #         epsilon = 0.001,\n",
    "    #         input_shape=(train_image_feature.shape[1], train_image_feature.shape[2])\n",
    "    #     )\n",
    "    # )  \n",
    "    \n",
    "    # Add a convolutional layer\n",
    "    model.add(layers.Conv1D(\n",
    "        filters = CNN_FILTERS, \n",
    "        kernel_size = CNN_KERNEL,\n",
    "        activation = ACTIVATION_FUNCTION,\n",
    "        input_shape=(train_image_feature.shape[1], train_image_feature.shape[2]),\n",
    "        kernel_regularizer = keras.regularizers.L1L2(\n",
    "                            l1 = L1_R, \n",
    "                            l2 = L2_R)))\n",
    "\n",
    "    # Pooling\n",
    "    model.add(layers.MaxPooling1D(pool_size=2))\n",
    "  \n",
    "    # Flattening\n",
    "    model.add(layers.Flatten())\n",
    "  \n",
    "    # Output layer (Sigmoid)\n",
    "    model.add(layers.Dense(1, activation='sigmoid', \n",
    "                         kernel_regularizer = keras.regularizers.L1L2(\n",
    "                            l1 = L1_R, \n",
    "                            l2 = L2_R),\n",
    "                         bias_initializer=output_bias))\n",
    "\n",
    "    model.compile(\n",
    "        optimizer = keras.optimizers.Adam(learning_rate = LEARNING_RATE),\n",
    "        loss = 'binary_crossentropy',\n",
    "        metrics = METRICS)\n",
    "\n",
    "    return model"
   ]
  },
  {
   "cell_type": "code",
   "execution_count": 434,
   "id": "178d6a6e-9ff5-41eb-8803-44b42db2d8c5",
   "metadata": {},
   "outputs": [],
   "source": [
    "simple_cnn_model = make_simple_cnn_model()"
   ]
  },
  {
   "cell_type": "code",
   "execution_count": 435,
   "id": "67a41d72-5ca6-42ca-87c5-c953ddde7874",
   "metadata": {},
   "outputs": [
    {
     "data": {
      "image/png": "[encoded data removed]",
      "text/plain": [
       "<IPython.core.display.Image object>"
      ]
     },
     "execution_count": 435,
     "metadata": {},
     "output_type": "execute_result"
    }
   ],
   "source": [
    "simple_cnn_model.summary()\n",
    "keras.utils.plot_model(simple_cnn_model, \"cnn_model.png\", show_shapes=True)"
   ]
  },
  {
   "cell_type": "code",
   "execution_count": 436,
   "id": "0a1b71e7-d194-44d8-96f9-29a4b6be7520",
   "metadata": {},
   "outputs": [],
   "source": [
    "simple_cnn_training = simple_cnn_model.fit(\n",
    "    train_image_feature,\n",
    "    train_labels,\n",
    "    batch_size=BATCH_SIZE,\n",
    "    epochs=EPOCHS,\n",
    "    callbacks = [EARLY_STOPPING],\n",
    "    validation_split = VALIDATION_SPLIT,\n",
    "    class_weight=class_weight_asm) "
   ]
  },
  {
   "cell_type": "code",
   "execution_count": 437,
   "id": "4dbe8d23-6562-496b-88f8-ce2940716b1f",
   "metadata": {},
   "outputs": [
    {
     "data": {
      "image/png": "[encoded data removed]",
      "text/plain": [
       "<Figure size 720x720 with 4 Axes>"
      ]
     },
     "metadata": {},
     "output_type": "display_data"
    }
   ],
   "source": [
    "plot_metrics(simple_cnn_training)"
   ]
  },
  {
   "cell_type": "code",
   "execution_count": 438,
   "id": "4c3ebb40-563d-4eb7-8dff-b9325311b54d",
   "metadata": {},
   "outputs": [],
   "source": [
    "# Evaluate model on the test dataset\n",
    "simple_cnn_results = simple_cnn_model.evaluate(\n",
    "    test_image_feature, \n",
    "    test_labels, \n",
    "    batch_size = BATCH_SIZE,\n",
    "    verbose=1)\n",
    "\n",
    "display_results(simple_cnn_results)"
   ]
  },
  {
   "cell_type": "markdown",
   "id": "9a59acce-8448-4ba7-a628-cd913dbfc62c",
   "metadata": {},
   "source": [
    "## Recurrent Neural Network"
   ]
  },
  {
   "cell_type": "code",
   "execution_count": 439,
   "id": "70faf688-173b-4b2e-882f-47eb3f71443d",
   "metadata": {},
   "outputs": [],
   "source": [
    "def make_simple_rnn_model():\n",
    "\n",
    "    nb_dim_in_genomic_seq = train_image_feature.shape[2] # Should be 3\n",
    "\n",
    "    model = keras.models.Sequential()\n",
    "    \n",
    "    # Normalize the features\n",
    "    model.add(\n",
    "        layers.BatchNormalization(\n",
    "            axis=-1,\n",
    "            momentum = 0.99,\n",
    "            epsilon = 0.001,\n",
    "            input_shape=(train_image_feature.shape[1], train_image_feature.shape[2])\n",
    "        )\n",
    "    )  \n",
    "    \n",
    "    model.add(layers.LSTM(RNN_UNITS, input_shape=(None, nb_dim_in_genomic_seq), go_backwards = True))\n",
    "\n",
    "    # Output layer (Sigmoid)\n",
    "    model.add(layers.Dense(1, activation='sigmoid', \n",
    "                         kernel_regularizer = keras.regularizers.L1L2(\n",
    "                            l1 = L1_R, \n",
    "                            l2 = L2_R)\n",
    "                         ))\n",
    "\n",
    "    model.compile(\n",
    "      optimizer = keras.optimizers.Adam(learning_rate =LEARNING_RATE),\n",
    "      loss = 'binary_crossentropy',\n",
    "      metrics = METRICS)\n",
    "    \n",
    "    return model"
   ]
  },
  {
   "cell_type": "code",
   "execution_count": 440,
   "id": "31d3372d-f038-4344-b4c1-8757e5cad58c",
   "metadata": {},
   "outputs": [],
   "source": [
    "simple_rnn_model = make_simple_rnn_model()"
   ]
  },
  {
   "cell_type": "code",
   "execution_count": 441,
   "id": "c92b5625-732d-40cc-8e7b-ea0588cf4d55",
   "metadata": {},
   "outputs": [
    {
     "data": {
      "image/png": "[encoded data removed]",
      "text/plain": [
       "<IPython.core.display.Image object>"
      ]
     },
     "execution_count": 441,
     "metadata": {},
     "output_type": "execute_result"
    }
   ],
   "source": [
    "simple_rnn_model.summary()\n",
    "keras.utils.plot_model(simple_rnn_model, \"cnn_model.png\", show_shapes=True)"
   ]
  },
  {
   "cell_type": "code",
   "execution_count": 442,
   "id": "85bee2d1-7c8a-4b27-aa24-412f7cf1a39c",
   "metadata": {},
   "outputs": [],
   "source": [
    "simple_rnn_training = simple_rnn_model.fit(\n",
    "    train_image_feature,\n",
    "    train_labels,\n",
    "    batch_size=BATCH_SIZE,\n",
    "    epochs=EPOCHS,\n",
    "    callbacks = [EARLY_STOPPING],\n",
    "    validation_split = VALIDATION_SPLIT,\n",
    "    class_weight=class_weight_asm) "
   ]
  },
  {
   "cell_type": "code",
   "execution_count": 443,
   "id": "3396c444-e534-484c-a0f4-94a9b03dea8b",
   "metadata": {},
   "outputs": [
    {
     "data": {
      "image/png": "[encoded data removed]",
      "text/plain": [
       "<Figure size 720x720 with 4 Axes>"
      ]
     },
     "metadata": {},
     "output_type": "display_data"
    }
   ],
   "source": [
    "plot_metrics(simple_rnn_training)"
   ]
  },
  {
   "cell_type": "code",
   "execution_count": 444,
   "id": "905674c1-98d1-4d77-9884-4d0f26b09785",
   "metadata": {},
   "outputs": [],
   "source": [
    "# Evaluate model on the test dataset\n",
    "simple_rnn_results = simple_rnn_model.evaluate(\n",
    "    test_image_feature, \n",
    "    test_labels, \n",
    "    batch_size = BATCH_SIZE,\n",
    "    verbose=1)\n",
    "\n",
    "display_results(simple_rnn_results)"
   ]
  },
  {
   "cell_type": "markdown",
   "id": "6597e7ea-b54e-4733-bd98-bdaf014a46c2",
   "metadata": {},
   "source": [
    "## Save model results into CSV file"
   ]
  },
  {
   "cell_type": "code",
   "execution_count": null,
   "id": "5b8eed8e-1bef-4e96-a29c-a6a576232ef6",
   "metadata": {},
   "outputs": [],
   "source": [
    "# MODELS FOR WHICH WE NEED TO RECORD THE RESULTS\n",
    "\n",
    "models = ['linear']\n",
    "#models = ['simple_rnn']\n",
    "\n",
    "# Loss is better than AUC for monitoring\n",
    "PARAM_TO_CHANGE = \"baseline\""
   ]
  },
  {
   "cell_type": "code",
   "execution_count": 456,
   "id": "f92a19f2-0a4e-47dd-a372-44c1ef7869c8",
   "metadata": {},
   "outputs": [],
   "source": [
    "#Initialize DF if it does not exist\n",
    "try: \n",
    "    model_results.head()\n",
    "    print(\"does not exist\")\n",
    "except AttributeError:\n",
    "    pass\n",
    "except NameError:\n",
    "    model_results = pd.DataFrame([\n",
    "                \"param_testing\", \"nb_data_points\", \"test_split\", \"val_split\", \n",
    "                \"stop_monitor\", \"stop_restore_w\", \n",
    "                \"epochs\", \"batch_size\",\n",
    "                \"L1_R\", \"L2_R\",\n",
    "                'activation_function', 'nb_nodes_perceptron',\n",
    "                'nb_layers_perceptron', 'nb_nodes_after_cnn',\n",
    "                'cnn_filters', 'cnn_kernel', 'RNN_units',\n",
    "                'growing_strat', 'num_trees', 'min_examples', 'max_depth', 'subsample', 'sampling_method',\n",
    "                'loss', 'tp', 'fp', 'tn', 'fn', 'accuracy', 'precision', \n",
    "                'sensitivity', 'AUC'], columns = ['parameters'])\n"
   ]
  },
  {
   "cell_type": "code",
   "execution_count": 457,
   "id": "1d479f17-a636-434c-8733-397abcec00fa",
   "metadata": {},
   "outputs": [
    {
     "data": {
      "text/html": [
       "<div>\n",
       "<style scoped>\n",
       "    .dataframe tbody tr th:only-of-type {\n",
       "        vertical-align: middle;\n",
       "    }\n",
       "\n",
       "    .dataframe tbody tr th {\n",
       "        vertical-align: top;\n",
       "    }\n",
       "\n",
       "    .dataframe thead th {\n",
       "        text-align: right;\n",
       "    }\n",
       "</style>\n",
       "<table border=\"1\" class=\"dataframe\">\n",
       "  <thead>\n",
       "    <tr style=\"text-align: right;\">\n",
       "      <th></th>\n",
       "      <th>parameters</th>\n",
       "    </tr>\n",
       "  </thead>\n",
       "  <tbody>\n",
       "    <tr>\n",
       "      <th>0</th>\n",
       "      <td>param_testing</td>\n",
       "    </tr>\n",
       "    <tr>\n",
       "      <th>1</th>\n",
       "      <td>nb_data_points</td>\n",
       "    </tr>\n",
       "    <tr>\n",
       "      <th>2</th>\n",
       "      <td>test_split</td>\n",
       "    </tr>\n",
       "    <tr>\n",
       "      <th>3</th>\n",
       "      <td>val_split</td>\n",
       "    </tr>\n",
       "    <tr>\n",
       "      <th>4</th>\n",
       "      <td>stop_monitor</td>\n",
       "    </tr>\n",
       "    <tr>\n",
       "      <th>5</th>\n",
       "      <td>stop_restore_w</td>\n",
       "    </tr>\n",
       "    <tr>\n",
       "      <th>6</th>\n",
       "      <td>epochs</td>\n",
       "    </tr>\n",
       "    <tr>\n",
       "      <th>7</th>\n",
       "      <td>batch_size</td>\n",
       "    </tr>\n",
       "    <tr>\n",
       "      <th>8</th>\n",
       "      <td>L1_R</td>\n",
       "    </tr>\n",
       "    <tr>\n",
       "      <th>9</th>\n",
       "      <td>L2_R</td>\n",
       "    </tr>\n",
       "    <tr>\n",
       "      <th>10</th>\n",
       "      <td>activation_function</td>\n",
       "    </tr>\n",
       "    <tr>\n",
       "      <th>11</th>\n",
       "      <td>nb_nodes_perceptron</td>\n",
       "    </tr>\n",
       "    <tr>\n",
       "      <th>12</th>\n",
       "      <td>nb_layers_perceptron</td>\n",
       "    </tr>\n",
       "    <tr>\n",
       "      <th>13</th>\n",
       "      <td>nb_nodes_after_cnn</td>\n",
       "    </tr>\n",
       "    <tr>\n",
       "      <th>14</th>\n",
       "      <td>cnn_filters</td>\n",
       "    </tr>\n",
       "    <tr>\n",
       "      <th>15</th>\n",
       "      <td>cnn_kernel</td>\n",
       "    </tr>\n",
       "    <tr>\n",
       "      <th>16</th>\n",
       "      <td>RNN_units</td>\n",
       "    </tr>\n",
       "    <tr>\n",
       "      <th>17</th>\n",
       "      <td>growing_strat</td>\n",
       "    </tr>\n",
       "    <tr>\n",
       "      <th>18</th>\n",
       "      <td>num_trees</td>\n",
       "    </tr>\n",
       "    <tr>\n",
       "      <th>19</th>\n",
       "      <td>min_examples</td>\n",
       "    </tr>\n",
       "    <tr>\n",
       "      <th>20</th>\n",
       "      <td>max_depth</td>\n",
       "    </tr>\n",
       "    <tr>\n",
       "      <th>21</th>\n",
       "      <td>subsample</td>\n",
       "    </tr>\n",
       "    <tr>\n",
       "      <th>22</th>\n",
       "      <td>sampling_method</td>\n",
       "    </tr>\n",
       "    <tr>\n",
       "      <th>23</th>\n",
       "      <td>loss</td>\n",
       "    </tr>\n",
       "    <tr>\n",
       "      <th>24</th>\n",
       "      <td>tp</td>\n",
       "    </tr>\n",
       "    <tr>\n",
       "      <th>25</th>\n",
       "      <td>fp</td>\n",
       "    </tr>\n",
       "    <tr>\n",
       "      <th>26</th>\n",
       "      <td>tn</td>\n",
       "    </tr>\n",
       "    <tr>\n",
       "      <th>27</th>\n",
       "      <td>fn</td>\n",
       "    </tr>\n",
       "    <tr>\n",
       "      <th>28</th>\n",
       "      <td>accuracy</td>\n",
       "    </tr>\n",
       "    <tr>\n",
       "      <th>29</th>\n",
       "      <td>precision</td>\n",
       "    </tr>\n",
       "    <tr>\n",
       "      <th>30</th>\n",
       "      <td>sensitivity</td>\n",
       "    </tr>\n",
       "    <tr>\n",
       "      <th>31</th>\n",
       "      <td>AUC</td>\n",
       "    </tr>\n",
       "  </tbody>\n",
       "</table>\n",
       "</div>"
      ],
      "text/plain": [
       "              parameters\n",
       "0          param_testing\n",
       "1         nb_data_points\n",
       "2             test_split\n",
       "3              val_split\n",
       "4           stop_monitor\n",
       "5         stop_restore_w\n",
       "6                 epochs\n",
       "7             batch_size\n",
       "8                   L1_R\n",
       "9                   L2_R\n",
       "10   activation_function\n",
       "11   nb_nodes_perceptron\n",
       "12  nb_layers_perceptron\n",
       "13    nb_nodes_after_cnn\n",
       "14           cnn_filters\n",
       "15            cnn_kernel\n",
       "16             RNN_units\n",
       "17         growing_strat\n",
       "18             num_trees\n",
       "19          min_examples\n",
       "20             max_depth\n",
       "21             subsample\n",
       "22       sampling_method\n",
       "23                  loss\n",
       "24                    tp\n",
       "25                    fp\n",
       "26                    tn\n",
       "27                    fn\n",
       "28              accuracy\n",
       "29             precision\n",
       "30           sensitivity\n",
       "31                   AUC"
      ]
     },
     "execution_count": 457,
     "metadata": {},
     "output_type": "execute_result"
    }
   ],
   "source": [
    "model_results"
   ]
  },
  {
   "cell_type": "code",
   "execution_count": 458,
   "id": "b04c1239-2544-404b-920b-154ee451d73f",
   "metadata": {},
   "outputs": [
    {
     "ename": "NameError",
     "evalue": "name 'simple_tree_model' is not defined",
     "output_type": "error",
     "traceback": [
      "\u001b[0;31m---------------------------------------------------------------------------\u001b[0m",
      "\u001b[0;31mNameError\u001b[0m                                 Traceback (most recent call last)",
      "\u001b[0;32m/tmp/ipykernel_20121/2730422495.py\u001b[0m in \u001b[0;36m<module>\u001b[0;34m\u001b[0m\n\u001b[1;32m      5\u001b[0m \u001b[0;34m\u001b[0m\u001b[0m\n\u001b[1;32m      6\u001b[0m   \u001b[0mcommand_nb_params\u001b[0m \u001b[0;34m=\u001b[0m \u001b[0;34m\"nb_params = \"\u001b[0m \u001b[0;34m+\u001b[0m \u001b[0mname_model\u001b[0m \u001b[0;34m+\u001b[0m \u001b[0;34m\".count_params()\"\u001b[0m\u001b[0;34m\u001b[0m\u001b[0;34m\u001b[0m\u001b[0m\n\u001b[0;32m----> 7\u001b[0;31m   \u001b[0mexec\u001b[0m\u001b[0;34m(\u001b[0m\u001b[0mcommand_nb_params\u001b[0m\u001b[0;34m)\u001b[0m\u001b[0;34m\u001b[0m\u001b[0;34m\u001b[0m\u001b[0m\n\u001b[0m\u001b[1;32m      8\u001b[0m \u001b[0;34m\u001b[0m\u001b[0m\n\u001b[1;32m      9\u001b[0m   \u001b[0;31m# Parameters common to all models\u001b[0m\u001b[0;34m\u001b[0m\u001b[0;34m\u001b[0m\u001b[0;34m\u001b[0m\u001b[0m\n",
      "\u001b[0;32m<string>\u001b[0m in \u001b[0;36m<module>\u001b[0;34m\u001b[0m\n",
      "\u001b[0;31mNameError\u001b[0m: name 'simple_tree_model' is not defined"
     ]
    }
   ],
   "source": [
    "for model in models:\n",
    "  print(\"model:\", model) \n",
    "  name_results = model + \"_results\"\n",
    "  name_model = model + \"_model\"\n",
    "\n",
    "  command_nb_params = \"nb_params = \" + name_model + \".count_params()\"\n",
    "  exec(command_nb_params)\n",
    "\n",
    "  # Parameters common to all models\n",
    "  common_param = pd.DataFrame([\n",
    "     PARAM_TO_CHANGE,\n",
    "     normalized_df.shape[0],\n",
    "     TEST_SPLIT,\n",
    "     VALIDATION_SPLIT,\n",
    "     EARLY_STOPPING.monitor,\n",
    "     EARLY_STOPPING.restore_best_weights,\n",
    "     EPOCHS,\n",
    "     BATCH_SIZE,\n",
    "     L1_R,\n",
    "     L2_R,\n",
    "     ACTIVATION_FUNCTION,\n",
    "     NB_NODES_PERCEPTRON,\n",
    "     NB_LAYERS_PERCEPTRON,\n",
    "     NB_NODES_AFTER_CNN,\n",
    "     CNN_FILTERS,\n",
    "     CNN_KERNEL,\n",
    "     RNN_UNITS,\n",
    "     GROWING_STRATEGY,\n",
    "     NUM_TREES,\n",
    "     MIN_EXAMPLES,\n",
    "     MAX_DEPTH,\n",
    "     SUBSAMPLE,\n",
    "     SAMPLING_METHOD,\n",
    "     nb_params])\n",
    "\n",
    "  # Create dataframe from the model results\n",
    "  command_df_new_results = \"tmp = pd.DataFrame(np.round(\" + name_results + \", 3))\"\n",
    "  exec(command_df_new_results)\n",
    "\n",
    "  # Append the two dataframes\n",
    "  new_column = common_param.append(tmp, ignore_index = True)\n",
    "\n",
    "  # Rename the dataframe\n",
    "  new_column.columns = [model]\n",
    "\n",
    "  # Add the results to the dataframe of results\n",
    "  model_results = model_results.merge(new_column, left_index = True, right_index = True)\n",
    " \n",
    "model_results"
   ]
  },
  {
   "cell_type": "code",
   "execution_count": 459,
   "id": "6c42cbcb-aa2a-460b-a692-24fbe5d9a12d",
   "metadata": {},
   "outputs": [],
   "source": [
    "for model in models:\n",
    "  print(\"model:\", model) \n",
    "  name_results = model + \"_results\"\n",
    "  name_model = model + \"_model\""
   ]
  },
  {
   "cell_type": "code",
   "execution_count": 460,
   "id": "2a11239b-7724-4b86-81d8-e5a953e1cadd",
   "metadata": {},
   "outputs": [
    {
     "data": {
      "text/plain": [
       "['linear',\n",
       " 'perceptron',\n",
       " 'simple_cnn',\n",
       " 'simple_rnn',\n",
       " 'simple_tree',\n",
       " 'boosted_tree']"
      ]
     },
     "execution_count": 460,
     "metadata": {},
     "output_type": "execute_result"
    }
   ],
   "source": [
    "models"
   ]
  },
  {
   "cell_type": "code",
   "execution_count": 461,
   "id": "ec4353a2-ab80-4216-a8cd-e2802da37fb7",
   "metadata": {},
   "outputs": [],
   "source": [
    "print(\"Hello\")"
   ]
  },
  {
   "cell_type": "code",
   "execution_count": null,
   "id": "e61d6a9e-b710-4e78-a38f-339605dd0020",
   "metadata": {},
   "outputs": [],
   "source": []
  }
 ],
 "metadata": {
  "environment": {
   "kernel": "python3",
   "name": "tf2-gpu.2-7.m87",
   "type": "gcloud",
   "uri": "gcr.io/deeplearning-platform-release/tf2-gpu.2-7:m87"
  },
  "kernelspec": {
   "display_name": "Python 3",
   "language": "python",
   "name": "python3"
  },
  "language_info": {
   "codemirror_mode": {
    "name": "ipython",
    "version": 3
   },
   "file_extension": ".py",
   "mimetype": "text/x-python",
   "name": "python",
   "nbconvert_exporter": "python",
   "pygments_lexer": "ipython3",
   "version": "3.7.12"
  },
  "toc-autonumbering": false,
  "toc-showcode": false,
  "toc-showmarkdowntxt": false
 },
 "nbformat": 4,
 "nbformat_minor": 5
}
