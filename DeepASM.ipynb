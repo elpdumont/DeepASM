{
 "cells": [
  {
   "cell_type": "markdown",
   "id": "a71a3685-b41b-4dd7-8987-fb26729209a6",
   "metadata": {},
   "source": [
    "# DeepASM"
   ]
  },
  {
   "cell_type": "markdown",
   "id": "30ca0fb9-e45a-4d26-be20-575214beec95",
   "metadata": {
    "jp-MarkdownHeadingCollapsed": true,
    "tags": []
   },
   "source": [
    "## Install packages"
   ]
  },
  {
   "cell_type": "code",
   "execution_count": 237,
   "id": "7aa06369-0a4f-4120-8b0f-a4dfcb5e7627",
   "metadata": {},
   "outputs": [
    {
     "name": "stdout",
     "output_type": "stream",
     "text": [
      "Requirement already satisfied: tables in /opt/conda/lib/python3.7/site-packages (3.7.0)\n",
      "Requirement already satisfied: packaging in /opt/conda/lib/python3.7/site-packages (from tables) (21.3)\n",
      "Requirement already satisfied: numexpr>=2.6.2 in /opt/conda/lib/python3.7/site-packages (from tables) (2.8.1)\n",
      "Requirement already satisfied: numpy>=1.19.0 in /opt/conda/lib/python3.7/site-packages (from tables) (1.21.5)\n",
      "Requirement already satisfied: pyparsing!=3.0.5,>=2.0.2 in /opt/conda/lib/python3.7/site-packages (from packaging->tables) (3.0.6)\n",
      "Collecting tensorflow_decision_forests==0.2.2\n",
      "  Downloading tensorflow_decision_forests-0.2.2-cp37-cp37m-manylinux_2_12_x86_64.manylinux2010_x86_64.whl (17.7 MB)\n",
      "     |████████████████████████████████| 17.7 MB 4.4 MB/s            \n",
      "\u001b[?25hRequirement already satisfied: tensorflow~=2.7.0 in /opt/conda/lib/python3.7/site-packages (from tensorflow_decision_forests==0.2.2) (2.7.0)\n",
      "Requirement already satisfied: absl-py in /opt/conda/lib/python3.7/site-packages (from tensorflow_decision_forests==0.2.2) (1.0.0)\n",
      "Requirement already satisfied: pandas in /opt/conda/lib/python3.7/site-packages (from tensorflow_decision_forests==0.2.2) (1.3.5)\n",
      "Requirement already satisfied: numpy in /opt/conda/lib/python3.7/site-packages (from tensorflow_decision_forests==0.2.2) (1.21.5)\n",
      "Requirement already satisfied: wheel in /opt/conda/lib/python3.7/site-packages (from tensorflow_decision_forests==0.2.2) (0.37.0)\n",
      "Requirement already satisfied: six in /opt/conda/lib/python3.7/site-packages (from tensorflow_decision_forests==0.2.2) (1.16.0)\n",
      "Collecting wurlitzer\n",
      "  Using cached wurlitzer-3.0.2-py3-none-any.whl (7.3 kB)\n",
      "Requirement already satisfied: h5py>=2.9.0 in /opt/conda/lib/python3.7/site-packages (from tensorflow~=2.7.0->tensorflow_decision_forests==0.2.2) (3.6.0)\n",
      "Requirement already satisfied: tensorboard~=2.6 in /opt/conda/lib/python3.7/site-packages (from tensorflow~=2.7.0->tensorflow_decision_forests==0.2.2) (2.7.0)\n",
      "Requirement already satisfied: tensorflow-estimator<2.8,~=2.7.0rc0 in /opt/conda/lib/python3.7/site-packages (from tensorflow~=2.7.0->tensorflow_decision_forests==0.2.2) (2.7.0)\n",
      "Requirement already satisfied: keras-preprocessing>=1.1.1 in /opt/conda/lib/python3.7/site-packages (from tensorflow~=2.7.0->tensorflow_decision_forests==0.2.2) (1.1.2)\n",
      "Requirement already satisfied: termcolor>=1.1.0 in /opt/conda/lib/python3.7/site-packages (from tensorflow~=2.7.0->tensorflow_decision_forests==0.2.2) (1.1.0)\n",
      "Requirement already satisfied: wrapt>=1.11.0 in /opt/conda/lib/python3.7/site-packages (from tensorflow~=2.7.0->tensorflow_decision_forests==0.2.2) (1.13.3)\n",
      "Requirement already satisfied: flatbuffers<3.0,>=1.12 in /opt/conda/lib/python3.7/site-packages (from tensorflow~=2.7.0->tensorflow_decision_forests==0.2.2) (2.0)\n",
      "Requirement already satisfied: gast<0.5.0,>=0.2.1 in /opt/conda/lib/python3.7/site-packages (from tensorflow~=2.7.0->tensorflow_decision_forests==0.2.2) (0.4.0)\n",
      "Requirement already satisfied: grpcio<2.0,>=1.24.3 in /opt/conda/lib/python3.7/site-packages (from tensorflow~=2.7.0->tensorflow_decision_forests==0.2.2) (1.43.0)\n",
      "Requirement already satisfied: tensorflow-io-gcs-filesystem>=0.21.0 in /opt/conda/lib/python3.7/site-packages (from tensorflow~=2.7.0->tensorflow_decision_forests==0.2.2) (0.23.1)\n",
      "Requirement already satisfied: libclang>=9.0.1 in /opt/conda/lib/python3.7/site-packages (from tensorflow~=2.7.0->tensorflow_decision_forests==0.2.2) (12.0.0)\n",
      "Requirement already satisfied: keras<2.8,>=2.7.0rc0 in /opt/conda/lib/python3.7/site-packages (from tensorflow~=2.7.0->tensorflow_decision_forests==0.2.2) (2.7.0)\n",
      "Requirement already satisfied: google-pasta>=0.1.1 in /opt/conda/lib/python3.7/site-packages (from tensorflow~=2.7.0->tensorflow_decision_forests==0.2.2) (0.2.0)\n",
      "Requirement already satisfied: protobuf>=3.9.2 in /opt/conda/lib/python3.7/site-packages (from tensorflow~=2.7.0->tensorflow_decision_forests==0.2.2) (3.19.1)\n",
      "Requirement already satisfied: typing-extensions>=3.6.6 in /opt/conda/lib/python3.7/site-packages (from tensorflow~=2.7.0->tensorflow_decision_forests==0.2.2) (4.0.1)\n",
      "Requirement already satisfied: opt-einsum>=2.3.2 in /opt/conda/lib/python3.7/site-packages (from tensorflow~=2.7.0->tensorflow_decision_forests==0.2.2) (3.3.0)\n",
      "Requirement already satisfied: astunparse>=1.6.0 in /opt/conda/lib/python3.7/site-packages (from tensorflow~=2.7.0->tensorflow_decision_forests==0.2.2) (1.6.3)\n",
      "Requirement already satisfied: python-dateutil>=2.7.3 in /opt/conda/lib/python3.7/site-packages (from pandas->tensorflow_decision_forests==0.2.2) (2.8.2)\n",
      "Requirement already satisfied: pytz>=2017.3 in /opt/conda/lib/python3.7/site-packages (from pandas->tensorflow_decision_forests==0.2.2) (2021.3)\n",
      "Requirement already satisfied: cached-property in /opt/conda/lib/python3.7/site-packages (from h5py>=2.9.0->tensorflow~=2.7.0->tensorflow_decision_forests==0.2.2) (1.5.2)\n",
      "Requirement already satisfied: werkzeug>=0.11.15 in /opt/conda/lib/python3.7/site-packages (from tensorboard~=2.6->tensorflow~=2.7.0->tensorflow_decision_forests==0.2.2) (2.0.2)\n",
      "Requirement already satisfied: tensorboard-plugin-wit>=1.6.0 in /opt/conda/lib/python3.7/site-packages (from tensorboard~=2.6->tensorflow~=2.7.0->tensorflow_decision_forests==0.2.2) (1.8.0)\n",
      "Requirement already satisfied: google-auth<3,>=1.6.3 in /opt/conda/lib/python3.7/site-packages (from tensorboard~=2.6->tensorflow~=2.7.0->tensorflow_decision_forests==0.2.2) (2.3.3)\n",
      "Requirement already satisfied: google-auth-oauthlib<0.5,>=0.4.1 in /opt/conda/lib/python3.7/site-packages (from tensorboard~=2.6->tensorflow~=2.7.0->tensorflow_decision_forests==0.2.2) (0.4.6)\n",
      "Requirement already satisfied: setuptools>=41.0.0 in /opt/conda/lib/python3.7/site-packages (from tensorboard~=2.6->tensorflow~=2.7.0->tensorflow_decision_forests==0.2.2) (59.6.0)\n",
      "Requirement already satisfied: tensorboard-data-server<0.7.0,>=0.6.0 in /opt/conda/lib/python3.7/site-packages (from tensorboard~=2.6->tensorflow~=2.7.0->tensorflow_decision_forests==0.2.2) (0.6.1)\n",
      "Requirement already satisfied: markdown>=2.6.8 in /opt/conda/lib/python3.7/site-packages (from tensorboard~=2.6->tensorflow~=2.7.0->tensorflow_decision_forests==0.2.2) (3.3.6)\n",
      "Requirement already satisfied: requests<3,>=2.21.0 in /opt/conda/lib/python3.7/site-packages (from tensorboard~=2.6->tensorflow~=2.7.0->tensorflow_decision_forests==0.2.2) (2.26.0)\n",
      "Requirement already satisfied: rsa<5,>=3.1.4 in /opt/conda/lib/python3.7/site-packages (from google-auth<3,>=1.6.3->tensorboard~=2.6->tensorflow~=2.7.0->tensorflow_decision_forests==0.2.2) (4.8)\n",
      "Requirement already satisfied: cachetools<5.0,>=2.0.0 in /opt/conda/lib/python3.7/site-packages (from google-auth<3,>=1.6.3->tensorboard~=2.6->tensorflow~=2.7.0->tensorflow_decision_forests==0.2.2) (4.2.4)\n",
      "Requirement already satisfied: pyasn1-modules>=0.2.1 in /opt/conda/lib/python3.7/site-packages (from google-auth<3,>=1.6.3->tensorboard~=2.6->tensorflow~=2.7.0->tensorflow_decision_forests==0.2.2) (0.2.7)\n",
      "Requirement already satisfied: requests-oauthlib>=0.7.0 in /opt/conda/lib/python3.7/site-packages (from google-auth-oauthlib<0.5,>=0.4.1->tensorboard~=2.6->tensorflow~=2.7.0->tensorflow_decision_forests==0.2.2) (1.3.0)\n",
      "Requirement already satisfied: importlib-metadata>=4.4 in /opt/conda/lib/python3.7/site-packages (from markdown>=2.6.8->tensorboard~=2.6->tensorflow~=2.7.0->tensorflow_decision_forests==0.2.2) (4.9.0)\n",
      "Requirement already satisfied: charset-normalizer~=2.0.0 in /opt/conda/lib/python3.7/site-packages (from requests<3,>=2.21.0->tensorboard~=2.6->tensorflow~=2.7.0->tensorflow_decision_forests==0.2.2) (2.0.9)\n",
      "Requirement already satisfied: urllib3<1.27,>=1.21.1 in /opt/conda/lib/python3.7/site-packages (from requests<3,>=2.21.0->tensorboard~=2.6->tensorflow~=2.7.0->tensorflow_decision_forests==0.2.2) (1.26.7)\n",
      "Requirement already satisfied: idna<4,>=2.5 in /opt/conda/lib/python3.7/site-packages (from requests<3,>=2.21.0->tensorboard~=2.6->tensorflow~=2.7.0->tensorflow_decision_forests==0.2.2) (3.1)\n",
      "Requirement already satisfied: certifi>=2017.4.17 in /opt/conda/lib/python3.7/site-packages (from requests<3,>=2.21.0->tensorboard~=2.6->tensorflow~=2.7.0->tensorflow_decision_forests==0.2.2) (2021.10.8)\n",
      "Requirement already satisfied: zipp>=0.5 in /opt/conda/lib/python3.7/site-packages (from importlib-metadata>=4.4->markdown>=2.6.8->tensorboard~=2.6->tensorflow~=2.7.0->tensorflow_decision_forests==0.2.2) (3.6.0)\n",
      "Requirement already satisfied: pyasn1<0.5.0,>=0.4.6 in /opt/conda/lib/python3.7/site-packages (from pyasn1-modules>=0.2.1->google-auth<3,>=1.6.3->tensorboard~=2.6->tensorflow~=2.7.0->tensorflow_decision_forests==0.2.2) (0.4.8)\n",
      "Requirement already satisfied: oauthlib>=3.0.0 in /opt/conda/lib/python3.7/site-packages (from requests-oauthlib>=0.7.0->google-auth-oauthlib<0.5,>=0.4.1->tensorboard~=2.6->tensorflow~=2.7.0->tensorflow_decision_forests==0.2.2) (3.1.1)\n",
      "Installing collected packages: wurlitzer, tensorflow-decision-forests\n",
      "Successfully installed tensorflow-decision-forests-0.2.2 wurlitzer-3.0.2\n"
     ]
    }
   ],
   "source": [
    "# To manipulate HDF5 files (RUN FOR ALL MODELS)\n",
    "!pip3 install --upgrade tables\n",
    "\n",
    "# Install Decision Forest models\n",
    "!pip3 install tensorflow_decision_forests==0.2.2\n"
   ]
  },
  {
   "cell_type": "markdown",
   "id": "08ecb353-258f-451d-8c2a-2488137356b1",
   "metadata": {
    "tags": []
   },
   "source": [
    "## Import packages"
   ]
  },
  {
   "cell_type": "code",
   "execution_count": 56,
   "id": "9eb55e93-2391-4791-bca2-a69b4ec7a4be",
   "metadata": {},
   "outputs": [],
   "source": [
    "import sys\n",
    "\n",
    "# Python packages for data, stats, and visualization\n",
    "from matplotlib import pyplot as plt\n",
    "import matplotlib as mpl\n",
    "import numpy as np\n",
    "import pandas as pd\n",
    "import seaborn as sns \n",
    "\n",
    "# Machine learning libraries\n",
    "from sklearn.preprocessing import LabelEncoder, OneHotEncoder, StandardScaler\n",
    "import tensorflow as tf\n",
    "from tensorflow import keras\n",
    "#from tensorflow.keras.models import load_model\n",
    "from tensorflow.keras import layers\n",
    "import sklearn\n",
    "from sklearn import metrics\n",
    "from sklearn.metrics import confusion_matrix\n",
    "from sklearn.model_selection import train_test_split\n",
    "\n",
    "# Kernel functions\n",
    "from sklearn.neighbors import KernelDensity\n",
    "from numpy import asarray\n",
    "from matplotlib import pyplot\n",
    "from numpy import exp\n",
    "\n",
    "# Dimensionality reduction\n",
    "from sklearn.decomposition import PCA, KernelPCA, NMF, TruncatedSVD\n",
    "from sklearn.manifold import TSNE, LocallyLinearEmbedding, SpectralEmbedding\n",
    "\n",
    "# To get the time\n",
    "from datetime import datetime\n",
    "\n",
    "# To write on the same line\n",
    "from IPython.display import clear_output\n",
    "\n",
    "# Decision tree algorithms\n",
    "import tensorflow_decision_forests as tfdf\n",
    " \n",
    "# Figure parameters\n",
    "mpl.rcParams['figure.figsize'] = (10, 10)\n",
    "mpl.rcParams['axes.titlesize'] = 15\n",
    "mpl.rcParams['axes.labelsize'] = 12\n",
    "mpl.rcParams['xtick.labelsize'] = 12\n",
    "mpl.rcParams['ytick.labelsize'] = 12\n",
    "colors = plt.rcParams['axes.prop_cycle'].by_key()['color']"
   ]
  },
  {
   "cell_type": "code",
   "execution_count": 57,
   "id": "683ebf71-130f-4ea0-8eaa-c27478ebb990",
   "metadata": {},
   "outputs": [
    {
     "name": "stdout",
     "output_type": "stream",
     "text": [
      "3.7.12 | packaged by conda-forge | (default, Oct 26 2021, 06:08:53) \n",
      "[GCC 9.4.0]\n",
      "TensorFlow version: 2.7.0\n",
      "Keras version: 2.7.0\n",
      "Numpy version: 1.21.5\n",
      "Num GPUs Available:  1\n"
     ]
    }
   ],
   "source": [
    "# Print different versions\n",
    "print(sys.version)\n",
    "print(\"TensorFlow version:\", tf.__version__)\n",
    "print(\"Keras version:\", keras.__version__)\n",
    "print(\"Numpy version:\", np.__version__)\n",
    "print(\"Num GPUs Available: \", len(tf.config.list_physical_devices('GPU')))"
   ]
  },
  {
   "cell_type": "markdown",
   "id": "abddb628-6484-4f52-9386-ced2fb0f456a",
   "metadata": {},
   "source": [
    "## GCP Variables"
   ]
  },
  {
   "cell_type": "code",
   "execution_count": 58,
   "id": "2cb33deb-7b19-4795-acd3-4511eb464de1",
   "metadata": {},
   "outputs": [],
   "source": [
    "# Import raw data from bucket. False if you want to import the processed dataset\n",
    "IMPORT_RAW_FROM_BUCKET = True\n",
    "\n",
    "# Export data after it's been prepared\n",
    "EXPORT_PROCESSED_DATA = True\n",
    "\n",
    "# Import data after its features have been prepared\n",
    "IMPORT_PROCESSED_DATA = True\n",
    "PROCESSED_DATA_PATH = \"deepasm/notebook/250bp_5000000rows_2022-03-17_23-12-03\"\n",
    "\n",
    "# Bucket name where the training datasets are\n",
    "DEEPASM_BUCKET=\"deepasm\"\n"
   ]
  },
  {
   "cell_type": "markdown",
   "id": "55dbab41-0938-4ddf-83b3-f216430ac6de",
   "metadata": {},
   "source": [
    "## Dataset used for training"
   ]
  },
  {
   "cell_type": "code",
   "execution_count": 59,
   "id": "25c6a036-22a5-46ae-8095-25b43b70696d",
   "metadata": {},
   "outputs": [],
   "source": [
    "# Run the training on a small sample size (50k)\n",
    "TEST_RUN = True\n",
    "\n",
    "# Size of the genomic window (250bp, 500bp, 1000bp)\n",
    "GENOMIC_INTERVAL = 250\n",
    "\n",
    "# Number of rows to take into the dataset after import\n",
    "if TEST_RUN == True:\n",
    "    NB_ROWS_RAW_DATASET = int(500000) # The maximum is 5e6. We use 200k to test the code\n",
    "else:\n",
    "    NB_ROWS_RAW_DATASET = int(5e6) "
   ]
  },
  {
   "cell_type": "markdown",
   "id": "abb144c7-b3d9-4ca7-836b-027939589d48",
   "metadata": {},
   "source": [
    "## Model variables"
   ]
  },
  {
   "cell_type": "code",
   "execution_count": 60,
   "id": "d49f672e-93d9-485a-9914-010650158ce0",
   "metadata": {},
   "outputs": [],
   "source": [
    "#--------------------------------------------------\n",
    "# Gradient-Boosted algorithms\n",
    "\n",
    "GROWING_STRATEGY = \"BEST_FIRST_GLOBAL\"  # LOCAL (default). or BEST_FIRST_GLOBAL is the default\n",
    "NUM_TREES = 600 # Maxmimum number of decision trees. (default 300)\n",
    "MIN_EXAMPLES = 10 # Minimum number of examples in a node (default: 5)\n",
    "MAX_DEPTH = 12 # Maximum depth of the tree (default 6)\n",
    "SUBSAMPLE = 0.5 # Ratio of the dataset (sampling without replacement) used to train individual trees for the random sampling method (Default 1)\n",
    "SAMPLING_METHOD = \"RANDOM\"\n",
    "\n",
    "#--------------------------------------------------\n",
    "# Parameters common to all models\n",
    "\n",
    "# Minimum correlation factor. Under that, remove features\n",
    "MIN_CORR = 0.05\n",
    "\n",
    "# Kernel values for probability estimates\n",
    "KERNEL_FM_NB_VALUES = 10\n",
    "KERNEL_FM_BANDWIDTH = 0.1\n",
    "KERNEL_COV_NB_MAX = 200\n",
    "KERNEL_COV_NB_STEP = 40\n",
    "KERNEL_COV_BANDWIDTH = 20\n",
    "\n",
    "# Early stopping\n",
    "EARLY_STOPPING = tf.keras.callbacks.EarlyStopping(\n",
    "    monitor='val_auc', \n",
    "    verbose=0,\n",
    "    patience=10,\n",
    "    mode='auto',\n",
    "    restore_best_weights=True)\n",
    "\n",
    "# Percentage of data points to be used in the Test dataset\n",
    "TEST_SPLIT = 0.2\n",
    "\n",
    "# Percentage of datapoints used between training and validation\n",
    "VALIDATION_SPLIT = 0.3 # How to divide the training dataset for validation\n",
    "\n",
    "EPOCHS = 100 # We have so many datapoints that 20 epochs are enough to stabilize the training\n",
    "BATCH_SIZE = 1000 # to get a few identified ASM we need at a few hundreds since the\n",
    "# frequency of ASM is 1.38%\n",
    "# A batch size of 1000 will run into a memory error on TF 2.7\n",
    "\n",
    "# Regularlization L1 and L2 (defaults are l1 = 0.01 and l2 = 0.01)\n",
    "L1_R = 0\n",
    "L2_R = 1e-3\n",
    "\n",
    "#--------------------------------------------------\n",
    "# Parameters common to neural network models\n",
    "ACTIVATION_FUNCTION = 'tanh' # 'tanh' # or 'relu' or 'gelu (Gaussian Error Linear Unit)'\n",
    "NB_NODES_PERCEPTRON = 60\n",
    "NB_LAYERS_PERCEPTRON = 5\n",
    "NB_NODES_AFTER_CNN = 2\n",
    "\n",
    "# CNN parameters\n",
    "CNN_FILTERS = 8\n",
    "CNN_KERNEL = 100 # Must be smaller than the genomic region (250). The av distance between CpG is 37 bp and the std dev of the distances between cpgs is 24 bp\n",
    "LEARNING_RATE = 3e-4 \n",
    "\n",
    "# Learning rate was taken from this\n",
    "# http://karpathy.github.io/2019/04/25/recipe/#2-set-up-the-end-to-end-trainingevaluation-skeleton--get-dumb-baselines\n",
    "\n",
    "#--------------------------------------------------\n",
    "# Parameters common to RNN\n",
    "\n",
    "RNN_UNITS = 128 # 64 orginally\n",
    "\n",
    "#--------------------------------------------------\n",
    "# SPECIFIC TO RANDOM FOREST ALGORITHM\n",
    "use_raw_df_for_forest_models = False"
   ]
  },
  {
   "cell_type": "markdown",
   "id": "c22515ca-30c7-4a83-a982-6eb67b884f37",
   "metadata": {},
   "source": [
    "## ML evaluation metrics"
   ]
  },
  {
   "cell_type": "code",
   "execution_count": 61,
   "id": "2f38b202-fe69-489c-aae0-638bcd40b2d8",
   "metadata": {},
   "outputs": [],
   "source": [
    "METRICS = [\n",
    "      keras.metrics.TruePositives(name='tp'),\n",
    "      keras.metrics.FalsePositives(name='fp'),\n",
    "      keras.metrics.TrueNegatives(name='tn'),\n",
    "      keras.metrics.FalseNegatives(name='fn'), \n",
    "      keras.metrics.BinaryAccuracy(name='accuracy'),\n",
    "      keras.metrics.Precision(name='precision'),\n",
    "      keras.metrics.Recall(name='sensitivity'),\n",
    "      keras.metrics.AUC(name='auc')\n",
    "      ]\n",
    "\n",
    "def plot_metrics(history):\n",
    "  metrics =  ['loss', 'auc', 'precision', 'sensitivity']\n",
    "  plt.figure(figsize=(10,10))\n",
    "  for n, metric in enumerate(metrics):\n",
    "    name = metric.replace(\"_\",\" \").capitalize()\n",
    "    plt.subplot(2,2,n+1)\n",
    "    plt.plot(history.epoch,  history.history[metric], color=colors[0], label='Train')\n",
    "    plt.plot(history.epoch, history.history['val_'+metric],\n",
    "             color=colors[0], linestyle=\"--\", label='Val')\n",
    "    plt.xlabel('Epoch')\n",
    "    plt.ylabel(name)\n",
    "    plt.ylim([0,1])\n",
    "\n",
    "    plt.legend()\n",
    "\n",
    "\n",
    "def display_results(df_results):\n",
    "  print(\"Loss\", np.round(df_results[0], 3))\n",
    "  print(\"True positives\", np.round(df_results[1], 3))\n",
    "  print(\"False positives\", np.round(df_results[2], 3))\n",
    "  print(\"True negatives\", np.round(df_results[3], 3))\n",
    "  print(\"False negatives\", np.round(df_results[4], 3))\n",
    "  print(\"Accuracy\", np.round(df_results[5], 3))\n",
    "  print(\"Precision\", np.round(df_results[6], 3))\n",
    "  print(\"Sensitivity\", np.round(df_results[7], 3))\n",
    "  print(\"AUC\", np.round(df_results[8], 3))\n",
    "\n",
    "def plot_roc(name, labels, predictions, **kwargs):\n",
    "  fp, tp, _ = sklearn.metrics.roc_curve(labels, predictions)\n",
    "\n",
    "  plt.plot(100*fp, 100*tp, label=name, linewidth=2, **kwargs)\n",
    "  plt.xlabel('False positives [%]')\n",
    "  plt.ylabel('True positives [%]')\n",
    "  plt.xlim([-0.5,80])\n",
    "  plt.ylim([0,100.5])\n",
    "  plt.grid(True)\n",
    "  ax = plt.gca()\n",
    "  ax.set_aspect('equal')\n",
    "\n"
   ]
  },
  {
   "cell_type": "markdown",
   "id": "025e5515-6785-4461-b139-ced8487e2eee",
   "metadata": {},
   "source": [
    "## Import raw data"
   ]
  },
  {
   "cell_type": "code",
   "execution_count": 62,
   "id": "d440a700-3f8d-443b-87f4-3036f2a0f5b8",
   "metadata": {},
   "outputs": [
    {
     "name": "stdout",
     "output_type": "stream",
     "text": [
      "Number of files to download: 99\n",
      "Copying gs://deepasm/250bp/encode_training_data_with_genomic_picture/encode_training-000000000000.json...\n",
      "\\ [1 files][438.9 MiB/438.9 MiB]                                                \n",
      "Operation completed over 1 objects/438.9 MiB.                                    \n",
      "Appending file...\n",
      "Copying gs://deepasm/250bp/encode_training_data_with_genomic_picture/encode_training-000000000001.json...\n",
      "- [1 files][435.6 MiB/435.6 MiB]                                                \n",
      "Operation completed over 1 objects/435.6 MiB.                                    \n",
      "Appending file...\n",
      "Copying gs://deepasm/250bp/encode_training_data_with_genomic_picture/encode_training-000000000002.json...\n",
      "\\ [1 files][437.0 MiB/437.0 MiB]                                                \n",
      "Operation completed over 1 objects/437.0 MiB.                                    \n",
      "Appending file...\n"
     ]
    }
   ],
   "source": [
    "if IMPORT_RAW_FROM_BUCKET == True:\n",
    "    !gsutil ls gs://$DEEPASM_BUCKET/$GENOMIC_INTERVAL*bp/encode_training_data_with_genomic_picture/*.json > list_to_download.txt\n",
    "    files_to_download_df = pd.read_csv('list_to_download.txt', header=None)\n",
    "    print(\"Number of files to download:\", files_to_download_df.shape[0])\n",
    "\n",
    "    imported_df = pd.DataFrame()\n",
    "    \n",
    "    if TEST_RUN == True:\n",
    "        range_files = 3\n",
    "    else: # Download all the files\n",
    "        range_files = files_to_download_df.shape[0]\n",
    "\n",
    "    for index_file in range(range_files): \n",
    "        file_name_bucket = files_to_download_df[0][index_file]\n",
    "        local_file_name = \"training_\" + str(index_file) + \".json\"\n",
    "        \n",
    "        # Download the file from bucket\n",
    "        !gsutil cp $file_name_bucket $local_file_name\n",
    "        \n",
    "        print(\"Appending file...\")\n",
    "        imported_df = imported_df.append(pd.read_json(local_file_name, lines = True))"
   ]
  },
  {
   "cell_type": "code",
   "execution_count": 63,
   "id": "f83a257f-e990-4f89-bec0-0011061db225",
   "metadata": {},
   "outputs": [
    {
     "name": "stdout",
     "output_type": "stream",
     "text": [
      "Size of the imported dataset: (118739, 19)\n"
     ]
    }
   ],
   "source": [
    "print(\"Size of the imported dataset:\", imported_df.shape)"
   ]
  },
  {
   "cell_type": "code",
   "execution_count": 64,
   "id": "ed80fcd0-5fd3-4c31-9073-25ef8c137027",
   "metadata": {},
   "outputs": [
    {
     "data": {
      "text/html": [
       "<div>\n",
       "<style scoped>\n",
       "    .dataframe tbody tr th:only-of-type {\n",
       "        vertical-align: middle;\n",
       "    }\n",
       "\n",
       "    .dataframe tbody tr th {\n",
       "        vertical-align: top;\n",
       "    }\n",
       "\n",
       "    .dataframe thead th {\n",
       "        text-align: right;\n",
       "    }\n",
       "</style>\n",
       "<table border=\"1\" class=\"dataframe\">\n",
       "  <thead>\n",
       "    <tr style=\"text-align: right;\">\n",
       "      <th></th>\n",
       "      <th>asm_snp</th>\n",
       "      <th>sample_category</th>\n",
       "      <th>sample</th>\n",
       "      <th>chr</th>\n",
       "      <th>region_inf</th>\n",
       "      <th>region_sup</th>\n",
       "      <th>region_nb_cpg</th>\n",
       "      <th>nb_cpg_found</th>\n",
       "      <th>nb_reads</th>\n",
       "      <th>dnase</th>\n",
       "      <th>encode_ChiP_V2</th>\n",
       "      <th>tf_motifs</th>\n",
       "      <th>global_cpg_fm</th>\n",
       "      <th>tot_nb_cpg</th>\n",
       "      <th>tot_nb_reads</th>\n",
       "      <th>read_fm</th>\n",
       "      <th>cpg_fm</th>\n",
       "      <th>cpg_pos</th>\n",
       "      <th>genomic_picture</th>\n",
       "    </tr>\n",
       "  </thead>\n",
       "  <tbody>\n",
       "    <tr>\n",
       "      <th>0</th>\n",
       "      <td>0</td>\n",
       "      <td>0</td>\n",
       "      <td>mammary_epithelial</td>\n",
       "      <td>19</td>\n",
       "      <td>30866251</td>\n",
       "      <td>30866500</td>\n",
       "      <td>28</td>\n",
       "      <td>5</td>\n",
       "      <td>17</td>\n",
       "      <td>0</td>\n",
       "      <td>0</td>\n",
       "      <td>9</td>\n",
       "      <td>0.752</td>\n",
       "      <td>15554984</td>\n",
       "      <td>129787112</td>\n",
       "      <td>[0, 0.4, 0, 0, 0, 0, 0, 0.25, 0, 0.2, 0.2, 0, ...</td>\n",
       "      <td>[0.083, 0.214, 0.357, 0, 0.067]</td>\n",
       "      <td>[30866453, 30866462, 30866467, 30866472, 30866...</td>\n",
       "      <td>[{'read_id': 'E00224:128:HF5WKCCXX:8:2123:6014...</td>\n",
       "    </tr>\n",
       "    <tr>\n",
       "      <th>1</th>\n",
       "      <td>0</td>\n",
       "      <td>1</td>\n",
       "      <td>HeLa_S3</td>\n",
       "      <td>15</td>\n",
       "      <td>60297001</td>\n",
       "      <td>60297250</td>\n",
       "      <td>21</td>\n",
       "      <td>20</td>\n",
       "      <td>81</td>\n",
       "      <td>1</td>\n",
       "      <td>0</td>\n",
       "      <td>13</td>\n",
       "      <td>0.683</td>\n",
       "      <td>18381838</td>\n",
       "      <td>283211149</td>\n",
       "      <td>[1, 0.933, 1, 1, 0.8, 1, 0, 1, 1, 1, 1, 0.875,...</td>\n",
       "      <td>[0.84, 0.966, 0.906, 1, 0.969, 1, 1, 0.974, 0....</td>\n",
       "      <td>[60297014, 60297021, 60297035, 60297050, 60297...</td>\n",
       "      <td>[{'read_id': 'E00247:448:H3HNYCCXY:7:1208:6411...</td>\n",
       "    </tr>\n",
       "    <tr>\n",
       "      <th>2</th>\n",
       "      <td>0</td>\n",
       "      <td>1</td>\n",
       "      <td>HeLa_S3</td>\n",
       "      <td>17</td>\n",
       "      <td>74303751</td>\n",
       "      <td>74304000</td>\n",
       "      <td>25</td>\n",
       "      <td>24</td>\n",
       "      <td>47</td>\n",
       "      <td>0</td>\n",
       "      <td>0</td>\n",
       "      <td>13</td>\n",
       "      <td>0.683</td>\n",
       "      <td>18381838</td>\n",
       "      <td>283211149</td>\n",
       "      <td>[1, 1, 0.9380000000000001, 1, 1, 0.87, 0.929, ...</td>\n",
       "      <td>[0.9380000000000001, 0.9550000000000001, 0.955...</td>\n",
       "      <td>[74303758, 74303786, 74303792, 74303798, 74303...</td>\n",
       "      <td>[{'read_id': 'E00247:448:H3HNYCCXY:7:2220:9181...</td>\n",
       "    </tr>\n",
       "    <tr>\n",
       "      <th>3</th>\n",
       "      <td>0</td>\n",
       "      <td>1</td>\n",
       "      <td>sk_n_sh</td>\n",
       "      <td>11</td>\n",
       "      <td>66079251</td>\n",
       "      <td>66079500</td>\n",
       "      <td>19</td>\n",
       "      <td>18</td>\n",
       "      <td>31</td>\n",
       "      <td>0</td>\n",
       "      <td>0</td>\n",
       "      <td>4</td>\n",
       "      <td>0.689</td>\n",
       "      <td>15819966</td>\n",
       "      <td>244695432</td>\n",
       "      <td>[0, 0, 0, 0.333, 0, 0, 0, 0, 0, 0, 0, 0, 0, 0,...</td>\n",
       "      <td>[0.091, 0.1, 0, 0, 0, 0.059000000000000004, 0,...</td>\n",
       "      <td>[66079258, 66079261, 66079292, 66079304, 66079...</td>\n",
       "      <td>[{'read_id': 'E00247:449:H3LVYCCXY:8:2205:5599...</td>\n",
       "    </tr>\n",
       "    <tr>\n",
       "      <th>4</th>\n",
       "      <td>0</td>\n",
       "      <td>1</td>\n",
       "      <td>HepG2</td>\n",
       "      <td>12</td>\n",
       "      <td>107486751</td>\n",
       "      <td>107487000</td>\n",
       "      <td>24</td>\n",
       "      <td>20</td>\n",
       "      <td>38</td>\n",
       "      <td>1</td>\n",
       "      <td>0</td>\n",
       "      <td>11</td>\n",
       "      <td>0.564</td>\n",
       "      <td>15677001</td>\n",
       "      <td>242386547</td>\n",
       "      <td>[0, 0.111, 0, 0.091, 0, 0, 0, 0, 0, 0, 0, 0, 0...</td>\n",
       "      <td>[0, 0, 0, 0.048, 0, 0.036000000000000004, 0, 0...</td>\n",
       "      <td>[107486790, 107486801, 107486810, 107486834, 1...</td>\n",
       "      <td>[{'read_id': 'E00364:298:H3K5TCCXY:7:2116:2889...</td>\n",
       "    </tr>\n",
       "  </tbody>\n",
       "</table>\n",
       "</div>"
      ],
      "text/plain": [
       "   asm_snp  sample_category              sample chr  region_inf  region_sup  \\\n",
       "0        0                0  mammary_epithelial  19    30866251    30866500   \n",
       "1        0                1             HeLa_S3  15    60297001    60297250   \n",
       "2        0                1             HeLa_S3  17    74303751    74304000   \n",
       "3        0                1             sk_n_sh  11    66079251    66079500   \n",
       "4        0                1               HepG2  12   107486751   107487000   \n",
       "\n",
       "   region_nb_cpg  nb_cpg_found  nb_reads  dnase  encode_ChiP_V2  tf_motifs  \\\n",
       "0             28             5        17      0               0          9   \n",
       "1             21            20        81      1               0         13   \n",
       "2             25            24        47      0               0         13   \n",
       "3             19            18        31      0               0          4   \n",
       "4             24            20        38      1               0         11   \n",
       "\n",
       "   global_cpg_fm  tot_nb_cpg  tot_nb_reads  \\\n",
       "0          0.752    15554984     129787112   \n",
       "1          0.683    18381838     283211149   \n",
       "2          0.683    18381838     283211149   \n",
       "3          0.689    15819966     244695432   \n",
       "4          0.564    15677001     242386547   \n",
       "\n",
       "                                             read_fm  \\\n",
       "0  [0, 0.4, 0, 0, 0, 0, 0, 0.25, 0, 0.2, 0.2, 0, ...   \n",
       "1  [1, 0.933, 1, 1, 0.8, 1, 0, 1, 1, 1, 1, 0.875,...   \n",
       "2  [1, 1, 0.9380000000000001, 1, 1, 0.87, 0.929, ...   \n",
       "3  [0, 0, 0, 0.333, 0, 0, 0, 0, 0, 0, 0, 0, 0, 0,...   \n",
       "4  [0, 0.111, 0, 0.091, 0, 0, 0, 0, 0, 0, 0, 0, 0...   \n",
       "\n",
       "                                              cpg_fm  \\\n",
       "0                    [0.083, 0.214, 0.357, 0, 0.067]   \n",
       "1  [0.84, 0.966, 0.906, 1, 0.969, 1, 1, 0.974, 0....   \n",
       "2  [0.9380000000000001, 0.9550000000000001, 0.955...   \n",
       "3  [0.091, 0.1, 0, 0, 0, 0.059000000000000004, 0,...   \n",
       "4  [0, 0, 0, 0.048, 0, 0.036000000000000004, 0, 0...   \n",
       "\n",
       "                                             cpg_pos  \\\n",
       "0  [30866453, 30866462, 30866467, 30866472, 30866...   \n",
       "1  [60297014, 60297021, 60297035, 60297050, 60297...   \n",
       "2  [74303758, 74303786, 74303792, 74303798, 74303...   \n",
       "3  [66079258, 66079261, 66079292, 66079304, 66079...   \n",
       "4  [107486790, 107486801, 107486810, 107486834, 1...   \n",
       "\n",
       "                                     genomic_picture  \n",
       "0  [{'read_id': 'E00224:128:HF5WKCCXX:8:2123:6014...  \n",
       "1  [{'read_id': 'E00247:448:H3HNYCCXY:7:1208:6411...  \n",
       "2  [{'read_id': 'E00247:448:H3HNYCCXY:7:2220:9181...  \n",
       "3  [{'read_id': 'E00247:449:H3LVYCCXY:8:2205:5599...  \n",
       "4  [{'read_id': 'E00364:298:H3K5TCCXY:7:2116:2889...  "
      ]
     },
     "execution_count": 64,
     "metadata": {},
     "output_type": "execute_result"
    }
   ],
   "source": [
    "imported_df.head()"
   ]
  },
  {
   "cell_type": "markdown",
   "id": "cd44574e-a6e1-4e5b-b254-bcf6959d60a0",
   "metadata": {},
   "source": [
    "## Prepare the features\n",
    "\n",
    "Note: we do not randomize the rows because the scripts preceding this notebook already sampled the rows."
   ]
  },
  {
   "cell_type": "markdown",
   "id": "1b3f096d-c8fd-4270-b822-97fd20c94331",
   "metadata": {},
   "source": [
    "### Copy & clean dataframe "
   ]
  },
  {
   "cell_type": "code",
   "execution_count": 65,
   "id": "0b1bbac4-bc09-4786-b688-b8976eeac8bf",
   "metadata": {},
   "outputs": [],
   "source": [
    "# Copy of the dataframe\n",
    "raw_df = imported_df.copy()\n",
    "raw_df = raw_df.head(NB_ROWS_RAW_DATASET)\n",
    "\n",
    "# Randomize the rows\n",
    "raw_df = raw_df.sample(frac = 1, ignore_index = True)\n"
   ]
  },
  {
   "cell_type": "code",
   "execution_count": 66,
   "id": "83d48e94-5264-4e01-913a-222b72bde9f7",
   "metadata": {},
   "outputs": [
    {
     "name": "stdout",
     "output_type": "stream",
     "text": [
      "Size of the dataset:  (118739, 19)\n",
      "Number of samples (12 expected): 12\n",
      "Chromosomes found (24 expected): ['11' '1' '8' '9' '16' '6' '4' '19' '21' '10' '20' '3' '17' '14' '22' '7'\n",
      " '15' '13' '5' 'X' '2' '18' '12' 'Y']\n"
     ]
    }
   ],
   "source": [
    "print(\"Size of the dataset: \", raw_df.shape)\n",
    "print(\"Number of samples (12 expected):\", len(raw_df['sample'].unique()))\n",
    "print(\"Chromosomes found (24 expected):\", raw_df['chr'].unique())\n",
    "\n",
    "# We remove the sample column\n",
    "raw_df = raw_df.drop('sample', axis = 1)\n",
    "\n",
    "# We remove chromosomes X and Y because ASM cannot be reliabily evaluated in these chromosomes\n",
    "raw_df = raw_df[raw_df['chr'] != 'X']\n",
    "raw_df = raw_df[raw_df['chr'] != 'Y']\n",
    "\n",
    "# We remove the chr column\n",
    "raw_df = raw_df.drop('chr', axis = 1)"
   ]
  },
  {
   "cell_type": "code",
   "execution_count": 77,
   "id": "e51a306c-f998-48b3-812b-0900d382663e",
   "metadata": {},
   "outputs": [
    {
     "data": {
      "text/plain": [
       "['147', '170', '84', '174', '116']"
      ]
     },
     "execution_count": 77,
     "metadata": {},
     "output_type": "execute_result"
    }
   ],
   "source": [
    "raw_df['genomic_picture'][0][0]['pos_array']"
   ]
  },
  {
   "cell_type": "markdown",
   "id": "c8a0c078-541c-4563-a68a-4dd87bb34e5f",
   "metadata": {
    "jp-MarkdownHeadingCollapsed": true,
    "tags": []
   },
   "source": [
    "### Calculate the distance between CpGs"
   ]
  },
  {
   "cell_type": "code",
   "execution_count": 12,
   "id": "1f2362ad-6e00-4d94-961d-8081ada1d11b",
   "metadata": {},
   "outputs": [],
   "source": [
    "# Create a function to calculate the distance between CpGs (~3min)\n",
    "def dist_cpg(cpg_pos):\n",
    "  distances = []\n",
    "  for index in range(len(cpg_pos)):\n",
    "    if index >= len(cpg_pos)-1:\n",
    "      return distances\n",
    "    else:\n",
    "      distances.append(cpg_pos[index + 1] - cpg_pos[index])\n",
    "  return distances\n",
    "\n",
    "# Apply the function \"distance\" to the array of CpG positions\n",
    "raw_df['cpg_dist'] = raw_df['cpg_pos'].apply(lambda x: dist_cpg(x))"
   ]
  },
  {
   "cell_type": "markdown",
   "id": "9ebc6f7c-ccef-4681-a609-dbde5ac5e379",
   "metadata": {
    "jp-MarkdownHeadingCollapsed": true,
    "tags": []
   },
   "source": [
    "### Convert arrays into numerical features\n",
    "\n",
    "To do this, we use kernel estimates as well as simpler metrics like mean and standard deviation"
   ]
  },
  {
   "cell_type": "markdown",
   "id": "6653f9e8-b3a9-4077-8bd9-52d25fd22626",
   "metadata": {},
   "source": [
    "#### Kernel functions"
   ]
  },
  {
   "cell_type": "code",
   "execution_count": 13,
   "id": "a5452c4c-7ff6-43a5-97ec-da1ccbdee6b2",
   "metadata": {},
   "outputs": [
    {
     "name": "stdout",
     "output_type": "stream",
     "text": [
      "X-axis values used for the FM kernel estimate: [0.  0.1 0.2 0.3 0.4 0.5 0.6 0.7 0.8 0.9 1. ]\n"
     ]
    }
   ],
   "source": [
    "# FRACTIONAL METHYLATION\n",
    "\n",
    "# Values for fractional methylation (between 0 and 1)\n",
    "values_for_kernel_fm = asarray([value for value in range(0, KERNEL_FM_NB_VALUES+1)])\n",
    "values_for_kernel_fm = values_for_kernel_fm / KERNEL_FM_NB_VALUES\n",
    "print(\"X-axis values used for the FM kernel estimate:\", values_for_kernel_fm)\n",
    "values_for_kernel_fm = values_for_kernel_fm.reshape((len(values_for_kernel_fm), 1))\n",
    "\n",
    "# Build Kernel model\n",
    "kernel_fm_model = KernelDensity(bandwidth=KERNEL_FM_BANDWIDTH, kernel='gaussian')\n",
    "\n",
    "# Function to be applied to each array in the columns read_fm and cpg_fm\n",
    "def estimate_kernels_fm(x):\n",
    "  sample = np.reshape(x, (len(x), 1))\n",
    "  kernel_fm_model.fit(sample)\n",
    "  probabilities = kernel_fm_model.score_samples(values_for_kernel_fm)\n",
    "  probabilities = exp(probabilities)\n",
    "  return np.round(probabilities, 4)\n",
    "\n",
    "# Try function\n",
    "#estimate_kernels_fm(raw_df['cpg_fm'][0])\n"
   ]
  },
  {
   "cell_type": "code",
   "execution_count": 14,
   "id": "97c6d384-d6a5-4ad9-bc40-74584337290f",
   "metadata": {},
   "outputs": [
    {
     "name": "stdout",
     "output_type": "stream",
     "text": [
      "Values used in kernel estimate: [  0  40  80 120 160]\n"
     ]
    }
   ],
   "source": [
    "# COVERAGE AND CPG DISTANCE\n",
    "\n",
    "# Values for fractional methylation (between 0 and 1)\n",
    "values_for_kernel_cov = asarray([value for value in range(0, KERNEL_COV_NB_MAX, KERNEL_COV_NB_STEP)])\n",
    "print(\"Values used in kernel estimate:\", values_for_kernel_cov)\n",
    "values_for_kernel_cov = values_for_kernel_cov.reshape((len(values_for_kernel_cov), 1))\n",
    "\n",
    "# Build Kernel model\n",
    "kernel_cov_model = KernelDensity(bandwidth=KERNEL_COV_BANDWIDTH, kernel='gaussian')\n",
    "\n",
    "# Function to be applied to each array in the columns read_fm and cpg_fm\n",
    "def estimate_kernels_cov(x):\n",
    "  sample = np.reshape(x, (len(x), 1))\n",
    "  kernel_fm_model.fit(sample)\n",
    "  probabilities = kernel_fm_model.score_samples(values_for_kernel_cov)\n",
    "  probabilities = exp(probabilities)\n",
    "  return np.round(probabilities, 4)\n",
    "\n",
    "# Try function\n",
    "#estimate_kernels_cov(raw_df['cpg_cov'][1])"
   ]
  },
  {
   "cell_type": "markdown",
   "id": "c6ed3b36-3216-458e-83f5-4e24c38c814e",
   "metadata": {},
   "source": [
    "#### Test kernel estimates"
   ]
  },
  {
   "cell_type": "code",
   "execution_count": 15,
   "id": "8775a79c-f61b-48fb-bd6e-555c3d12e478",
   "metadata": {},
   "outputs": [],
   "source": [
    "variable_to_plot = 'cpg_fm' # cpg_fm or read_fm or cpg_dist or cpg_cov\n",
    "\n",
    "n_extract = 10\n",
    "extract_asm = raw_df[raw_df['asm_snp'] == 1].sample(n=n_extract, ignore_index = True)\n",
    "extract_noasm = raw_df[raw_df['asm_snp'] == 0].sample(n=n_extract, ignore_index = True)\n",
    "n_x = round(np.sqrt(n_extract))"
   ]
  },
  {
   "cell_type": "markdown",
   "id": "a6eb3ee5-1333-43a5-99f0-a7481f682a7d",
   "metadata": {},
   "source": [
    "##### Plots for regions with ASM"
   ]
  },
  {
   "cell_type": "code",
   "execution_count": 16,
   "id": "c309fc8e-8acb-4955-bb8e-53fa1b602fd8",
   "metadata": {},
   "outputs": [
    {
     "data": {
      "image/png": "[encoded data removed]",
      "text/plain": [
       "<Figure size 720x720 with 9 Axes>"
      ]
     },
     "metadata": {
      "needs_background": "light"
     },
     "output_type": "display_data"
    }
   ],
   "source": [
    "mpl.rcParams['figure.figsize'] = (10, 10)\n",
    "fig, axs = plt.subplots(n_x, n_x, sharey=True, sharex=True, tight_layout=True)\n",
    "\n",
    "for k in range(n_x):\n",
    "  for m in range(n_x):\n",
    "\n",
    "    # Print data distribution\n",
    "    data_distribution = extract_asm[variable_to_plot][k+m]\n",
    "    axs[k,m].hist(data_distribution, density = True, bins = 10)\n",
    "\n",
    "    # Print kernel density\n",
    "    if 'fm' in variable_to_plot:\n",
    "        #print(\"Using the FM kernel estimates\")\n",
    "        kernel_probabilities = estimate_kernels_fm(data_distribution)\n",
    "        values = values_for_kernel_fm\n",
    "    else:\n",
    "        #print(\"Using the COV kernel estimates\")\n",
    "        kernel_probabilities = estimate_kernels_cov(data_distribution)\n",
    "        values = values_for_kernel_cov\n",
    "    axs[k,m].plot(values[:], kernel_probabilities)\n"
   ]
  },
  {
   "cell_type": "markdown",
   "id": "23eef467-301c-4c3a-8c14-65c63bd6704e",
   "metadata": {},
   "source": [
    "##### Plots for regions without ASM"
   ]
  },
  {
   "cell_type": "code",
   "execution_count": 17,
   "id": "305fe19d-1890-45e8-9429-bd26f9503dbd",
   "metadata": {},
   "outputs": [
    {
     "data": {
      "image/png": "[encoded data removed]",
      "text/plain": [
       "<Figure size 720x720 with 9 Axes>"
      ]
     },
     "metadata": {
      "needs_background": "light"
     },
     "output_type": "display_data"
    }
   ],
   "source": [
    "mpl.rcParams['figure.figsize'] = (10, 10)\n",
    "fig, axs = plt.subplots(n_x, n_x, sharey=True, sharex=True, tight_layout=True)\n",
    "\n",
    "for k in range(n_x):\n",
    "  for m in range(n_x):\n",
    "\n",
    "    # Print data distribution\n",
    "    data_distribution = extract_noasm[variable_to_plot][k+m]\n",
    "    axs[k,m].hist(data_distribution, density = True, bins = 10)\n",
    "\n",
    "    # Print kernel density\n",
    "    if 'fm' in variable_to_plot:\n",
    "        #print(\"Using the FM kernel estimates\")\n",
    "        kernel_probabilities = estimate_kernels_fm(data_distribution)\n",
    "        values = values_for_kernel_fm\n",
    "    else:\n",
    "        #print(\"Using the COV kernel estimates\")\n",
    "        kernel_probabilities = estimate_kernels_cov(data_distribution)\n",
    "        values = values_for_kernel_cov\n",
    "    axs[k,m].plot(values[:], kernel_probabilities)"
   ]
  },
  {
   "cell_type": "markdown",
   "id": "8474e90d-b2cf-4b02-9627-ebb593bc1a2b",
   "metadata": {},
   "source": [
    "#### Calculate the mean, std, and kernel estimates of arrays"
   ]
  },
  {
   "cell_type": "code",
   "execution_count": 18,
   "id": "6b85aea5-083a-47ca-93cc-7a554a3f7cf5",
   "metadata": {},
   "outputs": [],
   "source": [
    "def convert_arrays(df, column_name):\n",
    "  \"\"\"Inputs: dataframe and a column name that contains arrays\"\"\"\n",
    "\n",
    "  # Mean and Standard deviation\n",
    "  std_name = \"std_\" + column_name\n",
    "  av_name = \"mean_\" + column_name\n",
    "\n",
    "  print(\"Calculating the standard deviation\")\n",
    "  df[std_name] = df[column_name].apply(lambda x: np.round(np.std(x), 4))\n",
    "  print(\"Calculating the average\")\n",
    "  df[av_name] = df[column_name].apply(lambda x: np.round(np.mean(x), 4))\n",
    "  \n",
    "  # Kernel density estimates\n",
    "  kernel_name = \"kernel_\" + column_name\n",
    "  if (column_name == 'cpg_cov' or column_name == 'cpg_dist'):\n",
    "    print(\"Calculating the proba distribution for cov or dist\")\n",
    "    df[kernel_name] = df[column_name].apply(lambda x: estimate_kernels_cov(x))\n",
    "  else:\n",
    "    print(\"Calculating the proba distribution for fractional methylation\")\n",
    "    df[kernel_name] = df[column_name].apply(lambda x: estimate_kernels_fm(x))\n"
   ]
  },
  {
   "cell_type": "code",
   "execution_count": 19,
   "id": "da7d5288-af28-40f5-8bb5-9abf3d30014c",
   "metadata": {},
   "outputs": [
    {
     "name": "stdout",
     "output_type": "stream",
     "text": [
      "Column:  cpg_dist\n",
      "Calculating the standard deviation\n",
      "Calculating the average\n",
      "Calculating the proba distribution for cov or dist\n",
      "DONE\n"
     ]
    }
   ],
   "source": [
    "# Apply the function\n",
    "for col in ['read_fm', 'cpg_fm', 'cpg_dist']:\n",
    "    clear_output(wait=True)\n",
    "    print(\"Column: \", col)\n",
    "    convert_arrays(raw_df, col)\n",
    "print(\"DONE\")"
   ]
  },
  {
   "cell_type": "code",
   "execution_count": 20,
   "id": "3522320d-cfe7-457d-9d50-e6394d71a68a",
   "metadata": {},
   "outputs": [],
   "source": [
    "def export_kernel_array(col):\n",
    "    # Col must be a column of kernel estimate arrays\n",
    "    print(\"Processing:\", col)\n",
    "    kernel_name_list = []\n",
    "    if 'fm' in col:\n",
    "        values = values_for_kernel_fm\n",
    "    else:\n",
    "        values = values_for_kernel_cov\n",
    "    # Create a list of the new column names\n",
    "    for k in range(0, values.shape[0]):\n",
    "        kernel_name = col + \"_kernel_\" + str(k)\n",
    "        kernel_name_list = kernel_name_list + [kernel_name]\n",
    "    print(kernel_name_list)\n",
    "    \n",
    "    # Create the additional columns\n",
    "    kernel_estimates_column = \"kernel_\" + col\n",
    "    raw_df[kernel_name_list] = pd.DataFrame(raw_df[kernel_estimates_column].tolist(), index= raw_df.index)"
   ]
  },
  {
   "cell_type": "code",
   "execution_count": 21,
   "id": "2052717c-c317-4b71-bce8-fe5729896820",
   "metadata": {},
   "outputs": [
    {
     "name": "stdout",
     "output_type": "stream",
     "text": [
      "Processing: read_fm\n",
      "['read_fm_kernel_0', 'read_fm_kernel_1', 'read_fm_kernel_2', 'read_fm_kernel_3', 'read_fm_kernel_4', 'read_fm_kernel_5', 'read_fm_kernel_6', 'read_fm_kernel_7', 'read_fm_kernel_8', 'read_fm_kernel_9', 'read_fm_kernel_10']\n",
      "Processing: cpg_fm\n",
      "['cpg_fm_kernel_0', 'cpg_fm_kernel_1', 'cpg_fm_kernel_2', 'cpg_fm_kernel_3', 'cpg_fm_kernel_4', 'cpg_fm_kernel_5', 'cpg_fm_kernel_6', 'cpg_fm_kernel_7', 'cpg_fm_kernel_8', 'cpg_fm_kernel_9', 'cpg_fm_kernel_10']\n",
      "Processing: cpg_dist\n",
      "['cpg_dist_kernel_0', 'cpg_dist_kernel_1', 'cpg_dist_kernel_2', 'cpg_dist_kernel_3', 'cpg_dist_kernel_4']\n"
     ]
    }
   ],
   "source": [
    "# Use the function\n",
    "for col in ['read_fm', 'cpg_fm', 'cpg_dist']:\n",
    "    export_kernel_array(col)"
   ]
  },
  {
   "cell_type": "code",
   "execution_count": 22,
   "id": "3889362e-ba69-4a65-8de1-92be70ff8c06",
   "metadata": {},
   "outputs": [],
   "source": [
    "# Delete columns that we no longer need\n",
    "for col in ['read_fm', 'cpg_dist',\n",
    "            'kernel_cpg_dist', 'kernel_cpg_fm', 'kernel_read_fm']:\n",
    "    raw_df.drop(col, axis = 1, inplace = True)"
   ]
  },
  {
   "cell_type": "markdown",
   "id": "f6fb4754-b931-4004-949b-80652daa233a",
   "metadata": {
    "tags": []
   },
   "source": [
    "### Convert epigenetic signals into dummy variables"
   ]
  },
  {
   "cell_type": "markdown",
   "id": "988cff6a-e3f5-4320-8a95-a2f8607bc5ab",
   "metadata": {},
   "source": [
    "#### Plot histograms for the values of epigenetic signals"
   ]
  },
  {
   "cell_type": "code",
   "execution_count": 23,
   "id": "2c2f3c8c-f04a-4f7d-b0a0-c012a9ace7a5",
   "metadata": {},
   "outputs": [],
   "source": [
    "#df_extract = raw_df[['dnase','encode_ChiP_V2', 'tf_motifs']]\n",
    "#df_extract\n",
    "#hist = raw_df[['dnase','encode_ChiP_V2', 'tf_motifs']].hist(density = True, bins = 3)\n",
    "\n",
    "sns.set(rc = {'figure.figsize':(12,12)})\n",
    "#sns.pairplot(raw_df[['asm_snp','dnase','encode_ChiP_V2', 'tf_motifs']], hue = 'asm_snp', diag_kind='kde')"
   ]
  },
  {
   "cell_type": "code",
   "execution_count": 24,
   "id": "121b08f5-8e0a-4cdd-9542-944b91096f7f",
   "metadata": {},
   "outputs": [
    {
     "data": {
      "text/plain": [
       "Index(['asm_snp', 'sample_category', 'region_inf', 'region_sup',\n",
       "       'region_nb_cpg', 'nb_cpg_found', 'nb_reads', 'dnase', 'encode_ChiP_V2',\n",
       "       'tf_motifs', 'global_cpg_fm', 'tot_nb_cpg', 'tot_nb_reads', 'cpg_fm',\n",
       "       'cpg_pos', 'std_read_fm', 'mean_read_fm', 'std_cpg_fm', 'mean_cpg_fm',\n",
       "       'std_cpg_dist', 'mean_cpg_dist', 'read_fm_kernel_0', 'read_fm_kernel_1',\n",
       "       'read_fm_kernel_2', 'read_fm_kernel_3', 'read_fm_kernel_4',\n",
       "       'read_fm_kernel_5', 'read_fm_kernel_6', 'read_fm_kernel_7',\n",
       "       'read_fm_kernel_8', 'read_fm_kernel_9', 'read_fm_kernel_10',\n",
       "       'cpg_fm_kernel_0', 'cpg_fm_kernel_1', 'cpg_fm_kernel_2',\n",
       "       'cpg_fm_kernel_3', 'cpg_fm_kernel_4', 'cpg_fm_kernel_5',\n",
       "       'cpg_fm_kernel_6', 'cpg_fm_kernel_7', 'cpg_fm_kernel_8',\n",
       "       'cpg_fm_kernel_9', 'cpg_fm_kernel_10', 'cpg_dist_kernel_0',\n",
       "       'cpg_dist_kernel_1', 'cpg_dist_kernel_2', 'cpg_dist_kernel_3',\n",
       "       'cpg_dist_kernel_4'],\n",
       "      dtype='object')"
      ]
     },
     "execution_count": 24,
     "metadata": {},
     "output_type": "execute_result"
    }
   ],
   "source": [
    "raw_df.columns"
   ]
  },
  {
   "cell_type": "code",
   "execution_count": 25,
   "id": "b79f67df-b84f-4456-99a7-93e12d2916ec",
   "metadata": {},
   "outputs": [],
   "source": [
    "def convert_epi_signal(epi_signal):\n",
    "  print(\"Processing signal\", epi_signal)\n",
    "  unique_values = raw_df[epi_signal].unique()\n",
    "  print(unique_values)\n",
    "  min_epi_value = 0 # It's always zero (no signal) for all signals\n",
    "  median_epi_value = np.median(unique_values)\n",
    "  print(\"Median epi value:\", median_epi_value)\n",
    "  epi_signal_null = epi_signal + \"_null\"\n",
    "  epi_signal_low = epi_signal + \"_low\"\n",
    "  epi_signal_high = epi_signal + \"_high\"\n",
    "  raw_df[epi_signal_null] = raw_df[epi_signal].apply(lambda x: 1 if x == min_epi_value else 0)\n",
    "  raw_df[epi_signal_low] = raw_df[epi_signal].apply(lambda x: 1 if (x > min_epi_value and x <= median_epi_value) else 0)\n",
    "  raw_df[epi_signal_high] = raw_df[epi_signal].apply(lambda x: 1 if x > median_epi_value else 0)"
   ]
  },
  {
   "cell_type": "code",
   "execution_count": 26,
   "id": "e43bdee0-cd0f-46fd-b54a-301b1b3975cf",
   "metadata": {},
   "outputs": [
    {
     "name": "stdout",
     "output_type": "stream",
     "text": [
      "Processing signal dnase\n",
      "[1 0]\n",
      "Median epi value: 0.5\n",
      "Processing signal encode_ChiP_V2\n",
      "[ 0  1  2 11  4  5  6  3  7  9 10 12 19 14  8 13 25 15 16 26 22]\n",
      "Median epi value: 10.0\n",
      "Processing signal tf_motifs\n",
      "[ 3  0  7  1  2  4 16  6 12 11 19 15  9  5  8 31 14 22 18 10 13 28 26 21\n",
      " 35 24 25 17 20 29 54 34 53 23 49 43 27 33 32 47 37 30 40 38 42 39 51 46\n",
      " 48 44 90 36 41 74 55 66 45 75 56 50 52 57 64 69 63 62 60 61 65 68 58 67\n",
      " 59]\n",
      "Median epi value: 36.0\n"
     ]
    }
   ],
   "source": [
    "# Apply the function to all epigenetic signals\n",
    "for epi_signal in ['dnase', 'encode_ChiP_V2', 'tf_motifs']:\n",
    "  convert_epi_signal(epi_signal)"
   ]
  },
  {
   "cell_type": "code",
   "execution_count": 27,
   "id": "10fceac6-13e4-44f9-80e7-cad08a4f7ce8",
   "metadata": {},
   "outputs": [],
   "source": [
    "# Delete the raw epigenetic signals\n",
    "# for epi_signal in ['dnase', 'encode_ChiP_V2', 'tf_motifs']:\n",
    "#   raw_df.drop(epi_signal, axis = 1, inplace = True)"
   ]
  },
  {
   "cell_type": "code",
   "execution_count": 28,
   "id": "9229e490-b543-4f31-b69f-70cc5b3e8a4d",
   "metadata": {},
   "outputs": [
    {
     "data": {
      "text/plain": [
       "Index(['asm_snp', 'sample_category', 'region_inf', 'region_sup',\n",
       "       'region_nb_cpg', 'nb_cpg_found', 'nb_reads', 'dnase', 'encode_ChiP_V2',\n",
       "       'tf_motifs', 'global_cpg_fm', 'tot_nb_cpg', 'tot_nb_reads', 'cpg_fm',\n",
       "       'cpg_pos', 'std_read_fm', 'mean_read_fm', 'std_cpg_fm', 'mean_cpg_fm',\n",
       "       'std_cpg_dist', 'mean_cpg_dist', 'read_fm_kernel_0', 'read_fm_kernel_1',\n",
       "       'read_fm_kernel_2', 'read_fm_kernel_3', 'read_fm_kernel_4',\n",
       "       'read_fm_kernel_5', 'read_fm_kernel_6', 'read_fm_kernel_7',\n",
       "       'read_fm_kernel_8', 'read_fm_kernel_9', 'read_fm_kernel_10',\n",
       "       'cpg_fm_kernel_0', 'cpg_fm_kernel_1', 'cpg_fm_kernel_2',\n",
       "       'cpg_fm_kernel_3', 'cpg_fm_kernel_4', 'cpg_fm_kernel_5',\n",
       "       'cpg_fm_kernel_6', 'cpg_fm_kernel_7', 'cpg_fm_kernel_8',\n",
       "       'cpg_fm_kernel_9', 'cpg_fm_kernel_10', 'cpg_dist_kernel_0',\n",
       "       'cpg_dist_kernel_1', 'cpg_dist_kernel_2', 'cpg_dist_kernel_3',\n",
       "       'cpg_dist_kernel_4', 'dnase_null', 'dnase_low', 'dnase_high',\n",
       "       'encode_ChiP_V2_null', 'encode_ChiP_V2_low', 'encode_ChiP_V2_high',\n",
       "       'tf_motifs_null', 'tf_motifs_low', 'tf_motifs_high'],\n",
       "      dtype='object')"
      ]
     },
     "execution_count": 28,
     "metadata": {},
     "output_type": "execute_result"
    }
   ],
   "source": [
    "raw_df.columns"
   ]
  },
  {
   "cell_type": "markdown",
   "id": "db111e71-0c7f-428b-b24c-24a686d3b03e",
   "metadata": {},
   "source": [
    "## Create a 2D image of the genomic region"
   ]
  },
  {
   "cell_type": "code",
   "execution_count": null,
   "id": "a64d67e3-ad27-4052-a22f-fe5659c89209",
   "metadata": {},
   "outputs": [],
   "source": [
    "# Calculate read fractional methylation\n"
   ]
  },
  {
   "cell_type": "markdown",
   "id": "4aae6224-d8e0-4444-8d19-6ef29d7742e1",
   "metadata": {
    "tags": []
   },
   "source": [
    "## Create a 1D \"image\" of the genomic region\n",
    "\n",
    "We create an 1D-image (length: genomic region interval) with 3 information per \"pixel\": CpG presence (0 or 1), CpG coverage, CpG fractional methylation"
   ]
  },
  {
   "cell_type": "code",
   "execution_count": 29,
   "id": "d30e5e77-f178-4d1b-b8b5-0d9754bd0855",
   "metadata": {},
   "outputs": [],
   "source": [
    "# Create arrays of positions, fractional methylation, and coverage for CpGs (~2h30)\n",
    "def create_genomic_array(df):\n",
    "    genomic_positions = []\n",
    "    genomic_fm = []\n",
    "    for position in range(df['region_inf'], df['region_sup'] + 1):\n",
    "        if position in df['cpg_pos']:\n",
    "            new_pos = 1\n",
    "            pos_index = df['cpg_pos'].index(position)\n",
    "            new_fm = df['cpg_fm'][pos_index]\n",
    "        else:\n",
    "            new_pos = 0\n",
    "            new_fm = 0\n",
    "        genomic_positions = genomic_positions + [new_pos]\n",
    "        genomic_fm = genomic_fm + [new_fm]\n",
    "    return np.transpose([genomic_positions, genomic_fm])\n"
   ]
  },
  {
   "cell_type": "code",
   "execution_count": 30,
   "id": "7706ea3d-e4a0-4398-bc26-ee64f817daee",
   "metadata": {},
   "outputs": [
    {
     "data": {
      "text/html": [
       "<div>\n",
       "<style scoped>\n",
       "    .dataframe tbody tr th:only-of-type {\n",
       "        vertical-align: middle;\n",
       "    }\n",
       "\n",
       "    .dataframe tbody tr th {\n",
       "        vertical-align: top;\n",
       "    }\n",
       "\n",
       "    .dataframe thead th {\n",
       "        text-align: right;\n",
       "    }\n",
       "</style>\n",
       "<table border=\"1\" class=\"dataframe\">\n",
       "  <thead>\n",
       "    <tr style=\"text-align: right;\">\n",
       "      <th></th>\n",
       "      <th>cpg_pos</th>\n",
       "      <th>region_inf</th>\n",
       "      <th>region_sup</th>\n",
       "      <th>cpg_fm</th>\n",
       "      <th>genomic_pic</th>\n",
       "    </tr>\n",
       "  </thead>\n",
       "  <tbody>\n",
       "    <tr>\n",
       "      <th>0</th>\n",
       "      <td>[2]</td>\n",
       "      <td>1</td>\n",
       "      <td>4</td>\n",
       "      <td>[0.0]</td>\n",
       "      <td>[[0.0, 0.0], [1.0, 0.0], [0.0, 0.0], [0.0, 0.0]]</td>\n",
       "    </tr>\n",
       "    <tr>\n",
       "      <th>1</th>\n",
       "      <td>[21, 22]</td>\n",
       "      <td>20</td>\n",
       "      <td>23</td>\n",
       "      <td>[1.0, 0.0]</td>\n",
       "      <td>[[0.0, 0.0], [1.0, 1.0], [1.0, 0.0], [0.0, 0.0]]</td>\n",
       "    </tr>\n",
       "  </tbody>\n",
       "</table>\n",
       "</div>"
      ],
      "text/plain": [
       "    cpg_pos  region_inf  region_sup      cpg_fm  \\\n",
       "0       [2]           1           4       [0.0]   \n",
       "1  [21, 22]          20          23  [1.0, 0.0]   \n",
       "\n",
       "                                        genomic_pic  \n",
       "0  [[0.0, 0.0], [1.0, 0.0], [0.0, 0.0], [0.0, 0.0]]  \n",
       "1  [[0.0, 0.0], [1.0, 1.0], [1.0, 0.0], [0.0, 0.0]]  "
      ]
     },
     "execution_count": 30,
     "metadata": {},
     "output_type": "execute_result"
    }
   ],
   "source": [
    "# Test function\n",
    "d = {'cpg_pos': [[2],[21,22]], \n",
    "              'region_inf':[1,20], \n",
    "              'region_sup':[4,23],\n",
    "              'cpg_fm': [[0.0],[1.0,0.0]]\n",
    "             }\n",
    "example_df = pd.DataFrame(data = d)\n",
    "example_df['genomic_pic'] = example_df.apply(lambda x: create_genomic_array(x), axis = 1)\n",
    "example_df"
   ]
  },
  {
   "cell_type": "markdown",
   "id": "6018cf7e-bdf4-4be4-af9f-42d14e7723c0",
   "metadata": {},
   "source": [
    "### Split the dataset for calculating the images"
   ]
  },
  {
   "cell_type": "code",
   "execution_count": 30,
   "id": "06096995-690f-4aab-8bc5-259e884992ff",
   "metadata": {},
   "outputs": [
    {
     "name": "stdout",
     "output_type": "stream",
     "text": [
      "The dataframe has been split into 38693 pieces\n"
     ]
    }
   ],
   "source": [
    "# Split the dataframe into a list of dataframes of 10 rows. Otherwise it stalls\n",
    "nb_dataframe_pieces = max(1, round(raw_df.shape[0]/10))\n",
    "raw_df_pieces = np.array_split(raw_df, nb_dataframe_pieces)\n",
    "print(\"The dataframe has been split into\", nb_dataframe_pieces, \"pieces\")\n"
   ]
  },
  {
   "cell_type": "code",
   "execution_count": 31,
   "id": "4ff4e0f2-9355-4174-8d14-cf1333af9495",
   "metadata": {},
   "outputs": [
    {
     "name": "stdout",
     "output_type": "stream",
     "text": [
      "processing the piece at position: 38692\n"
     ]
    }
   ],
   "source": [
    "# Apply the function to the dataframe which we split before because it takes a lot of memory.\n",
    "for df_piece in range(nb_dataframe_pieces): # nb_dataframe_pieces\n",
    "        clear_output(wait=True)\n",
    "        print(\"processing the piece at position:\", df_piece)\n",
    "        raw_df_pieces[df_piece]['genomic_matrix'] = raw_df_pieces[df_piece].apply(lambda x: create_genomic_array(x), \n",
    "                                                                                      axis = 1)"
   ]
  },
  {
   "cell_type": "code",
   "execution_count": 32,
   "id": "192e3c7b-0731-4766-95db-0713df166b97",
   "metadata": {},
   "outputs": [
    {
     "name": "stdout",
     "output_type": "stream",
     "text": [
      "processing the piece at position: 38692\n"
     ]
    }
   ],
   "source": [
    "# Concatenate the dataframes\n",
    "prepared_df = pd.DataFrame()\n",
    "\n",
    "for df_piece in range(nb_dataframe_pieces):\n",
    "    clear_output(wait=True)\n",
    "    print(\"processing the piece at position:\", df_piece)\n",
    "    tmp_df = raw_df_pieces[df_piece]\n",
    "    for var in ['cpg_pos', 'cpg_fm', 'region_inf', 'region_sup']:\n",
    "        tmp_df.drop(var, axis = 1, inplace = True)\n",
    "    prepared_df = prepared_df.append(tmp_df)"
   ]
  },
  {
   "cell_type": "markdown",
   "id": "c23fd340-7827-4182-b371-554436af51f8",
   "metadata": {
    "tags": []
   },
   "source": [
    "## Save dataframe with features on Cloud Storage"
   ]
  },
  {
   "cell_type": "code",
   "execution_count": 33,
   "id": "9cf90a2f-dc29-4a84-8c3d-500e3bf49c35",
   "metadata": {},
   "outputs": [
    {
     "data": {
      "text/plain": [
       "Index(['asm_snp', 'sample_category', 'region_nb_cpg', 'nb_cpg_found',\n",
       "       'nb_reads', 'dnase', 'encode_ChiP_V2', 'tf_motifs', 'global_cpg_fm',\n",
       "       'tot_nb_cpg', 'tot_nb_reads', 'std_read_fm', 'mean_read_fm',\n",
       "       'std_cpg_fm', 'mean_cpg_fm', 'std_cpg_dist', 'mean_cpg_dist',\n",
       "       'read_fm_kernel_0', 'read_fm_kernel_1', 'read_fm_kernel_2',\n",
       "       'read_fm_kernel_3', 'read_fm_kernel_4', 'read_fm_kernel_5',\n",
       "       'read_fm_kernel_6', 'read_fm_kernel_7', 'read_fm_kernel_8',\n",
       "       'read_fm_kernel_9', 'read_fm_kernel_10', 'cpg_fm_kernel_0',\n",
       "       'cpg_fm_kernel_1', 'cpg_fm_kernel_2', 'cpg_fm_kernel_3',\n",
       "       'cpg_fm_kernel_4', 'cpg_fm_kernel_5', 'cpg_fm_kernel_6',\n",
       "       'cpg_fm_kernel_7', 'cpg_fm_kernel_8', 'cpg_fm_kernel_9',\n",
       "       'cpg_fm_kernel_10', 'cpg_dist_kernel_0', 'cpg_dist_kernel_1',\n",
       "       'cpg_dist_kernel_2', 'cpg_dist_kernel_3', 'cpg_dist_kernel_4',\n",
       "       'dnase_null', 'dnase_low', 'dnase_high', 'encode_ChiP_V2_null',\n",
       "       'encode_ChiP_V2_low', 'encode_ChiP_V2_high', 'tf_motifs_null',\n",
       "       'tf_motifs_low', 'tf_motifs_high', 'genomic_matrix'],\n",
       "      dtype='object')"
      ]
     },
     "execution_count": 33,
     "metadata": {},
     "output_type": "execute_result"
    }
   ],
   "source": [
    "# Check the columns\n",
    "prepared_df.columns"
   ]
  },
  {
   "cell_type": "code",
   "execution_count": 34,
   "id": "7cdade84-79fc-452e-9ab7-11317804c23d",
   "metadata": {},
   "outputs": [
    {
     "name": "stdout",
     "output_type": "stream",
     "text": [
      "2022-03-17_23-12-03\n"
     ]
    }
   ],
   "source": [
    "# Obtain the date/time\n",
    "now = datetime.today()\n",
    "dt_string = now.strftime(\"%Y-%m-%d_%H-%M-%S\")\n",
    "print(dt_string)"
   ]
  },
  {
   "cell_type": "code",
   "execution_count": 35,
   "id": "52abf4ba-fd30-4102-b419-2713aeaa79f0",
   "metadata": {},
   "outputs": [],
   "source": [
    "# Export the variable names to the bucket\n",
    "sys.stdout = open(\"variables.txt\", \"w\")\n",
    "%whos"
   ]
  },
  {
   "cell_type": "code",
   "execution_count": 36,
   "id": "940d939f-8b48-4670-bba5-9877e03b3f49",
   "metadata": {},
   "outputs": [],
   "source": [
    "# Export variable names to to Cloud Storage\n",
    "dt_string = str(GENOMIC_INTERVAL) + \"bp_\" + str(NB_ROWS_RAW_DATASET) + \"rows_\" + dt_string\n",
    "!gsutil cp variables.txt gs://$DEEPASM_BUCKET/notebook/$dt_string/"
   ]
  },
  {
   "cell_type": "code",
   "execution_count": 37,
   "id": "67397ca8-78ff-44ac-8f7f-9114182fc3ac",
   "metadata": {},
   "outputs": [
    {
     "name": "stderr",
     "output_type": "stream",
     "text": [
      "/opt/conda/lib/python3.7/site-packages/pandas/core/generic.py:2718: PerformanceWarning: \n",
      "your performance may suffer as PyTables will pickle object types that it cannot\n",
      "map directly to c-types [inferred_type->mixed,key->block2_values] [items->Index(['genomic_matrix'], dtype='object')]\n",
      "\n",
      "  encoding=encoding,\n"
     ]
    }
   ],
   "source": [
    "if EXPORT_PROCESSED_DATA == True:\n",
    "    \n",
    "    nb_pieces_export = max(1, round(raw_df.shape[0]/10000))\n",
    "    prepared_df_pieces = np.array_split(prepared_df, nb_pieces_export)\n",
    "    print(\"The dataframe has been split into\", nb_pieces_export, \"pieces\")\n",
    "    \n",
    "    for df_piece in range(nb_pieces_export):\n",
    "        print(\"processing the piece at position:\", df_piece)\n",
    "        df_to_export = prepared_df_pieces[df_piece]\n",
    "        print(\"Size of dataframe:\", df_to_export.shape)\n",
    "\n",
    "        print(\"Saving the file as HDF5...\")\n",
    "        file_name = \"prepared_df_\" + str(df_piece) + \".h5\"\n",
    "        print(\"File name:\", file_name)\n",
    "        df_to_export.to_hdf(file_name, key = 'df', mode = 'w')\n",
    "\n",
    "        print(\"Exporting file to bucket...\")\n",
    "        !gsutil cp $file_name gs://$DEEPASM_BUCKET/notebook/$dt_string/\n",
    "else:\n",
    "        print(\"Not exporting the scaled DF per variable\")"
   ]
  },
  {
   "cell_type": "markdown",
   "id": "ac4449d8-ef60-4d41-b099-19781a2817f5",
   "metadata": {},
   "source": [
    "## Importing prepared features from bucket"
   ]
  },
  {
   "cell_type": "code",
   "execution_count": 7,
   "id": "b31230ac-36bd-47da-9055-b840367e4c25",
   "metadata": {},
   "outputs": [
    {
     "data": {
      "text/plain": [
       "'Processing file:'"
      ]
     },
     "metadata": {},
     "output_type": "display_data"
    },
    {
     "data": {
      "text/plain": [
       "386"
      ]
     },
     "metadata": {},
     "output_type": "display_data"
    },
    {
     "data": {
      "text/plain": [
       "'gs://deepasm/notebook/250bp_5000000rows_2022-03-17_23-12-03/prepared_df_386.h5'"
      ]
     },
     "metadata": {},
     "output_type": "display_data"
    },
    {
     "name": "stdout",
     "output_type": "stream",
     "text": [
      "Copying gs://deepasm/notebook/250bp_5000000rows_2022-03-17_23-12-03/prepared_df_386.h5...\n",
      "- [1 files][ 43.6 MiB/ 43.6 MiB]                                                \n",
      "Operation completed over 1 objects/43.6 MiB.                                     \n"
     ]
    }
   ],
   "source": [
    "if IMPORT_PROCESSED_DATA == True:\n",
    "    display(\"Downloading from the bucket...\")\n",
    "    # Obtain path from GCP Cloud Storage\n",
    "    bucket_path = \"gs://\" + PROCESSED_DATA_PATH\n",
    "    file_path = bucket_path + \"/*.h5\"\n",
    "\n",
    "    # Find all the H5 files with the same normalization method.\n",
    "    !gsutil ls $file_path > list_to_download.txt\n",
    "    files_to_download_df = pd.read_csv('list_to_download.txt', header=None)\n",
    "\n",
    "    prepared_df = pd.DataFrame()\n",
    "\n",
    "    for index_file in range(files_to_download_df.shape[0]):\n",
    "        clear_output(wait=True)\n",
    "        display(\"Processing file:\", index_file)\n",
    "        file_name_bucket = bucket_path + \"/prepared_df_\" + str(index_file) + \".h5\"\n",
    "        display(file_name_bucket)\n",
    "        file_name_local = \"prepared_df_\" +  str(index_file) + \".h5\"\n",
    "        !gsutil cp $file_name_bucket $file_name_local\n",
    "        tmp = pd.read_hdf(file_name_local)\n",
    "        prepared_df = prepared_df.append(tmp)\n",
    "else:\n",
    "    display(\"Not downloading from the bucket\")\n",
    "    prepared_df = pd.DataFrame()\n",
    "    !ls *.h5 > list_files.txt\n",
    "    files_to_append = pd.read_csv('list_files.txt', header=None)\n",
    "    for file_number in range(files_to_append.shape[0]):\n",
    "        clear_output(wait=True)\n",
    "        file_name_local = \"prepared_df_\" +  str(file_number) + \".h5\"\n",
    "        print(\"Processing:\", file_name_local)\n",
    "        tmp = pd.read_hdf(file_name_local)\n",
    "        prepared_df = prepared_df.append(tmp)"
   ]
  },
  {
   "cell_type": "code",
   "execution_count": 8,
   "id": "653db181-b4d3-42f9-87d3-af0df13d3daa",
   "metadata": {},
   "outputs": [
    {
     "name": "stdout",
     "output_type": "stream",
     "text": [
      "Dataset size: (3869285, 54)\n",
      "Columns of dataset: Index(['asm_snp', 'sample_category', 'region_nb_cpg', 'nb_cpg_found',\n",
      "       'nb_reads', 'dnase', 'encode_ChiP_V2', 'tf_motifs', 'global_cpg_fm',\n",
      "       'tot_nb_cpg', 'tot_nb_reads', 'std_read_fm', 'mean_read_fm',\n",
      "       'std_cpg_fm', 'mean_cpg_fm', 'std_cpg_dist', 'mean_cpg_dist',\n",
      "       'read_fm_kernel_0', 'read_fm_kernel_1', 'read_fm_kernel_2',\n",
      "       'read_fm_kernel_3', 'read_fm_kernel_4', 'read_fm_kernel_5',\n",
      "       'read_fm_kernel_6', 'read_fm_kernel_7', 'read_fm_kernel_8',\n",
      "       'read_fm_kernel_9', 'read_fm_kernel_10', 'cpg_fm_kernel_0',\n",
      "       'cpg_fm_kernel_1', 'cpg_fm_kernel_2', 'cpg_fm_kernel_3',\n",
      "       'cpg_fm_kernel_4', 'cpg_fm_kernel_5', 'cpg_fm_kernel_6',\n",
      "       'cpg_fm_kernel_7', 'cpg_fm_kernel_8', 'cpg_fm_kernel_9',\n",
      "       'cpg_fm_kernel_10', 'cpg_dist_kernel_0', 'cpg_dist_kernel_1',\n",
      "       'cpg_dist_kernel_2', 'cpg_dist_kernel_3', 'cpg_dist_kernel_4',\n",
      "       'dnase_null', 'dnase_low', 'dnase_high', 'encode_ChiP_V2_null',\n",
      "       'encode_ChiP_V2_low', 'encode_ChiP_V2_high', 'tf_motifs_null',\n",
      "       'tf_motifs_low', 'tf_motifs_high', 'genomic_matrix'],\n",
      "      dtype='object')\n"
     ]
    }
   ],
   "source": [
    "print(\"Dataset size:\", prepared_df.shape)\n",
    "print(\"Columns of dataset:\", prepared_df.columns)"
   ]
  },
  {
   "cell_type": "markdown",
   "id": "66f11de7-362c-499d-8cc0-03b7f6bd8748",
   "metadata": {},
   "source": [
    "## Class weights\n",
    "\n",
    "There are approximately 100x more regions without ASM than with ASM. We'll have to use weights in our training."
   ]
  },
  {
   "cell_type": "code",
   "execution_count": 9,
   "id": "51b93e1b-580a-42df-88cd-2273b892649e",
   "metadata": {},
   "outputs": [
    {
     "name": "stdout",
     "output_type": "stream",
     "text": [
      "Number of regions assessed for ASM: 3869285\n",
      "Regions with ASM found: 53275 (1.38% of total)\n",
      "\n"
     ]
    }
   ],
   "source": [
    "neg, pos = np.bincount(prepared_df['asm_snp'])\n",
    "total = neg + pos\n",
    "print('Number of regions assessed for ASM: {}\\nRegions with ASM found: {} ({:.2f}% of total)\\n'.format(\n",
    "    total, pos, 100 * pos / total))"
   ]
  },
  {
   "cell_type": "code",
   "execution_count": 10,
   "id": "0cb591cd-0295-4ee8-8334-07199035fed7",
   "metadata": {},
   "outputs": [
    {
     "name": "stdout",
     "output_type": "stream",
     "text": [
      "Weight for class 0: 0.51\n",
      "Weight for class 1: 36.31\n"
     ]
    }
   ],
   "source": [
    "# Scaling by total/2 helps keep the loss to a similar magnitude.\n",
    "# The sum of the weights of all examples stays the same.\n",
    "weight_for_0 = (1 / neg)*(total)/2.0 \n",
    "weight_for_1 = (1 / pos)*(total)/2.0\n",
    "\n",
    "class_weight_asm = {0: weight_for_0, 1: weight_for_1}\n",
    "\n",
    "print('Weight for class 0: {:.2f}'.format(weight_for_0))\n",
    "print('Weight for class 1: {:.2f}'.format(weight_for_1))"
   ]
  },
  {
   "cell_type": "markdown",
   "id": "f8f31db6-6e8b-4050-b1ca-10876e376d8a",
   "metadata": {},
   "source": [
    "## Normalize the features"
   ]
  },
  {
   "cell_type": "code",
   "execution_count": 11,
   "id": "921c0908-86bd-40d6-ab7d-66e4f519b9e4",
   "metadata": {},
   "outputs": [
    {
     "data": {
      "text/plain": [
       "Index(['asm_snp', 'sample_category', 'region_nb_cpg', 'nb_cpg_found',\n",
       "       'nb_reads', 'dnase', 'encode_ChiP_V2', 'tf_motifs', 'global_cpg_fm',\n",
       "       'tot_nb_cpg', 'tot_nb_reads', 'std_read_fm', 'mean_read_fm',\n",
       "       'std_cpg_fm', 'mean_cpg_fm', 'std_cpg_dist', 'mean_cpg_dist',\n",
       "       'read_fm_kernel_0', 'read_fm_kernel_1', 'read_fm_kernel_2',\n",
       "       'read_fm_kernel_3', 'read_fm_kernel_4', 'read_fm_kernel_5',\n",
       "       'read_fm_kernel_6', 'read_fm_kernel_7', 'read_fm_kernel_8',\n",
       "       'read_fm_kernel_9', 'read_fm_kernel_10', 'cpg_fm_kernel_0',\n",
       "       'cpg_fm_kernel_1', 'cpg_fm_kernel_2', 'cpg_fm_kernel_3',\n",
       "       'cpg_fm_kernel_4', 'cpg_fm_kernel_5', 'cpg_fm_kernel_6',\n",
       "       'cpg_fm_kernel_7', 'cpg_fm_kernel_8', 'cpg_fm_kernel_9',\n",
       "       'cpg_fm_kernel_10', 'cpg_dist_kernel_0', 'cpg_dist_kernel_1',\n",
       "       'cpg_dist_kernel_2', 'cpg_dist_kernel_3', 'cpg_dist_kernel_4',\n",
       "       'dnase_null', 'dnase_low', 'dnase_high', 'encode_ChiP_V2_null',\n",
       "       'encode_ChiP_V2_low', 'encode_ChiP_V2_high', 'tf_motifs_null',\n",
       "       'tf_motifs_low', 'tf_motifs_high', 'genomic_matrix'],\n",
       "      dtype='object')"
      ]
     },
     "execution_count": 11,
     "metadata": {},
     "output_type": "execute_result"
    }
   ],
   "source": [
    "prepared_df.columns"
   ]
  },
  {
   "cell_type": "code",
   "execution_count": 12,
   "id": "46dcd565-8237-48da-8926-79d00290eac3",
   "metadata": {},
   "outputs": [],
   "source": [
    "non_continous_columns = ['asm_snp', 'sample_category', 'dnase', \n",
    "                                    'dnase_high', 'dnase_null', 'dnase_low', \n",
    "                                    'encode_ChiP_V2_low', 'encode_ChiP_V2_null', 'encode_ChiP_V2_high',\n",
    "                                    'tf_motifs_null', 'tf_motifs_low', 'tf_motifs_null',\n",
    "                                    'genomic_matrix']"
   ]
  },
  {
   "cell_type": "code",
   "execution_count": 13,
   "id": "7be36d41-5ae6-4a59-974e-56b5621582b8",
   "metadata": {},
   "outputs": [
    {
     "data": {
      "text/html": [
       "<div>\n",
       "<style scoped>\n",
       "    .dataframe tbody tr th:only-of-type {\n",
       "        vertical-align: middle;\n",
       "    }\n",
       "\n",
       "    .dataframe tbody tr th {\n",
       "        vertical-align: top;\n",
       "    }\n",
       "\n",
       "    .dataframe thead th {\n",
       "        text-align: right;\n",
       "    }\n",
       "</style>\n",
       "<table border=\"1\" class=\"dataframe\">\n",
       "  <thead>\n",
       "    <tr style=\"text-align: right;\">\n",
       "      <th></th>\n",
       "      <th>region_nb_cpg</th>\n",
       "      <th>nb_cpg_found</th>\n",
       "      <th>nb_reads</th>\n",
       "      <th>encode_ChiP_V2</th>\n",
       "      <th>tf_motifs</th>\n",
       "      <th>global_cpg_fm</th>\n",
       "      <th>tot_nb_cpg</th>\n",
       "      <th>tot_nb_reads</th>\n",
       "      <th>std_read_fm</th>\n",
       "      <th>mean_read_fm</th>\n",
       "      <th>...</th>\n",
       "      <th>dnase_high</th>\n",
       "      <th>dnase_null</th>\n",
       "      <th>dnase_low</th>\n",
       "      <th>encode_ChiP_V2_low</th>\n",
       "      <th>encode_ChiP_V2_null</th>\n",
       "      <th>encode_ChiP_V2_high</th>\n",
       "      <th>tf_motifs_null</th>\n",
       "      <th>tf_motifs_low</th>\n",
       "      <th>tf_motifs_null</th>\n",
       "      <th>genomic_matrix</th>\n",
       "    </tr>\n",
       "  </thead>\n",
       "  <tbody>\n",
       "    <tr>\n",
       "      <th>0</th>\n",
       "      <td>-0.365956</td>\n",
       "      <td>-0.278602</td>\n",
       "      <td>1.210088</td>\n",
       "      <td>-0.128124</td>\n",
       "      <td>0.340547</td>\n",
       "      <td>0.934622</td>\n",
       "      <td>0.160302</td>\n",
       "      <td>-0.251859</td>\n",
       "      <td>0.256440</td>\n",
       "      <td>0.558450</td>\n",
       "      <td>...</td>\n",
       "      <td>1</td>\n",
       "      <td>0</td>\n",
       "      <td>0</td>\n",
       "      <td>0</td>\n",
       "      <td>1</td>\n",
       "      <td>0</td>\n",
       "      <td>0</td>\n",
       "      <td>1</td>\n",
       "      <td>0</td>\n",
       "      <td>[[0.0, 0.0], [0.0, 0.0], [0.0, 0.0], [0.0, 0.0...</td>\n",
       "    </tr>\n",
       "    <tr>\n",
       "      <th>1</th>\n",
       "      <td>-0.365956</td>\n",
       "      <td>-0.278602</td>\n",
       "      <td>1.090483</td>\n",
       "      <td>-0.128124</td>\n",
       "      <td>-0.519023</td>\n",
       "      <td>-0.617372</td>\n",
       "      <td>0.376751</td>\n",
       "      <td>1.853769</td>\n",
       "      <td>-0.090437</td>\n",
       "      <td>0.445323</td>\n",
       "      <td>...</td>\n",
       "      <td>0</td>\n",
       "      <td>1</td>\n",
       "      <td>0</td>\n",
       "      <td>0</td>\n",
       "      <td>1</td>\n",
       "      <td>0</td>\n",
       "      <td>1</td>\n",
       "      <td>0</td>\n",
       "      <td>1</td>\n",
       "      <td>[[0.0, 0.0], [0.0, 0.0], [0.0, 0.0], [0.0, 0.0...</td>\n",
       "    </tr>\n",
       "    <tr>\n",
       "      <th>2</th>\n",
       "      <td>0.113552</td>\n",
       "      <td>-0.026653</td>\n",
       "      <td>-0.464381</td>\n",
       "      <td>-0.128124</td>\n",
       "      <td>1.486641</td>\n",
       "      <td>-0.617372</td>\n",
       "      <td>0.376751</td>\n",
       "      <td>1.853769</td>\n",
       "      <td>-0.539861</td>\n",
       "      <td>0.713114</td>\n",
       "      <td>...</td>\n",
       "      <td>0</td>\n",
       "      <td>1</td>\n",
       "      <td>0</td>\n",
       "      <td>0</td>\n",
       "      <td>1</td>\n",
       "      <td>0</td>\n",
       "      <td>0</td>\n",
       "      <td>1</td>\n",
       "      <td>0</td>\n",
       "      <td>[[0.0, 0.0], [0.0, 0.0], [0.0, 0.0], [0.0, 0.0...</td>\n",
       "    </tr>\n",
       "    <tr>\n",
       "      <th>3</th>\n",
       "      <td>-0.365956</td>\n",
       "      <td>-0.530550</td>\n",
       "      <td>-0.966722</td>\n",
       "      <td>-0.128124</td>\n",
       "      <td>-0.519023</td>\n",
       "      <td>0.650287</td>\n",
       "      <td>0.097797</td>\n",
       "      <td>-0.479054</td>\n",
       "      <td>-0.074386</td>\n",
       "      <td>0.580063</td>\n",
       "      <td>...</td>\n",
       "      <td>0</td>\n",
       "      <td>1</td>\n",
       "      <td>0</td>\n",
       "      <td>0</td>\n",
       "      <td>1</td>\n",
       "      <td>0</td>\n",
       "      <td>1</td>\n",
       "      <td>0</td>\n",
       "      <td>1</td>\n",
       "      <td>[[0.0, 0.0], [0.0, 0.0], [0.0, 0.0], [0.0, 0.0...</td>\n",
       "    </tr>\n",
       "    <tr>\n",
       "      <th>4</th>\n",
       "      <td>-0.845465</td>\n",
       "      <td>-0.782499</td>\n",
       "      <td>-1.182011</td>\n",
       "      <td>-0.128124</td>\n",
       "      <td>-0.519023</td>\n",
       "      <td>0.567356</td>\n",
       "      <td>-0.855840</td>\n",
       "      <td>-1.881743</td>\n",
       "      <td>-0.110946</td>\n",
       "      <td>0.572633</td>\n",
       "      <td>...</td>\n",
       "      <td>0</td>\n",
       "      <td>1</td>\n",
       "      <td>0</td>\n",
       "      <td>0</td>\n",
       "      <td>1</td>\n",
       "      <td>0</td>\n",
       "      <td>1</td>\n",
       "      <td>0</td>\n",
       "      <td>1</td>\n",
       "      <td>[[0.0, 0.0], [0.0, 0.0], [0.0, 0.0], [0.0, 0.0...</td>\n",
       "    </tr>\n",
       "    <tr>\n",
       "      <th>...</th>\n",
       "      <td>...</td>\n",
       "      <td>...</td>\n",
       "      <td>...</td>\n",
       "      <td>...</td>\n",
       "      <td>...</td>\n",
       "      <td>...</td>\n",
       "      <td>...</td>\n",
       "      <td>...</td>\n",
       "      <td>...</td>\n",
       "      <td>...</td>\n",
       "      <td>...</td>\n",
       "      <td>...</td>\n",
       "      <td>...</td>\n",
       "      <td>...</td>\n",
       "      <td>...</td>\n",
       "      <td>...</td>\n",
       "      <td>...</td>\n",
       "      <td>...</td>\n",
       "      <td>...</td>\n",
       "      <td>...</td>\n",
       "      <td>...</td>\n",
       "    </tr>\n",
       "    <tr>\n",
       "      <th>3924022</th>\n",
       "      <td>-0.845465</td>\n",
       "      <td>-0.782499</td>\n",
       "      <td>0.659905</td>\n",
       "      <td>2.667521</td>\n",
       "      <td>0.054024</td>\n",
       "      <td>-0.179022</td>\n",
       "      <td>-0.682194</td>\n",
       "      <td>0.234277</td>\n",
       "      <td>-0.151965</td>\n",
       "      <td>0.684410</td>\n",
       "      <td>...</td>\n",
       "      <td>1</td>\n",
       "      <td>0</td>\n",
       "      <td>0</td>\n",
       "      <td>1</td>\n",
       "      <td>0</td>\n",
       "      <td>0</td>\n",
       "      <td>0</td>\n",
       "      <td>1</td>\n",
       "      <td>0</td>\n",
       "      <td>[[0.0, 0.0], [0.0, 0.0], [0.0, 0.0], [0.0, 0.0...</td>\n",
       "    </tr>\n",
       "    <tr>\n",
       "      <th>3924023</th>\n",
       "      <td>0.353306</td>\n",
       "      <td>0.477243</td>\n",
       "      <td>-0.057724</td>\n",
       "      <td>-0.128124</td>\n",
       "      <td>-0.519023</td>\n",
       "      <td>0.650287</td>\n",
       "      <td>0.097797</td>\n",
       "      <td>-0.479054</td>\n",
       "      <td>0.428541</td>\n",
       "      <td>0.415606</td>\n",
       "      <td>...</td>\n",
       "      <td>0</td>\n",
       "      <td>1</td>\n",
       "      <td>0</td>\n",
       "      <td>0</td>\n",
       "      <td>1</td>\n",
       "      <td>0</td>\n",
       "      <td>1</td>\n",
       "      <td>0</td>\n",
       "      <td>1</td>\n",
       "      <td>[[0.0, 0.0], [0.0, 0.0], [0.0, 0.0], [0.0, 0.0...</td>\n",
       "    </tr>\n",
       "    <tr>\n",
       "      <th>3924024</th>\n",
       "      <td>1.072569</td>\n",
       "      <td>0.981140</td>\n",
       "      <td>-0.607907</td>\n",
       "      <td>-0.128124</td>\n",
       "      <td>0.627071</td>\n",
       "      <td>-1.600696</td>\n",
       "      <td>0.719412</td>\n",
       "      <td>0.371378</td>\n",
       "      <td>-0.059227</td>\n",
       "      <td>-1.941158</td>\n",
       "      <td>...</td>\n",
       "      <td>1</td>\n",
       "      <td>0</td>\n",
       "      <td>0</td>\n",
       "      <td>0</td>\n",
       "      <td>1</td>\n",
       "      <td>0</td>\n",
       "      <td>0</td>\n",
       "      <td>1</td>\n",
       "      <td>0</td>\n",
       "      <td>[[0.0, 0.0], [0.0, 0.0], [0.0, 0.0], [0.0, 0.0...</td>\n",
       "    </tr>\n",
       "    <tr>\n",
       "      <th>3924025</th>\n",
       "      <td>-0.126202</td>\n",
       "      <td>-0.026653</td>\n",
       "      <td>-0.536144</td>\n",
       "      <td>-0.128124</td>\n",
       "      <td>-0.232500</td>\n",
       "      <td>-0.569982</td>\n",
       "      <td>0.282265</td>\n",
       "      <td>-0.301404</td>\n",
       "      <td>0.829812</td>\n",
       "      <td>-0.301318</td>\n",
       "      <td>...</td>\n",
       "      <td>0</td>\n",
       "      <td>1</td>\n",
       "      <td>0</td>\n",
       "      <td>0</td>\n",
       "      <td>1</td>\n",
       "      <td>0</td>\n",
       "      <td>0</td>\n",
       "      <td>1</td>\n",
       "      <td>0</td>\n",
       "      <td>[[0.0, 0.0], [0.0, 0.0], [0.0, 0.0], [0.0, 0.0...</td>\n",
       "    </tr>\n",
       "    <tr>\n",
       "      <th>3924026</th>\n",
       "      <td>-0.845465</td>\n",
       "      <td>-0.782499</td>\n",
       "      <td>0.946957</td>\n",
       "      <td>-0.128124</td>\n",
       "      <td>0.340547</td>\n",
       "      <td>-0.250106</td>\n",
       "      <td>0.996636</td>\n",
       "      <td>0.943538</td>\n",
       "      <td>1.858851</td>\n",
       "      <td>-0.543107</td>\n",
       "      <td>...</td>\n",
       "      <td>0</td>\n",
       "      <td>1</td>\n",
       "      <td>0</td>\n",
       "      <td>0</td>\n",
       "      <td>1</td>\n",
       "      <td>0</td>\n",
       "      <td>0</td>\n",
       "      <td>1</td>\n",
       "      <td>0</td>\n",
       "      <td>[[0.0, 0.0], [0.0, 0.0], [0.0, 0.0], [0.0, 0.0...</td>\n",
       "    </tr>\n",
       "  </tbody>\n",
       "</table>\n",
       "<p>3869285 rows × 55 columns</p>\n",
       "</div>"
      ],
      "text/plain": [
       "         region_nb_cpg  nb_cpg_found  nb_reads  encode_ChiP_V2  tf_motifs  \\\n",
       "0            -0.365956     -0.278602  1.210088       -0.128124   0.340547   \n",
       "1            -0.365956     -0.278602  1.090483       -0.128124  -0.519023   \n",
       "2             0.113552     -0.026653 -0.464381       -0.128124   1.486641   \n",
       "3            -0.365956     -0.530550 -0.966722       -0.128124  -0.519023   \n",
       "4            -0.845465     -0.782499 -1.182011       -0.128124  -0.519023   \n",
       "...                ...           ...       ...             ...        ...   \n",
       "3924022      -0.845465     -0.782499  0.659905        2.667521   0.054024   \n",
       "3924023       0.353306      0.477243 -0.057724       -0.128124  -0.519023   \n",
       "3924024       1.072569      0.981140 -0.607907       -0.128124   0.627071   \n",
       "3924025      -0.126202     -0.026653 -0.536144       -0.128124  -0.232500   \n",
       "3924026      -0.845465     -0.782499  0.946957       -0.128124   0.340547   \n",
       "\n",
       "         global_cpg_fm  tot_nb_cpg  tot_nb_reads  std_read_fm  mean_read_fm  \\\n",
       "0             0.934622    0.160302     -0.251859     0.256440      0.558450   \n",
       "1            -0.617372    0.376751      1.853769    -0.090437      0.445323   \n",
       "2            -0.617372    0.376751      1.853769    -0.539861      0.713114   \n",
       "3             0.650287    0.097797     -0.479054    -0.074386      0.580063   \n",
       "4             0.567356   -0.855840     -1.881743    -0.110946      0.572633   \n",
       "...                ...         ...           ...          ...           ...   \n",
       "3924022      -0.179022   -0.682194      0.234277    -0.151965      0.684410   \n",
       "3924023       0.650287    0.097797     -0.479054     0.428541      0.415606   \n",
       "3924024      -1.600696    0.719412      0.371378    -0.059227     -1.941158   \n",
       "3924025      -0.569982    0.282265     -0.301404     0.829812     -0.301318   \n",
       "3924026      -0.250106    0.996636      0.943538     1.858851     -0.543107   \n",
       "\n",
       "         ...  dnase_high  dnase_null  dnase_low  encode_ChiP_V2_low  \\\n",
       "0        ...           1           0          0                   0   \n",
       "1        ...           0           1          0                   0   \n",
       "2        ...           0           1          0                   0   \n",
       "3        ...           0           1          0                   0   \n",
       "4        ...           0           1          0                   0   \n",
       "...      ...         ...         ...        ...                 ...   \n",
       "3924022  ...           1           0          0                   1   \n",
       "3924023  ...           0           1          0                   0   \n",
       "3924024  ...           1           0          0                   0   \n",
       "3924025  ...           0           1          0                   0   \n",
       "3924026  ...           0           1          0                   0   \n",
       "\n",
       "         encode_ChiP_V2_null  encode_ChiP_V2_high  tf_motifs_null  \\\n",
       "0                          1                    0               0   \n",
       "1                          1                    0               1   \n",
       "2                          1                    0               0   \n",
       "3                          1                    0               1   \n",
       "4                          1                    0               1   \n",
       "...                      ...                  ...             ...   \n",
       "3924022                    0                    0               0   \n",
       "3924023                    1                    0               1   \n",
       "3924024                    1                    0               0   \n",
       "3924025                    1                    0               0   \n",
       "3924026                    1                    0               0   \n",
       "\n",
       "         tf_motifs_low  tf_motifs_null  \\\n",
       "0                    1               0   \n",
       "1                    0               1   \n",
       "2                    1               0   \n",
       "3                    0               1   \n",
       "4                    0               1   \n",
       "...                ...             ...   \n",
       "3924022              1               0   \n",
       "3924023              0               1   \n",
       "3924024              1               0   \n",
       "3924025              1               0   \n",
       "3924026              1               0   \n",
       "\n",
       "                                            genomic_matrix  \n",
       "0        [[0.0, 0.0], [0.0, 0.0], [0.0, 0.0], [0.0, 0.0...  \n",
       "1        [[0.0, 0.0], [0.0, 0.0], [0.0, 0.0], [0.0, 0.0...  \n",
       "2        [[0.0, 0.0], [0.0, 0.0], [0.0, 0.0], [0.0, 0.0...  \n",
       "3        [[0.0, 0.0], [0.0, 0.0], [0.0, 0.0], [0.0, 0.0...  \n",
       "4        [[0.0, 0.0], [0.0, 0.0], [0.0, 0.0], [0.0, 0.0...  \n",
       "...                                                    ...  \n",
       "3924022  [[0.0, 0.0], [0.0, 0.0], [0.0, 0.0], [0.0, 0.0...  \n",
       "3924023  [[0.0, 0.0], [0.0, 0.0], [0.0, 0.0], [0.0, 0.0...  \n",
       "3924024  [[0.0, 0.0], [0.0, 0.0], [0.0, 0.0], [0.0, 0.0...  \n",
       "3924025  [[0.0, 0.0], [0.0, 0.0], [0.0, 0.0], [0.0, 0.0...  \n",
       "3924026  [[0.0, 0.0], [0.0, 0.0], [0.0, 0.0], [0.0, 0.0...  \n",
       "\n",
       "[3869285 rows x 55 columns]"
      ]
     },
     "execution_count": 13,
     "metadata": {},
     "output_type": "execute_result"
    }
   ],
   "source": [
    "# Copy dataframe and remove non-continous variables\n",
    "normalized_df = prepared_df.copy()\n",
    "normalized_df = normalized_df.drop(columns = non_continous_columns)\n",
    "\n",
    "# Apply StandardScaler to continous variables\n",
    "columns = normalized_df.columns\n",
    "scaler = StandardScaler()\n",
    "scaler.fit(normalized_df)\n",
    "normalized_df = pd.DataFrame(data = scaler.transform(normalized_df), index = normalized_df.index)\n",
    "normalized_df.columns = columns\n",
    "\n",
    "# Concatenate with other columns\n",
    "normalized_df = pd.concat([normalized_df, \n",
    "                           prepared_df[non_continous_columns]], axis = 1)\n",
    "\n",
    "normalized_df"
   ]
  },
  {
   "cell_type": "markdown",
   "id": "e1626493-61fd-4c9f-8f2b-df05048c1d96",
   "metadata": {
    "jp-MarkdownHeadingCollapsed": true,
    "tags": []
   },
   "source": [
    "## Perform a PCA to reduce the number of the features to be used in the models"
   ]
  },
  {
   "cell_type": "code",
   "execution_count": 105,
   "id": "7938e1dd-8e0b-48db-8db2-1cb7b0803706",
   "metadata": {},
   "outputs": [],
   "source": [
    "# # Do a test on normalized features\n",
    "# features_df = normalized_df.copy()\n",
    "\n",
    "# # Not normalized features\n",
    "# #features_df = prepared_df.copy()\n"
   ]
  },
  {
   "cell_type": "code",
   "execution_count": 123,
   "id": "35b9ca48-1ce7-4cff-99c5-20cee3f0be3d",
   "metadata": {},
   "outputs": [
    {
     "data": {
      "text/plain": [
       "<AxesSubplot:>"
      ]
     },
     "execution_count": 123,
     "metadata": {},
     "output_type": "execute_result"
    },
    {
     "data": {
      "image/png": "[encoded data removed]",
      "text/plain": [
       "<Figure size 720x720 with 2 Axes>"
      ]
     },
     "metadata": {
      "needs_background": "light"
     },
     "output_type": "display_data"
    }
   ],
   "source": [
    "# corr_matrix = pd.DataFrame(abs(features_df.corr()))\n",
    "# sns.heatmap(corr_matrix)"
   ]
  },
  {
   "cell_type": "code",
   "execution_count": 140,
   "id": "97f3dcc3-da1c-496d-89c9-d012558b6cd0",
   "metadata": {},
   "outputs": [
    {
     "data": {
      "text/html": [
       "<div>\n",
       "<style scoped>\n",
       "    .dataframe tbody tr th:only-of-type {\n",
       "        vertical-align: middle;\n",
       "    }\n",
       "\n",
       "    .dataframe tbody tr th {\n",
       "        vertical-align: top;\n",
       "    }\n",
       "\n",
       "    .dataframe thead th {\n",
       "        text-align: right;\n",
       "    }\n",
       "</style>\n",
       "<table border=\"1\" class=\"dataframe\">\n",
       "  <thead>\n",
       "    <tr style=\"text-align: right;\">\n",
       "      <th></th>\n",
       "      <th>asm_snp</th>\n",
       "    </tr>\n",
       "  </thead>\n",
       "  <tbody>\n",
       "    <tr>\n",
       "      <th>read_fm_kernel_6</th>\n",
       "      <td>0.053496</td>\n",
       "    </tr>\n",
       "    <tr>\n",
       "      <th>std_cpg_fm</th>\n",
       "      <td>0.060246</td>\n",
       "    </tr>\n",
       "    <tr>\n",
       "      <th>cpg_fm_kernel_7</th>\n",
       "      <td>0.066350</td>\n",
       "    </tr>\n",
       "    <tr>\n",
       "      <th>cpg_fm_kernel_8</th>\n",
       "      <td>0.066822</td>\n",
       "    </tr>\n",
       "    <tr>\n",
       "      <th>read_fm_kernel_5</th>\n",
       "      <td>0.067951</td>\n",
       "    </tr>\n",
       "    <tr>\n",
       "      <th>read_fm_kernel_0</th>\n",
       "      <td>0.073214</td>\n",
       "    </tr>\n",
       "    <tr>\n",
       "      <th>sample_category</th>\n",
       "      <td>0.077299</td>\n",
       "    </tr>\n",
       "    <tr>\n",
       "      <th>global_cpg_fm</th>\n",
       "      <td>0.078505</td>\n",
       "    </tr>\n",
       "    <tr>\n",
       "      <th>read_fm_kernel_1</th>\n",
       "      <td>0.083070</td>\n",
       "    </tr>\n",
       "    <tr>\n",
       "      <th>read_fm_kernel_4</th>\n",
       "      <td>0.086682</td>\n",
       "    </tr>\n",
       "    <tr>\n",
       "      <th>cpg_fm_kernel_2</th>\n",
       "      <td>0.086810</td>\n",
       "    </tr>\n",
       "    <tr>\n",
       "      <th>mean_read_fm</th>\n",
       "      <td>0.095021</td>\n",
       "    </tr>\n",
       "    <tr>\n",
       "      <th>mean_cpg_fm</th>\n",
       "      <td>0.095092</td>\n",
       "    </tr>\n",
       "    <tr>\n",
       "      <th>read_fm_kernel_9</th>\n",
       "      <td>0.099203</td>\n",
       "    </tr>\n",
       "    <tr>\n",
       "      <th>read_fm_kernel_3</th>\n",
       "      <td>0.104026</td>\n",
       "    </tr>\n",
       "    <tr>\n",
       "      <th>read_fm_kernel_10</th>\n",
       "      <td>0.106576</td>\n",
       "    </tr>\n",
       "    <tr>\n",
       "      <th>read_fm_kernel_2</th>\n",
       "      <td>0.118325</td>\n",
       "    </tr>\n",
       "    <tr>\n",
       "      <th>cpg_fm_kernel_10</th>\n",
       "      <td>0.137609</td>\n",
       "    </tr>\n",
       "    <tr>\n",
       "      <th>std_read_fm</th>\n",
       "      <td>0.143349</td>\n",
       "    </tr>\n",
       "    <tr>\n",
       "      <th>cpg_fm_kernel_9</th>\n",
       "      <td>0.143990</td>\n",
       "    </tr>\n",
       "    <tr>\n",
       "      <th>cpg_fm_kernel_3</th>\n",
       "      <td>0.155179</td>\n",
       "    </tr>\n",
       "    <tr>\n",
       "      <th>cpg_fm_kernel_6</th>\n",
       "      <td>0.156640</td>\n",
       "    </tr>\n",
       "    <tr>\n",
       "      <th>cpg_fm_kernel_4</th>\n",
       "      <td>0.199885</td>\n",
       "    </tr>\n",
       "    <tr>\n",
       "      <th>cpg_fm_kernel_5</th>\n",
       "      <td>0.203748</td>\n",
       "    </tr>\n",
       "    <tr>\n",
       "      <th>asm_snp</th>\n",
       "      <td>1.000000</td>\n",
       "    </tr>\n",
       "  </tbody>\n",
       "</table>\n",
       "</div>"
      ],
      "text/plain": [
       "                    asm_snp\n",
       "read_fm_kernel_6   0.053496\n",
       "std_cpg_fm         0.060246\n",
       "cpg_fm_kernel_7    0.066350\n",
       "cpg_fm_kernel_8    0.066822\n",
       "read_fm_kernel_5   0.067951\n",
       "read_fm_kernel_0   0.073214\n",
       "sample_category    0.077299\n",
       "global_cpg_fm      0.078505\n",
       "read_fm_kernel_1   0.083070\n",
       "read_fm_kernel_4   0.086682\n",
       "cpg_fm_kernel_2    0.086810\n",
       "mean_read_fm       0.095021\n",
       "mean_cpg_fm        0.095092\n",
       "read_fm_kernel_9   0.099203\n",
       "read_fm_kernel_3   0.104026\n",
       "read_fm_kernel_10  0.106576\n",
       "read_fm_kernel_2   0.118325\n",
       "cpg_fm_kernel_10   0.137609\n",
       "std_read_fm        0.143349\n",
       "cpg_fm_kernel_9    0.143990\n",
       "cpg_fm_kernel_3    0.155179\n",
       "cpg_fm_kernel_6    0.156640\n",
       "cpg_fm_kernel_4    0.199885\n",
       "cpg_fm_kernel_5    0.203748\n",
       "asm_snp            1.000000"
      ]
     },
     "execution_count": 140,
     "metadata": {},
     "output_type": "execute_result"
    }
   ],
   "source": [
    "# corr_matrix = pd.DataFrame(abs(features_df.corr()['asm_snp'])).sort_values(by = 'asm_snp')\n",
    "# corr_matrix"
   ]
  },
  {
   "cell_type": "markdown",
   "id": "f7144bbf-b15f-41cd-97ed-4453a42d71eb",
   "metadata": {},
   "source": [
    "### Remove variables with no correlation"
   ]
  },
  {
   "cell_type": "code",
   "execution_count": 108,
   "id": "e64a3440-74f2-4467-871b-1864750f9494",
   "metadata": {},
   "outputs": [
    {
     "name": "stdout",
     "output_type": "stream",
     "text": [
      "['cpg_dist_kernel_0', 'dnase_low']\n"
     ]
    }
   ],
   "source": [
    "# vars_no_corr = list(corr_matrix[pd.isna(corr_matrix['asm_snp']) == True].index)\n",
    "# print(vars_no_corr)\n",
    "# features_df = features_df.drop(columns = vars_no_corr)"
   ]
  },
  {
   "cell_type": "markdown",
   "id": "cdea96ea-7ca8-40f0-8e38-c252a8863fb4",
   "metadata": {},
   "source": [
    "### Remove variables that are poorly correlated with ASM"
   ]
  },
  {
   "cell_type": "code",
   "execution_count": 109,
   "id": "2b029f39-714d-4d67-984b-43627207f9a8",
   "metadata": {},
   "outputs": [
    {
     "name": "stdout",
     "output_type": "stream",
     "text": [
      "['region_nb_cpg', 'nb_cpg_found', 'nb_reads', 'encode_ChiP_V2', 'tf_motifs', 'tot_nb_cpg', 'tot_nb_reads', 'std_cpg_dist', 'mean_cpg_dist', 'read_fm_kernel_7', 'read_fm_kernel_8', 'cpg_fm_kernel_0', 'cpg_fm_kernel_1', 'cpg_dist_kernel_1', 'cpg_dist_kernel_2', 'cpg_dist_kernel_3', 'cpg_dist_kernel_4', 'tf_motifs_high', 'dnase', 'dnase_high', 'dnase_null', 'encode_ChiP_V2_low', 'encode_ChiP_V2_null', 'encode_ChiP_V2_high', 'tf_motifs_null', 'tf_motifs_low', 'tf_motifs_null']\n"
     ]
    }
   ],
   "source": [
    "# vars_low_corr = list(corr_matrix[corr_matrix['asm_snp'] < MIN_CORR].index)\n",
    "# print(vars_low_corr)\n",
    "# features_df = features_df.drop(columns = vars_low_corr, axis =1)"
   ]
  },
  {
   "cell_type": "markdown",
   "id": "39eee5ed-4858-4277-987a-153e3e8672ea",
   "metadata": {},
   "source": [
    "### Run a PCA for the remaining variables"
   ]
  },
  {
   "cell_type": "code",
   "execution_count": 133,
   "id": "26fa7b62-051b-4cf9-ba28-64fdecd8a229",
   "metadata": {},
   "outputs": [
    {
     "name": "stdout",
     "output_type": "stream",
     "text": [
      "Number of features: 24\n"
     ]
    }
   ],
   "source": [
    "# #Remove the column of genomic matrix and labels\n",
    "# features_df_pca = features_df.copy()\n",
    "# features_df_pca = features_df_pca.drop(columns = ['asm_snp', 'genomic_matrix'])\n",
    "# print(\"Number of features:\", len(features_df_pca.columns))"
   ]
  },
  {
   "cell_type": "code",
   "execution_count": 134,
   "id": "8ff97713-e8bc-4ae6-a489-ce44c5a84508",
   "metadata": {},
   "outputs": [],
   "source": [
    "# pca = PCA(n_components=10)\n",
    "# principalComponents = pca.fit_transform(features_df_pca)"
   ]
  },
  {
   "cell_type": "code",
   "execution_count": 135,
   "id": "25e9ff45-f710-41d7-b5ad-2702828a8e3a",
   "metadata": {},
   "outputs": [
    {
     "name": "stdout",
     "output_type": "stream",
     "text": [
      "['pca_1', 'pca_2', 'pca_3', 'pca_4', 'pca_5', 'pca_6', 'pca_7', 'pca_8', 'pca_9', 'pca_10']\n"
     ]
    }
   ],
   "source": [
    "# columns_pca = []\n",
    "# for k in range(1,11):\n",
    "#     name = 'pca_' + str(k)\n",
    "#     columns_pca = columns_pca + [name]\n",
    "# print(columns_pca)\n",
    "# features_df_pca = pd.DataFrame(data = principalComponents, columns = columns_pca, index = features_df.index)"
   ]
  },
  {
   "cell_type": "code",
   "execution_count": 136,
   "id": "f9cd6768-7341-4029-9ca8-749bf206d40d",
   "metadata": {},
   "outputs": [
    {
     "data": {
      "text/html": [
       "<div>\n",
       "<style scoped>\n",
       "    .dataframe tbody tr th:only-of-type {\n",
       "        vertical-align: middle;\n",
       "    }\n",
       "\n",
       "    .dataframe tbody tr th {\n",
       "        vertical-align: top;\n",
       "    }\n",
       "\n",
       "    .dataframe thead th {\n",
       "        text-align: right;\n",
       "    }\n",
       "</style>\n",
       "<table border=\"1\" class=\"dataframe\">\n",
       "  <thead>\n",
       "    <tr style=\"text-align: right;\">\n",
       "      <th></th>\n",
       "      <th>pca_1</th>\n",
       "      <th>pca_2</th>\n",
       "      <th>pca_3</th>\n",
       "      <th>pca_4</th>\n",
       "      <th>pca_5</th>\n",
       "      <th>pca_6</th>\n",
       "      <th>pca_7</th>\n",
       "      <th>pca_8</th>\n",
       "      <th>pca_9</th>\n",
       "      <th>pca_10</th>\n",
       "      <th>asm_snp</th>\n",
       "      <th>genomic_matrix</th>\n",
       "    </tr>\n",
       "  </thead>\n",
       "  <tbody>\n",
       "    <tr>\n",
       "      <th>0</th>\n",
       "      <td>5.648832</td>\n",
       "      <td>2.841814</td>\n",
       "      <td>-0.804502</td>\n",
       "      <td>-0.282548</td>\n",
       "      <td>-0.640087</td>\n",
       "      <td>-0.546380</td>\n",
       "      <td>0.185798</td>\n",
       "      <td>-0.115402</td>\n",
       "      <td>0.532518</td>\n",
       "      <td>0.289689</td>\n",
       "      <td>0</td>\n",
       "      <td>[[0.0, 0.0], [0.0, 0.0], [0.0, 0.0], [0.0, 0.0...</td>\n",
       "    </tr>\n",
       "    <tr>\n",
       "      <th>1</th>\n",
       "      <td>-3.687701</td>\n",
       "      <td>1.061724</td>\n",
       "      <td>-0.518748</td>\n",
       "      <td>0.458308</td>\n",
       "      <td>0.559741</td>\n",
       "      <td>0.528794</td>\n",
       "      <td>0.064901</td>\n",
       "      <td>-0.038650</td>\n",
       "      <td>-0.262289</td>\n",
       "      <td>-0.180496</td>\n",
       "      <td>0</td>\n",
       "      <td>[[0.0, 0.0], [0.0, 0.0], [0.0, 0.0], [0.0, 0.0...</td>\n",
       "    </tr>\n",
       "    <tr>\n",
       "      <th>2</th>\n",
       "      <td>0.783934</td>\n",
       "      <td>-1.016317</td>\n",
       "      <td>-2.282964</td>\n",
       "      <td>-1.440246</td>\n",
       "      <td>0.357206</td>\n",
       "      <td>-0.263926</td>\n",
       "      <td>-1.028692</td>\n",
       "      <td>0.021469</td>\n",
       "      <td>-0.173809</td>\n",
       "      <td>-0.789667</td>\n",
       "      <td>0</td>\n",
       "      <td>[[0.0, 0.0], [0.0, 0.0], [0.0, 0.0], [0.0, 0.0...</td>\n",
       "    </tr>\n",
       "    <tr>\n",
       "      <th>3</th>\n",
       "      <td>5.968170</td>\n",
       "      <td>-2.562183</td>\n",
       "      <td>-1.700728</td>\n",
       "      <td>1.001177</td>\n",
       "      <td>-0.623926</td>\n",
       "      <td>1.015342</td>\n",
       "      <td>0.965507</td>\n",
       "      <td>-0.705747</td>\n",
       "      <td>1.211605</td>\n",
       "      <td>-0.410239</td>\n",
       "      <td>0</td>\n",
       "      <td>[[1.0, 0.808], [0.0, 0.0], [0.0, 0.0], [0.0, 0...</td>\n",
       "    </tr>\n",
       "    <tr>\n",
       "      <th>4</th>\n",
       "      <td>-3.693951</td>\n",
       "      <td>1.074243</td>\n",
       "      <td>-0.645609</td>\n",
       "      <td>0.383509</td>\n",
       "      <td>0.261182</td>\n",
       "      <td>0.507587</td>\n",
       "      <td>0.063970</td>\n",
       "      <td>-0.236126</td>\n",
       "      <td>-0.234776</td>\n",
       "      <td>-0.112176</td>\n",
       "      <td>0</td>\n",
       "      <td>[[0.0, 0.0], [0.0, 0.0], [0.0, 0.0], [0.0, 0.0...</td>\n",
       "    </tr>\n",
       "    <tr>\n",
       "      <th>...</th>\n",
       "      <td>...</td>\n",
       "      <td>...</td>\n",
       "      <td>...</td>\n",
       "      <td>...</td>\n",
       "      <td>...</td>\n",
       "      <td>...</td>\n",
       "      <td>...</td>\n",
       "      <td>...</td>\n",
       "      <td>...</td>\n",
       "      <td>...</td>\n",
       "      <td>...</td>\n",
       "      <td>...</td>\n",
       "    </tr>\n",
       "    <tr>\n",
       "      <th>489883</th>\n",
       "      <td>-3.259157</td>\n",
       "      <td>0.820616</td>\n",
       "      <td>-0.865058</td>\n",
       "      <td>-0.368734</td>\n",
       "      <td>-1.878826</td>\n",
       "      <td>0.004368</td>\n",
       "      <td>0.447122</td>\n",
       "      <td>-0.366355</td>\n",
       "      <td>0.025628</td>\n",
       "      <td>-0.306312</td>\n",
       "      <td>0</td>\n",
       "      <td>[[0.0, 0.0], [0.0, 0.0], [0.0, 0.0], [0.0, 0.0...</td>\n",
       "    </tr>\n",
       "    <tr>\n",
       "      <th>489884</th>\n",
       "      <td>-3.150317</td>\n",
       "      <td>0.510794</td>\n",
       "      <td>-0.580027</td>\n",
       "      <td>-0.304704</td>\n",
       "      <td>-0.973869</td>\n",
       "      <td>-0.128911</td>\n",
       "      <td>0.296156</td>\n",
       "      <td>-0.216677</td>\n",
       "      <td>0.143690</td>\n",
       "      <td>0.026059</td>\n",
       "      <td>0</td>\n",
       "      <td>[[0.0, 0.0], [0.0, 0.0], [0.0, 0.0], [0.0, 0.0...</td>\n",
       "    </tr>\n",
       "    <tr>\n",
       "      <th>489885</th>\n",
       "      <td>-3.663320</td>\n",
       "      <td>1.468092</td>\n",
       "      <td>-1.012480</td>\n",
       "      <td>0.399935</td>\n",
       "      <td>-0.833682</td>\n",
       "      <td>0.646013</td>\n",
       "      <td>0.396948</td>\n",
       "      <td>-0.243186</td>\n",
       "      <td>-0.474474</td>\n",
       "      <td>-0.210601</td>\n",
       "      <td>0</td>\n",
       "      <td>[[0.0, 0.0], [0.0, 0.0], [0.0, 0.0], [0.0, 0.0...</td>\n",
       "    </tr>\n",
       "    <tr>\n",
       "      <th>489886</th>\n",
       "      <td>-2.579507</td>\n",
       "      <td>-0.409037</td>\n",
       "      <td>0.497304</td>\n",
       "      <td>-0.273411</td>\n",
       "      <td>0.546975</td>\n",
       "      <td>-0.283218</td>\n",
       "      <td>0.010784</td>\n",
       "      <td>-0.008432</td>\n",
       "      <td>0.116585</td>\n",
       "      <td>-0.362557</td>\n",
       "      <td>0</td>\n",
       "      <td>[[0.0, 0.0], [0.0, 0.0], [0.0, 0.0], [0.0, 0.0...</td>\n",
       "    </tr>\n",
       "    <tr>\n",
       "      <th>489887</th>\n",
       "      <td>-3.312784</td>\n",
       "      <td>0.712184</td>\n",
       "      <td>-0.184403</td>\n",
       "      <td>0.441122</td>\n",
       "      <td>0.897003</td>\n",
       "      <td>-0.077398</td>\n",
       "      <td>-0.001935</td>\n",
       "      <td>0.538488</td>\n",
       "      <td>0.060550</td>\n",
       "      <td>0.266547</td>\n",
       "      <td>0</td>\n",
       "      <td>[[0.0, 0.0], [0.0, 0.0], [0.0, 0.0], [0.0, 0.0...</td>\n",
       "    </tr>\n",
       "  </tbody>\n",
       "</table>\n",
       "<p>483092 rows × 12 columns</p>\n",
       "</div>"
      ],
      "text/plain": [
       "           pca_1     pca_2     pca_3     pca_4     pca_5     pca_6     pca_7  \\\n",
       "0       5.648832  2.841814 -0.804502 -0.282548 -0.640087 -0.546380  0.185798   \n",
       "1      -3.687701  1.061724 -0.518748  0.458308  0.559741  0.528794  0.064901   \n",
       "2       0.783934 -1.016317 -2.282964 -1.440246  0.357206 -0.263926 -1.028692   \n",
       "3       5.968170 -2.562183 -1.700728  1.001177 -0.623926  1.015342  0.965507   \n",
       "4      -3.693951  1.074243 -0.645609  0.383509  0.261182  0.507587  0.063970   \n",
       "...          ...       ...       ...       ...       ...       ...       ...   \n",
       "489883 -3.259157  0.820616 -0.865058 -0.368734 -1.878826  0.004368  0.447122   \n",
       "489884 -3.150317  0.510794 -0.580027 -0.304704 -0.973869 -0.128911  0.296156   \n",
       "489885 -3.663320  1.468092 -1.012480  0.399935 -0.833682  0.646013  0.396948   \n",
       "489886 -2.579507 -0.409037  0.497304 -0.273411  0.546975 -0.283218  0.010784   \n",
       "489887 -3.312784  0.712184 -0.184403  0.441122  0.897003 -0.077398 -0.001935   \n",
       "\n",
       "           pca_8     pca_9    pca_10  asm_snp  \\\n",
       "0      -0.115402  0.532518  0.289689        0   \n",
       "1      -0.038650 -0.262289 -0.180496        0   \n",
       "2       0.021469 -0.173809 -0.789667        0   \n",
       "3      -0.705747  1.211605 -0.410239        0   \n",
       "4      -0.236126 -0.234776 -0.112176        0   \n",
       "...          ...       ...       ...      ...   \n",
       "489883 -0.366355  0.025628 -0.306312        0   \n",
       "489884 -0.216677  0.143690  0.026059        0   \n",
       "489885 -0.243186 -0.474474 -0.210601        0   \n",
       "489886 -0.008432  0.116585 -0.362557        0   \n",
       "489887  0.538488  0.060550  0.266547        0   \n",
       "\n",
       "                                           genomic_matrix  \n",
       "0       [[0.0, 0.0], [0.0, 0.0], [0.0, 0.0], [0.0, 0.0...  \n",
       "1       [[0.0, 0.0], [0.0, 0.0], [0.0, 0.0], [0.0, 0.0...  \n",
       "2       [[0.0, 0.0], [0.0, 0.0], [0.0, 0.0], [0.0, 0.0...  \n",
       "3       [[1.0, 0.808], [0.0, 0.0], [0.0, 0.0], [0.0, 0...  \n",
       "4       [[0.0, 0.0], [0.0, 0.0], [0.0, 0.0], [0.0, 0.0...  \n",
       "...                                                   ...  \n",
       "489883  [[0.0, 0.0], [0.0, 0.0], [0.0, 0.0], [0.0, 0.0...  \n",
       "489884  [[0.0, 0.0], [0.0, 0.0], [0.0, 0.0], [0.0, 0.0...  \n",
       "489885  [[0.0, 0.0], [0.0, 0.0], [0.0, 0.0], [0.0, 0.0...  \n",
       "489886  [[0.0, 0.0], [0.0, 0.0], [0.0, 0.0], [0.0, 0.0...  \n",
       "489887  [[0.0, 0.0], [0.0, 0.0], [0.0, 0.0], [0.0, 0.0...  \n",
       "\n",
       "[483092 rows x 12 columns]"
      ]
     },
     "execution_count": 136,
     "metadata": {},
     "output_type": "execute_result"
    }
   ],
   "source": [
    "# features_df_pca = pd.concat([features_df_pca, features_df[['asm_snp', 'genomic_matrix']]], axis = 1)\n",
    "# features_df_pca"
   ]
  },
  {
   "cell_type": "code",
   "execution_count": 137,
   "id": "dd508432-1839-437a-a88a-aaa42b129199",
   "metadata": {},
   "outputs": [
    {
     "data": {
      "text/plain": [
       "<AxesSubplot:>"
      ]
     },
     "execution_count": 137,
     "metadata": {},
     "output_type": "execute_result"
    },
    {
     "data": {
      "image/png": "[encoded data removed]",
      "text/plain": [
       "<Figure size 720x720 with 2 Axes>"
      ]
     },
     "metadata": {
      "needs_background": "light"
     },
     "output_type": "display_data"
    }
   ],
   "source": [
    "# corr_matrix = pd.DataFrame(abs(features_df_pca.corr()))\n",
    "# sns.heatmap(corr_matrix)"
   ]
  },
  {
   "cell_type": "code",
   "execution_count": 141,
   "id": "dc38b188-003e-424b-9579-eda7edd3e583",
   "metadata": {},
   "outputs": [
    {
     "data": {
      "text/html": [
       "<div>\n",
       "<style scoped>\n",
       "    .dataframe tbody tr th:only-of-type {\n",
       "        vertical-align: middle;\n",
       "    }\n",
       "\n",
       "    .dataframe tbody tr th {\n",
       "        vertical-align: top;\n",
       "    }\n",
       "\n",
       "    .dataframe thead th {\n",
       "        text-align: right;\n",
       "    }\n",
       "</style>\n",
       "<table border=\"1\" class=\"dataframe\">\n",
       "  <thead>\n",
       "    <tr style=\"text-align: right;\">\n",
       "      <th></th>\n",
       "      <th>asm_snp</th>\n",
       "    </tr>\n",
       "  </thead>\n",
       "  <tbody>\n",
       "    <tr>\n",
       "      <th>pca_9</th>\n",
       "      <td>0.009998</td>\n",
       "    </tr>\n",
       "    <tr>\n",
       "      <th>pca_3</th>\n",
       "      <td>0.015564</td>\n",
       "    </tr>\n",
       "    <tr>\n",
       "      <th>pca_8</th>\n",
       "      <td>0.018471</td>\n",
       "    </tr>\n",
       "    <tr>\n",
       "      <th>pca_7</th>\n",
       "      <td>0.036512</td>\n",
       "    </tr>\n",
       "    <tr>\n",
       "      <th>pca_6</th>\n",
       "      <td>0.043287</td>\n",
       "    </tr>\n",
       "    <tr>\n",
       "      <th>pca_10</th>\n",
       "      <td>0.048365</td>\n",
       "    </tr>\n",
       "    <tr>\n",
       "      <th>pca_2</th>\n",
       "      <td>0.050133</td>\n",
       "    </tr>\n",
       "    <tr>\n",
       "      <th>pca_5</th>\n",
       "      <td>0.053500</td>\n",
       "    </tr>\n",
       "    <tr>\n",
       "      <th>pca_1</th>\n",
       "      <td>0.144427</td>\n",
       "    </tr>\n",
       "    <tr>\n",
       "      <th>pca_4</th>\n",
       "      <td>0.159708</td>\n",
       "    </tr>\n",
       "    <tr>\n",
       "      <th>asm_snp</th>\n",
       "      <td>1.000000</td>\n",
       "    </tr>\n",
       "  </tbody>\n",
       "</table>\n",
       "</div>"
      ],
      "text/plain": [
       "          asm_snp\n",
       "pca_9    0.009998\n",
       "pca_3    0.015564\n",
       "pca_8    0.018471\n",
       "pca_7    0.036512\n",
       "pca_6    0.043287\n",
       "pca_10   0.048365\n",
       "pca_2    0.050133\n",
       "pca_5    0.053500\n",
       "pca_1    0.144427\n",
       "pca_4    0.159708\n",
       "asm_snp  1.000000"
      ]
     },
     "execution_count": 141,
     "metadata": {},
     "output_type": "execute_result"
    }
   ],
   "source": [
    "# corr_matrix = pd.DataFrame(abs(features_df_pca.corr()['asm_snp'])).sort_values(by = 'asm_snp')\n",
    "# corr_matrix"
   ]
  },
  {
   "cell_type": "markdown",
   "id": "05d39f59-bad8-4ed9-90fd-27d746d1e0b8",
   "metadata": {},
   "source": [
    "## Split the dataset for training and testing\n",
    "\n",
    "We use the sklearn `train_test_split` function. The validation set will be carved out from the training set when training the model. The validation set will be  used during the model fitting to evaluate the loss and any metrics, however the model is not fit with this data. The test set is completely unused during the training phase and is only used at the end to evaluate how well the model generalizes to new data. "
   ]
  },
  {
   "cell_type": "code",
   "execution_count": 14,
   "id": "1fb3c4b5-c0b7-4414-8348-c0605eea67b6",
   "metadata": {},
   "outputs": [],
   "source": [
    "df_for_split = normalized_df.copy()"
   ]
  },
  {
   "cell_type": "code",
   "execution_count": 15,
   "id": "5bde7afa-f9f7-4f27-a627-91be3074dbd2",
   "metadata": {},
   "outputs": [
    {
     "data": {
      "text/plain": [
       "'Image features'"
      ]
     },
     "metadata": {},
     "output_type": "display_data"
    },
    {
     "data": {
      "text/plain": [
       "'Size of the TRAIN dataset for images:'"
      ]
     },
     "metadata": {},
     "output_type": "display_data"
    },
    {
     "data": {
      "text/plain": [
       "(3095428, 250, 2)"
      ]
     },
     "metadata": {},
     "output_type": "display_data"
    },
    {
     "data": {
      "text/plain": [
       "'Size of the TEST dataset for images:'"
      ]
     },
     "metadata": {},
     "output_type": "display_data"
    },
    {
     "data": {
      "text/plain": [
       "(773857, 250, 2)"
      ]
     },
     "metadata": {},
     "output_type": "display_data"
    },
    {
     "data": {
      "text/plain": [
       "'SCALAR FEATURES:'"
      ]
     },
     "metadata": {},
     "output_type": "display_data"
    },
    {
     "data": {
      "text/plain": [
       "'Size of the TRAIN datase:'"
      ]
     },
     "metadata": {},
     "output_type": "display_data"
    },
    {
     "data": {
      "text/plain": [
       "(3095428, 53)"
      ]
     },
     "metadata": {},
     "output_type": "display_data"
    },
    {
     "data": {
      "text/plain": [
       "'Size of the TEST dataset:'"
      ]
     },
     "metadata": {},
     "output_type": "display_data"
    },
    {
     "data": {
      "text/plain": [
       "(773857, 53)"
      ]
     },
     "metadata": {},
     "output_type": "display_data"
    },
    {
     "data": {
      "text/plain": [
       "'LABELS:'"
      ]
     },
     "metadata": {},
     "output_type": "display_data"
    },
    {
     "data": {
      "text/plain": [
       "'Size of the TRAIN LABELS dataset:'"
      ]
     },
     "metadata": {},
     "output_type": "display_data"
    },
    {
     "data": {
      "text/plain": [
       "(3095428,)"
      ]
     },
     "metadata": {},
     "output_type": "display_data"
    },
    {
     "data": {
      "text/plain": [
       "'Size of the TEST LABELS dataset:'"
      ]
     },
     "metadata": {},
     "output_type": "display_data"
    },
    {
     "data": {
      "text/plain": [
       "(773857,)"
      ]
     },
     "metadata": {},
     "output_type": "display_data"
    }
   ],
   "source": [
    "# Use a utility from sklearn to split and shuffle our dataset.\n",
    "train_df, test_df = train_test_split(df_for_split, test_size=TEST_SPLIT)\n",
    "\n",
    "# Form np arrays of labels\n",
    "train_labels = np.array(train_df.pop('asm_snp'))\n",
    "test_labels = np.array(test_df.pop('asm_snp'))\n",
    "\n",
    "# Np arrays of features for CNN/RNN\n",
    "train_image_feature = np.array(train_df['genomic_matrix'].tolist())\n",
    "test_image_feature = np.array(test_df['genomic_matrix'].tolist())\n",
    "\n",
    "# Remove the matrix for the datasets\n",
    "train_df.drop('genomic_matrix', axis = 1, inplace = True)\n",
    "test_df.drop('genomic_matrix', axis = 1, inplace = True)\n",
    "\n",
    "# np arrays for  linear/perceptron\n",
    "train_scalar_features = np.array(train_df)\n",
    "test_scalar_features = np.array(test_df)\n",
    "\n",
    "# Check size of arrays for CNN (X,250,3)\n",
    "display(\"Image features\")\n",
    "display(\"Size of the TRAIN dataset for images:\", train_image_feature.shape)\n",
    "display(\"Size of the TEST dataset for images:\", test_image_feature.shape)\n",
    "\n",
    "# # Check size of arrays for scalar features (X, 39)\n",
    "display(\"SCALAR FEATURES:\")\n",
    "display(\"Size of the TRAIN datase:\", train_scalar_features.shape)\n",
    "display(\"Size of the TEST dataset:\", test_scalar_features.shape)\n",
    "\n",
    "# # Check size of arrays for the labels\n",
    "display(\"LABELS:\")\n",
    "display(\"Size of the TRAIN LABELS dataset:\", train_labels.shape)\n",
    "display(\"Size of the TEST LABELS dataset:\", test_labels.shape)"
   ]
  },
  {
   "cell_type": "markdown",
   "id": "615cef5c-2b03-4553-b66b-2d36a60bfd91",
   "metadata": {
    "tags": []
   },
   "source": [
    "## Logistic regression"
   ]
  },
  {
   "cell_type": "code",
   "execution_count": 16,
   "id": "4a16a918-449b-445f-b312-c81ead250b7b",
   "metadata": {},
   "outputs": [],
   "source": [
    "def make_logistic_regression_model(output_bias = None):\n",
    "    if output_bias is not None:\n",
    "        output_bias = tf.keras.initializers.Constant(output_bias)\n",
    "    model = keras.Sequential()\n",
    "    \n",
    "    # Normalize the features\n",
    "    # model.add(\n",
    "    #     layers.BatchNormalization(\n",
    "    #         axis=-1,\n",
    "    #         momentum = 0.99,\n",
    "    #         epsilon = 0.001,\n",
    "    #         input_dim = train_scalar_features.shape[1])\n",
    "    # )\n",
    "    model.add(\n",
    "        layers.Normalization(\n",
    "            axis = 1,\n",
    "            input_dim = train_scalar_features.shape[1])\n",
    "    )\n",
    "    \n",
    "    # Linear model\n",
    "    model.add(\n",
    "        layers.Dense(\n",
    "                1,  # number of classes\n",
    "                activation='sigmoid', #'sigmoid' 'softmax'\n",
    "                kernel_regularizer = keras.regularizers.L1L2(\n",
    "                    l1 = L1_R, \n",
    "                    l2 = L2_R),\n",
    "                bias_initializer=output_bias\n",
    "                )\n",
    "    )\n",
    " \n",
    "  \n",
    "    model.compile(\n",
    "        optimizer = 'sgd' , # sgd = stochastic gradient descent, rmsprop\n",
    "        loss= 'binary_crossentropy', # 'mse' 'categorical_crossentropy', 'binary_crossentropy'\n",
    "        metrics = METRICS)\n",
    "\n",
    "    return model\n"
   ]
  },
  {
   "cell_type": "code",
   "execution_count": 17,
   "id": "76b1b309-16d9-4b5e-85ab-bde22b42dba0",
   "metadata": {},
   "outputs": [],
   "source": [
    "# normalizer = layers.Normalization()\n",
    "# normalizer.adapt(train_scalar_features)"
   ]
  },
  {
   "cell_type": "code",
   "execution_count": 18,
   "id": "8ee45aaf-045a-46d5-8f7c-1202f013c199",
   "metadata": {},
   "outputs": [],
   "source": [
    "# # Create a Normalization layer and set its internal state using the training data\n",
    "# #normalizer = layers.Normalization()\n",
    "# #normalizer.adapt(train_scalar_features)\n",
    "\n",
    "# input_shape = train_scalar_features.shape[1:]\n",
    "# print(input_shape)\n",
    "# inputs = keras.Input(shape=input_shape)\n",
    "# x = normalizer(inputs)\n",
    "# outputs = layers.Dense(1, activation=\"sigmoid\")(x)\n",
    "# linear_model = keras.Model(inputs, outputs)\n"
   ]
  },
  {
   "cell_type": "code",
   "execution_count": 19,
   "id": "b765c748-85de-468a-ae52-1ba6590a26c9",
   "metadata": {},
   "outputs": [],
   "source": [
    "# linear_model.compile(\n",
    "#         optimizer = 'sgd' , # sgd = stochastic gradient descent, rmsprop\n",
    "#         loss= 'binary_crossentropy', # 'mse' 'categorical_crossentropy', 'binary_crossentropy'\n",
    "#         metrics = METRICS)"
   ]
  },
  {
   "cell_type": "code",
   "execution_count": 20,
   "id": "f2ec731b-3677-4cc9-bc5f-28aa4079e175",
   "metadata": {},
   "outputs": [],
   "source": [
    "linear_model = make_logistic_regression_model()"
   ]
  },
  {
   "cell_type": "code",
   "execution_count": 21,
   "id": "243dcae0-a04f-4fbe-b46b-2f06f39bab9b",
   "metadata": {},
   "outputs": [
    {
     "name": "stdout",
     "output_type": "stream",
     "text": [
      "Model: \"sequential\"\n",
      "_________________________________________________________________\n",
      " Layer (type)                Output Shape              Param #   \n",
      "=================================================================\n",
      " normalization (Normalizatio  (None, 53)               107       \n",
      " n)                                                              \n",
      "                                                                 \n",
      " dense (Dense)               (None, 1)                 54        \n",
      "                                                                 \n",
      "=================================================================\n",
      "Total params: 161\n",
      "Trainable params: 54\n",
      "Non-trainable params: 107\n",
      "_________________________________________________________________\n"
     ]
    },
    {
     "data": {
      "image/png": "[encoded data removed]",
      "text/plain": [
       "<IPython.core.display.Image object>"
      ]
     },
     "execution_count": 21,
     "metadata": {},
     "output_type": "execute_result"
    }
   ],
   "source": [
    "linear_model.summary()\n",
    "keras.utils.plot_model(linear_model, \"linear_model.png\", show_shapes=True)"
   ]
  },
  {
   "cell_type": "code",
   "execution_count": 22,
   "id": "9089d144-77ad-4cf6-92bd-01278e2d7055",
   "metadata": {},
   "outputs": [],
   "source": [
    "linear_training = linear_model.fit(\n",
    "    train_scalar_features,\n",
    "    train_labels,\n",
    "    batch_size = BATCH_SIZE,\n",
    "    epochs = EPOCHS,\n",
    "    callbacks = [EARLY_STOPPING],\n",
    "    validation_split = VALIDATION_SPLIT,\n",
    "    class_weight = class_weight_asm,\n",
    "    verbose = 0) "
   ]
  },
  {
   "cell_type": "code",
   "execution_count": 23,
   "id": "0143fd5e-3a70-4c8a-ab63-f3e4fdd8c13d",
   "metadata": {},
   "outputs": [
    {
     "data": {
      "image/png": "[encoded data removed]",
      "text/plain": [
       "<Figure size 720x720 with 4 Axes>"
      ]
     },
     "metadata": {
      "needs_background": "light"
     },
     "output_type": "display_data"
    }
   ],
   "source": [
    "plot_metrics(linear_training)"
   ]
  },
  {
   "cell_type": "code",
   "execution_count": 24,
   "id": "a2c44784-07aa-4f88-91d5-aade135911f5",
   "metadata": {},
   "outputs": [
    {
     "name": "stdout",
     "output_type": "stream",
     "text": [
      "774/774 [==============================] - 3s 4ms/step - loss: 0.3349 - tp: 9618.0000 - fp: 119153.0000 - tn: 644033.0000 - fn: 1053.0000 - accuracy: 0.8447 - precision: 0.0747 - sensitivity: 0.9013 - auc: 0.9411\n",
      "Loss 0.335\n",
      "True positives 9618.0\n",
      "False positives 119153.0\n",
      "True negatives 644033.0\n",
      "False negatives 1053.0\n",
      "Accuracy 0.845\n",
      "Precision 0.075\n",
      "Sensitivity 0.901\n",
      "AUC 0.941\n"
     ]
    }
   ],
   "source": [
    "# Evaluate model on the test dataset\n",
    "linear_results = linear_model.evaluate(test_scalar_features, test_labels, batch_size= BATCH_SIZE,\n",
    "                                           verbose=1)\n",
    "\n",
    "display_results(linear_results)"
   ]
  },
  {
   "cell_type": "markdown",
   "id": "94734896-b3e3-4f7b-9a29-b932984703e2",
   "metadata": {},
   "source": [
    "## Forest models"
   ]
  },
  {
   "cell_type": "markdown",
   "id": "90ba5104-d4d9-4aaf-bb4b-9a9c6cec04b0",
   "metadata": {},
   "source": [
    "### Simple Forest model"
   ]
  },
  {
   "cell_type": "code",
   "execution_count": 25,
   "id": "e80d4daa-2218-4f95-bb0f-ee33b0424c21",
   "metadata": {},
   "outputs": [
    {
     "name": "stdout",
     "output_type": "stream",
     "text": [
      "Use /tmp/tmpikva3g4q as temporary training directory\n"
     ]
    }
   ],
   "source": [
    "simple_tree_model = tfdf.keras.RandomForestModel(\n",
    "    task=tfdf.keras.Task.CLASSIFICATION)\n",
    "\n",
    "simple_tree_model.compile(metrics=METRICS)"
   ]
  },
  {
   "cell_type": "code",
   "execution_count": null,
   "id": "9dc0b62f-aa87-4cf6-bb3d-d9b1f059f2e0",
   "metadata": {},
   "outputs": [],
   "source": [
    "simple_tree_model.fit(x=train_scalar_features, \n",
    "             y = train_labels, \n",
    "             batch_size=BATCH_SIZE,\n",
    "             callbacks = [EARLY_STOPPING],\n",
    "             class_weight=class_weight_asm, \n",
    "             validation_split = VALIDATION_SPLIT,\n",
    "             verbose = 0)\n"
   ]
  },
  {
   "cell_type": "code",
   "execution_count": 27,
   "id": "9bf42da2-3031-4706-af79-1cfaea164975",
   "metadata": {},
   "outputs": [
    {
     "name": "stdout",
     "output_type": "stream",
     "text": [
      "774/774 [==============================] - 28s 35ms/step - loss: 0.0000e+00 - tp: 918.0000 - fp: 326.0000 - tn: 762860.0000 - fn: 9753.0000 - accuracy: 0.9870 - precision: 0.7379 - sensitivity: 0.0860 - auc: 0.8579\n"
     ]
    },
    {
     "data": {
      "text/plain": [
       "{'loss': 0.0,\n",
       " 'tp': 918.0,\n",
       " 'fp': 326.0,\n",
       " 'tn': 762860.0,\n",
       " 'fn': 9753.0,\n",
       " 'accuracy': 0.9869756102561951,\n",
       " 'precision': 0.737942099571228,\n",
       " 'sensitivity': 0.08602754771709442,\n",
       " 'auc': 0.8578708171844482}"
      ]
     },
     "execution_count": 27,
     "metadata": {},
     "output_type": "execute_result"
    }
   ],
   "source": [
    "simple_tree_results = simple_tree_model.evaluate(\n",
    "    test_scalar_features, \n",
    "    test_labels, \n",
    "    batch_size = BATCH_SIZE, \n",
    "    return_dict=True)\n",
    "\n",
    "simple_tree_results"
   ]
  },
  {
   "cell_type": "markdown",
   "id": "7c4083ba-e019-4380-b8cf-02241ab5df25",
   "metadata": {},
   "source": [
    "### Gradient Boosted Tree model"
   ]
  },
  {
   "cell_type": "code",
   "execution_count": 28,
   "id": "a8c7dad3-27a3-4511-bafa-8bd4a80d7f26",
   "metadata": {},
   "outputs": [],
   "source": [
    "def create_gbt_model():\n",
    "    boosted_tree_model = tfdf.keras.GradientBoostedTreesModel(\n",
    "        #features = specify_feature_usages(df_for_split),\n",
    "        growing_strategy=GROWING_STRATEGY,\n",
    "        num_trees=NUM_TREES,\n",
    "        max_depth=MAX_DEPTH,\n",
    "        min_examples=MIN_EXAMPLES,\n",
    "        subsample=SUBSAMPLE,\n",
    "        task=tfdf.keras.Task.CLASSIFICATION,\n",
    "        loss=\"DEFAULT\",\n",
    "    )\n",
    "\n",
    "    boosted_tree_model.compile(metrics=METRICS)\n",
    "    return boosted_tree_model"
   ]
  },
  {
   "cell_type": "code",
   "execution_count": 29,
   "id": "cb4bf7ee-5a31-4c62-8ce0-96e585e89ecc",
   "metadata": {},
   "outputs": [
    {
     "name": "stdout",
     "output_type": "stream",
     "text": [
      "Use /tmp/tmp4wr235ye as temporary training directory\n"
     ]
    }
   ],
   "source": [
    "boosted_tree_model = create_gbt_model()"
   ]
  },
  {
   "cell_type": "code",
   "execution_count": 30,
   "id": "cd3318ab-c493-46cf-a3c3-30a380c588f9",
   "metadata": {},
   "outputs": [
    {
     "name": "stdout",
     "output_type": "stream",
     "text": [
      "Model trained in 0:28:53.283432\n",
      "Compiling model\n",
      "2167/2167 [==============================] - 1759s 812ms/step - val_loss: 0.0000e+00 - val_tp: 3228.0000 - val_fp: 1883.0000 - val_tn: 1677187.0000 - val_fn: 20188.0000 - val_accuracy: 0.9870 - val_precision: 0.6316 - val_sensitivity: 0.1379 - val_auc: 0.9028\n"
     ]
    },
    {
     "data": {
      "text/plain": [
       "<keras.callbacks.History at 0x7ff9fbce9d50>"
      ]
     },
     "execution_count": 30,
     "metadata": {},
     "output_type": "execute_result"
    }
   ],
   "source": [
    "boosted_tree_model.fit(x = train_scalar_features, \n",
    "              y = train_labels, \n",
    "              batch_size=BATCH_SIZE, \n",
    "              validation_split = VALIDATION_SPLIT,\n",
    "              callbacks = [EARLY_STOPPING],\n",
    "              class_weight=class_weight_asm, \n",
    "              verbose = 1)"
   ]
  },
  {
   "cell_type": "code",
   "execution_count": 31,
   "id": "b37be835-9571-4671-82e2-44699b6f5180",
   "metadata": {},
   "outputs": [
    {
     "name": "stdout",
     "output_type": "stream",
     "text": [
      "774/774 [==============================] - 12s 15ms/step - loss: 0.0000e+00 - tp: 1886.0000 - fp: 1228.0000 - tn: 761958.0000 - fn: 8785.0000 - accuracy: 0.9871 - precision: 0.6057 - sensitivity: 0.1767 - auc: 0.9526\n"
     ]
    },
    {
     "data": {
      "text/plain": [
       "{'loss': 0.0,\n",
       " 'tp': 1886.0,\n",
       " 'fp': 1228.0,\n",
       " 'tn': 761958.0,\n",
       " 'fn': 8785.0,\n",
       " 'accuracy': 0.9870609045028687,\n",
       " 'precision': 0.6056519150733948,\n",
       " 'sensitivity': 0.17674070596694946,\n",
       " 'auc': 0.9525853395462036}"
      ]
     },
     "execution_count": 31,
     "metadata": {},
     "output_type": "execute_result"
    }
   ],
   "source": [
    "boosted_tree_results = boosted_tree_model.evaluate(\n",
    "    test_scalar_features, \n",
    "    test_labels, \n",
    "    batch_size = BATCH_SIZE, \n",
    "    return_dict=True)\n",
    "boosted_tree_results"
   ]
  },
  {
   "cell_type": "markdown",
   "id": "b066fd87-a5f8-4225-9385-f1b8c21d1b01",
   "metadata": {},
   "source": [
    "## Perceptron model"
   ]
  },
  {
   "cell_type": "code",
   "execution_count": 32,
   "id": "5e55a34e-c704-4f19-8ebc-2eb81070e764",
   "metadata": {},
   "outputs": [],
   "source": [
    "def make_perceptron_model(output_bias = None):\n",
    "    if output_bias is not None:\n",
    "        output_bias = tf.keras.initializers.Constant(output_bias)\n",
    "  \n",
    "    model = keras.Sequential()\n",
    "  \n",
    "#     # Normalize the features\n",
    "#     model.add(\n",
    "#         layers.Normalization(\n",
    "#             axis = 1,\n",
    "#             input_dim = train_scalar_features.shape[-1])\n",
    "#     )\n",
    "        \n",
    "  # Initial perceptron layer\n",
    "    model.add(\n",
    "        layers.Dense(\n",
    "            NB_NODES_PERCEPTRON, \n",
    "            activation=ACTIVATION_FUNCTION,\n",
    "            input_dim = train_scalar_features.shape[-1],\n",
    "            kernel_regularizer = keras.regularizers.L1L2(\n",
    "                    l1 = L1_R, \n",
    "                    l2 = L2_R)\n",
    "        )\n",
    "    )\n",
    "  \n",
    "    # Range of neuron layers\n",
    "    for layer_number in range(0, NB_LAYERS_PERCEPTRON-1): \n",
    "        model.add(layers.Dense(\n",
    "            NB_NODES_PERCEPTRON, \n",
    "            activation = ACTIVATION_FUNCTION,\n",
    "            kernel_regularizer = keras.regularizers.L1L2(\n",
    "                    l1 = L1_R, \n",
    "                    l2 = L2_R)))\n",
    "  \n",
    "        # Dropout layer in between layers\n",
    "        model.add(layers.Dropout(0.5))\n",
    "\n",
    "    # We add a sigmoid to create the probability function of the ASM event.\n",
    "    model.add(\n",
    "        layers.Dense(\n",
    "            1, \n",
    "            activation='sigmoid',\n",
    "            bias_initializer=output_bias,\n",
    "            kernel_regularizer = keras.regularizers.L1L2(\n",
    "                    l1 = L1_R, \n",
    "                    l2 = L2_R)))\n",
    "\n",
    "    model.compile(\n",
    "        optimizer = keras.optimizers.Adam(learning_rate = LEARNING_RATE),\n",
    "        loss = keras.losses.BinaryCrossentropy(),\n",
    "        metrics = METRICS)\n",
    "\n",
    "    return model\n"
   ]
  },
  {
   "cell_type": "code",
   "execution_count": 33,
   "id": "d240b81b-547d-4b53-bd34-7caff787d77a",
   "metadata": {},
   "outputs": [
    {
     "name": "stdout",
     "output_type": "stream",
     "text": [
      "Model: \"sequential_1\"\n",
      "_________________________________________________________________\n",
      " Layer (type)                Output Shape              Param #   \n",
      "=================================================================\n",
      " dense_1 (Dense)             (None, 60)                3240      \n",
      "                                                                 \n",
      " dense_2 (Dense)             (None, 60)                3660      \n",
      "                                                                 \n",
      " dropout (Dropout)           (None, 60)                0         \n",
      "                                                                 \n",
      " dense_3 (Dense)             (None, 60)                3660      \n",
      "                                                                 \n",
      " dropout_1 (Dropout)         (None, 60)                0         \n",
      "                                                                 \n",
      " dense_4 (Dense)             (None, 60)                3660      \n",
      "                                                                 \n",
      " dropout_2 (Dropout)         (None, 60)                0         \n",
      "                                                                 \n",
      " dense_5 (Dense)             (None, 60)                3660      \n",
      "                                                                 \n",
      " dropout_3 (Dropout)         (None, 60)                0         \n",
      "                                                                 \n",
      " dense_6 (Dense)             (None, 1)                 61        \n",
      "                                                                 \n",
      "=================================================================\n",
      "Total params: 17,941\n",
      "Trainable params: 17,941\n",
      "Non-trainable params: 0\n",
      "_________________________________________________________________\n"
     ]
    }
   ],
   "source": [
    "perceptron_model = make_perceptron_model()\n",
    "perceptron_model.summary()"
   ]
  },
  {
   "cell_type": "code",
   "execution_count": 34,
   "id": "7c2a8496-1b8c-49bf-af90-ab57cf6651da",
   "metadata": {},
   "outputs": [
    {
     "name": "stdout",
     "output_type": "stream",
     "text": [
      "Epoch 1/100\n",
      "  30/2167 [..............................] - ETA: 11s - loss: 1.0177 - tp: 2106.0000 - fp: 10519.0000 - tn: 782239.0000 - fn: 8993.0000 - accuracy: 0.9757 - precision: 0.1668 - sensitivity: 0.1897 - auc: 0.9295"
     ]
    },
    {
     "name": "stderr",
     "output_type": "stream",
     "text": [
      "2022-03-18 03:05:39.138866: I tensorflow/stream_executor/cuda/cuda_blas.cc:1774] TensorFloat-32 will be used for the matrix multiplication. This will only be logged once.\n"
     ]
    },
    {
     "name": "stdout",
     "output_type": "stream",
     "text": [
      "2167/2167 [==============================] - 18s 8ms/step - loss: 0.5993 - tp: 28379.0000 - fp: 406120.0000 - tn: 2494006.0000 - fn: 12151.0000 - accuracy: 0.8578 - precision: 0.0653 - sensitivity: 0.7002 - auc: 0.8652 - val_loss: 0.6218 - val_tp: 12067.0000 - val_fp: 169351.0000 - val_tn: 746533.0000 - val_fn: 678.0000 - val_accuracy: 0.8169 - val_precision: 0.0665 - val_sensitivity: 0.9468 - val_auc: 0.9458\n",
      "Epoch 2/100\n",
      "2167/2167 [==============================] - 15s 7ms/step - loss: 0.4318 - tp: 27374.0000 - fp: 329229.0000 - tn: 1807711.0000 - fn: 2485.0000 - accuracy: 0.8469 - precision: 0.0768 - sensitivity: 0.9168 - auc: 0.9389 - val_loss: 0.4373 - val_tp: 11880.0000 - val_fp: 140605.0000 - val_tn: 775279.0000 - val_fn: 865.0000 - val_accuracy: 0.8477 - val_precision: 0.0779 - val_sensitivity: 0.9321 - val_auc: 0.9512\n",
      "Epoch 3/100\n",
      "2167/2167 [==============================] - 15s 7ms/step - loss: 0.3569 - tp: 27386.0000 - fp: 306201.0000 - tn: 1830739.0000 - fn: 2473.0000 - accuracy: 0.8575 - precision: 0.0821 - sensitivity: 0.9172 - auc: 0.9467 - val_loss: 0.3911 - val_tp: 11995.0000 - val_fp: 143414.0000 - val_tn: 772470.0000 - val_fn: 750.0000 - val_accuracy: 0.8448 - val_precision: 0.0772 - val_sensitivity: 0.9412 - val_auc: 0.9537\n",
      "Epoch 4/100\n",
      "2167/2167 [==============================] - 16s 7ms/step - loss: 0.3236 - tp: 27471.0000 - fp: 300029.0000 - tn: 1836911.0000 - fn: 2388.0000 - accuracy: 0.8604 - precision: 0.0839 - sensitivity: 0.9200 - auc: 0.9497 - val_loss: 0.3225 - val_tp: 11785.0000 - val_fp: 125690.0000 - val_tn: 790194.0000 - val_fn: 960.0000 - val_accuracy: 0.8636 - val_precision: 0.0857 - val_sensitivity: 0.9247 - val_auc: 0.9553\n",
      "Epoch 5/100\n",
      "2167/2167 [==============================] - 15s 7ms/step - loss: 0.3079 - tp: 27585.0000 - fp: 297003.0000 - tn: 1839937.0000 - fn: 2274.0000 - accuracy: 0.8619 - precision: 0.0850 - sensitivity: 0.9238 - auc: 0.9515 - val_loss: 0.3563 - val_tp: 11974.0000 - val_fp: 140335.0000 - val_tn: 775549.0000 - val_fn: 771.0000 - val_accuracy: 0.8480 - val_precision: 0.0786 - val_sensitivity: 0.9395 - val_auc: 0.9558\n",
      "Epoch 6/100\n",
      "2167/2167 [==============================] - 15s 7ms/step - loss: 0.2997 - tp: 27640.0000 - fp: 297425.0000 - tn: 1839515.0000 - fn: 2219.0000 - accuracy: 0.8617 - precision: 0.0850 - sensitivity: 0.9257 - auc: 0.9527 - val_loss: 0.3008 - val_tp: 11794.0000 - val_fp: 123321.0000 - val_tn: 792563.0000 - val_fn: 951.0000 - val_accuracy: 0.8662 - val_precision: 0.0873 - val_sensitivity: 0.9254 - val_auc: 0.9571\n",
      "Epoch 7/100\n",
      "2167/2167 [==============================] - 15s 7ms/step - loss: 0.2947 - tp: 27628.0000 - fp: 296545.0000 - tn: 1840395.0000 - fn: 2231.0000 - accuracy: 0.8621 - precision: 0.0852 - sensitivity: 0.9253 - auc: 0.9533 - val_loss: 0.3099 - val_tp: 11834.0000 - val_fp: 125605.0000 - val_tn: 790279.0000 - val_fn: 911.0000 - val_accuracy: 0.8638 - val_precision: 0.0861 - val_sensitivity: 0.9285 - val_auc: 0.9575\n",
      "Epoch 8/100\n",
      "2167/2167 [==============================] - 15s 7ms/step - loss: 0.2902 - tp: 27643.0000 - fp: 295253.0000 - tn: 1841687.0000 - fn: 2216.0000 - accuracy: 0.8627 - precision: 0.0856 - sensitivity: 0.9258 - auc: 0.9541 - val_loss: 0.2928 - val_tp: 11801.0000 - val_fp: 122354.0000 - val_tn: 793530.0000 - val_fn: 944.0000 - val_accuracy: 0.8672 - val_precision: 0.0880 - val_sensitivity: 0.9259 - val_auc: 0.9581\n",
      "Epoch 9/100\n",
      "2167/2167 [==============================] - 15s 7ms/step - loss: 0.2871 - tp: 27748.0000 - fp: 295281.0000 - tn: 1841659.0000 - fn: 2111.0000 - accuracy: 0.8628 - precision: 0.0859 - sensitivity: 0.9293 - auc: 0.9547 - val_loss: 0.2926 - val_tp: 11730.0000 - val_fp: 119754.0000 - val_tn: 796130.0000 - val_fn: 1015.0000 - val_accuracy: 0.8699 - val_precision: 0.0892 - val_sensitivity: 0.9204 - val_auc: 0.9583\n",
      "Epoch 10/100\n",
      "2167/2167 [==============================] - 15s 7ms/step - loss: 0.2843 - tp: 27719.0000 - fp: 294398.0000 - tn: 1842542.0000 - fn: 2140.0000 - accuracy: 0.8631 - precision: 0.0861 - sensitivity: 0.9283 - auc: 0.9552 - val_loss: 0.2881 - val_tp: 11665.0000 - val_fp: 114418.0000 - val_tn: 801466.0000 - val_fn: 1080.0000 - val_accuracy: 0.8756 - val_precision: 0.0925 - val_sensitivity: 0.9153 - val_auc: 0.9586\n",
      "Epoch 11/100\n",
      "2167/2167 [==============================] - 15s 7ms/step - loss: 0.2826 - tp: 27737.0000 - fp: 295503.0000 - tn: 1841437.0000 - fn: 2122.0000 - accuracy: 0.8626 - precision: 0.0858 - sensitivity: 0.9289 - auc: 0.9555 - val_loss: 0.3233 - val_tp: 11950.0000 - val_fp: 131777.0000 - val_tn: 784107.0000 - val_fn: 795.0000 - val_accuracy: 0.8572 - val_precision: 0.0831 - val_sensitivity: 0.9376 - val_auc: 0.9588\n",
      "Epoch 12/100\n",
      "2167/2167 [==============================] - 15s 7ms/step - loss: 0.2811 - tp: 27775.0000 - fp: 295061.0000 - tn: 1841879.0000 - fn: 2084.0000 - accuracy: 0.8629 - precision: 0.0860 - sensitivity: 0.9302 - auc: 0.9556 - val_loss: 0.2667 - val_tp: 11608.0000 - val_fp: 111428.0000 - val_tn: 804456.0000 - val_fn: 1137.0000 - val_accuracy: 0.8788 - val_precision: 0.0943 - val_sensitivity: 0.9108 - val_auc: 0.9589\n",
      "Epoch 13/100\n",
      "2167/2167 [==============================] - 15s 7ms/step - loss: 0.2793 - tp: 27779.0000 - fp: 293365.0000 - tn: 1843575.0000 - fn: 2080.0000 - accuracy: 0.8636 - precision: 0.0865 - sensitivity: 0.9303 - auc: 0.9562 - val_loss: 0.3320 - val_tp: 11985.0000 - val_fp: 135963.0000 - val_tn: 779921.0000 - val_fn: 760.0000 - val_accuracy: 0.8528 - val_precision: 0.0810 - val_sensitivity: 0.9404 - val_auc: 0.9582\n",
      "Epoch 14/100\n",
      "2167/2167 [==============================] - 15s 7ms/step - loss: 0.2782 - tp: 27814.0000 - fp: 294889.0000 - tn: 1842051.0000 - fn: 2045.0000 - accuracy: 0.8630 - precision: 0.0862 - sensitivity: 0.9315 - auc: 0.9564 - val_loss: 0.3657 - val_tp: 12125.0000 - val_fp: 145595.0000 - val_tn: 770289.0000 - val_fn: 620.0000 - val_accuracy: 0.8425 - val_precision: 0.0769 - val_sensitivity: 0.9514 - val_auc: 0.9592\n",
      "Epoch 15/100\n",
      "2167/2167 [==============================] - 15s 7ms/step - loss: 0.2767 - tp: 27807.0000 - fp: 293322.0000 - tn: 1843618.0000 - fn: 2052.0000 - accuracy: 0.8637 - precision: 0.0866 - sensitivity: 0.9313 - auc: 0.9566 - val_loss: 0.2984 - val_tp: 11887.0000 - val_fp: 124889.0000 - val_tn: 790995.0000 - val_fn: 858.0000 - val_accuracy: 0.8646 - val_precision: 0.0869 - val_sensitivity: 0.9327 - val_auc: 0.9596\n",
      "Epoch 16/100\n",
      "2167/2167 [==============================] - 15s 7ms/step - loss: 0.2767 - tp: 27827.0000 - fp: 294043.0000 - tn: 1842897.0000 - fn: 2032.0000 - accuracy: 0.8634 - precision: 0.0865 - sensitivity: 0.9319 - auc: 0.9566 - val_loss: 0.2563 - val_tp: 11544.0000 - val_fp: 103435.0000 - val_tn: 812449.0000 - val_fn: 1201.0000 - val_accuracy: 0.8873 - val_precision: 0.1004 - val_sensitivity: 0.9058 - val_auc: 0.9594\n",
      "Epoch 17/100\n",
      "2167/2167 [==============================] - 15s 7ms/step - loss: 0.2763 - tp: 27850.0000 - fp: 294325.0000 - tn: 1842615.0000 - fn: 2009.0000 - accuracy: 0.8632 - precision: 0.0864 - sensitivity: 0.9327 - auc: 0.9568 - val_loss: 0.3322 - val_tp: 12126.0000 - val_fp: 143678.0000 - val_tn: 772206.0000 - val_fn: 619.0000 - val_accuracy: 0.8446 - val_precision: 0.0778 - val_sensitivity: 0.9514 - val_auc: 0.9599\n",
      "Epoch 18/100\n",
      "2167/2167 [==============================] - 15s 7ms/step - loss: 0.2754 - tp: 27875.0000 - fp: 294410.0000 - tn: 1842530.0000 - fn: 1984.0000 - accuracy: 0.8632 - precision: 0.0865 - sensitivity: 0.9336 - auc: 0.9569 - val_loss: 0.3054 - val_tp: 11899.0000 - val_fp: 126166.0000 - val_tn: 789718.0000 - val_fn: 846.0000 - val_accuracy: 0.8632 - val_precision: 0.0862 - val_sensitivity: 0.9336 - val_auc: 0.9600\n",
      "Epoch 19/100\n",
      "2167/2167 [==============================] - 15s 7ms/step - loss: 0.2746 - tp: 27859.0000 - fp: 293813.0000 - tn: 1843127.0000 - fn: 2000.0000 - accuracy: 0.8635 - precision: 0.0866 - sensitivity: 0.9330 - auc: 0.9572 - val_loss: 0.3049 - val_tp: 11897.0000 - val_fp: 123551.0000 - val_tn: 792333.0000 - val_fn: 848.0000 - val_accuracy: 0.8660 - val_precision: 0.0878 - val_sensitivity: 0.9335 - val_auc: 0.9602\n",
      "Epoch 20/100\n",
      "2167/2167 [==============================] - 15s 7ms/step - loss: 0.2745 - tp: 27809.0000 - fp: 293427.0000 - tn: 1843513.0000 - fn: 2050.0000 - accuracy: 0.8636 - precision: 0.0866 - sensitivity: 0.9313 - auc: 0.9572 - val_loss: 0.3127 - val_tp: 12050.0000 - val_fp: 137819.0000 - val_tn: 778065.0000 - val_fn: 695.0000 - val_accuracy: 0.8508 - val_precision: 0.0804 - val_sensitivity: 0.9455 - val_auc: 0.9599\n",
      "Epoch 21/100\n",
      "2167/2167 [==============================] - 15s 7ms/step - loss: 0.2739 - tp: 27859.0000 - fp: 293853.0000 - tn: 1843087.0000 - fn: 2000.0000 - accuracy: 0.8635 - precision: 0.0866 - sensitivity: 0.9330 - auc: 0.9573 - val_loss: 0.2845 - val_tp: 11837.0000 - val_fp: 120318.0000 - val_tn: 795566.0000 - val_fn: 908.0000 - val_accuracy: 0.8695 - val_precision: 0.0896 - val_sensitivity: 0.9288 - val_auc: 0.9597\n",
      "Epoch 22/100\n",
      "2167/2167 [==============================] - 15s 7ms/step - loss: 0.2731 - tp: 27819.0000 - fp: 292505.0000 - tn: 1844435.0000 - fn: 2040.0000 - accuracy: 0.8641 - precision: 0.0868 - sensitivity: 0.9317 - auc: 0.9575 - val_loss: 0.2890 - val_tp: 11896.0000 - val_fp: 123356.0000 - val_tn: 792528.0000 - val_fn: 849.0000 - val_accuracy: 0.8662 - val_precision: 0.0880 - val_sensitivity: 0.9334 - val_auc: 0.9603\n",
      "Epoch 23/100\n",
      "2167/2167 [==============================] - 15s 7ms/step - loss: 0.2741 - tp: 27907.0000 - fp: 293716.0000 - tn: 1843224.0000 - fn: 1952.0000 - accuracy: 0.8635 - precision: 0.0868 - sensitivity: 0.9346 - auc: 0.9572 - val_loss: 0.3012 - val_tp: 11906.0000 - val_fp: 124824.0000 - val_tn: 791060.0000 - val_fn: 839.0000 - val_accuracy: 0.8647 - val_precision: 0.0871 - val_sensitivity: 0.9342 - val_auc: 0.9600\n",
      "Epoch 24/100\n",
      "2167/2167 [==============================] - 15s 7ms/step - loss: 0.2734 - tp: 27862.0000 - fp: 293524.0000 - tn: 1843416.0000 - fn: 1997.0000 - accuracy: 0.8636 - precision: 0.0867 - sensitivity: 0.9331 - auc: 0.9575 - val_loss: 0.2898 - val_tp: 11906.0000 - val_fp: 123662.0000 - val_tn: 792222.0000 - val_fn: 839.0000 - val_accuracy: 0.8659 - val_precision: 0.0878 - val_sensitivity: 0.9342 - val_auc: 0.9602\n",
      "Epoch 25/100\n",
      "2167/2167 [==============================] - 15s 7ms/step - loss: 0.2729 - tp: 27890.0000 - fp: 292693.0000 - tn: 1844247.0000 - fn: 1969.0000 - accuracy: 0.8640 - precision: 0.0870 - sensitivity: 0.9341 - auc: 0.9575 - val_loss: 0.2919 - val_tp: 11882.0000 - val_fp: 121530.0000 - val_tn: 794354.0000 - val_fn: 863.0000 - val_accuracy: 0.8682 - val_precision: 0.0891 - val_sensitivity: 0.9323 - val_auc: 0.9604\n",
      "Epoch 26/100\n",
      "2167/2167 [==============================] - 15s 7ms/step - loss: 0.2718 - tp: 27879.0000 - fp: 292914.0000 - tn: 1844026.0000 - fn: 1980.0000 - accuracy: 0.8639 - precision: 0.0869 - sensitivity: 0.9337 - auc: 0.9579 - val_loss: 0.3493 - val_tp: 12228.0000 - val_fp: 151410.0000 - val_tn: 764474.0000 - val_fn: 517.0000 - val_accuracy: 0.8364 - val_precision: 0.0747 - val_sensitivity: 0.9594 - val_auc: 0.9600\n",
      "Epoch 27/100\n",
      "2167/2167 [==============================] - 15s 7ms/step - loss: 0.2724 - tp: 27889.0000 - fp: 294092.0000 - tn: 1842848.0000 - fn: 1970.0000 - accuracy: 0.8634 - precision: 0.0866 - sensitivity: 0.9340 - auc: 0.9578 - val_loss: 0.3138 - val_tp: 11958.0000 - val_fp: 129459.0000 - val_tn: 786425.0000 - val_fn: 787.0000 - val_accuracy: 0.8597 - val_precision: 0.0846 - val_sensitivity: 0.9383 - val_auc: 0.9600\n",
      "Epoch 28/100\n",
      "2167/2167 [==============================] - 15s 7ms/step - loss: 0.2721 - tp: 27898.0000 - fp: 293320.0000 - tn: 1843620.0000 - fn: 1961.0000 - accuracy: 0.8637 - precision: 0.0869 - sensitivity: 0.9343 - auc: 0.9577 - val_loss: 0.2450 - val_tp: 11527.0000 - val_fp: 102583.0000 - val_tn: 813301.0000 - val_fn: 1218.0000 - val_accuracy: 0.8882 - val_precision: 0.1010 - val_sensitivity: 0.9044 - val_auc: 0.9604\n",
      "Epoch 29/100\n",
      "2167/2167 [==============================] - 15s 7ms/step - loss: 0.2708 - tp: 27871.0000 - fp: 292282.0000 - tn: 1844658.0000 - fn: 1988.0000 - accuracy: 0.8642 - precision: 0.0871 - sensitivity: 0.9334 - auc: 0.9581 - val_loss: 0.2795 - val_tp: 11785.0000 - val_fp: 116419.0000 - val_tn: 799465.0000 - val_fn: 960.0000 - val_accuracy: 0.8736 - val_precision: 0.0919 - val_sensitivity: 0.9247 - val_auc: 0.9603\n",
      "Epoch 30/100\n",
      "2167/2167 [==============================] - 15s 7ms/step - loss: 0.2719 - tp: 27915.0000 - fp: 293428.0000 - tn: 1843512.0000 - fn: 1944.0000 - accuracy: 0.8637 - precision: 0.0869 - sensitivity: 0.9349 - auc: 0.9578 - val_loss: 0.2608 - val_tp: 11663.0000 - val_fp: 108943.0000 - val_tn: 806941.0000 - val_fn: 1082.0000 - val_accuracy: 0.8815 - val_precision: 0.0967 - val_sensitivity: 0.9151 - val_auc: 0.9604\n",
      "Epoch 31/100\n",
      "2167/2167 [==============================] - 15s 7ms/step - loss: 0.2716 - tp: 27878.0000 - fp: 293339.0000 - tn: 1843601.0000 - fn: 1981.0000 - accuracy: 0.8637 - precision: 0.0868 - sensitivity: 0.9337 - auc: 0.9579 - val_loss: 0.2971 - val_tp: 11967.0000 - val_fp: 126948.0000 - val_tn: 788936.0000 - val_fn: 778.0000 - val_accuracy: 0.8625 - val_precision: 0.0861 - val_sensitivity: 0.9390 - val_auc: 0.9607\n",
      "Epoch 32/100\n",
      "2167/2167 [==============================] - 15s 7ms/step - loss: 0.2700 - tp: 27871.0000 - fp: 291892.0000 - tn: 1845048.0000 - fn: 1988.0000 - accuracy: 0.8644 - precision: 0.0872 - sensitivity: 0.9334 - auc: 0.9584 - val_loss: 0.2681 - val_tp: 11728.0000 - val_fp: 112121.0000 - val_tn: 803763.0000 - val_fn: 1017.0000 - val_accuracy: 0.8782 - val_precision: 0.0947 - val_sensitivity: 0.9202 - val_auc: 0.9603\n",
      "Epoch 33/100\n",
      "2167/2167 [==============================] - 15s 7ms/step - loss: 0.2714 - tp: 27880.0000 - fp: 292930.0000 - tn: 1844010.0000 - fn: 1979.0000 - accuracy: 0.8639 - precision: 0.0869 - sensitivity: 0.9337 - auc: 0.9580 - val_loss: 0.3182 - val_tp: 12036.0000 - val_fp: 133528.0000 - val_tn: 782356.0000 - val_fn: 709.0000 - val_accuracy: 0.8554 - val_precision: 0.0827 - val_sensitivity: 0.9444 - val_auc: 0.9605\n",
      "Epoch 34/100\n",
      "2167/2167 [==============================] - 15s 7ms/step - loss: 0.2713 - tp: 27910.0000 - fp: 293004.0000 - tn: 1843936.0000 - fn: 1949.0000 - accuracy: 0.8639 - precision: 0.0870 - sensitivity: 0.9347 - auc: 0.9580 - val_loss: 0.3525 - val_tp: 12221.0000 - val_fp: 148354.0000 - val_tn: 767530.0000 - val_fn: 524.0000 - val_accuracy: 0.8397 - val_precision: 0.0761 - val_sensitivity: 0.9589 - val_auc: 0.9607\n",
      "Epoch 35/100\n",
      "2167/2167 [==============================] - 15s 7ms/step - loss: 0.2716 - tp: 27910.0000 - fp: 293170.0000 - tn: 1843770.0000 - fn: 1949.0000 - accuracy: 0.8638 - precision: 0.0869 - sensitivity: 0.9347 - auc: 0.9579 - val_loss: 0.2704 - val_tp: 11749.0000 - val_fp: 113920.0000 - val_tn: 801964.0000 - val_fn: 996.0000 - val_accuracy: 0.8763 - val_precision: 0.0935 - val_sensitivity: 0.9219 - val_auc: 0.9603\n",
      "Epoch 36/100\n",
      "2167/2167 [==============================] - 15s 7ms/step - loss: 0.2708 - tp: 27908.0000 - fp: 292554.0000 - tn: 1844386.0000 - fn: 1951.0000 - accuracy: 0.8641 - precision: 0.0871 - sensitivity: 0.9347 - auc: 0.9582 - val_loss: 0.3076 - val_tp: 11992.0000 - val_fp: 129153.0000 - val_tn: 786731.0000 - val_fn: 753.0000 - val_accuracy: 0.8601 - val_precision: 0.0850 - val_sensitivity: 0.9409 - val_auc: 0.9609\n",
      "Epoch 37/100\n",
      "2167/2167 [==============================] - 15s 7ms/step - loss: 0.2708 - tp: 27889.0000 - fp: 291820.0000 - tn: 1845120.0000 - fn: 1970.0000 - accuracy: 0.8644 - precision: 0.0872 - sensitivity: 0.9340 - auc: 0.9582 - val_loss: 0.2621 - val_tp: 11674.0000 - val_fp: 108561.0000 - val_tn: 807323.0000 - val_fn: 1071.0000 - val_accuracy: 0.8819 - val_precision: 0.0971 - val_sensitivity: 0.9160 - val_auc: 0.9607\n",
      "Epoch 38/100\n",
      "2167/2167 [==============================] - 15s 7ms/step - loss: 0.2705 - tp: 27917.0000 - fp: 292513.0000 - tn: 1844427.0000 - fn: 1942.0000 - accuracy: 0.8641 - precision: 0.0871 - sensitivity: 0.9350 - auc: 0.9583 - val_loss: 0.2641 - val_tp: 11773.0000 - val_fp: 113087.0000 - val_tn: 802797.0000 - val_fn: 972.0000 - val_accuracy: 0.8772 - val_precision: 0.0943 - val_sensitivity: 0.9237 - val_auc: 0.9612\n",
      "Epoch 39/100\n",
      "2167/2167 [==============================] - 15s 7ms/step - loss: 0.2708 - tp: 27928.0000 - fp: 292805.0000 - tn: 1844135.0000 - fn: 1931.0000 - accuracy: 0.8640 - precision: 0.0871 - sensitivity: 0.9353 - auc: 0.9582 - val_loss: 0.3217 - val_tp: 12079.0000 - val_fp: 136620.0000 - val_tn: 779264.0000 - val_fn: 666.0000 - val_accuracy: 0.8522 - val_precision: 0.0812 - val_sensitivity: 0.9477 - val_auc: 0.9608\n",
      "Epoch 40/100\n",
      "2167/2167 [==============================] - 15s 7ms/step - loss: 0.2699 - tp: 27892.0000 - fp: 292108.0000 - tn: 1844832.0000 - fn: 1967.0000 - accuracy: 0.8643 - precision: 0.0872 - sensitivity: 0.9341 - auc: 0.9585 - val_loss: 0.3056 - val_tp: 11904.0000 - val_fp: 123801.0000 - val_tn: 792083.0000 - val_fn: 841.0000 - val_accuracy: 0.8658 - val_precision: 0.0877 - val_sensitivity: 0.9340 - val_auc: 0.9606\n",
      "Epoch 41/100\n",
      "2167/2167 [==============================] - 15s 7ms/step - loss: 0.2707 - tp: 27893.0000 - fp: 293096.0000 - tn: 1843844.0000 - fn: 1966.0000 - accuracy: 0.8638 - precision: 0.0869 - sensitivity: 0.9342 - auc: 0.9582 - val_loss: 0.2867 - val_tp: 11868.0000 - val_fp: 120100.0000 - val_tn: 795784.0000 - val_fn: 877.0000 - val_accuracy: 0.8697 - val_precision: 0.0899 - val_sensitivity: 0.9312 - val_auc: 0.9610\n",
      "Epoch 42/100\n",
      "2167/2167 [==============================] - 15s 7ms/step - loss: 0.2695 - tp: 27910.0000 - fp: 291549.0000 - tn: 1845391.0000 - fn: 1949.0000 - accuracy: 0.8645 - precision: 0.0874 - sensitivity: 0.9347 - auc: 0.9586 - val_loss: 0.3369 - val_tp: 12163.0000 - val_fp: 143360.0000 - val_tn: 772524.0000 - val_fn: 582.0000 - val_accuracy: 0.8450 - val_precision: 0.0782 - val_sensitivity: 0.9543 - val_auc: 0.9609\n",
      "Epoch 43/100\n",
      "2167/2167 [==============================] - 15s 7ms/step - loss: 0.2701 - tp: 27907.0000 - fp: 292818.0000 - tn: 1844122.0000 - fn: 1952.0000 - accuracy: 0.8640 - precision: 0.0870 - sensitivity: 0.9346 - auc: 0.9584 - val_loss: 0.3085 - val_tp: 11952.0000 - val_fp: 126018.0000 - val_tn: 789866.0000 - val_fn: 793.0000 - val_accuracy: 0.8634 - val_precision: 0.0866 - val_sensitivity: 0.9378 - val_auc: 0.9609\n",
      "Epoch 44/100\n",
      "2167/2167 [==============================] - 15s 7ms/step - loss: 0.2705 - tp: 27912.0000 - fp: 292272.0000 - tn: 1844668.0000 - fn: 1947.0000 - accuracy: 0.8642 - precision: 0.0872 - sensitivity: 0.9348 - auc: 0.9583 - val_loss: 0.2978 - val_tp: 11989.0000 - val_fp: 127160.0000 - val_tn: 788724.0000 - val_fn: 756.0000 - val_accuracy: 0.8623 - val_precision: 0.0862 - val_sensitivity: 0.9407 - val_auc: 0.9607\n",
      "Epoch 45/100\n",
      "2167/2167 [==============================] - 15s 7ms/step - loss: 0.2703 - tp: 27928.0000 - fp: 292340.0000 - tn: 1844600.0000 - fn: 1931.0000 - accuracy: 0.8642 - precision: 0.0872 - sensitivity: 0.9353 - auc: 0.9583 - val_loss: 0.2421 - val_tp: 11414.0000 - val_fp: 96891.0000 - val_tn: 818993.0000 - val_fn: 1331.0000 - val_accuracy: 0.8942 - val_precision: 0.1054 - val_sensitivity: 0.8956 - val_auc: 0.9606\n",
      "Epoch 46/100\n",
      "2167/2167 [==============================] - 15s 7ms/step - loss: 0.2698 - tp: 27924.0000 - fp: 291864.0000 - tn: 1845076.0000 - fn: 1935.0000 - accuracy: 0.8644 - precision: 0.0873 - sensitivity: 0.9352 - auc: 0.9585 - val_loss: 0.3060 - val_tp: 11985.0000 - val_fp: 127884.0000 - val_tn: 788000.0000 - val_fn: 760.0000 - val_accuracy: 0.8615 - val_precision: 0.0857 - val_sensitivity: 0.9404 - val_auc: 0.9609\n",
      "Epoch 47/100\n",
      "2167/2167 [==============================] - 15s 7ms/step - loss: 0.2698 - tp: 27949.0000 - fp: 291777.0000 - tn: 1845163.0000 - fn: 1910.0000 - accuracy: 0.8645 - precision: 0.0874 - sensitivity: 0.9360 - auc: 0.9586 - val_loss: 0.3140 - val_tp: 12009.0000 - val_fp: 130674.0000 - val_tn: 785210.0000 - val_fn: 736.0000 - val_accuracy: 0.8585 - val_precision: 0.0842 - val_sensitivity: 0.9423 - val_auc: 0.9610\n",
      "Epoch 48/100\n",
      "2167/2167 [==============================] - 15s 7ms/step - loss: 0.2693 - tp: 27922.0000 - fp: 292111.0000 - tn: 1844829.0000 - fn: 1937.0000 - accuracy: 0.8643 - precision: 0.0872 - sensitivity: 0.9351 - auc: 0.9587 - val_loss: 0.3506 - val_tp: 12199.0000 - val_fp: 150852.0000 - val_tn: 765032.0000 - val_fn: 546.0000 - val_accuracy: 0.8370 - val_precision: 0.0748 - val_sensitivity: 0.9572 - val_auc: 0.9602\n"
     ]
    }
   ],
   "source": [
    "perceptron_training = perceptron_model.fit(\n",
    "    train_scalar_features,\n",
    "    train_labels,\n",
    "    batch_size=BATCH_SIZE,\n",
    "    epochs=EPOCHS,\n",
    "    callbacks = [EARLY_STOPPING],\n",
    "    validation_split = VALIDATION_SPLIT,\n",
    "    class_weight=class_weight_asm,\n",
    "    verbose = 1) "
   ]
  },
  {
   "cell_type": "code",
   "execution_count": 35,
   "id": "e84bda20-b408-47a8-b3e2-d47bd4dd1c88",
   "metadata": {},
   "outputs": [
    {
     "data": {
      "image/png": "[encoded data removed]",
      "text/plain": [
       "<Figure size 720x720 with 4 Axes>"
      ]
     },
     "metadata": {
      "needs_background": "light"
     },
     "output_type": "display_data"
    }
   ],
   "source": [
    "plot_metrics(perceptron_training)"
   ]
  },
  {
   "cell_type": "code",
   "execution_count": 36,
   "id": "f00cfbe0-f510-4126-8765-92540accf00d",
   "metadata": {},
   "outputs": [
    {
     "name": "stdout",
     "output_type": "stream",
     "text": [
      "774/774 [==============================] - 3s 4ms/step - loss: 0.2638 - tp: 9825.0000 - fp: 94172.0000 - tn: 669014.0000 - fn: 846.0000 - accuracy: 0.8772 - precision: 0.0945 - sensitivity: 0.9207 - auc: 0.9615\n",
      "Loss 0.264\n",
      "True positives 9825.0\n",
      "False positives 94172.0\n",
      "True negatives 669014.0\n",
      "False negatives 846.0\n",
      "Accuracy 0.877\n",
      "Precision 0.094\n",
      "Sensitivity 0.921\n",
      "AUC 0.961\n"
     ]
    }
   ],
   "source": [
    "perceptron_results = perceptron_model.evaluate(test_scalar_features, \n",
    "                                               test_labels, \n",
    "                                               batch_size= BATCH_SIZE,\n",
    "                                               verbose=1)\n",
    "display_results(perceptron_results)"
   ]
  },
  {
   "cell_type": "markdown",
   "id": "93948497-6b99-4032-abf4-3e8c34904cb4",
   "metadata": {},
   "source": [
    "## CNN model with the genomic picture as sole input"
   ]
  },
  {
   "cell_type": "code",
   "execution_count": 37,
   "id": "866a3648-bb78-4ca9-a3a4-39cc9ef83e70",
   "metadata": {},
   "outputs": [],
   "source": [
    "def make_simple_cnn_model(output_bias = None):\n",
    "\n",
    "    if output_bias is not None:\n",
    "        output_bias = tf.keras.initializers.Constant(output_bias)\n",
    "\n",
    "    # Start the model\n",
    "    model = keras.Sequential()\n",
    "    \n",
    "    # Normalize the features\n",
    "    # model.add(\n",
    "    #     layers.BatchNormalization(\n",
    "    #         axis=-1,\n",
    "    #         momentum = 0.99,\n",
    "    #         epsilon = 0.001,\n",
    "    #         input_shape=(train_image_feature.shape[1], train_image_feature.shape[2])\n",
    "    #     )\n",
    "    # )  \n",
    "    \n",
    "    # Add a convolutional layer\n",
    "    model.add(layers.Conv1D(\n",
    "        filters = CNN_FILTERS, \n",
    "        kernel_size = CNN_KERNEL,\n",
    "        activation = ACTIVATION_FUNCTION,\n",
    "        input_shape=(train_image_feature.shape[1], train_image_feature.shape[2]),\n",
    "        kernel_regularizer = keras.regularizers.L1L2(\n",
    "                            l1 = L1_R, \n",
    "                            l2 = L2_R)))\n",
    "\n",
    "    # Pooling\n",
    "    model.add(layers.MaxPooling1D(pool_size=2))\n",
    "  \n",
    "    # Flattening\n",
    "    model.add(layers.Flatten())\n",
    "  \n",
    "    # Output layer (Sigmoid)\n",
    "    model.add(layers.Dense(1, activation='sigmoid', \n",
    "                         kernel_regularizer = keras.regularizers.L1L2(\n",
    "                            l1 = L1_R, \n",
    "                            l2 = L2_R),\n",
    "                         bias_initializer=output_bias))\n",
    "\n",
    "    model.compile(\n",
    "        optimizer = keras.optimizers.Adam(learning_rate = LEARNING_RATE),\n",
    "        loss = 'binary_crossentropy',\n",
    "        metrics = METRICS)\n",
    "\n",
    "    return model"
   ]
  },
  {
   "cell_type": "code",
   "execution_count": 38,
   "id": "178d6a6e-9ff5-41eb-8803-44b42db2d8c5",
   "metadata": {},
   "outputs": [],
   "source": [
    "simple_cnn_model = make_simple_cnn_model()"
   ]
  },
  {
   "cell_type": "code",
   "execution_count": 39,
   "id": "67a41d72-5ca6-42ca-87c5-c953ddde7874",
   "metadata": {},
   "outputs": [
    {
     "name": "stdout",
     "output_type": "stream",
     "text": [
      "Model: \"sequential_2\"\n",
      "_________________________________________________________________\n",
      " Layer (type)                Output Shape              Param #   \n",
      "=================================================================\n",
      " conv1d (Conv1D)             (None, 151, 8)            1608      \n",
      "                                                                 \n",
      " max_pooling1d (MaxPooling1D  (None, 75, 8)            0         \n",
      " )                                                               \n",
      "                                                                 \n",
      " flatten (Flatten)           (None, 600)               0         \n",
      "                                                                 \n",
      " dense_7 (Dense)             (None, 1)                 601       \n",
      "                                                                 \n",
      "=================================================================\n",
      "Total params: 2,209\n",
      "Trainable params: 2,209\n",
      "Non-trainable params: 0\n",
      "_________________________________________________________________\n"
     ]
    },
    {
     "data": {
      "image/png": "[encoded data removed]",
      "text/plain": [
       "<IPython.core.display.Image object>"
      ]
     },
     "execution_count": 39,
     "metadata": {},
     "output_type": "execute_result"
    }
   ],
   "source": [
    "simple_cnn_model.summary()\n",
    "keras.utils.plot_model(simple_cnn_model, \"cnn_model.png\", show_shapes=True)"
   ]
  },
  {
   "cell_type": "code",
   "execution_count": 40,
   "id": "0a1b71e7-d194-44d8-96f9-29a4b6be7520",
   "metadata": {},
   "outputs": [
    {
     "name": "stderr",
     "output_type": "stream",
     "text": [
      "2022-03-18 03:18:02.815239: I tensorflow/stream_executor/cuda/cuda_dnn.cc:366] Loaded cuDNN version 8200\n"
     ]
    }
   ],
   "source": [
    "simple_cnn_training = simple_cnn_model.fit(\n",
    "    train_image_feature,\n",
    "    train_labels,\n",
    "    batch_size=BATCH_SIZE,\n",
    "    epochs=EPOCHS,\n",
    "    callbacks = [EARLY_STOPPING],\n",
    "    validation_split = VALIDATION_SPLIT,\n",
    "    class_weight=class_weight_asm,\n",
    "    verbose = 0) "
   ]
  },
  {
   "cell_type": "code",
   "execution_count": 41,
   "id": "4dbe8d23-6562-496b-88f8-ce2940716b1f",
   "metadata": {},
   "outputs": [
    {
     "data": {
      "image/png": "[encoded data removed]",
      "text/plain": [
       "<Figure size 720x720 with 4 Axes>"
      ]
     },
     "metadata": {
      "needs_background": "light"
     },
     "output_type": "display_data"
    }
   ],
   "source": [
    "plot_metrics(simple_cnn_training)"
   ]
  },
  {
   "cell_type": "code",
   "execution_count": 42,
   "id": "4c3ebb40-563d-4eb7-8dff-b9325311b54d",
   "metadata": {},
   "outputs": [
    {
     "name": "stdout",
     "output_type": "stream",
     "text": [
      "774/774 [==============================] - 4s 5ms/step - loss: 0.4602 - tp: 9347.0000 - fp: 144114.0000 - tn: 619072.0000 - fn: 1324.0000 - accuracy: 0.8121 - precision: 0.0609 - sensitivity: 0.8759 - auc: 0.9127\n",
      "Loss 0.46\n",
      "True positives 9347.0\n",
      "False positives 144114.0\n",
      "True negatives 619072.0\n",
      "False negatives 1324.0\n",
      "Accuracy 0.812\n",
      "Precision 0.061\n",
      "Sensitivity 0.876\n",
      "AUC 0.913\n"
     ]
    }
   ],
   "source": [
    "# Evaluate model on the test dataset\n",
    "simple_cnn_results = simple_cnn_model.evaluate(\n",
    "    test_image_feature, \n",
    "    test_labels, \n",
    "    batch_size = BATCH_SIZE,\n",
    "    verbose=1)\n",
    "\n",
    "display_results(simple_cnn_results)"
   ]
  },
  {
   "cell_type": "markdown",
   "id": "9a59acce-8448-4ba7-a628-cd913dbfc62c",
   "metadata": {},
   "source": [
    "## Recurrent Neural Network"
   ]
  },
  {
   "cell_type": "code",
   "execution_count": 43,
   "id": "70faf688-173b-4b2e-882f-47eb3f71443d",
   "metadata": {},
   "outputs": [],
   "source": [
    "def make_simple_rnn_model():\n",
    "\n",
    "    nb_dim_in_genomic_seq = train_image_feature.shape[2] # Should be 3\n",
    "\n",
    "    model = keras.models.Sequential()\n",
    "    \n",
    "    # Normalize the features\n",
    "    model.add(\n",
    "        layers.BatchNormalization(\n",
    "            axis=-1,\n",
    "            momentum = 0.99,\n",
    "            epsilon = 0.001,\n",
    "            input_shape=(train_image_feature.shape[1], train_image_feature.shape[2])\n",
    "        )\n",
    "    )  \n",
    "    \n",
    "    model.add(layers.LSTM(RNN_UNITS, input_shape=(None, nb_dim_in_genomic_seq), go_backwards = True))\n",
    "\n",
    "    # Output layer (Sigmoid)\n",
    "    model.add(layers.Dense(1, activation='sigmoid', \n",
    "                         kernel_regularizer = keras.regularizers.L1L2(\n",
    "                            l1 = L1_R, \n",
    "                            l2 = L2_R)\n",
    "                         ))\n",
    "\n",
    "    model.compile(\n",
    "      optimizer = keras.optimizers.Adam(learning_rate =LEARNING_RATE),\n",
    "      loss = 'binary_crossentropy',\n",
    "      metrics = METRICS)\n",
    "    \n",
    "    return model"
   ]
  },
  {
   "cell_type": "code",
   "execution_count": 44,
   "id": "31d3372d-f038-4344-b4c1-8757e5cad58c",
   "metadata": {},
   "outputs": [],
   "source": [
    "simple_rnn_model = make_simple_rnn_model()"
   ]
  },
  {
   "cell_type": "code",
   "execution_count": 45,
   "id": "c92b5625-732d-40cc-8e7b-ea0588cf4d55",
   "metadata": {},
   "outputs": [
    {
     "name": "stdout",
     "output_type": "stream",
     "text": [
      "Model: \"sequential_3\"\n",
      "_________________________________________________________________\n",
      " Layer (type)                Output Shape              Param #   \n",
      "=================================================================\n",
      " batch_normalization (BatchN  (None, 250, 2)           8         \n",
      " ormalization)                                                   \n",
      "                                                                 \n",
      " lstm (LSTM)                 (None, 128)               67072     \n",
      "                                                                 \n",
      " dense_8 (Dense)             (None, 1)                 129       \n",
      "                                                                 \n",
      "=================================================================\n",
      "Total params: 67,209\n",
      "Trainable params: 67,205\n",
      "Non-trainable params: 4\n",
      "_________________________________________________________________\n"
     ]
    },
    {
     "data": {
      "image/png": "[encoded data removed]",
      "text/plain": [
       "<IPython.core.display.Image object>"
      ]
     },
     "execution_count": 45,
     "metadata": {},
     "output_type": "execute_result"
    }
   ],
   "source": [
    "simple_rnn_model.summary()\n",
    "keras.utils.plot_model(simple_rnn_model, \"cnn_model.png\", show_shapes=True)"
   ]
  },
  {
   "cell_type": "code",
   "execution_count": 46,
   "id": "85bee2d1-7c8a-4b27-aa24-412f7cf1a39c",
   "metadata": {},
   "outputs": [],
   "source": [
    "simple_rnn_training = simple_rnn_model.fit(\n",
    "    train_image_feature,\n",
    "    train_labels,\n",
    "    batch_size=BATCH_SIZE,\n",
    "    epochs=EPOCHS,\n",
    "    callbacks = [EARLY_STOPPING],\n",
    "    validation_split = VALIDATION_SPLIT,\n",
    "    class_weight=class_weight_asm,\n",
    "    verbose = 0) "
   ]
  },
  {
   "cell_type": "code",
   "execution_count": 47,
   "id": "3396c444-e534-484c-a0f4-94a9b03dea8b",
   "metadata": {},
   "outputs": [
    {
     "data": {
      "image/png": "[encoded data removed]",
      "text/plain": [
       "<Figure size 720x720 with 4 Axes>"
      ]
     },
     "metadata": {
      "needs_background": "light"
     },
     "output_type": "display_data"
    }
   ],
   "source": [
    "plot_metrics(simple_rnn_training)"
   ]
  },
  {
   "cell_type": "code",
   "execution_count": 48,
   "id": "905674c1-98d1-4d77-9884-4d0f26b09785",
   "metadata": {},
   "outputs": [
    {
     "name": "stdout",
     "output_type": "stream",
     "text": [
      "774/774 [==============================] - 7s 9ms/step - loss: 0.3310 - tp: 9949.0000 - fp: 135358.0000 - tn: 627828.0000 - fn: 722.0000 - accuracy: 0.8242 - precision: 0.0685 - sensitivity: 0.9323 - auc: 0.9403\n",
      "Loss 0.331\n",
      "True positives 9949.0\n",
      "False positives 135358.0\n",
      "True negatives 627828.0\n",
      "False negatives 722.0\n",
      "Accuracy 0.824\n",
      "Precision 0.068\n",
      "Sensitivity 0.932\n",
      "AUC 0.94\n"
     ]
    }
   ],
   "source": [
    "# Evaluate model on the test dataset\n",
    "simple_rnn_results = simple_rnn_model.evaluate(\n",
    "    test_image_feature, \n",
    "    test_labels, \n",
    "    batch_size = BATCH_SIZE,\n",
    "    verbose=1)\n",
    "\n",
    "display_results(simple_rnn_results)"
   ]
  },
  {
   "cell_type": "markdown",
   "id": "6597e7ea-b54e-4733-bd98-bdaf014a46c2",
   "metadata": {},
   "source": [
    "## Save model results into CSV file"
   ]
  },
  {
   "cell_type": "code",
   "execution_count": 49,
   "id": "5b8eed8e-1bef-4e96-a29c-a6a576232ef6",
   "metadata": {},
   "outputs": [],
   "source": [
    "# MODELS FOR WHICH WE NEED TO RECORD THE RESULTS\n",
    "\n",
    "models = ['linear', 'perceptron', 'simple_cnn', 'simple_rnn', 'simple_tree', 'boosted_tree']\n",
    "#models = ['simple_rnn']\n",
    "\n",
    "# Loss is better than AUC for monitoring\n",
    "PARAM_TO_CHANGE = \"baseline\""
   ]
  },
  {
   "cell_type": "code",
   "execution_count": 50,
   "id": "f92a19f2-0a4e-47dd-a372-44c1ef7869c8",
   "metadata": {},
   "outputs": [],
   "source": [
    "#Initialize DF if it does not exist\n",
    "try: \n",
    "    model_results.head()\n",
    "    print(\"does not exist\")\n",
    "except AttributeError:\n",
    "    pass\n",
    "except NameError:\n",
    "    model_results = pd.DataFrame([\n",
    "                \"param_testing\", \"data_path\", \"nb_data_points\", \"genomic_region\", \"test_split\", \"val_split\", \n",
    "                \"stop_monitor\", \"stop_restore_w\", \n",
    "                \"epochs\", \"batch_size\",\n",
    "                \"L1_R\", \"L2_R\",\n",
    "                'activation_function', 'nb_nodes_perceptron',\n",
    "                'nb_layers_perceptron', 'nb_nodes_after_cnn',\n",
    "                'cnn_filters', 'cnn_kernel', 'RNN_units',\n",
    "                'growing_strat', 'num_trees', 'min_examples', 'max_depth', 'subsample', 'sampling_method',\n",
    "                'nb_params',\n",
    "                'loss', 'tp', 'fp', 'tn', 'fn', 'accuracy', 'precision', \n",
    "                'sensitivity', 'AUC'], columns = ['parameters'])\n"
   ]
  },
  {
   "cell_type": "code",
   "execution_count": 51,
   "id": "38f38cfd-aa26-4037-993f-c624e4f67afc",
   "metadata": {},
   "outputs": [],
   "source": [
    "model_results = pd.DataFrame([\n",
    "                \"param_testing\", \"data_path\", \"nb_data_points\", \"genomic_region\", \"test_split\", \"val_split\", \n",
    "                \"stop_monitor\", \"stop_restore_w\", \n",
    "                \"epochs\", \"batch_size\",\n",
    "                \"L1_R\", \"L2_R\",\n",
    "                'activation_function', 'nb_nodes_perceptron',\n",
    "                'nb_layers_perceptron', 'nb_nodes_after_cnn',\n",
    "                'cnn_filters', 'cnn_kernel', 'RNN_units',\n",
    "                'growing_strat', 'num_trees', 'min_examples', 'max_depth', 'subsample', 'sampling_method',\n",
    "                'nb_params',\n",
    "                'loss', 'tp', 'fp', 'tn', 'fn', 'accuracy', 'precision', \n",
    "                'sensitivity', 'AUC'], columns = ['parameters'])"
   ]
  },
  {
   "cell_type": "code",
   "execution_count": 52,
   "id": "b04c1239-2544-404b-920b-154ee451d73f",
   "metadata": {},
   "outputs": [
    {
     "name": "stdout",
     "output_type": "stream",
     "text": [
      "model: linear\n",
      "model: perceptron\n",
      "model: simple_cnn\n",
      "model: simple_rnn\n",
      "model: simple_tree\n",
      "model: boosted_tree\n"
     ]
    },
    {
     "data": {
      "text/html": [
       "<div>\n",
       "<style scoped>\n",
       "    .dataframe tbody tr th:only-of-type {\n",
       "        vertical-align: middle;\n",
       "    }\n",
       "\n",
       "    .dataframe tbody tr th {\n",
       "        vertical-align: top;\n",
       "    }\n",
       "\n",
       "    .dataframe thead th {\n",
       "        text-align: right;\n",
       "    }\n",
       "</style>\n",
       "<table border=\"1\" class=\"dataframe\">\n",
       "  <thead>\n",
       "    <tr style=\"text-align: right;\">\n",
       "      <th></th>\n",
       "      <th>parameters</th>\n",
       "      <th>linear</th>\n",
       "      <th>perceptron</th>\n",
       "      <th>simple_cnn</th>\n",
       "      <th>simple_rnn</th>\n",
       "      <th>simple_tree</th>\n",
       "      <th>boosted_tree</th>\n",
       "    </tr>\n",
       "  </thead>\n",
       "  <tbody>\n",
       "    <tr>\n",
       "      <th>0</th>\n",
       "      <td>param_testing</td>\n",
       "      <td>baseline</td>\n",
       "      <td>baseline</td>\n",
       "      <td>baseline</td>\n",
       "      <td>baseline</td>\n",
       "      <td>baseline</td>\n",
       "      <td>baseline</td>\n",
       "    </tr>\n",
       "    <tr>\n",
       "      <th>1</th>\n",
       "      <td>data_path</td>\n",
       "      <td>deepasm/notebook/250bp_5000000rows_2022-03-17_...</td>\n",
       "      <td>deepasm/notebook/250bp_5000000rows_2022-03-17_...</td>\n",
       "      <td>deepasm/notebook/250bp_5000000rows_2022-03-17_...</td>\n",
       "      <td>deepasm/notebook/250bp_5000000rows_2022-03-17_...</td>\n",
       "      <td>deepasm/notebook/250bp_5000000rows_2022-03-17_...</td>\n",
       "      <td>deepasm/notebook/250bp_5000000rows_2022-03-17_...</td>\n",
       "    </tr>\n",
       "    <tr>\n",
       "      <th>2</th>\n",
       "      <td>nb_data_points</td>\n",
       "      <td>3869285</td>\n",
       "      <td>3869285</td>\n",
       "      <td>3869285</td>\n",
       "      <td>3869285</td>\n",
       "      <td>3869285</td>\n",
       "      <td>3869285</td>\n",
       "    </tr>\n",
       "    <tr>\n",
       "      <th>3</th>\n",
       "      <td>genomic_region</td>\n",
       "      <td>250</td>\n",
       "      <td>250</td>\n",
       "      <td>250</td>\n",
       "      <td>250</td>\n",
       "      <td>250</td>\n",
       "      <td>250</td>\n",
       "    </tr>\n",
       "    <tr>\n",
       "      <th>4</th>\n",
       "      <td>test_split</td>\n",
       "      <td>0.2</td>\n",
       "      <td>0.2</td>\n",
       "      <td>0.2</td>\n",
       "      <td>0.2</td>\n",
       "      <td>0.2</td>\n",
       "      <td>0.2</td>\n",
       "    </tr>\n",
       "    <tr>\n",
       "      <th>5</th>\n",
       "      <td>val_split</td>\n",
       "      <td>0.3</td>\n",
       "      <td>0.3</td>\n",
       "      <td>0.3</td>\n",
       "      <td>0.3</td>\n",
       "      <td>0.3</td>\n",
       "      <td>0.3</td>\n",
       "    </tr>\n",
       "    <tr>\n",
       "      <th>6</th>\n",
       "      <td>stop_monitor</td>\n",
       "      <td>val_auc</td>\n",
       "      <td>val_auc</td>\n",
       "      <td>val_auc</td>\n",
       "      <td>val_auc</td>\n",
       "      <td>val_auc</td>\n",
       "      <td>val_auc</td>\n",
       "    </tr>\n",
       "    <tr>\n",
       "      <th>7</th>\n",
       "      <td>stop_restore_w</td>\n",
       "      <td>True</td>\n",
       "      <td>True</td>\n",
       "      <td>True</td>\n",
       "      <td>True</td>\n",
       "      <td>True</td>\n",
       "      <td>True</td>\n",
       "    </tr>\n",
       "    <tr>\n",
       "      <th>8</th>\n",
       "      <td>epochs</td>\n",
       "      <td>100</td>\n",
       "      <td>100</td>\n",
       "      <td>100</td>\n",
       "      <td>100</td>\n",
       "      <td>100</td>\n",
       "      <td>100</td>\n",
       "    </tr>\n",
       "    <tr>\n",
       "      <th>9</th>\n",
       "      <td>batch_size</td>\n",
       "      <td>1000</td>\n",
       "      <td>1000</td>\n",
       "      <td>1000</td>\n",
       "      <td>1000</td>\n",
       "      <td>1000</td>\n",
       "      <td>1000</td>\n",
       "    </tr>\n",
       "    <tr>\n",
       "      <th>10</th>\n",
       "      <td>L1_R</td>\n",
       "      <td>0</td>\n",
       "      <td>0</td>\n",
       "      <td>0</td>\n",
       "      <td>0</td>\n",
       "      <td>0</td>\n",
       "      <td>0</td>\n",
       "    </tr>\n",
       "    <tr>\n",
       "      <th>11</th>\n",
       "      <td>L2_R</td>\n",
       "      <td>0.001</td>\n",
       "      <td>0.001</td>\n",
       "      <td>0.001</td>\n",
       "      <td>0.001</td>\n",
       "      <td>0.001</td>\n",
       "      <td>0.001</td>\n",
       "    </tr>\n",
       "    <tr>\n",
       "      <th>12</th>\n",
       "      <td>activation_function</td>\n",
       "      <td>tanh</td>\n",
       "      <td>tanh</td>\n",
       "      <td>tanh</td>\n",
       "      <td>tanh</td>\n",
       "      <td>tanh</td>\n",
       "      <td>tanh</td>\n",
       "    </tr>\n",
       "    <tr>\n",
       "      <th>13</th>\n",
       "      <td>nb_nodes_perceptron</td>\n",
       "      <td>60</td>\n",
       "      <td>60</td>\n",
       "      <td>60</td>\n",
       "      <td>60</td>\n",
       "      <td>60</td>\n",
       "      <td>60</td>\n",
       "    </tr>\n",
       "    <tr>\n",
       "      <th>14</th>\n",
       "      <td>nb_layers_perceptron</td>\n",
       "      <td>5</td>\n",
       "      <td>5</td>\n",
       "      <td>5</td>\n",
       "      <td>5</td>\n",
       "      <td>5</td>\n",
       "      <td>5</td>\n",
       "    </tr>\n",
       "    <tr>\n",
       "      <th>15</th>\n",
       "      <td>nb_nodes_after_cnn</td>\n",
       "      <td>2</td>\n",
       "      <td>2</td>\n",
       "      <td>2</td>\n",
       "      <td>2</td>\n",
       "      <td>2</td>\n",
       "      <td>2</td>\n",
       "    </tr>\n",
       "    <tr>\n",
       "      <th>16</th>\n",
       "      <td>cnn_filters</td>\n",
       "      <td>8</td>\n",
       "      <td>8</td>\n",
       "      <td>8</td>\n",
       "      <td>8</td>\n",
       "      <td>8</td>\n",
       "      <td>8</td>\n",
       "    </tr>\n",
       "    <tr>\n",
       "      <th>17</th>\n",
       "      <td>cnn_kernel</td>\n",
       "      <td>100</td>\n",
       "      <td>100</td>\n",
       "      <td>100</td>\n",
       "      <td>100</td>\n",
       "      <td>100</td>\n",
       "      <td>100</td>\n",
       "    </tr>\n",
       "    <tr>\n",
       "      <th>18</th>\n",
       "      <td>RNN_units</td>\n",
       "      <td>128</td>\n",
       "      <td>128</td>\n",
       "      <td>128</td>\n",
       "      <td>128</td>\n",
       "      <td>128</td>\n",
       "      <td>128</td>\n",
       "    </tr>\n",
       "    <tr>\n",
       "      <th>19</th>\n",
       "      <td>growing_strat</td>\n",
       "      <td>BEST_FIRST_GLOBAL</td>\n",
       "      <td>BEST_FIRST_GLOBAL</td>\n",
       "      <td>BEST_FIRST_GLOBAL</td>\n",
       "      <td>BEST_FIRST_GLOBAL</td>\n",
       "      <td>BEST_FIRST_GLOBAL</td>\n",
       "      <td>BEST_FIRST_GLOBAL</td>\n",
       "    </tr>\n",
       "    <tr>\n",
       "      <th>20</th>\n",
       "      <td>num_trees</td>\n",
       "      <td>600</td>\n",
       "      <td>600</td>\n",
       "      <td>600</td>\n",
       "      <td>600</td>\n",
       "      <td>600</td>\n",
       "      <td>600</td>\n",
       "    </tr>\n",
       "    <tr>\n",
       "      <th>21</th>\n",
       "      <td>min_examples</td>\n",
       "      <td>10</td>\n",
       "      <td>10</td>\n",
       "      <td>10</td>\n",
       "      <td>10</td>\n",
       "      <td>10</td>\n",
       "      <td>10</td>\n",
       "    </tr>\n",
       "    <tr>\n",
       "      <th>22</th>\n",
       "      <td>max_depth</td>\n",
       "      <td>12</td>\n",
       "      <td>12</td>\n",
       "      <td>12</td>\n",
       "      <td>12</td>\n",
       "      <td>12</td>\n",
       "      <td>12</td>\n",
       "    </tr>\n",
       "    <tr>\n",
       "      <th>23</th>\n",
       "      <td>subsample</td>\n",
       "      <td>0.5</td>\n",
       "      <td>0.5</td>\n",
       "      <td>0.5</td>\n",
       "      <td>0.5</td>\n",
       "      <td>0.5</td>\n",
       "      <td>0.5</td>\n",
       "    </tr>\n",
       "    <tr>\n",
       "      <th>24</th>\n",
       "      <td>sampling_method</td>\n",
       "      <td>RANDOM</td>\n",
       "      <td>RANDOM</td>\n",
       "      <td>RANDOM</td>\n",
       "      <td>RANDOM</td>\n",
       "      <td>RANDOM</td>\n",
       "      <td>RANDOM</td>\n",
       "    </tr>\n",
       "    <tr>\n",
       "      <th>25</th>\n",
       "      <td>nb_params</td>\n",
       "      <td>161</td>\n",
       "      <td>17941</td>\n",
       "      <td>2209</td>\n",
       "      <td>67209</td>\n",
       "      <td>1</td>\n",
       "      <td>1</td>\n",
       "    </tr>\n",
       "    <tr>\n",
       "      <th>26</th>\n",
       "      <td>loss</td>\n",
       "      <td>0.335</td>\n",
       "      <td>0.264</td>\n",
       "      <td>0.46</td>\n",
       "      <td>0.331</td>\n",
       "      <td>0.0</td>\n",
       "      <td>0.0</td>\n",
       "    </tr>\n",
       "    <tr>\n",
       "      <th>27</th>\n",
       "      <td>tp</td>\n",
       "      <td>9618.0</td>\n",
       "      <td>9825.0</td>\n",
       "      <td>9347.0</td>\n",
       "      <td>9949.0</td>\n",
       "      <td>918.0</td>\n",
       "      <td>1886.0</td>\n",
       "    </tr>\n",
       "    <tr>\n",
       "      <th>28</th>\n",
       "      <td>fp</td>\n",
       "      <td>119153.0</td>\n",
       "      <td>94172.0</td>\n",
       "      <td>144114.0</td>\n",
       "      <td>135358.0</td>\n",
       "      <td>326.0</td>\n",
       "      <td>1228.0</td>\n",
       "    </tr>\n",
       "    <tr>\n",
       "      <th>29</th>\n",
       "      <td>tn</td>\n",
       "      <td>644033.0</td>\n",
       "      <td>669014.0</td>\n",
       "      <td>619072.0</td>\n",
       "      <td>627828.0</td>\n",
       "      <td>762860.0</td>\n",
       "      <td>761958.0</td>\n",
       "    </tr>\n",
       "    <tr>\n",
       "      <th>30</th>\n",
       "      <td>fn</td>\n",
       "      <td>1053.0</td>\n",
       "      <td>846.0</td>\n",
       "      <td>1324.0</td>\n",
       "      <td>722.0</td>\n",
       "      <td>9753.0</td>\n",
       "      <td>8785.0</td>\n",
       "    </tr>\n",
       "    <tr>\n",
       "      <th>31</th>\n",
       "      <td>accuracy</td>\n",
       "      <td>0.845</td>\n",
       "      <td>0.877</td>\n",
       "      <td>0.812</td>\n",
       "      <td>0.824</td>\n",
       "      <td>0.987</td>\n",
       "      <td>0.987</td>\n",
       "    </tr>\n",
       "    <tr>\n",
       "      <th>32</th>\n",
       "      <td>precision</td>\n",
       "      <td>0.075</td>\n",
       "      <td>0.094</td>\n",
       "      <td>0.061</td>\n",
       "      <td>0.068</td>\n",
       "      <td>0.738</td>\n",
       "      <td>0.606</td>\n",
       "    </tr>\n",
       "    <tr>\n",
       "      <th>33</th>\n",
       "      <td>sensitivity</td>\n",
       "      <td>0.901</td>\n",
       "      <td>0.921</td>\n",
       "      <td>0.876</td>\n",
       "      <td>0.932</td>\n",
       "      <td>0.086</td>\n",
       "      <td>0.177</td>\n",
       "    </tr>\n",
       "    <tr>\n",
       "      <th>34</th>\n",
       "      <td>AUC</td>\n",
       "      <td>0.941</td>\n",
       "      <td>0.961</td>\n",
       "      <td>0.913</td>\n",
       "      <td>0.94</td>\n",
       "      <td>0.858</td>\n",
       "      <td>0.953</td>\n",
       "    </tr>\n",
       "  </tbody>\n",
       "</table>\n",
       "</div>"
      ],
      "text/plain": [
       "              parameters                                             linear  \\\n",
       "0          param_testing                                           baseline   \n",
       "1              data_path  deepasm/notebook/250bp_5000000rows_2022-03-17_...   \n",
       "2         nb_data_points                                            3869285   \n",
       "3         genomic_region                                                250   \n",
       "4             test_split                                                0.2   \n",
       "5              val_split                                                0.3   \n",
       "6           stop_monitor                                            val_auc   \n",
       "7         stop_restore_w                                               True   \n",
       "8                 epochs                                                100   \n",
       "9             batch_size                                               1000   \n",
       "10                  L1_R                                                  0   \n",
       "11                  L2_R                                              0.001   \n",
       "12   activation_function                                               tanh   \n",
       "13   nb_nodes_perceptron                                                 60   \n",
       "14  nb_layers_perceptron                                                  5   \n",
       "15    nb_nodes_after_cnn                                                  2   \n",
       "16           cnn_filters                                                  8   \n",
       "17            cnn_kernel                                                100   \n",
       "18             RNN_units                                                128   \n",
       "19         growing_strat                                  BEST_FIRST_GLOBAL   \n",
       "20             num_trees                                                600   \n",
       "21          min_examples                                                 10   \n",
       "22             max_depth                                                 12   \n",
       "23             subsample                                                0.5   \n",
       "24       sampling_method                                             RANDOM   \n",
       "25             nb_params                                                161   \n",
       "26                  loss                                              0.335   \n",
       "27                    tp                                             9618.0   \n",
       "28                    fp                                           119153.0   \n",
       "29                    tn                                           644033.0   \n",
       "30                    fn                                             1053.0   \n",
       "31              accuracy                                              0.845   \n",
       "32             precision                                              0.075   \n",
       "33           sensitivity                                              0.901   \n",
       "34                   AUC                                              0.941   \n",
       "\n",
       "                                           perceptron  \\\n",
       "0                                            baseline   \n",
       "1   deepasm/notebook/250bp_5000000rows_2022-03-17_...   \n",
       "2                                             3869285   \n",
       "3                                                 250   \n",
       "4                                                 0.2   \n",
       "5                                                 0.3   \n",
       "6                                             val_auc   \n",
       "7                                                True   \n",
       "8                                                 100   \n",
       "9                                                1000   \n",
       "10                                                  0   \n",
       "11                                              0.001   \n",
       "12                                               tanh   \n",
       "13                                                 60   \n",
       "14                                                  5   \n",
       "15                                                  2   \n",
       "16                                                  8   \n",
       "17                                                100   \n",
       "18                                                128   \n",
       "19                                  BEST_FIRST_GLOBAL   \n",
       "20                                                600   \n",
       "21                                                 10   \n",
       "22                                                 12   \n",
       "23                                                0.5   \n",
       "24                                             RANDOM   \n",
       "25                                              17941   \n",
       "26                                              0.264   \n",
       "27                                             9825.0   \n",
       "28                                            94172.0   \n",
       "29                                           669014.0   \n",
       "30                                              846.0   \n",
       "31                                              0.877   \n",
       "32                                              0.094   \n",
       "33                                              0.921   \n",
       "34                                              0.961   \n",
       "\n",
       "                                           simple_cnn  \\\n",
       "0                                            baseline   \n",
       "1   deepasm/notebook/250bp_5000000rows_2022-03-17_...   \n",
       "2                                             3869285   \n",
       "3                                                 250   \n",
       "4                                                 0.2   \n",
       "5                                                 0.3   \n",
       "6                                             val_auc   \n",
       "7                                                True   \n",
       "8                                                 100   \n",
       "9                                                1000   \n",
       "10                                                  0   \n",
       "11                                              0.001   \n",
       "12                                               tanh   \n",
       "13                                                 60   \n",
       "14                                                  5   \n",
       "15                                                  2   \n",
       "16                                                  8   \n",
       "17                                                100   \n",
       "18                                                128   \n",
       "19                                  BEST_FIRST_GLOBAL   \n",
       "20                                                600   \n",
       "21                                                 10   \n",
       "22                                                 12   \n",
       "23                                                0.5   \n",
       "24                                             RANDOM   \n",
       "25                                               2209   \n",
       "26                                               0.46   \n",
       "27                                             9347.0   \n",
       "28                                           144114.0   \n",
       "29                                           619072.0   \n",
       "30                                             1324.0   \n",
       "31                                              0.812   \n",
       "32                                              0.061   \n",
       "33                                              0.876   \n",
       "34                                              0.913   \n",
       "\n",
       "                                           simple_rnn  \\\n",
       "0                                            baseline   \n",
       "1   deepasm/notebook/250bp_5000000rows_2022-03-17_...   \n",
       "2                                             3869285   \n",
       "3                                                 250   \n",
       "4                                                 0.2   \n",
       "5                                                 0.3   \n",
       "6                                             val_auc   \n",
       "7                                                True   \n",
       "8                                                 100   \n",
       "9                                                1000   \n",
       "10                                                  0   \n",
       "11                                              0.001   \n",
       "12                                               tanh   \n",
       "13                                                 60   \n",
       "14                                                  5   \n",
       "15                                                  2   \n",
       "16                                                  8   \n",
       "17                                                100   \n",
       "18                                                128   \n",
       "19                                  BEST_FIRST_GLOBAL   \n",
       "20                                                600   \n",
       "21                                                 10   \n",
       "22                                                 12   \n",
       "23                                                0.5   \n",
       "24                                             RANDOM   \n",
       "25                                              67209   \n",
       "26                                              0.331   \n",
       "27                                             9949.0   \n",
       "28                                           135358.0   \n",
       "29                                           627828.0   \n",
       "30                                              722.0   \n",
       "31                                              0.824   \n",
       "32                                              0.068   \n",
       "33                                              0.932   \n",
       "34                                               0.94   \n",
       "\n",
       "                                          simple_tree  \\\n",
       "0                                            baseline   \n",
       "1   deepasm/notebook/250bp_5000000rows_2022-03-17_...   \n",
       "2                                             3869285   \n",
       "3                                                 250   \n",
       "4                                                 0.2   \n",
       "5                                                 0.3   \n",
       "6                                             val_auc   \n",
       "7                                                True   \n",
       "8                                                 100   \n",
       "9                                                1000   \n",
       "10                                                  0   \n",
       "11                                              0.001   \n",
       "12                                               tanh   \n",
       "13                                                 60   \n",
       "14                                                  5   \n",
       "15                                                  2   \n",
       "16                                                  8   \n",
       "17                                                100   \n",
       "18                                                128   \n",
       "19                                  BEST_FIRST_GLOBAL   \n",
       "20                                                600   \n",
       "21                                                 10   \n",
       "22                                                 12   \n",
       "23                                                0.5   \n",
       "24                                             RANDOM   \n",
       "25                                                  1   \n",
       "26                                                0.0   \n",
       "27                                              918.0   \n",
       "28                                              326.0   \n",
       "29                                           762860.0   \n",
       "30                                             9753.0   \n",
       "31                                              0.987   \n",
       "32                                              0.738   \n",
       "33                                              0.086   \n",
       "34                                              0.858   \n",
       "\n",
       "                                         boosted_tree  \n",
       "0                                            baseline  \n",
       "1   deepasm/notebook/250bp_5000000rows_2022-03-17_...  \n",
       "2                                             3869285  \n",
       "3                                                 250  \n",
       "4                                                 0.2  \n",
       "5                                                 0.3  \n",
       "6                                             val_auc  \n",
       "7                                                True  \n",
       "8                                                 100  \n",
       "9                                                1000  \n",
       "10                                                  0  \n",
       "11                                              0.001  \n",
       "12                                               tanh  \n",
       "13                                                 60  \n",
       "14                                                  5  \n",
       "15                                                  2  \n",
       "16                                                  8  \n",
       "17                                                100  \n",
       "18                                                128  \n",
       "19                                  BEST_FIRST_GLOBAL  \n",
       "20                                                600  \n",
       "21                                                 10  \n",
       "22                                                 12  \n",
       "23                                                0.5  \n",
       "24                                             RANDOM  \n",
       "25                                                  1  \n",
       "26                                                0.0  \n",
       "27                                             1886.0  \n",
       "28                                             1228.0  \n",
       "29                                           761958.0  \n",
       "30                                             8785.0  \n",
       "31                                              0.987  \n",
       "32                                              0.606  \n",
       "33                                              0.177  \n",
       "34                                              0.953  "
      ]
     },
     "execution_count": 52,
     "metadata": {},
     "output_type": "execute_result"
    }
   ],
   "source": [
    "for model in models:\n",
    "  print(\"model:\", model) \n",
    "  name_results = model + \"_results\"\n",
    "  name_model = model + \"_model\"\n",
    "\n",
    "  command_nb_params = \"nb_params = \" + name_model + \".count_params()\"\n",
    "  exec(command_nb_params)\n",
    "\n",
    "  # Parameters common to all models\n",
    "  common_param = pd.DataFrame([\n",
    "     PARAM_TO_CHANGE,\n",
    "     PROCESSED_DATA_PATH,\n",
    "     normalized_df.shape[0],\n",
    "     GENOMIC_INTERVAL,\n",
    "      TEST_SPLIT,\n",
    "     VALIDATION_SPLIT,\n",
    "     EARLY_STOPPING.monitor,\n",
    "     EARLY_STOPPING.restore_best_weights,\n",
    "     EPOCHS,\n",
    "     BATCH_SIZE,\n",
    "     L1_R,\n",
    "     L2_R,\n",
    "     ACTIVATION_FUNCTION,\n",
    "     NB_NODES_PERCEPTRON,\n",
    "     NB_LAYERS_PERCEPTRON,\n",
    "     NB_NODES_AFTER_CNN,\n",
    "     CNN_FILTERS,\n",
    "     CNN_KERNEL,\n",
    "     RNN_UNITS,\n",
    "     GROWING_STRATEGY,\n",
    "     NUM_TREES,\n",
    "     MIN_EXAMPLES,\n",
    "     MAX_DEPTH,\n",
    "     SUBSAMPLE,\n",
    "     SAMPLING_METHOD,\n",
    "     nb_params])\n",
    "\n",
    "  # Create dataframe from the model results\n",
    "  if \"tree\" in model:\n",
    "      #print(\"Found a tree\")\n",
    "      command_df_new_results = \"tmp = pd.DataFrame(np.round(list(\" + name_results + \".values()), 3))\"\n",
    "  else:\n",
    "      #print(\"Not a tree\")\n",
    "      command_df_new_results = \"tmp = pd.DataFrame(np.round(\" + name_results + \", 3))\"\n",
    "  exec(command_df_new_results)\n",
    "  #print(tmp)\n",
    "\n",
    "  # Append the two dataframes\n",
    "  new_column = common_param.append(tmp, ignore_index = True)\n",
    "\n",
    "  # Rename the dataframe\n",
    "  new_column.columns = [model]\n",
    "  #print(new_column)\n",
    "\n",
    "  # Add the results to the dataframe of results\n",
    "  model_results = model_results.merge(new_column, left_index = True, right_index = True)\n",
    " \n",
    "model_results"
   ]
  },
  {
   "cell_type": "code",
   "execution_count": 53,
   "id": "0818d9d3-5ac2-4b14-94ea-7c786eb0c828",
   "metadata": {},
   "outputs": [],
   "source": [
    "model_results.to_csv('model_results.csv', index=False)"
   ]
  },
  {
   "cell_type": "code",
   "execution_count": 53,
   "id": "da651f4c-53ed-4576-a78a-81a7d2cbbcdc",
   "metadata": {},
   "outputs": [
    {
     "data": {
      "text/plain": [
       "1"
      ]
     },
     "execution_count": 53,
     "metadata": {},
     "output_type": "execute_result"
    }
   ],
   "source": [
    "simple_tree_model.count_params()"
   ]
  },
  {
   "cell_type": "code",
   "execution_count": 57,
   "id": "faa8381b-990e-4332-8a2b-bd331684fca0",
   "metadata": {},
   "outputs": [
    {
     "data": {
      "text/plain": [
       "[0.349692165851593,\n",
       " 1208.0,\n",
       " 15611.0,\n",
       " 79670.0,\n",
       " 130.0,\n",
       " 0.8370817303657532,\n",
       " 0.07182352989912033,\n",
       " 0.9028400778770447,\n",
       " 0.9380250573158264]"
      ]
     },
     "execution_count": 57,
     "metadata": {},
     "output_type": "execute_result"
    }
   ],
   "source": [
    "linear_results"
   ]
  },
  {
   "cell_type": "code",
   "execution_count": 59,
   "id": "feb47ebb-0f73-4a33-8dff-59cd994615df",
   "metadata": {},
   "outputs": [
    {
     "data": {
      "text/plain": [
       "[0.0,\n",
       " 93.0,\n",
       " 30.0,\n",
       " 95251.0,\n",
       " 1245.0,\n",
       " 0.9868038296699524,\n",
       " 0.7560975551605225,\n",
       " 0.06950672715902328,\n",
       " 0.9194270372390747]"
      ]
     },
     "execution_count": 59,
     "metadata": {},
     "output_type": "execute_result"
    }
   ],
   "source": [
    "list(simple_tree_results.values())"
   ]
  },
  {
   "cell_type": "code",
   "execution_count": 56,
   "id": "5d1c2e7a-7402-49fa-9b24-d94cc5d680a2",
   "metadata": {},
   "outputs": [
    {
     "ename": "TypeError",
     "evalue": "unsupported operand type(s) for *: 'dict' and 'float'",
     "output_type": "error",
     "traceback": [
      "\u001b[0;31m---------------------------------------------------------------------------\u001b[0m",
      "\u001b[0;31mTypeError\u001b[0m                                 Traceback (most recent call last)",
      "\u001b[0;32m/tmp/ipykernel_24988/2805384635.py\u001b[0m in \u001b[0;36m<module>\u001b[0;34m\u001b[0m\n\u001b[0;32m----> 1\u001b[0;31m \u001b[0mtmp\u001b[0m \u001b[0;34m=\u001b[0m \u001b[0mpd\u001b[0m\u001b[0;34m.\u001b[0m\u001b[0mDataFrame\u001b[0m\u001b[0;34m(\u001b[0m\u001b[0mnp\u001b[0m\u001b[0;34m.\u001b[0m\u001b[0mround\u001b[0m\u001b[0;34m(\u001b[0m\u001b[0msimple_tree_results\u001b[0m\u001b[0;34m,\u001b[0m \u001b[0;36m3\u001b[0m\u001b[0;34m)\u001b[0m\u001b[0;34m)\u001b[0m\u001b[0;34m\u001b[0m\u001b[0;34m\u001b[0m\u001b[0m\n\u001b[0m",
      "\u001b[0;32m<__array_function__ internals>\u001b[0m in \u001b[0;36mround_\u001b[0;34m(*args, **kwargs)\u001b[0m\n",
      "\u001b[0;32m/opt/conda/lib/python3.7/site-packages/numpy/core/fromnumeric.py\u001b[0m in \u001b[0;36mround_\u001b[0;34m(a, decimals, out)\u001b[0m\n\u001b[1;32m   3737\u001b[0m     \u001b[0maround\u001b[0m \u001b[0;34m:\u001b[0m \u001b[0mequivalent\u001b[0m \u001b[0mfunction\u001b[0m\u001b[0;34m;\u001b[0m \u001b[0msee\u001b[0m \u001b[0;32mfor\u001b[0m \u001b[0mdetails\u001b[0m\u001b[0;34m.\u001b[0m\u001b[0;34m\u001b[0m\u001b[0;34m\u001b[0m\u001b[0m\n\u001b[1;32m   3738\u001b[0m     \"\"\"\n\u001b[0;32m-> 3739\u001b[0;31m     \u001b[0;32mreturn\u001b[0m \u001b[0maround\u001b[0m\u001b[0;34m(\u001b[0m\u001b[0ma\u001b[0m\u001b[0;34m,\u001b[0m \u001b[0mdecimals\u001b[0m\u001b[0;34m=\u001b[0m\u001b[0mdecimals\u001b[0m\u001b[0;34m,\u001b[0m \u001b[0mout\u001b[0m\u001b[0;34m=\u001b[0m\u001b[0mout\u001b[0m\u001b[0;34m)\u001b[0m\u001b[0;34m\u001b[0m\u001b[0;34m\u001b[0m\u001b[0m\n\u001b[0m\u001b[1;32m   3740\u001b[0m \u001b[0;34m\u001b[0m\u001b[0m\n\u001b[1;32m   3741\u001b[0m \u001b[0;34m\u001b[0m\u001b[0m\n",
      "\u001b[0;32m<__array_function__ internals>\u001b[0m in \u001b[0;36maround\u001b[0;34m(*args, **kwargs)\u001b[0m\n",
      "\u001b[0;32m/opt/conda/lib/python3.7/site-packages/numpy/core/fromnumeric.py\u001b[0m in \u001b[0;36maround\u001b[0;34m(a, decimals, out)\u001b[0m\n\u001b[1;32m   3312\u001b[0m \u001b[0;34m\u001b[0m\u001b[0m\n\u001b[1;32m   3313\u001b[0m     \"\"\"\n\u001b[0;32m-> 3314\u001b[0;31m     \u001b[0;32mreturn\u001b[0m \u001b[0m_wrapfunc\u001b[0m\u001b[0;34m(\u001b[0m\u001b[0ma\u001b[0m\u001b[0;34m,\u001b[0m \u001b[0;34m'round'\u001b[0m\u001b[0;34m,\u001b[0m \u001b[0mdecimals\u001b[0m\u001b[0;34m=\u001b[0m\u001b[0mdecimals\u001b[0m\u001b[0;34m,\u001b[0m \u001b[0mout\u001b[0m\u001b[0;34m=\u001b[0m\u001b[0mout\u001b[0m\u001b[0;34m)\u001b[0m\u001b[0;34m\u001b[0m\u001b[0;34m\u001b[0m\u001b[0m\n\u001b[0m\u001b[1;32m   3315\u001b[0m \u001b[0;34m\u001b[0m\u001b[0m\n\u001b[1;32m   3316\u001b[0m \u001b[0;34m\u001b[0m\u001b[0m\n",
      "\u001b[0;32m/opt/conda/lib/python3.7/site-packages/numpy/core/fromnumeric.py\u001b[0m in \u001b[0;36m_wrapfunc\u001b[0;34m(obj, method, *args, **kwds)\u001b[0m\n\u001b[1;32m     52\u001b[0m     \u001b[0mbound\u001b[0m \u001b[0;34m=\u001b[0m \u001b[0mgetattr\u001b[0m\u001b[0;34m(\u001b[0m\u001b[0mobj\u001b[0m\u001b[0;34m,\u001b[0m \u001b[0mmethod\u001b[0m\u001b[0;34m,\u001b[0m \u001b[0;32mNone\u001b[0m\u001b[0;34m)\u001b[0m\u001b[0;34m\u001b[0m\u001b[0;34m\u001b[0m\u001b[0m\n\u001b[1;32m     53\u001b[0m     \u001b[0;32mif\u001b[0m \u001b[0mbound\u001b[0m \u001b[0;32mis\u001b[0m \u001b[0;32mNone\u001b[0m\u001b[0;34m:\u001b[0m\u001b[0;34m\u001b[0m\u001b[0;34m\u001b[0m\u001b[0m\n\u001b[0;32m---> 54\u001b[0;31m         \u001b[0;32mreturn\u001b[0m \u001b[0m_wrapit\u001b[0m\u001b[0;34m(\u001b[0m\u001b[0mobj\u001b[0m\u001b[0;34m,\u001b[0m \u001b[0mmethod\u001b[0m\u001b[0;34m,\u001b[0m \u001b[0;34m*\u001b[0m\u001b[0margs\u001b[0m\u001b[0;34m,\u001b[0m \u001b[0;34m**\u001b[0m\u001b[0mkwds\u001b[0m\u001b[0;34m)\u001b[0m\u001b[0;34m\u001b[0m\u001b[0;34m\u001b[0m\u001b[0m\n\u001b[0m\u001b[1;32m     55\u001b[0m \u001b[0;34m\u001b[0m\u001b[0m\n\u001b[1;32m     56\u001b[0m     \u001b[0;32mtry\u001b[0m\u001b[0;34m:\u001b[0m\u001b[0;34m\u001b[0m\u001b[0;34m\u001b[0m\u001b[0m\n",
      "\u001b[0;32m/opt/conda/lib/python3.7/site-packages/numpy/core/fromnumeric.py\u001b[0m in \u001b[0;36m_wrapit\u001b[0;34m(obj, method, *args, **kwds)\u001b[0m\n\u001b[1;32m     41\u001b[0m     \u001b[0;32mexcept\u001b[0m \u001b[0mAttributeError\u001b[0m\u001b[0;34m:\u001b[0m\u001b[0;34m\u001b[0m\u001b[0;34m\u001b[0m\u001b[0m\n\u001b[1;32m     42\u001b[0m         \u001b[0mwrap\u001b[0m \u001b[0;34m=\u001b[0m \u001b[0;32mNone\u001b[0m\u001b[0;34m\u001b[0m\u001b[0;34m\u001b[0m\u001b[0m\n\u001b[0;32m---> 43\u001b[0;31m     \u001b[0mresult\u001b[0m \u001b[0;34m=\u001b[0m \u001b[0mgetattr\u001b[0m\u001b[0;34m(\u001b[0m\u001b[0masarray\u001b[0m\u001b[0;34m(\u001b[0m\u001b[0mobj\u001b[0m\u001b[0;34m)\u001b[0m\u001b[0;34m,\u001b[0m \u001b[0mmethod\u001b[0m\u001b[0;34m)\u001b[0m\u001b[0;34m(\u001b[0m\u001b[0;34m*\u001b[0m\u001b[0margs\u001b[0m\u001b[0;34m,\u001b[0m \u001b[0;34m**\u001b[0m\u001b[0mkwds\u001b[0m\u001b[0;34m)\u001b[0m\u001b[0;34m\u001b[0m\u001b[0;34m\u001b[0m\u001b[0m\n\u001b[0m\u001b[1;32m     44\u001b[0m     \u001b[0;32mif\u001b[0m \u001b[0mwrap\u001b[0m\u001b[0;34m:\u001b[0m\u001b[0;34m\u001b[0m\u001b[0;34m\u001b[0m\u001b[0m\n\u001b[1;32m     45\u001b[0m         \u001b[0;32mif\u001b[0m \u001b[0;32mnot\u001b[0m \u001b[0misinstance\u001b[0m\u001b[0;34m(\u001b[0m\u001b[0mresult\u001b[0m\u001b[0;34m,\u001b[0m \u001b[0mmu\u001b[0m\u001b[0;34m.\u001b[0m\u001b[0mndarray\u001b[0m\u001b[0;34m)\u001b[0m\u001b[0;34m:\u001b[0m\u001b[0;34m\u001b[0m\u001b[0;34m\u001b[0m\u001b[0m\n",
      "\u001b[0;31mTypeError\u001b[0m: unsupported operand type(s) for *: 'dict' and 'float'"
     ]
    }
   ],
   "source": [
    "tmp = pd.DataFrame(np.round(simple_tree_results, 3))"
   ]
  },
  {
   "cell_type": "code",
   "execution_count": null,
   "id": "087e1f0f-990f-4203-be19-ee8f96730c8f",
   "metadata": {},
   "outputs": [],
   "source": []
  }
 ],
 "metadata": {
  "environment": {
   "kernel": "python3",
   "name": "tf2-gpu.2-7.m87",
   "type": "gcloud",
   "uri": "gcr.io/deeplearning-platform-release/tf2-gpu.2-7:m87"
  },
  "kernelspec": {
   "display_name": "Python 3",
   "language": "python",
   "name": "python3"
  },
  "language_info": {
   "codemirror_mode": {
    "name": "ipython",
    "version": 3
   },
   "file_extension": ".py",
   "mimetype": "text/x-python",
   "name": "python",
   "nbconvert_exporter": "python",
   "pygments_lexer": "ipython3",
   "version": "3.7.12"
  },
  "toc-autonumbering": false,
  "toc-showcode": false,
  "toc-showmarkdowntxt": false
 },
 "nbformat": 4,
 "nbformat_minor": 5
}
