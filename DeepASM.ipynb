{
 "cells": [
  {
   "cell_type": "markdown",
   "id": "a71a3685-b41b-4dd7-8987-fb26729209a6",
   "metadata": {},
   "source": [
    "# DeepASM"
   ]
  },
  {
   "cell_type": "markdown",
   "id": "30ca0fb9-e45a-4d26-be20-575214beec95",
   "metadata": {
    "jp-MarkdownHeadingCollapsed": true,
    "tags": []
   },
   "source": [
    "## Install packages"
   ]
  },
  {
   "cell_type": "code",
   "execution_count": 237,
   "id": "7aa06369-0a4f-4120-8b0f-a4dfcb5e7627",
   "metadata": {},
   "outputs": [
    {
     "name": "stdout",
     "output_type": "stream",
     "text": [
      "Requirement already satisfied: tables in /opt/conda/lib/python3.7/site-packages (3.7.0)\n",
      "Requirement already satisfied: packaging in /opt/conda/lib/python3.7/site-packages (from tables) (21.3)\n",
      "Requirement already satisfied: numexpr>=2.6.2 in /opt/conda/lib/python3.7/site-packages (from tables) (2.8.1)\n",
      "Requirement already satisfied: numpy>=1.19.0 in /opt/conda/lib/python3.7/site-packages (from tables) (1.21.5)\n",
      "Requirement already satisfied: pyparsing!=3.0.5,>=2.0.2 in /opt/conda/lib/python3.7/site-packages (from packaging->tables) (3.0.6)\n",
      "Collecting tensorflow_decision_forests==0.2.2\n",
      "  Downloading tensorflow_decision_forests-0.2.2-cp37-cp37m-manylinux_2_12_x86_64.manylinux2010_x86_64.whl (17.7 MB)\n",
      "     |████████████████████████████████| 17.7 MB 4.4 MB/s            \n",
      "\u001b[?25hRequirement already satisfied: tensorflow~=2.7.0 in /opt/conda/lib/python3.7/site-packages (from tensorflow_decision_forests==0.2.2) (2.7.0)\n",
      "Requirement already satisfied: absl-py in /opt/conda/lib/python3.7/site-packages (from tensorflow_decision_forests==0.2.2) (1.0.0)\n",
      "Requirement already satisfied: pandas in /opt/conda/lib/python3.7/site-packages (from tensorflow_decision_forests==0.2.2) (1.3.5)\n",
      "Requirement already satisfied: numpy in /opt/conda/lib/python3.7/site-packages (from tensorflow_decision_forests==0.2.2) (1.21.5)\n",
      "Requirement already satisfied: wheel in /opt/conda/lib/python3.7/site-packages (from tensorflow_decision_forests==0.2.2) (0.37.0)\n",
      "Requirement already satisfied: six in /opt/conda/lib/python3.7/site-packages (from tensorflow_decision_forests==0.2.2) (1.16.0)\n",
      "Collecting wurlitzer\n",
      "  Using cached wurlitzer-3.0.2-py3-none-any.whl (7.3 kB)\n",
      "Requirement already satisfied: h5py>=2.9.0 in /opt/conda/lib/python3.7/site-packages (from tensorflow~=2.7.0->tensorflow_decision_forests==0.2.2) (3.6.0)\n",
      "Requirement already satisfied: tensorboard~=2.6 in /opt/conda/lib/python3.7/site-packages (from tensorflow~=2.7.0->tensorflow_decision_forests==0.2.2) (2.7.0)\n",
      "Requirement already satisfied: tensorflow-estimator<2.8,~=2.7.0rc0 in /opt/conda/lib/python3.7/site-packages (from tensorflow~=2.7.0->tensorflow_decision_forests==0.2.2) (2.7.0)\n",
      "Requirement already satisfied: keras-preprocessing>=1.1.1 in /opt/conda/lib/python3.7/site-packages (from tensorflow~=2.7.0->tensorflow_decision_forests==0.2.2) (1.1.2)\n",
      "Requirement already satisfied: termcolor>=1.1.0 in /opt/conda/lib/python3.7/site-packages (from tensorflow~=2.7.0->tensorflow_decision_forests==0.2.2) (1.1.0)\n",
      "Requirement already satisfied: wrapt>=1.11.0 in /opt/conda/lib/python3.7/site-packages (from tensorflow~=2.7.0->tensorflow_decision_forests==0.2.2) (1.13.3)\n",
      "Requirement already satisfied: flatbuffers<3.0,>=1.12 in /opt/conda/lib/python3.7/site-packages (from tensorflow~=2.7.0->tensorflow_decision_forests==0.2.2) (2.0)\n",
      "Requirement already satisfied: gast<0.5.0,>=0.2.1 in /opt/conda/lib/python3.7/site-packages (from tensorflow~=2.7.0->tensorflow_decision_forests==0.2.2) (0.4.0)\n",
      "Requirement already satisfied: grpcio<2.0,>=1.24.3 in /opt/conda/lib/python3.7/site-packages (from tensorflow~=2.7.0->tensorflow_decision_forests==0.2.2) (1.43.0)\n",
      "Requirement already satisfied: tensorflow-io-gcs-filesystem>=0.21.0 in /opt/conda/lib/python3.7/site-packages (from tensorflow~=2.7.0->tensorflow_decision_forests==0.2.2) (0.23.1)\n",
      "Requirement already satisfied: libclang>=9.0.1 in /opt/conda/lib/python3.7/site-packages (from tensorflow~=2.7.0->tensorflow_decision_forests==0.2.2) (12.0.0)\n",
      "Requirement already satisfied: keras<2.8,>=2.7.0rc0 in /opt/conda/lib/python3.7/site-packages (from tensorflow~=2.7.0->tensorflow_decision_forests==0.2.2) (2.7.0)\n",
      "Requirement already satisfied: google-pasta>=0.1.1 in /opt/conda/lib/python3.7/site-packages (from tensorflow~=2.7.0->tensorflow_decision_forests==0.2.2) (0.2.0)\n",
      "Requirement already satisfied: protobuf>=3.9.2 in /opt/conda/lib/python3.7/site-packages (from tensorflow~=2.7.0->tensorflow_decision_forests==0.2.2) (3.19.1)\n",
      "Requirement already satisfied: typing-extensions>=3.6.6 in /opt/conda/lib/python3.7/site-packages (from tensorflow~=2.7.0->tensorflow_decision_forests==0.2.2) (4.0.1)\n",
      "Requirement already satisfied: opt-einsum>=2.3.2 in /opt/conda/lib/python3.7/site-packages (from tensorflow~=2.7.0->tensorflow_decision_forests==0.2.2) (3.3.0)\n",
      "Requirement already satisfied: astunparse>=1.6.0 in /opt/conda/lib/python3.7/site-packages (from tensorflow~=2.7.0->tensorflow_decision_forests==0.2.2) (1.6.3)\n",
      "Requirement already satisfied: python-dateutil>=2.7.3 in /opt/conda/lib/python3.7/site-packages (from pandas->tensorflow_decision_forests==0.2.2) (2.8.2)\n",
      "Requirement already satisfied: pytz>=2017.3 in /opt/conda/lib/python3.7/site-packages (from pandas->tensorflow_decision_forests==0.2.2) (2021.3)\n",
      "Requirement already satisfied: cached-property in /opt/conda/lib/python3.7/site-packages (from h5py>=2.9.0->tensorflow~=2.7.0->tensorflow_decision_forests==0.2.2) (1.5.2)\n",
      "Requirement already satisfied: werkzeug>=0.11.15 in /opt/conda/lib/python3.7/site-packages (from tensorboard~=2.6->tensorflow~=2.7.0->tensorflow_decision_forests==0.2.2) (2.0.2)\n",
      "Requirement already satisfied: tensorboard-plugin-wit>=1.6.0 in /opt/conda/lib/python3.7/site-packages (from tensorboard~=2.6->tensorflow~=2.7.0->tensorflow_decision_forests==0.2.2) (1.8.0)\n",
      "Requirement already satisfied: google-auth<3,>=1.6.3 in /opt/conda/lib/python3.7/site-packages (from tensorboard~=2.6->tensorflow~=2.7.0->tensorflow_decision_forests==0.2.2) (2.3.3)\n",
      "Requirement already satisfied: google-auth-oauthlib<0.5,>=0.4.1 in /opt/conda/lib/python3.7/site-packages (from tensorboard~=2.6->tensorflow~=2.7.0->tensorflow_decision_forests==0.2.2) (0.4.6)\n",
      "Requirement already satisfied: setuptools>=41.0.0 in /opt/conda/lib/python3.7/site-packages (from tensorboard~=2.6->tensorflow~=2.7.0->tensorflow_decision_forests==0.2.2) (59.6.0)\n",
      "Requirement already satisfied: tensorboard-data-server<0.7.0,>=0.6.0 in /opt/conda/lib/python3.7/site-packages (from tensorboard~=2.6->tensorflow~=2.7.0->tensorflow_decision_forests==0.2.2) (0.6.1)\n",
      "Requirement already satisfied: markdown>=2.6.8 in /opt/conda/lib/python3.7/site-packages (from tensorboard~=2.6->tensorflow~=2.7.0->tensorflow_decision_forests==0.2.2) (3.3.6)\n",
      "Requirement already satisfied: requests<3,>=2.21.0 in /opt/conda/lib/python3.7/site-packages (from tensorboard~=2.6->tensorflow~=2.7.0->tensorflow_decision_forests==0.2.2) (2.26.0)\n",
      "Requirement already satisfied: rsa<5,>=3.1.4 in /opt/conda/lib/python3.7/site-packages (from google-auth<3,>=1.6.3->tensorboard~=2.6->tensorflow~=2.7.0->tensorflow_decision_forests==0.2.2) (4.8)\n",
      "Requirement already satisfied: cachetools<5.0,>=2.0.0 in /opt/conda/lib/python3.7/site-packages (from google-auth<3,>=1.6.3->tensorboard~=2.6->tensorflow~=2.7.0->tensorflow_decision_forests==0.2.2) (4.2.4)\n",
      "Requirement already satisfied: pyasn1-modules>=0.2.1 in /opt/conda/lib/python3.7/site-packages (from google-auth<3,>=1.6.3->tensorboard~=2.6->tensorflow~=2.7.0->tensorflow_decision_forests==0.2.2) (0.2.7)\n",
      "Requirement already satisfied: requests-oauthlib>=0.7.0 in /opt/conda/lib/python3.7/site-packages (from google-auth-oauthlib<0.5,>=0.4.1->tensorboard~=2.6->tensorflow~=2.7.0->tensorflow_decision_forests==0.2.2) (1.3.0)\n",
      "Requirement already satisfied: importlib-metadata>=4.4 in /opt/conda/lib/python3.7/site-packages (from markdown>=2.6.8->tensorboard~=2.6->tensorflow~=2.7.0->tensorflow_decision_forests==0.2.2) (4.9.0)\n",
      "Requirement already satisfied: charset-normalizer~=2.0.0 in /opt/conda/lib/python3.7/site-packages (from requests<3,>=2.21.0->tensorboard~=2.6->tensorflow~=2.7.0->tensorflow_decision_forests==0.2.2) (2.0.9)\n",
      "Requirement already satisfied: urllib3<1.27,>=1.21.1 in /opt/conda/lib/python3.7/site-packages (from requests<3,>=2.21.0->tensorboard~=2.6->tensorflow~=2.7.0->tensorflow_decision_forests==0.2.2) (1.26.7)\n",
      "Requirement already satisfied: idna<4,>=2.5 in /opt/conda/lib/python3.7/site-packages (from requests<3,>=2.21.0->tensorboard~=2.6->tensorflow~=2.7.0->tensorflow_decision_forests==0.2.2) (3.1)\n",
      "Requirement already satisfied: certifi>=2017.4.17 in /opt/conda/lib/python3.7/site-packages (from requests<3,>=2.21.0->tensorboard~=2.6->tensorflow~=2.7.0->tensorflow_decision_forests==0.2.2) (2021.10.8)\n",
      "Requirement already satisfied: zipp>=0.5 in /opt/conda/lib/python3.7/site-packages (from importlib-metadata>=4.4->markdown>=2.6.8->tensorboard~=2.6->tensorflow~=2.7.0->tensorflow_decision_forests==0.2.2) (3.6.0)\n",
      "Requirement already satisfied: pyasn1<0.5.0,>=0.4.6 in /opt/conda/lib/python3.7/site-packages (from pyasn1-modules>=0.2.1->google-auth<3,>=1.6.3->tensorboard~=2.6->tensorflow~=2.7.0->tensorflow_decision_forests==0.2.2) (0.4.8)\n",
      "Requirement already satisfied: oauthlib>=3.0.0 in /opt/conda/lib/python3.7/site-packages (from requests-oauthlib>=0.7.0->google-auth-oauthlib<0.5,>=0.4.1->tensorboard~=2.6->tensorflow~=2.7.0->tensorflow_decision_forests==0.2.2) (3.1.1)\n",
      "Installing collected packages: wurlitzer, tensorflow-decision-forests\n",
      "Successfully installed tensorflow-decision-forests-0.2.2 wurlitzer-3.0.2\n"
     ]
    }
   ],
   "source": [
    "# To manipulate HDF5 files (RUN FOR ALL MODELS)\n",
    "!pip3 install --upgrade tables\n",
    "\n",
    "# Install Decision Forest models\n",
    "!pip3 install tensorflow_decision_forests==0.2.2\n"
   ]
  },
  {
   "cell_type": "markdown",
   "id": "08ecb353-258f-451d-8c2a-2488137356b1",
   "metadata": {
    "tags": []
   },
   "source": [
    "## Import packages"
   ]
  },
  {
   "cell_type": "code",
   "execution_count": 1,
   "id": "9eb55e93-2391-4791-bca2-a69b4ec7a4be",
   "metadata": {},
   "outputs": [
    {
     "name": "stderr",
     "output_type": "stream",
     "text": [
      "WARNING:root:TF Parameter Server distributed training not available (this is expected for the pre-build release).\n"
     ]
    }
   ],
   "source": [
    "import sys\n",
    "\n",
    "# Python packages for data, stats, and visualization\n",
    "from matplotlib import pyplot as plt\n",
    "import matplotlib as mpl\n",
    "import numpy as np\n",
    "import pandas as pd\n",
    "import seaborn as sns \n",
    "\n",
    "# Machine learning libraries\n",
    "from sklearn.preprocessing import LabelEncoder, OneHotEncoder, StandardScaler\n",
    "import tensorflow as tf\n",
    "from tensorflow import keras\n",
    "#from tensorflow.keras.models import load_model\n",
    "from tensorflow.keras import layers\n",
    "import sklearn\n",
    "from sklearn import metrics\n",
    "from sklearn.metrics import confusion_matrix\n",
    "from sklearn.model_selection import train_test_split\n",
    "\n",
    "# Kernel functions\n",
    "from sklearn.neighbors import KernelDensity\n",
    "from numpy import asarray\n",
    "from matplotlib import pyplot\n",
    "from numpy import exp\n",
    "\n",
    "# Dimensionality reduction\n",
    "from sklearn.decomposition import PCA, KernelPCA, NMF, TruncatedSVD\n",
    "from sklearn.manifold import TSNE, LocallyLinearEmbedding, SpectralEmbedding\n",
    "\n",
    "# To get the time\n",
    "from datetime import datetime\n",
    "\n",
    "# To write on the same line\n",
    "from IPython.display import clear_output\n",
    "\n",
    "# Decision tree algorithms\n",
    "import tensorflow_decision_forests as tfdf\n",
    " \n",
    "# Figure parameters\n",
    "mpl.rcParams['figure.figsize'] = (10, 10)\n",
    "mpl.rcParams['axes.titlesize'] = 15\n",
    "mpl.rcParams['axes.labelsize'] = 12\n",
    "mpl.rcParams['xtick.labelsize'] = 12\n",
    "mpl.rcParams['ytick.labelsize'] = 12\n",
    "colors = plt.rcParams['axes.prop_cycle'].by_key()['color']"
   ]
  },
  {
   "cell_type": "code",
   "execution_count": 2,
   "id": "683ebf71-130f-4ea0-8eaa-c27478ebb990",
   "metadata": {},
   "outputs": [
    {
     "name": "stdout",
     "output_type": "stream",
     "text": [
      "3.7.12 | packaged by conda-forge | (default, Oct 26 2021, 06:08:53) \n",
      "[GCC 9.4.0]\n",
      "TensorFlow version: 2.7.0\n",
      "Keras version: 2.7.0\n",
      "Numpy version: 1.21.5\n",
      "Num GPUs Available:  1\n"
     ]
    }
   ],
   "source": [
    "# Print different versions\n",
    "print(sys.version)\n",
    "print(\"TensorFlow version:\", tf.__version__)\n",
    "print(\"Keras version:\", keras.__version__)\n",
    "print(\"Numpy version:\", np.__version__)\n",
    "print(\"Num GPUs Available: \", len(tf.config.list_physical_devices('GPU')))"
   ]
  },
  {
   "cell_type": "markdown",
   "id": "abddb628-6484-4f52-9386-ced2fb0f456a",
   "metadata": {},
   "source": [
    "## GCP Variables"
   ]
  },
  {
   "cell_type": "code",
   "execution_count": 3,
   "id": "2cb33deb-7b19-4795-acd3-4511eb464de1",
   "metadata": {},
   "outputs": [],
   "source": [
    "# Import raw data from bucket. False if you want to import the processed dataset\n",
    "IMPORT_RAW_FROM_BUCKET = True\n",
    "\n",
    "# Export data after it's been prepared\n",
    "EXPORT_PROCESSED_DATA = True\n",
    "\n",
    "# Import data after its features have been prepared\n",
    "IMPORT_PROCESSED_DATA = False\n",
    "PROCESSED_DATA_PATH = \"deepasm/notebook/250bp_500000rows_2022-03-15_16-04-20\"\n",
    "\n",
    "# Bucket name where the training datasets are\n",
    "DEEPASM_BUCKET=\"deepasm\"\n"
   ]
  },
  {
   "cell_type": "markdown",
   "id": "55dbab41-0938-4ddf-83b3-f216430ac6de",
   "metadata": {},
   "source": [
    "## Dataset used for training"
   ]
  },
  {
   "cell_type": "code",
   "execution_count": 4,
   "id": "25c6a036-22a5-46ae-8095-25b43b70696d",
   "metadata": {},
   "outputs": [],
   "source": [
    "# Run the training on a small sample size (50k)\n",
    "TEST_RUN = False\n",
    "\n",
    "# Size of the genomic window (250bp, 500bp, 1000bp)\n",
    "GENOMIC_INTERVAL = 250\n",
    "\n",
    "# Number of rows to take into the dataset after import\n",
    "if TEST_RUN == True:\n",
    "    NB_ROWS_RAW_DATASET = int(500000) # The maximum is 5e6. We use 200k to test the code\n",
    "else:\n",
    "    NB_ROWS_RAW_DATASET = int(5e6) "
   ]
  },
  {
   "cell_type": "markdown",
   "id": "abb144c7-b3d9-4ca7-836b-027939589d48",
   "metadata": {},
   "source": [
    "## Model variables"
   ]
  },
  {
   "cell_type": "code",
   "execution_count": 5,
   "id": "d49f672e-93d9-485a-9914-010650158ce0",
   "metadata": {},
   "outputs": [],
   "source": [
    "#--------------------------------------------------\n",
    "# Gradient-Boosted algorithms\n",
    "\n",
    "GROWING_STRATEGY = \"BEST_FIRST_GLOBAL\"  # LOCAL (default). or BEST_FIRST_GLOBAL is the default\n",
    "NUM_TREES = 600 # Maxmimum number of decision trees. (default 300)\n",
    "MIN_EXAMPLES = 10 # Minimum number of examples in a node (default: 5)\n",
    "MAX_DEPTH = 12 # Maximum depth of the tree (default 6)\n",
    "SUBSAMPLE = 0.5 # Ratio of the dataset (sampling without replacement) used to train individual trees for the random sampling method (Default 1)\n",
    "SAMPLING_METHOD = \"RANDOM\"\n",
    "\n",
    "#--------------------------------------------------\n",
    "# Parameters common to all models\n",
    "\n",
    "# Minimum correlation factor. Under that, remove features\n",
    "MIN_CORR = 0.05\n",
    "\n",
    "# Kernel values for probability estimates\n",
    "KERNEL_FM_NB_VALUES = 10\n",
    "KERNEL_FM_BANDWIDTH = 0.1\n",
    "KERNEL_COV_NB_MAX = 200\n",
    "KERNEL_COV_NB_STEP = 40\n",
    "KERNEL_COV_BANDWIDTH = 20\n",
    "\n",
    "# Early stopping\n",
    "EARLY_STOPPING = tf.keras.callbacks.EarlyStopping(\n",
    "    monitor='val_auc', \n",
    "    verbose=0,\n",
    "    patience=10,\n",
    "    mode='auto',\n",
    "    restore_best_weights=True)\n",
    "\n",
    "# Percentage of data points to be used in the Test dataset\n",
    "TEST_SPLIT = 0.2\n",
    "\n",
    "# Percentage of datapoints used between training and validation\n",
    "VALIDATION_SPLIT = 0.3 # How to divide the training dataset for validation\n",
    "\n",
    "EPOCHS = 100 # We have so many datapoints that 20 epochs are enough to stabilize the training\n",
    "BATCH_SIZE = 1000 # to get a few identified ASM we need at a few hundreds since the\n",
    "# frequency of ASM is 1.38%\n",
    "# A batch size of 1000 will run into a memory error on TF 2.7\n",
    "\n",
    "# Regularlization L1 and L2 (defaults are l1 = 0.01 and l2 = 0.01)\n",
    "L1_R = 0\n",
    "L2_R = 1e-3\n",
    "\n",
    "#--------------------------------------------------\n",
    "# Parameters common to neural network models\n",
    "ACTIVATION_FUNCTION = 'tanh' # 'tanh' # or 'relu' or 'gelu (Gaussian Error Linear Unit)'\n",
    "NB_NODES_PERCEPTRON = 60\n",
    "NB_LAYERS_PERCEPTRON = 5\n",
    "NB_NODES_AFTER_CNN = 2\n",
    "\n",
    "# CNN parameters\n",
    "CNN_FILTERS = 8\n",
    "CNN_KERNEL = 100 # Must be smaller than the genomic region (250). The av distance between CpG is 37 bp and the std dev of the distances between cpgs is 24 bp\n",
    "LEARNING_RATE = 3e-4 \n",
    "\n",
    "# Learning rate was taken from this\n",
    "# http://karpathy.github.io/2019/04/25/recipe/#2-set-up-the-end-to-end-trainingevaluation-skeleton--get-dumb-baselines\n",
    "\n",
    "#--------------------------------------------------\n",
    "# Parameters common to RNN\n",
    "\n",
    "RNN_UNITS = 128 # 64 orginally\n",
    "\n",
    "#--------------------------------------------------\n",
    "# SPECIFIC TO RANDOM FOREST ALGORITHM\n",
    "use_raw_df_for_forest_models = False"
   ]
  },
  {
   "cell_type": "markdown",
   "id": "c22515ca-30c7-4a83-a982-6eb67b884f37",
   "metadata": {},
   "source": [
    "## ML evaluation metrics"
   ]
  },
  {
   "cell_type": "code",
   "execution_count": 6,
   "id": "2f38b202-fe69-489c-aae0-638bcd40b2d8",
   "metadata": {},
   "outputs": [
    {
     "name": "stderr",
     "output_type": "stream",
     "text": [
      "2022-03-17 12:39:15.245540: I tensorflow/core/platform/cpu_feature_guard.cc:151] This TensorFlow binary is optimized with oneAPI Deep Neural Network Library (oneDNN) to use the following CPU instructions in performance-critical operations:  AVX2 AVX512F FMA\n",
      "To enable them in other operations, rebuild TensorFlow with the appropriate compiler flags.\n",
      "2022-03-17 12:39:15.778776: I tensorflow/core/common_runtime/gpu/gpu_device.cc:1525] Created device /job:localhost/replica:0/task:0/device:GPU:0 with 38444 MB memory:  -> device: 0, name: A100-SXM4-40GB, pci bus id: 0000:00:04.0, compute capability: 8.0\n"
     ]
    }
   ],
   "source": [
    "METRICS = [\n",
    "      keras.metrics.TruePositives(name='tp'),\n",
    "      keras.metrics.FalsePositives(name='fp'),\n",
    "      keras.metrics.TrueNegatives(name='tn'),\n",
    "      keras.metrics.FalseNegatives(name='fn'), \n",
    "      keras.metrics.BinaryAccuracy(name='accuracy'),\n",
    "      keras.metrics.Precision(name='precision'),\n",
    "      keras.metrics.Recall(name='sensitivity'),\n",
    "      keras.metrics.AUC(name='auc')\n",
    "      ]\n",
    "\n",
    "def plot_metrics(history):\n",
    "  metrics =  ['loss', 'auc', 'precision', 'sensitivity']\n",
    "  plt.figure(figsize=(10,10))\n",
    "  for n, metric in enumerate(metrics):\n",
    "    name = metric.replace(\"_\",\" \").capitalize()\n",
    "    plt.subplot(2,2,n+1)\n",
    "    plt.plot(history.epoch,  history.history[metric], color=colors[0], label='Train')\n",
    "    plt.plot(history.epoch, history.history['val_'+metric],\n",
    "             color=colors[0], linestyle=\"--\", label='Val')\n",
    "    plt.xlabel('Epoch')\n",
    "    plt.ylabel(name)\n",
    "    plt.ylim([0,1])\n",
    "\n",
    "    plt.legend()\n",
    "\n",
    "\n",
    "def display_results(df_results):\n",
    "  print(\"Loss\", np.round(df_results[0], 3))\n",
    "  print(\"True positives\", np.round(df_results[1], 3))\n",
    "  print(\"False positives\", np.round(df_results[2], 3))\n",
    "  print(\"True negatives\", np.round(df_results[3], 3))\n",
    "  print(\"False negatives\", np.round(df_results[4], 3))\n",
    "  print(\"Accuracy\", np.round(df_results[5], 3))\n",
    "  print(\"Precision\", np.round(df_results[6], 3))\n",
    "  print(\"Sensitivity\", np.round(df_results[7], 3))\n",
    "  print(\"AUC\", np.round(df_results[8], 3))\n",
    "\n",
    "def plot_roc(name, labels, predictions, **kwargs):\n",
    "  fp, tp, _ = sklearn.metrics.roc_curve(labels, predictions)\n",
    "\n",
    "  plt.plot(100*fp, 100*tp, label=name, linewidth=2, **kwargs)\n",
    "  plt.xlabel('False positives [%]')\n",
    "  plt.ylabel('True positives [%]')\n",
    "  plt.xlim([-0.5,80])\n",
    "  plt.ylim([0,100.5])\n",
    "  plt.grid(True)\n",
    "  ax = plt.gca()\n",
    "  ax.set_aspect('equal')\n",
    "\n"
   ]
  },
  {
   "cell_type": "markdown",
   "id": "025e5515-6785-4461-b139-ced8487e2eee",
   "metadata": {},
   "source": [
    "## Import raw data"
   ]
  },
  {
   "cell_type": "code",
   "execution_count": 7,
   "id": "d440a700-3f8d-443b-87f4-3036f2a0f5b8",
   "metadata": {},
   "outputs": [
    {
     "name": "stdout",
     "output_type": "stream",
     "text": [
      "Number of files to download: 8\n",
      "Copying gs://deepasm/250bp/encode_training_data/encode_training-000000000000.json...\n",
      "Download already complete for training_0.json component 0, skipping download but will run integrity checks.\n",
      "Resuming download for training_0.json component 1\n",
      "| [1 files][300.1 MiB/300.1 MiB]                                                \n",
      "Operation completed over 1 objects/300.1 MiB.                                    \n",
      "Appending file...\n",
      "Copying gs://deepasm/250bp/encode_training_data/encode_training-000000000001.json...\n",
      "- [1 files][300.6 MiB/300.6 MiB]                                                \n",
      "Operation completed over 1 objects/300.6 MiB.                                    \n",
      "Appending file...\n",
      "Copying gs://deepasm/250bp/encode_training_data/encode_training-000000000002.json...\n",
      "- [1 files][300.7 MiB/300.7 MiB]                                                \n",
      "Operation completed over 1 objects/300.7 MiB.                                    \n",
      "Appending file...\n",
      "Copying gs://deepasm/250bp/encode_training_data/encode_training-000000000003.json...\n",
      "- [1 files][300.2 MiB/300.2 MiB]                                                \n",
      "Operation completed over 1 objects/300.2 MiB.                                    \n",
      "Appending file...\n",
      "Copying gs://deepasm/250bp/encode_training_data/encode_training-000000000004.json...\n",
      "- [1 files][301.0 MiB/301.0 MiB]                                                \n",
      "Operation completed over 1 objects/301.0 MiB.                                    \n",
      "Appending file...\n",
      "Copying gs://deepasm/250bp/encode_training_data/encode_training-000000000005.json...\n",
      "- [1 files][300.5 MiB/300.5 MiB]                                                \n",
      "Operation completed over 1 objects/300.5 MiB.                                    \n",
      "Appending file...\n",
      "Copying gs://deepasm/250bp/encode_training_data/encode_training-000000000006.json...\n",
      "- [1 files][300.6 MiB/300.6 MiB]                                                \n",
      "Operation completed over 1 objects/300.6 MiB.                                    \n",
      "Appending file...\n",
      "Copying gs://deepasm/250bp/encode_training_data/encode_training-000000000007.json...\n",
      "- [1 files][300.1 MiB/300.1 MiB]                                                \n",
      "Operation completed over 1 objects/300.1 MiB.                                    \n",
      "Appending file...\n"
     ]
    }
   ],
   "source": [
    "if IMPORT_RAW_FROM_BUCKET == True:\n",
    "    !gsutil ls gs://$DEEPASM_BUCKET/$GENOMIC_INTERVAL*bp/encode_training_data/*.json > list_to_download.txt\n",
    "    files_to_download_df = pd.read_csv('list_to_download.txt', header=None)\n",
    "    print(\"Number of files to download:\", files_to_download_df.shape[0])\n",
    "\n",
    "    imported_df = pd.DataFrame()\n",
    "    \n",
    "    if TEST_RUN == True:\n",
    "        range_files = 3\n",
    "    else: # Download all the files\n",
    "        range_files = files_to_download_df.shape[0]\n",
    "\n",
    "    for index_file in range(range_files): \n",
    "        file_name_bucket = files_to_download_df[0][index_file]\n",
    "        local_file_name = \"training_\" + str(index_file) + \".json\"\n",
    "        \n",
    "        # Download the file from bucket\n",
    "        !gsutil cp $file_name_bucket $local_file_name\n",
    "        \n",
    "        print(\"Appending file...\")\n",
    "        imported_df = imported_df.append(pd.read_json(local_file_name, lines = True))"
   ]
  },
  {
   "cell_type": "code",
   "execution_count": 8,
   "id": "f83a257f-e990-4f89-bec0-0011061db225",
   "metadata": {},
   "outputs": [
    {
     "name": "stdout",
     "output_type": "stream",
     "text": [
      "Size of the imported dataset: (3924027, 18)\n"
     ]
    }
   ],
   "source": [
    "print(\"Size of the imported dataset:\", imported_df.shape)"
   ]
  },
  {
   "cell_type": "markdown",
   "id": "cd44574e-a6e1-4e5b-b254-bcf6959d60a0",
   "metadata": {},
   "source": [
    "## Prepare the features\n",
    "\n",
    "Note: we do not randomize the rows because the scripts preceding this notebook already sampled the rows."
   ]
  },
  {
   "cell_type": "markdown",
   "id": "1b3f096d-c8fd-4270-b822-97fd20c94331",
   "metadata": {},
   "source": [
    "### Copy & clean dataframe "
   ]
  },
  {
   "cell_type": "code",
   "execution_count": 9,
   "id": "0b1bbac4-bc09-4786-b688-b8976eeac8bf",
   "metadata": {},
   "outputs": [],
   "source": [
    "# Copy of the dataframe\n",
    "raw_df = imported_df.copy()\n",
    "raw_df = raw_df.head(NB_ROWS_RAW_DATASET)\n",
    "\n",
    "# Randomize the rows\n",
    "raw_df = raw_df.sample(frac = 1, ignore_index = True)\n"
   ]
  },
  {
   "cell_type": "code",
   "execution_count": 10,
   "id": "83d48e94-5264-4e01-913a-222b72bde9f7",
   "metadata": {},
   "outputs": [
    {
     "name": "stdout",
     "output_type": "stream",
     "text": [
      "Size of the dataset:  (3924027, 18)\n",
      "Number of samples (12 expected): 12\n",
      "Chromosomes found (24 expected): ['8' '7' '12' '16' '17' '9' '2' '3' '5' '10' '4' '11' '19' '6' '22' '14'\n",
      " '18' '1' '21' '13' '20' '15' 'X' 'Y']\n"
     ]
    }
   ],
   "source": [
    "print(\"Size of the dataset: \", raw_df.shape)\n",
    "print(\"Number of samples (12 expected):\", len(raw_df['sample'].unique()))\n",
    "print(\"Chromosomes found (24 expected):\", raw_df['chr'].unique())\n",
    "\n",
    "# We remove the sample column\n",
    "raw_df = raw_df.drop('sample', axis = 1)\n",
    "\n",
    "# We remove chromosomes X and Y because ASM cannot be reliabily evaluated in these chromosomes\n",
    "raw_df = raw_df[raw_df['chr'] != 'X']\n",
    "raw_df = raw_df[raw_df['chr'] != 'Y']\n",
    "\n",
    "# We remove the chr column\n",
    "raw_df = raw_df.drop('chr', axis = 1)"
   ]
  },
  {
   "cell_type": "code",
   "execution_count": 11,
   "id": "e51a306c-f998-48b3-812b-0900d382663e",
   "metadata": {},
   "outputs": [
    {
     "data": {
      "text/html": [
       "<div>\n",
       "<style scoped>\n",
       "    .dataframe tbody tr th:only-of-type {\n",
       "        vertical-align: middle;\n",
       "    }\n",
       "\n",
       "    .dataframe tbody tr th {\n",
       "        vertical-align: top;\n",
       "    }\n",
       "\n",
       "    .dataframe thead th {\n",
       "        text-align: right;\n",
       "    }\n",
       "</style>\n",
       "<table border=\"1\" class=\"dataframe\">\n",
       "  <thead>\n",
       "    <tr style=\"text-align: right;\">\n",
       "      <th></th>\n",
       "      <th>asm_snp</th>\n",
       "      <th>sample_category</th>\n",
       "      <th>region_inf</th>\n",
       "      <th>region_sup</th>\n",
       "      <th>region_nb_cpg</th>\n",
       "      <th>nb_cpg_found</th>\n",
       "      <th>nb_reads</th>\n",
       "      <th>dnase</th>\n",
       "      <th>encode_ChiP_V2</th>\n",
       "      <th>tf_motifs</th>\n",
       "      <th>global_cpg_fm</th>\n",
       "      <th>tot_nb_cpg</th>\n",
       "      <th>tot_nb_reads</th>\n",
       "      <th>read_fm</th>\n",
       "      <th>cpg_fm</th>\n",
       "      <th>cpg_pos</th>\n",
       "    </tr>\n",
       "  </thead>\n",
       "  <tbody>\n",
       "    <tr>\n",
       "      <th>0</th>\n",
       "      <td>0</td>\n",
       "      <td>1</td>\n",
       "      <td>1219001</td>\n",
       "      <td>1219250</td>\n",
       "      <td>4</td>\n",
       "      <td>4</td>\n",
       "      <td>31</td>\n",
       "      <td>0</td>\n",
       "      <td>0</td>\n",
       "      <td>3</td>\n",
       "      <td>0.569</td>\n",
       "      <td>17958798</td>\n",
       "      <td>252140560</td>\n",
       "      <td>[0, 0.25, 0, 0.5, 0.25, 1, 0, 0, 1, 0, 0.75, 0...</td>\n",
       "      <td>[0.538, 0.44, 0.40700000000000003, 0.214]</td>\n",
       "      <td>[1219130, 1219139, 1219157, 1219168]</td>\n",
       "    </tr>\n",
       "    <tr>\n",
       "      <th>1</th>\n",
       "      <td>0</td>\n",
       "      <td>0</td>\n",
       "      <td>67683001</td>\n",
       "      <td>67683250</td>\n",
       "      <td>4</td>\n",
       "      <td>3</td>\n",
       "      <td>74</td>\n",
       "      <td>1</td>\n",
       "      <td>0</td>\n",
       "      <td>0</td>\n",
       "      <td>0.809</td>\n",
       "      <td>18257641</td>\n",
       "      <td>248603116</td>\n",
       "      <td>[1, 1, 1, 1, 1, 1, 1, 1, 1, 1, 1, 1, 1, 1, 1, ...</td>\n",
       "      <td>[0.981, 0.983, 1]</td>\n",
       "      <td>[67683186, 67683210, 67683221]</td>\n",
       "    </tr>\n",
       "    <tr>\n",
       "      <th>2</th>\n",
       "      <td>0</td>\n",
       "      <td>1</td>\n",
       "      <td>6648251</td>\n",
       "      <td>6648500</td>\n",
       "      <td>8</td>\n",
       "      <td>7</td>\n",
       "      <td>71</td>\n",
       "      <td>0</td>\n",
       "      <td>0</td>\n",
       "      <td>0</td>\n",
       "      <td>0.569</td>\n",
       "      <td>17958798</td>\n",
       "      <td>252140560</td>\n",
       "      <td>[0, 0, 0, 0, 0, 0, 0, 0, 0, 0, 0, 0.429, 0, 0....</td>\n",
       "      <td>[0.027, 0.091, 0.081, 0.378, 0.405, 0.105, 0.194]</td>\n",
       "      <td>[6648261, 6648305, 6648341, 6648349, 6648351, ...</td>\n",
       "    </tr>\n",
       "    <tr>\n",
       "      <th>3</th>\n",
       "      <td>0</td>\n",
       "      <td>1</td>\n",
       "      <td>6039251</td>\n",
       "      <td>6039500</td>\n",
       "      <td>5</td>\n",
       "      <td>5</td>\n",
       "      <td>89</td>\n",
       "      <td>0</td>\n",
       "      <td>0</td>\n",
       "      <td>0</td>\n",
       "      <td>0.569</td>\n",
       "      <td>17958798</td>\n",
       "      <td>252140560</td>\n",
       "      <td>[1, 1, 1, 1, 1, 1, 1, 1, 1, 1, 1, 1, 1, 1, 0.5...</td>\n",
       "      <td>[0.9530000000000001, 0.979, 0.979, 0.977, 0.983]</td>\n",
       "      <td>[6039283, 6039287, 6039341, 6039402, 6039453]</td>\n",
       "    </tr>\n",
       "    <tr>\n",
       "      <th>4</th>\n",
       "      <td>0</td>\n",
       "      <td>1</td>\n",
       "      <td>73323001</td>\n",
       "      <td>73323250</td>\n",
       "      <td>5</td>\n",
       "      <td>5</td>\n",
       "      <td>97</td>\n",
       "      <td>0</td>\n",
       "      <td>0</td>\n",
       "      <td>6</td>\n",
       "      <td>0.569</td>\n",
       "      <td>17958798</td>\n",
       "      <td>252140560</td>\n",
       "      <td>[0, 0, 0, 0, 0, 0, 0, 0, 0, 0, 0, 0, 0, 0, 0, ...</td>\n",
       "      <td>[0, 0.032, 0, 0, 0]</td>\n",
       "      <td>[73323048, 73323087, 73323110, 73323145, 73323...</td>\n",
       "    </tr>\n",
       "    <tr>\n",
       "      <th>...</th>\n",
       "      <td>...</td>\n",
       "      <td>...</td>\n",
       "      <td>...</td>\n",
       "      <td>...</td>\n",
       "      <td>...</td>\n",
       "      <td>...</td>\n",
       "      <td>...</td>\n",
       "      <td>...</td>\n",
       "      <td>...</td>\n",
       "      <td>...</td>\n",
       "      <td>...</td>\n",
       "      <td>...</td>\n",
       "      <td>...</td>\n",
       "      <td>...</td>\n",
       "      <td>...</td>\n",
       "      <td>...</td>\n",
       "    </tr>\n",
       "    <tr>\n",
       "      <th>3924021</th>\n",
       "      <td>1</td>\n",
       "      <td>1</td>\n",
       "      <td>27478001</td>\n",
       "      <td>27478250</td>\n",
       "      <td>6</td>\n",
       "      <td>6</td>\n",
       "      <td>46</td>\n",
       "      <td>0</td>\n",
       "      <td>0</td>\n",
       "      <td>0</td>\n",
       "      <td>0.569</td>\n",
       "      <td>17958798</td>\n",
       "      <td>252140560</td>\n",
       "      <td>[0.75, 0.667, 0, 0, 1, 0, 0.75, 1, 0.75, 0, 0,...</td>\n",
       "      <td>[0.55, 0.619, 0.097, 0.593, 0.667, 0.593]</td>\n",
       "      <td>[27478015, 27478017, 27478118, 27478145, 27478...</td>\n",
       "    </tr>\n",
       "    <tr>\n",
       "      <th>3924023</th>\n",
       "      <td>0</td>\n",
       "      <td>0</td>\n",
       "      <td>50483001</td>\n",
       "      <td>50483250</td>\n",
       "      <td>8</td>\n",
       "      <td>6</td>\n",
       "      <td>24</td>\n",
       "      <td>0</td>\n",
       "      <td>0</td>\n",
       "      <td>0</td>\n",
       "      <td>0.752</td>\n",
       "      <td>15554984</td>\n",
       "      <td>129787112</td>\n",
       "      <td>[1, 1, 1, 1, 1, 1, 1, 0.8, 1, 0.8, 1, 0.8, 1, ...</td>\n",
       "      <td>[1, 1, 1, 1, 0.706, 1]</td>\n",
       "      <td>[50483022, 50483026, 50483028, 50483038, 50483...</td>\n",
       "    </tr>\n",
       "    <tr>\n",
       "      <th>3924024</th>\n",
       "      <td>0</td>\n",
       "      <td>1</td>\n",
       "      <td>18061501</td>\n",
       "      <td>18061750</td>\n",
       "      <td>12</td>\n",
       "      <td>12</td>\n",
       "      <td>32</td>\n",
       "      <td>0</td>\n",
       "      <td>0</td>\n",
       "      <td>25</td>\n",
       "      <td>0.689</td>\n",
       "      <td>15819966</td>\n",
       "      <td>244695432</td>\n",
       "      <td>[0.667, 1, 0.5, 0.7000000000000001, 1, 0.167, ...</td>\n",
       "      <td>[0.846, 0.833, 0.14300000000000002, 0.786, 0.8...</td>\n",
       "      <td>[18061555, 18061576, 18061590, 18061622, 18061...</td>\n",
       "    </tr>\n",
       "    <tr>\n",
       "      <th>3924025</th>\n",
       "      <td>0</td>\n",
       "      <td>0</td>\n",
       "      <td>57621251</td>\n",
       "      <td>57621500</td>\n",
       "      <td>3</td>\n",
       "      <td>3</td>\n",
       "      <td>38</td>\n",
       "      <td>0</td>\n",
       "      <td>0</td>\n",
       "      <td>0</td>\n",
       "      <td>0.752</td>\n",
       "      <td>15554984</td>\n",
       "      <td>129787112</td>\n",
       "      <td>[1, 0.5, 1, 0, 0.667, 0.667, 1, 0, 1, 0, 0, 1,...</td>\n",
       "      <td>[0.81, 0.9500000000000001, 0.2]</td>\n",
       "      <td>[57621276, 57621298, 57621365]</td>\n",
       "    </tr>\n",
       "    <tr>\n",
       "      <th>3924026</th>\n",
       "      <td>0</td>\n",
       "      <td>0</td>\n",
       "      <td>50059501</td>\n",
       "      <td>50059750</td>\n",
       "      <td>6</td>\n",
       "      <td>5</td>\n",
       "      <td>73</td>\n",
       "      <td>0</td>\n",
       "      <td>0</td>\n",
       "      <td>0</td>\n",
       "      <td>0.809</td>\n",
       "      <td>18257641</td>\n",
       "      <td>248603116</td>\n",
       "      <td>[1, 1, 1, 0.8, 1, 1, 1, 0.8, 1, 1, 0.8, 1, 1, ...</td>\n",
       "      <td>[0.912, 0.968, 0.926, 0.962, 1]</td>\n",
       "      <td>[50059540, 50059557, 50059574, 50059582, 50059...</td>\n",
       "    </tr>\n",
       "  </tbody>\n",
       "</table>\n",
       "<p>3869285 rows × 16 columns</p>\n",
       "</div>"
      ],
      "text/plain": [
       "         asm_snp  sample_category  region_inf  region_sup  region_nb_cpg  \\\n",
       "0              0                1     1219001     1219250              4   \n",
       "1              0                0    67683001    67683250              4   \n",
       "2              0                1     6648251     6648500              8   \n",
       "3              0                1     6039251     6039500              5   \n",
       "4              0                1    73323001    73323250              5   \n",
       "...          ...              ...         ...         ...            ...   \n",
       "3924021        1                1    27478001    27478250              6   \n",
       "3924023        0                0    50483001    50483250              8   \n",
       "3924024        0                1    18061501    18061750             12   \n",
       "3924025        0                0    57621251    57621500              3   \n",
       "3924026        0                0    50059501    50059750              6   \n",
       "\n",
       "         nb_cpg_found  nb_reads  dnase  encode_ChiP_V2  tf_motifs  \\\n",
       "0                   4        31      0               0          3   \n",
       "1                   3        74      1               0          0   \n",
       "2                   7        71      0               0          0   \n",
       "3                   5        89      0               0          0   \n",
       "4                   5        97      0               0          6   \n",
       "...               ...       ...    ...             ...        ...   \n",
       "3924021             6        46      0               0          0   \n",
       "3924023             6        24      0               0          0   \n",
       "3924024            12        32      0               0         25   \n",
       "3924025             3        38      0               0          0   \n",
       "3924026             5        73      0               0          0   \n",
       "\n",
       "         global_cpg_fm  tot_nb_cpg  tot_nb_reads  \\\n",
       "0                0.569    17958798     252140560   \n",
       "1                0.809    18257641     248603116   \n",
       "2                0.569    17958798     252140560   \n",
       "3                0.569    17958798     252140560   \n",
       "4                0.569    17958798     252140560   \n",
       "...                ...         ...           ...   \n",
       "3924021          0.569    17958798     252140560   \n",
       "3924023          0.752    15554984     129787112   \n",
       "3924024          0.689    15819966     244695432   \n",
       "3924025          0.752    15554984     129787112   \n",
       "3924026          0.809    18257641     248603116   \n",
       "\n",
       "                                                   read_fm  \\\n",
       "0        [0, 0.25, 0, 0.5, 0.25, 1, 0, 0, 1, 0, 0.75, 0...   \n",
       "1        [1, 1, 1, 1, 1, 1, 1, 1, 1, 1, 1, 1, 1, 1, 1, ...   \n",
       "2        [0, 0, 0, 0, 0, 0, 0, 0, 0, 0, 0, 0.429, 0, 0....   \n",
       "3        [1, 1, 1, 1, 1, 1, 1, 1, 1, 1, 1, 1, 1, 1, 0.5...   \n",
       "4        [0, 0, 0, 0, 0, 0, 0, 0, 0, 0, 0, 0, 0, 0, 0, ...   \n",
       "...                                                    ...   \n",
       "3924021  [0.75, 0.667, 0, 0, 1, 0, 0.75, 1, 0.75, 0, 0,...   \n",
       "3924023  [1, 1, 1, 1, 1, 1, 1, 0.8, 1, 0.8, 1, 0.8, 1, ...   \n",
       "3924024  [0.667, 1, 0.5, 0.7000000000000001, 1, 0.167, ...   \n",
       "3924025  [1, 0.5, 1, 0, 0.667, 0.667, 1, 0, 1, 0, 0, 1,...   \n",
       "3924026  [1, 1, 1, 0.8, 1, 1, 1, 0.8, 1, 1, 0.8, 1, 1, ...   \n",
       "\n",
       "                                                    cpg_fm  \\\n",
       "0                [0.538, 0.44, 0.40700000000000003, 0.214]   \n",
       "1                                        [0.981, 0.983, 1]   \n",
       "2        [0.027, 0.091, 0.081, 0.378, 0.405, 0.105, 0.194]   \n",
       "3         [0.9530000000000001, 0.979, 0.979, 0.977, 0.983]   \n",
       "4                                      [0, 0.032, 0, 0, 0]   \n",
       "...                                                    ...   \n",
       "3924021          [0.55, 0.619, 0.097, 0.593, 0.667, 0.593]   \n",
       "3924023                             [1, 1, 1, 1, 0.706, 1]   \n",
       "3924024  [0.846, 0.833, 0.14300000000000002, 0.786, 0.8...   \n",
       "3924025                    [0.81, 0.9500000000000001, 0.2]   \n",
       "3924026                    [0.912, 0.968, 0.926, 0.962, 1]   \n",
       "\n",
       "                                                   cpg_pos  \n",
       "0                     [1219130, 1219139, 1219157, 1219168]  \n",
       "1                           [67683186, 67683210, 67683221]  \n",
       "2        [6648261, 6648305, 6648341, 6648349, 6648351, ...  \n",
       "3            [6039283, 6039287, 6039341, 6039402, 6039453]  \n",
       "4        [73323048, 73323087, 73323110, 73323145, 73323...  \n",
       "...                                                    ...  \n",
       "3924021  [27478015, 27478017, 27478118, 27478145, 27478...  \n",
       "3924023  [50483022, 50483026, 50483028, 50483038, 50483...  \n",
       "3924024  [18061555, 18061576, 18061590, 18061622, 18061...  \n",
       "3924025                     [57621276, 57621298, 57621365]  \n",
       "3924026  [50059540, 50059557, 50059574, 50059582, 50059...  \n",
       "\n",
       "[3869285 rows x 16 columns]"
      ]
     },
     "execution_count": 11,
     "metadata": {},
     "output_type": "execute_result"
    }
   ],
   "source": [
    "raw_df"
   ]
  },
  {
   "cell_type": "markdown",
   "id": "c8a0c078-541c-4563-a68a-4dd87bb34e5f",
   "metadata": {},
   "source": [
    "### Calculate the distance between CpGs"
   ]
  },
  {
   "cell_type": "code",
   "execution_count": 12,
   "id": "1f2362ad-6e00-4d94-961d-8081ada1d11b",
   "metadata": {},
   "outputs": [],
   "source": [
    "# Create a function to calculate the distance between CpGs (~3min)\n",
    "def dist_cpg(cpg_pos):\n",
    "  distances = []\n",
    "  for index in range(len(cpg_pos)):\n",
    "    if index >= len(cpg_pos)-1:\n",
    "      return distances\n",
    "    else:\n",
    "      distances.append(cpg_pos[index + 1] - cpg_pos[index])\n",
    "  return distances\n",
    "\n",
    "# Apply the function \"distance\" to the array of CpG positions\n",
    "raw_df['cpg_dist'] = raw_df['cpg_pos'].apply(lambda x: dist_cpg(x))"
   ]
  },
  {
   "cell_type": "markdown",
   "id": "9ebc6f7c-ccef-4681-a609-dbde5ac5e379",
   "metadata": {
    "tags": []
   },
   "source": [
    "### Convert arrays into numerical features\n",
    "\n",
    "To do this, we use kernel estimates as well as simpler metrics like mean and standard deviation"
   ]
  },
  {
   "cell_type": "markdown",
   "id": "6653f9e8-b3a9-4077-8bd9-52d25fd22626",
   "metadata": {},
   "source": [
    "#### Kernel functions"
   ]
  },
  {
   "cell_type": "code",
   "execution_count": 13,
   "id": "a5452c4c-7ff6-43a5-97ec-da1ccbdee6b2",
   "metadata": {},
   "outputs": [
    {
     "name": "stdout",
     "output_type": "stream",
     "text": [
      "X-axis values used for the FM kernel estimate: [0.  0.1 0.2 0.3 0.4 0.5 0.6 0.7 0.8 0.9 1. ]\n"
     ]
    }
   ],
   "source": [
    "# FRACTIONAL METHYLATION\n",
    "\n",
    "# Values for fractional methylation (between 0 and 1)\n",
    "values_for_kernel_fm = asarray([value for value in range(0, KERNEL_FM_NB_VALUES+1)])\n",
    "values_for_kernel_fm = values_for_kernel_fm / KERNEL_FM_NB_VALUES\n",
    "print(\"X-axis values used for the FM kernel estimate:\", values_for_kernel_fm)\n",
    "values_for_kernel_fm = values_for_kernel_fm.reshape((len(values_for_kernel_fm), 1))\n",
    "\n",
    "# Build Kernel model\n",
    "kernel_fm_model = KernelDensity(bandwidth=KERNEL_FM_BANDWIDTH, kernel='gaussian')\n",
    "\n",
    "# Function to be applied to each array in the columns read_fm and cpg_fm\n",
    "def estimate_kernels_fm(x):\n",
    "  sample = np.reshape(x, (len(x), 1))\n",
    "  kernel_fm_model.fit(sample)\n",
    "  probabilities = kernel_fm_model.score_samples(values_for_kernel_fm)\n",
    "  probabilities = exp(probabilities)\n",
    "  return np.round(probabilities, 4)\n",
    "\n",
    "# Try function\n",
    "#estimate_kernels_fm(raw_df['cpg_fm'][0])\n"
   ]
  },
  {
   "cell_type": "code",
   "execution_count": 14,
   "id": "97c6d384-d6a5-4ad9-bc40-74584337290f",
   "metadata": {},
   "outputs": [
    {
     "name": "stdout",
     "output_type": "stream",
     "text": [
      "Values used in kernel estimate: [  0  40  80 120 160]\n"
     ]
    }
   ],
   "source": [
    "# COVERAGE AND CPG DISTANCE\n",
    "\n",
    "# Values for fractional methylation (between 0 and 1)\n",
    "values_for_kernel_cov = asarray([value for value in range(0, KERNEL_COV_NB_MAX, KERNEL_COV_NB_STEP)])\n",
    "print(\"Values used in kernel estimate:\", values_for_kernel_cov)\n",
    "values_for_kernel_cov = values_for_kernel_cov.reshape((len(values_for_kernel_cov), 1))\n",
    "\n",
    "# Build Kernel model\n",
    "kernel_cov_model = KernelDensity(bandwidth=KERNEL_COV_BANDWIDTH, kernel='gaussian')\n",
    "\n",
    "# Function to be applied to each array in the columns read_fm and cpg_fm\n",
    "def estimate_kernels_cov(x):\n",
    "  sample = np.reshape(x, (len(x), 1))\n",
    "  kernel_fm_model.fit(sample)\n",
    "  probabilities = kernel_fm_model.score_samples(values_for_kernel_cov)\n",
    "  probabilities = exp(probabilities)\n",
    "  return np.round(probabilities, 4)\n",
    "\n",
    "# Try function\n",
    "#estimate_kernels_cov(raw_df['cpg_cov'][1])"
   ]
  },
  {
   "cell_type": "markdown",
   "id": "c6ed3b36-3216-458e-83f5-4e24c38c814e",
   "metadata": {},
   "source": [
    "#### Test kernel estimates"
   ]
  },
  {
   "cell_type": "code",
   "execution_count": 15,
   "id": "8775a79c-f61b-48fb-bd6e-555c3d12e478",
   "metadata": {},
   "outputs": [],
   "source": [
    "variable_to_plot = 'cpg_fm' # cpg_fm or read_fm or cpg_dist or cpg_cov\n",
    "\n",
    "n_extract = 10\n",
    "extract_asm = raw_df[raw_df['asm_snp'] == 1].sample(n=n_extract, ignore_index = True)\n",
    "extract_noasm = raw_df[raw_df['asm_snp'] == 0].sample(n=n_extract, ignore_index = True)\n",
    "n_x = round(np.sqrt(n_extract))"
   ]
  },
  {
   "cell_type": "markdown",
   "id": "a6eb3ee5-1333-43a5-99f0-a7481f682a7d",
   "metadata": {},
   "source": [
    "##### Plots for regions with ASM"
   ]
  },
  {
   "cell_type": "code",
   "execution_count": 16,
   "id": "c309fc8e-8acb-4955-bb8e-53fa1b602fd8",
   "metadata": {},
   "outputs": [
    {
     "data": {
      "image/png": "[encoded data removed]",
      "text/plain": [
       "<Figure size 720x720 with 9 Axes>"
      ]
     },
     "metadata": {
      "needs_background": "light"
     },
     "output_type": "display_data"
    }
   ],
   "source": [
    "mpl.rcParams['figure.figsize'] = (10, 10)\n",
    "fig, axs = plt.subplots(n_x, n_x, sharey=True, sharex=True, tight_layout=True)\n",
    "\n",
    "for k in range(n_x):\n",
    "  for m in range(n_x):\n",
    "\n",
    "    # Print data distribution\n",
    "    data_distribution = extract_asm[variable_to_plot][k+m]\n",
    "    axs[k,m].hist(data_distribution, density = True, bins = 10)\n",
    "\n",
    "    # Print kernel density\n",
    "    if 'fm' in variable_to_plot:\n",
    "        #print(\"Using the FM kernel estimates\")\n",
    "        kernel_probabilities = estimate_kernels_fm(data_distribution)\n",
    "        values = values_for_kernel_fm\n",
    "    else:\n",
    "        #print(\"Using the COV kernel estimates\")\n",
    "        kernel_probabilities = estimate_kernels_cov(data_distribution)\n",
    "        values = values_for_kernel_cov\n",
    "    axs[k,m].plot(values[:], kernel_probabilities)\n"
   ]
  },
  {
   "cell_type": "markdown",
   "id": "23eef467-301c-4c3a-8c14-65c63bd6704e",
   "metadata": {},
   "source": [
    "##### Plots for regions without ASM"
   ]
  },
  {
   "cell_type": "code",
   "execution_count": 17,
   "id": "305fe19d-1890-45e8-9429-bd26f9503dbd",
   "metadata": {},
   "outputs": [
    {
     "data": {
      "image/png": "[encoded data removed]",
      "text/plain": [
       "<Figure size 720x720 with 9 Axes>"
      ]
     },
     "metadata": {
      "needs_background": "light"
     },
     "output_type": "display_data"
    }
   ],
   "source": [
    "mpl.rcParams['figure.figsize'] = (10, 10)\n",
    "fig, axs = plt.subplots(n_x, n_x, sharey=True, sharex=True, tight_layout=True)\n",
    "\n",
    "for k in range(n_x):\n",
    "  for m in range(n_x):\n",
    "\n",
    "    # Print data distribution\n",
    "    data_distribution = extract_noasm[variable_to_plot][k+m]\n",
    "    axs[k,m].hist(data_distribution, density = True, bins = 10)\n",
    "\n",
    "    # Print kernel density\n",
    "    if 'fm' in variable_to_plot:\n",
    "        #print(\"Using the FM kernel estimates\")\n",
    "        kernel_probabilities = estimate_kernels_fm(data_distribution)\n",
    "        values = values_for_kernel_fm\n",
    "    else:\n",
    "        #print(\"Using the COV kernel estimates\")\n",
    "        kernel_probabilities = estimate_kernels_cov(data_distribution)\n",
    "        values = values_for_kernel_cov\n",
    "    axs[k,m].plot(values[:], kernel_probabilities)"
   ]
  },
  {
   "cell_type": "markdown",
   "id": "8474e90d-b2cf-4b02-9627-ebb593bc1a2b",
   "metadata": {},
   "source": [
    "#### Calculate the mean, std, and kernel estimates of arrays"
   ]
  },
  {
   "cell_type": "code",
   "execution_count": 18,
   "id": "6b85aea5-083a-47ca-93cc-7a554a3f7cf5",
   "metadata": {},
   "outputs": [],
   "source": [
    "def convert_arrays(df, column_name):\n",
    "  \"\"\"Inputs: dataframe and a column name that contains arrays\"\"\"\n",
    "\n",
    "  # Mean and Standard deviation\n",
    "  std_name = \"std_\" + column_name\n",
    "  av_name = \"mean_\" + column_name\n",
    "\n",
    "  print(\"Calculating the standard deviation\")\n",
    "  df[std_name] = df[column_name].apply(lambda x: np.round(np.std(x), 4))\n",
    "  print(\"Calculating the average\")\n",
    "  df[av_name] = df[column_name].apply(lambda x: np.round(np.mean(x), 4))\n",
    "  \n",
    "  # Kernel density estimates\n",
    "  kernel_name = \"kernel_\" + column_name\n",
    "  if (column_name == 'cpg_cov' or column_name == 'cpg_dist'):\n",
    "    print(\"Calculating the proba distribution for cov or dist\")\n",
    "    df[kernel_name] = df[column_name].apply(lambda x: estimate_kernels_cov(x))\n",
    "  else:\n",
    "    print(\"Calculating the proba distribution for fractional methylation\")\n",
    "    df[kernel_name] = df[column_name].apply(lambda x: estimate_kernels_fm(x))\n"
   ]
  },
  {
   "cell_type": "code",
   "execution_count": 19,
   "id": "da7d5288-af28-40f5-8bb5-9abf3d30014c",
   "metadata": {},
   "outputs": [
    {
     "name": "stdout",
     "output_type": "stream",
     "text": [
      "Column:  cpg_dist\n",
      "Calculating the standard deviation\n",
      "Calculating the average\n",
      "Calculating the proba distribution for cov or dist\n",
      "DONE\n"
     ]
    }
   ],
   "source": [
    "# Apply the function\n",
    "for col in ['read_fm', 'cpg_fm', 'cpg_dist']:\n",
    "    clear_output(wait=True)\n",
    "    print(\"Column: \", col)\n",
    "    convert_arrays(raw_df, col)\n",
    "print(\"DONE\")"
   ]
  },
  {
   "cell_type": "code",
   "execution_count": 20,
   "id": "3522320d-cfe7-457d-9d50-e6394d71a68a",
   "metadata": {},
   "outputs": [],
   "source": [
    "def export_kernel_array(col):\n",
    "    # Col must be a column of kernel estimate arrays\n",
    "    print(\"Processing:\", col)\n",
    "    kernel_name_list = []\n",
    "    if 'fm' in col:\n",
    "        values = values_for_kernel_fm\n",
    "    else:\n",
    "        values = values_for_kernel_cov\n",
    "    # Create a list of the new column names\n",
    "    for k in range(0, values.shape[0]):\n",
    "        kernel_name = col + \"_kernel_\" + str(k)\n",
    "        kernel_name_list = kernel_name_list + [kernel_name]\n",
    "    print(kernel_name_list)\n",
    "    \n",
    "    # Create the additional columns\n",
    "    kernel_estimates_column = \"kernel_\" + col\n",
    "    raw_df[kernel_name_list] = pd.DataFrame(raw_df[kernel_estimates_column].tolist(), index= raw_df.index)"
   ]
  },
  {
   "cell_type": "code",
   "execution_count": 21,
   "id": "2052717c-c317-4b71-bce8-fe5729896820",
   "metadata": {},
   "outputs": [
    {
     "name": "stdout",
     "output_type": "stream",
     "text": [
      "Processing: read_fm\n",
      "['read_fm_kernel_0', 'read_fm_kernel_1', 'read_fm_kernel_2', 'read_fm_kernel_3', 'read_fm_kernel_4', 'read_fm_kernel_5', 'read_fm_kernel_6', 'read_fm_kernel_7', 'read_fm_kernel_8', 'read_fm_kernel_9', 'read_fm_kernel_10']\n",
      "Processing: cpg_fm\n",
      "['cpg_fm_kernel_0', 'cpg_fm_kernel_1', 'cpg_fm_kernel_2', 'cpg_fm_kernel_3', 'cpg_fm_kernel_4', 'cpg_fm_kernel_5', 'cpg_fm_kernel_6', 'cpg_fm_kernel_7', 'cpg_fm_kernel_8', 'cpg_fm_kernel_9', 'cpg_fm_kernel_10']\n",
      "Processing: cpg_dist\n",
      "['cpg_dist_kernel_0', 'cpg_dist_kernel_1', 'cpg_dist_kernel_2', 'cpg_dist_kernel_3', 'cpg_dist_kernel_4']\n"
     ]
    }
   ],
   "source": [
    "# Use the function\n",
    "for col in ['read_fm', 'cpg_fm', 'cpg_dist']:\n",
    "    export_kernel_array(col)"
   ]
  },
  {
   "cell_type": "code",
   "execution_count": 22,
   "id": "3889362e-ba69-4a65-8de1-92be70ff8c06",
   "metadata": {},
   "outputs": [],
   "source": [
    "# Delete columns that we no longer need\n",
    "for col in ['read_fm', 'cpg_dist',\n",
    "            'kernel_cpg_dist', 'kernel_cpg_fm', 'kernel_read_fm']:\n",
    "    raw_df.drop(col, axis = 1, inplace = True)"
   ]
  },
  {
   "cell_type": "markdown",
   "id": "f6fb4754-b931-4004-949b-80652daa233a",
   "metadata": {},
   "source": [
    "### Convert epigenetic signals into dummy variables"
   ]
  },
  {
   "cell_type": "markdown",
   "id": "988cff6a-e3f5-4320-8a95-a2f8607bc5ab",
   "metadata": {},
   "source": [
    "#### Plot histograms for the values of epigenetic signals"
   ]
  },
  {
   "cell_type": "code",
   "execution_count": 23,
   "id": "2c2f3c8c-f04a-4f7d-b0a0-c012a9ace7a5",
   "metadata": {},
   "outputs": [
    {
     "data": {
      "text/plain": [
       "<seaborn.axisgrid.PairGrid at 0x7f9e2a2af950>"
      ]
     },
     "execution_count": 23,
     "metadata": {},
     "output_type": "execute_result"
    },
    {
     "data": {
      "image/png": "[encoded data removed]",
      "text/plain": [
       "<Figure size 602.05x540 with 12 Axes>"
      ]
     },
     "metadata": {},
     "output_type": "display_data"
    }
   ],
   "source": [
    "#df_extract = raw_df[['dnase','encode_ChiP_V2', 'tf_motifs']]\n",
    "#df_extract\n",
    "#hist = raw_df[['dnase','encode_ChiP_V2', 'tf_motifs']].hist(density = True, bins = 3)\n",
    "\n",
    "sns.set(rc = {'figure.figsize':(12,12)})\n",
    "#sns.pairplot(raw_df[['asm_snp','dnase','encode_ChiP_V2', 'tf_motifs']], hue = 'asm_snp', diag_kind='kde')"
   ]
  },
  {
   "cell_type": "code",
   "execution_count": 24,
   "id": "121b08f5-8e0a-4cdd-9542-944b91096f7f",
   "metadata": {},
   "outputs": [
    {
     "data": {
      "text/plain": [
       "Index(['asm_snp', 'sample_category', 'region_inf', 'region_sup',\n",
       "       'region_nb_cpg', 'nb_cpg_found', 'nb_reads', 'dnase', 'encode_ChiP_V2',\n",
       "       'tf_motifs', 'global_cpg_fm', 'tot_nb_cpg', 'tot_nb_reads', 'cpg_fm',\n",
       "       'cpg_pos', 'std_read_fm', 'mean_read_fm', 'std_cpg_fm', 'mean_cpg_fm',\n",
       "       'std_cpg_dist', 'mean_cpg_dist', 'read_fm_kernel_0', 'read_fm_kernel_1',\n",
       "       'read_fm_kernel_2', 'read_fm_kernel_3', 'read_fm_kernel_4',\n",
       "       'read_fm_kernel_5', 'read_fm_kernel_6', 'read_fm_kernel_7',\n",
       "       'read_fm_kernel_8', 'read_fm_kernel_9', 'read_fm_kernel_10',\n",
       "       'cpg_fm_kernel_0', 'cpg_fm_kernel_1', 'cpg_fm_kernel_2',\n",
       "       'cpg_fm_kernel_3', 'cpg_fm_kernel_4', 'cpg_fm_kernel_5',\n",
       "       'cpg_fm_kernel_6', 'cpg_fm_kernel_7', 'cpg_fm_kernel_8',\n",
       "       'cpg_fm_kernel_9', 'cpg_fm_kernel_10', 'cpg_dist_kernel_0',\n",
       "       'cpg_dist_kernel_1', 'cpg_dist_kernel_2', 'cpg_dist_kernel_3',\n",
       "       'cpg_dist_kernel_4'],\n",
       "      dtype='object')"
      ]
     },
     "execution_count": 24,
     "metadata": {},
     "output_type": "execute_result"
    }
   ],
   "source": [
    "raw_df.columns"
   ]
  },
  {
   "cell_type": "code",
   "execution_count": 25,
   "id": "b79f67df-b84f-4456-99a7-93e12d2916ec",
   "metadata": {},
   "outputs": [],
   "source": [
    "def convert_epi_signal(epi_signal):\n",
    "  print(\"Processing signal\", epi_signal)\n",
    "  unique_values = raw_df[epi_signal].unique()\n",
    "  print(unique_values)\n",
    "  min_epi_value = 0 # It's always zero (no signal) for all signals\n",
    "  median_epi_value = np.median(unique_values)\n",
    "  print(\"Median epi value:\", median_epi_value)\n",
    "  epi_signal_null = epi_signal + \"_null\"\n",
    "  epi_signal_low = epi_signal + \"_low\"\n",
    "  epi_signal_high = epi_signal + \"_high\"\n",
    "  raw_df[epi_signal_null] = raw_df[epi_signal].apply(lambda x: 1 if x == min_epi_value else 0)\n",
    "  raw_df[epi_signal_low] = raw_df[epi_signal].apply(lambda x: 1 if (x > min_epi_value and x <= median_epi_value) else 0)\n",
    "  raw_df[epi_signal_high] = raw_df[epi_signal].apply(lambda x: 1 if x > median_epi_value else 0)"
   ]
  },
  {
   "cell_type": "code",
   "execution_count": 26,
   "id": "e43bdee0-cd0f-46fd-b54a-301b1b3975cf",
   "metadata": {},
   "outputs": [
    {
     "name": "stdout",
     "output_type": "stream",
     "text": [
      "Processing signal dnase\n",
      "[0 1]\n",
      "Median epi value: 0.5\n",
      "Processing signal encode_ChiP_V2\n",
      "[ 0  1  6  2  3  4  7  5  8 11  9 10 13 15 12 22 25 14 26 16 19]\n",
      "Median epi value: 10.0\n",
      "Processing signal tf_motifs\n",
      "[ 3  0  6  7  2  4  1  5 10 11  9 12  8 17 15 13 14 16 20 38 26 19 37 21\n",
      " 34 24 27 25 31 29 23 32 42 18 28 33 22 46 63 36 30 44 39 60 40 68 49 47\n",
      " 35 43 57 45 53 54 48 56 41 52 75 51 66 59 55 74 61 69 50 62 64 90 65 67\n",
      " 58]\n",
      "Median epi value: 36.0\n"
     ]
    }
   ],
   "source": [
    "# Apply the function to all epigenetic signals\n",
    "for epi_signal in ['dnase', 'encode_ChiP_V2', 'tf_motifs']:\n",
    "  convert_epi_signal(epi_signal)"
   ]
  },
  {
   "cell_type": "code",
   "execution_count": 27,
   "id": "10fceac6-13e4-44f9-80e7-cad08a4f7ce8",
   "metadata": {},
   "outputs": [],
   "source": [
    "# Delete the raw epigenetic signals\n",
    "# for epi_signal in ['dnase', 'encode_ChiP_V2', 'tf_motifs']:\n",
    "#   raw_df.drop(epi_signal, axis = 1, inplace = True)"
   ]
  },
  {
   "cell_type": "code",
   "execution_count": 28,
   "id": "9229e490-b543-4f31-b69f-70cc5b3e8a4d",
   "metadata": {},
   "outputs": [
    {
     "data": {
      "text/plain": [
       "Index(['asm_snp', 'sample_category', 'region_inf', 'region_sup',\n",
       "       'region_nb_cpg', 'nb_cpg_found', 'nb_reads', 'dnase', 'encode_ChiP_V2',\n",
       "       'tf_motifs', 'global_cpg_fm', 'tot_nb_cpg', 'tot_nb_reads', 'cpg_fm',\n",
       "       'cpg_pos', 'std_read_fm', 'mean_read_fm', 'std_cpg_fm', 'mean_cpg_fm',\n",
       "       'std_cpg_dist', 'mean_cpg_dist', 'read_fm_kernel_0', 'read_fm_kernel_1',\n",
       "       'read_fm_kernel_2', 'read_fm_kernel_3', 'read_fm_kernel_4',\n",
       "       'read_fm_kernel_5', 'read_fm_kernel_6', 'read_fm_kernel_7',\n",
       "       'read_fm_kernel_8', 'read_fm_kernel_9', 'read_fm_kernel_10',\n",
       "       'cpg_fm_kernel_0', 'cpg_fm_kernel_1', 'cpg_fm_kernel_2',\n",
       "       'cpg_fm_kernel_3', 'cpg_fm_kernel_4', 'cpg_fm_kernel_5',\n",
       "       'cpg_fm_kernel_6', 'cpg_fm_kernel_7', 'cpg_fm_kernel_8',\n",
       "       'cpg_fm_kernel_9', 'cpg_fm_kernel_10', 'cpg_dist_kernel_0',\n",
       "       'cpg_dist_kernel_1', 'cpg_dist_kernel_2', 'cpg_dist_kernel_3',\n",
       "       'cpg_dist_kernel_4', 'dnase_null', 'dnase_low', 'dnase_high',\n",
       "       'encode_ChiP_V2_null', 'encode_ChiP_V2_low', 'encode_ChiP_V2_high',\n",
       "       'tf_motifs_null', 'tf_motifs_low', 'tf_motifs_high'],\n",
       "      dtype='object')"
      ]
     },
     "execution_count": 28,
     "metadata": {},
     "output_type": "execute_result"
    }
   ],
   "source": [
    "raw_df.columns"
   ]
  },
  {
   "cell_type": "markdown",
   "id": "4aae6224-d8e0-4444-8d19-6ef29d7742e1",
   "metadata": {
    "tags": []
   },
   "source": [
    "## Create an \"image\" of the genomic region\n",
    "\n",
    "We create an 1D-image (length: genomic region interval) with 3 information per \"pixel\": CpG presence (0 or 1), CpG coverage, CpG fractional methylation"
   ]
  },
  {
   "cell_type": "code",
   "execution_count": 29,
   "id": "d30e5e77-f178-4d1b-b8b5-0d9754bd0855",
   "metadata": {},
   "outputs": [],
   "source": [
    "# Create arrays of positions, fractional methylation, and coverage for CpGs (~2h30)\n",
    "def create_genomic_array(df):\n",
    "    genomic_positions = []\n",
    "    genomic_fm = []\n",
    "    for position in range(df['region_inf'], df['region_sup'] + 1):\n",
    "        if position in df['cpg_pos']:\n",
    "            new_pos = 1\n",
    "            pos_index = df['cpg_pos'].index(position)\n",
    "            new_fm = df['cpg_fm'][pos_index]\n",
    "        else:\n",
    "            new_pos = 0\n",
    "            new_fm = 0\n",
    "        genomic_positions = genomic_positions + [new_pos]\n",
    "        genomic_fm = genomic_fm + [new_fm]\n",
    "    return np.transpose([genomic_positions, genomic_fm])\n"
   ]
  },
  {
   "cell_type": "code",
   "execution_count": 30,
   "id": "7706ea3d-e4a0-4398-bc26-ee64f817daee",
   "metadata": {},
   "outputs": [
    {
     "data": {
      "text/html": [
       "<div>\n",
       "<style scoped>\n",
       "    .dataframe tbody tr th:only-of-type {\n",
       "        vertical-align: middle;\n",
       "    }\n",
       "\n",
       "    .dataframe tbody tr th {\n",
       "        vertical-align: top;\n",
       "    }\n",
       "\n",
       "    .dataframe thead th {\n",
       "        text-align: right;\n",
       "    }\n",
       "</style>\n",
       "<table border=\"1\" class=\"dataframe\">\n",
       "  <thead>\n",
       "    <tr style=\"text-align: right;\">\n",
       "      <th></th>\n",
       "      <th>cpg_pos</th>\n",
       "      <th>region_inf</th>\n",
       "      <th>region_sup</th>\n",
       "      <th>cpg_fm</th>\n",
       "      <th>genomic_pic</th>\n",
       "    </tr>\n",
       "  </thead>\n",
       "  <tbody>\n",
       "    <tr>\n",
       "      <th>0</th>\n",
       "      <td>[2]</td>\n",
       "      <td>1</td>\n",
       "      <td>4</td>\n",
       "      <td>[0.0]</td>\n",
       "      <td>[[0.0, 0.0], [1.0, 0.0], [0.0, 0.0], [0.0, 0.0]]</td>\n",
       "    </tr>\n",
       "    <tr>\n",
       "      <th>1</th>\n",
       "      <td>[21, 22]</td>\n",
       "      <td>20</td>\n",
       "      <td>23</td>\n",
       "      <td>[1.0, 0.0]</td>\n",
       "      <td>[[0.0, 0.0], [1.0, 1.0], [1.0, 0.0], [0.0, 0.0]]</td>\n",
       "    </tr>\n",
       "  </tbody>\n",
       "</table>\n",
       "</div>"
      ],
      "text/plain": [
       "    cpg_pos  region_inf  region_sup      cpg_fm  \\\n",
       "0       [2]           1           4       [0.0]   \n",
       "1  [21, 22]          20          23  [1.0, 0.0]   \n",
       "\n",
       "                                        genomic_pic  \n",
       "0  [[0.0, 0.0], [1.0, 0.0], [0.0, 0.0], [0.0, 0.0]]  \n",
       "1  [[0.0, 0.0], [1.0, 1.0], [1.0, 0.0], [0.0, 0.0]]  "
      ]
     },
     "execution_count": 30,
     "metadata": {},
     "output_type": "execute_result"
    }
   ],
   "source": [
    "# Test function\n",
    "d = {'cpg_pos': [[2],[21,22]], \n",
    "              'region_inf':[1,20], \n",
    "              'region_sup':[4,23],\n",
    "              'cpg_fm': [[0.0],[1.0,0.0]]\n",
    "             }\n",
    "example_df = pd.DataFrame(data = d)\n",
    "example_df['genomic_pic'] = example_df.apply(lambda x: create_genomic_array(x), axis = 1)\n",
    "example_df"
   ]
  },
  {
   "cell_type": "markdown",
   "id": "6018cf7e-bdf4-4be4-af9f-42d14e7723c0",
   "metadata": {},
   "source": [
    "### Split the dataset for calculating the images"
   ]
  },
  {
   "cell_type": "code",
   "execution_count": 31,
   "id": "06096995-690f-4aab-8bc5-259e884992ff",
   "metadata": {},
   "outputs": [
    {
     "name": "stdout",
     "output_type": "stream",
     "text": [
      "The dataframe has been split into 77386 pieces\n"
     ]
    }
   ],
   "source": [
    "# Split the dataframe into a list of dataframes of 10 rows. Otherwise it stalls\n",
    "nb_dataframe_pieces = max(1, round(raw_df.shape[0]/50))\n",
    "raw_df_pieces = np.array_split(raw_df, nb_dataframe_pieces)\n",
    "print(\"The dataframe has been split into\", nb_dataframe_pieces, \"pieces\")\n"
   ]
  },
  {
   "cell_type": "code",
   "execution_count": 32,
   "id": "4ff4e0f2-9355-4174-8d14-cf1333af9495",
   "metadata": {},
   "outputs": [
    {
     "name": "stdout",
     "output_type": "stream",
     "text": [
      "processing the piece at position: 77385\n"
     ]
    }
   ],
   "source": [
    "# Apply the function to the dataframe which we split before because it takes a lot of memory.\n",
    "for df_piece in range(nb_dataframe_pieces): # nb_dataframe_pieces\n",
    "        clear_output(wait=True)\n",
    "        print(\"processing the piece at position:\", df_piece)\n",
    "        raw_df_pieces[df_piece]['genomic_matrix'] = raw_df_pieces[df_piece].apply(lambda x: create_genomic_array(x), \n",
    "                                                                                      axis = 1)"
   ]
  },
  {
   "cell_type": "code",
   "execution_count": null,
   "id": "192e3c7b-0731-4766-95db-0713df166b97",
   "metadata": {},
   "outputs": [
    {
     "name": "stdout",
     "output_type": "stream",
     "text": [
      "processing the piece at position: 20484\n"
     ]
    }
   ],
   "source": [
    "# Concatenate the dataframes\n",
    "prepared_df = pd.DataFrame()\n",
    "\n",
    "for df_piece in range(nb_dataframe_pieces):\n",
    "    clear_output(wait=True)\n",
    "    print(\"processing the piece at position:\", df_piece)\n",
    "    tmp_df = raw_df_pieces[df_piece]\n",
    "    for var in ['cpg_pos', 'cpg_fm', 'region_inf', 'region_sup']:\n",
    "        tmp_df.drop(var, axis = 1, inplace = True)\n",
    "    prepared_df = prepared_df.append(tmp_df)"
   ]
  },
  {
   "cell_type": "markdown",
   "id": "c23fd340-7827-4182-b371-554436af51f8",
   "metadata": {
    "tags": []
   },
   "source": [
    "## Save dataframe with features on Cloud Storage"
   ]
  },
  {
   "cell_type": "code",
   "execution_count": null,
   "id": "9cf90a2f-dc29-4a84-8c3d-500e3bf49c35",
   "metadata": {},
   "outputs": [],
   "source": [
    "# Check the columns\n",
    "prepared_df.columns"
   ]
  },
  {
   "cell_type": "code",
   "execution_count": null,
   "id": "7cdade84-79fc-452e-9ab7-11317804c23d",
   "metadata": {},
   "outputs": [],
   "source": [
    "# Obtain the date/time\n",
    "now = datetime.today()\n",
    "dt_string = now.strftime(\"%Y-%m-%d_%H-%M-%S\")\n",
    "print(dt_string)"
   ]
  },
  {
   "cell_type": "code",
   "execution_count": null,
   "id": "52abf4ba-fd30-4102-b419-2713aeaa79f0",
   "metadata": {},
   "outputs": [],
   "source": [
    "# Export the variable names to the bucket\n",
    "sys.stdout = open(\"variables.txt\", \"w\")\n",
    "%whos"
   ]
  },
  {
   "cell_type": "code",
   "execution_count": null,
   "id": "940d939f-8b48-4670-bba5-9877e03b3f49",
   "metadata": {},
   "outputs": [],
   "source": [
    "# Export variable names to to Cloud Storage\n",
    "dt_string = str(GENOMIC_INTERVAL) + \"bp_\" + str(NB_ROWS_RAW_DATASET) + \"rows_\" + dt_string\n",
    "!gsutil cp variables.txt gs://$DEEPASM_BUCKET/notebook/$dt_string/"
   ]
  },
  {
   "cell_type": "code",
   "execution_count": null,
   "id": "67397ca8-78ff-44ac-8f7f-9114182fc3ac",
   "metadata": {},
   "outputs": [],
   "source": [
    "if EXPORT_PROCESSED_DATA == True:\n",
    "    \n",
    "    nb_pieces_export = max(1, round(raw_df.shape[0]/10000))\n",
    "    prepared_df_pieces = np.array_split(prepared_df, nb_pieces_export)\n",
    "    print(\"The dataframe has been split into\", nb_pieces_export, \"pieces\")\n",
    "    \n",
    "    for df_piece in range(nb_pieces_export):\n",
    "        print(\"processing the piece at position:\", df_piece)\n",
    "        df_to_export = prepared_df_pieces[df_piece]\n",
    "        print(\"Size of dataframe:\", df_to_export.shape)\n",
    "\n",
    "        print(\"Saving the file as HDF5...\")\n",
    "        file_name = \"prepared_df_\" + str(df_piece) + \".h5\"\n",
    "        print(\"File name:\", file_name)\n",
    "        df_to_export.to_hdf(file_name, key = 'df', mode = 'w')\n",
    "\n",
    "        print(\"Exporting file to bucket...\")\n",
    "        !gsutil cp $file_name gs://$DEEPASM_BUCKET/notebook/$dt_string/\n",
    "else:\n",
    "        print(\"Not exporting the scaled DF per variable\")"
   ]
  },
  {
   "cell_type": "markdown",
   "id": "ac4449d8-ef60-4d41-b099-19781a2817f5",
   "metadata": {},
   "source": [
    "## Importing prepared features from bucket"
   ]
  },
  {
   "cell_type": "code",
   "execution_count": 70,
   "id": "b31230ac-36bd-47da-9055-b840367e4c25",
   "metadata": {},
   "outputs": [
    {
     "data": {
      "text/plain": [
       "'Processing file:'"
      ]
     },
     "metadata": {},
     "output_type": "display_data"
    },
    {
     "data": {
      "text/plain": [
       "47"
      ]
     },
     "metadata": {},
     "output_type": "display_data"
    },
    {
     "data": {
      "text/plain": [
       "'gs://deepasm/notebook/250bp_500000rows_2022-03-15_16-04-20/prepared_df_47.h5'"
      ]
     },
     "metadata": {},
     "output_type": "display_data"
    },
    {
     "name": "stdout",
     "output_type": "stream",
     "text": [
      "Copying gs://deepasm/notebook/250bp_500000rows_2022-03-15_16-04-20/prepared_df_47.h5...\n",
      "/ [1 files][ 43.9 MiB/ 43.9 MiB]                                                \n",
      "Operation completed over 1 objects/43.9 MiB.                                     \n"
     ]
    }
   ],
   "source": [
    "if IMPORT_PROCESSED_DATA == True:\n",
    "    display(\"Downloading from the bucket...\")\n",
    "    # Obtain path from GCP Cloud Storage\n",
    "    bucket_path = \"gs://\" + PROCESSED_DATA_PATH\n",
    "    file_path = bucket_path + \"/*.h5\"\n",
    "\n",
    "    # Find all the H5 files with the same normalization method.\n",
    "    !gsutil ls $file_path > list_to_download.txt\n",
    "    files_to_download_df = pd.read_csv('list_to_download.txt', header=None)\n",
    "\n",
    "    prepared_df = pd.DataFrame()\n",
    "\n",
    "    for index_file in range(files_to_download_df.shape[0]):\n",
    "        clear_output(wait=True)\n",
    "        display(\"Processing file:\", index_file)\n",
    "        file_name_bucket = bucket_path + \"/prepared_df_\" + str(index_file) + \".h5\"\n",
    "        display(file_name_bucket)\n",
    "        file_name_local = \"prepared_df_\" +  str(index_file) + \".h5\"\n",
    "        !gsutil cp $file_name_bucket $file_name_local\n",
    "        tmp = pd.read_hdf(file_name_local)\n",
    "        prepared_df = prepared_df.append(tmp)\n",
    "else:\n",
    "    display(\"Not downloading from the bucket\")\n",
    "    prepared_df = pd.DataFrame()\n",
    "    !ls *.h5 > list_files.txt\n",
    "    files_to_append = pd.read_csv('list_files.txt', header=None)\n",
    "    for file_number in range(files_to_append.shape[0]):\n",
    "        clear_output(wait=True)\n",
    "        file_name_local = \"prepared_df_\" +  str(file_number) + \".h5\"\n",
    "        print(\"Processing:\", file_name_local)\n",
    "        tmp = pd.read_hdf(file_name_local)\n",
    "        prepared_df = prepared_df.append(tmp)"
   ]
  },
  {
   "cell_type": "code",
   "execution_count": 71,
   "id": "653db181-b4d3-42f9-87d3-af0df13d3daa",
   "metadata": {},
   "outputs": [
    {
     "name": "stdout",
     "output_type": "stream",
     "text": [
      "Dataset size: (483092, 54)\n",
      "Columns of dataset: Index(['asm_snp', 'sample_category', 'region_nb_cpg', 'nb_cpg_found',\n",
      "       'nb_reads', 'dnase', 'encode_ChiP_V2', 'tf_motifs', 'global_cpg_fm',\n",
      "       'tot_nb_cpg', 'tot_nb_reads', 'std_read_fm', 'mean_read_fm',\n",
      "       'std_cpg_fm', 'mean_cpg_fm', 'std_cpg_dist', 'mean_cpg_dist',\n",
      "       'read_fm_kernel_0', 'read_fm_kernel_1', 'read_fm_kernel_2',\n",
      "       'read_fm_kernel_3', 'read_fm_kernel_4', 'read_fm_kernel_5',\n",
      "       'read_fm_kernel_6', 'read_fm_kernel_7', 'read_fm_kernel_8',\n",
      "       'read_fm_kernel_9', 'read_fm_kernel_10', 'cpg_fm_kernel_0',\n",
      "       'cpg_fm_kernel_1', 'cpg_fm_kernel_2', 'cpg_fm_kernel_3',\n",
      "       'cpg_fm_kernel_4', 'cpg_fm_kernel_5', 'cpg_fm_kernel_6',\n",
      "       'cpg_fm_kernel_7', 'cpg_fm_kernel_8', 'cpg_fm_kernel_9',\n",
      "       'cpg_fm_kernel_10', 'cpg_dist_kernel_0', 'cpg_dist_kernel_1',\n",
      "       'cpg_dist_kernel_2', 'cpg_dist_kernel_3', 'cpg_dist_kernel_4',\n",
      "       'dnase_null', 'dnase_low', 'dnase_high', 'encode_ChiP_V2_null',\n",
      "       'encode_ChiP_V2_low', 'encode_ChiP_V2_high', 'tf_motifs_null',\n",
      "       'tf_motifs_low', 'tf_motifs_high', 'genomic_matrix'],\n",
      "      dtype='object')\n"
     ]
    }
   ],
   "source": [
    "print(\"Dataset size:\", prepared_df.shape)\n",
    "print(\"Columns of dataset:\", prepared_df.columns)"
   ]
  },
  {
   "cell_type": "markdown",
   "id": "66f11de7-362c-499d-8cc0-03b7f6bd8748",
   "metadata": {},
   "source": [
    "## Class weights\n",
    "\n",
    "There are approximately 100x more regions without ASM than with ASM. We'll have to use weights in our training."
   ]
  },
  {
   "cell_type": "code",
   "execution_count": 72,
   "id": "51b93e1b-580a-42df-88cd-2273b892649e",
   "metadata": {},
   "outputs": [
    {
     "name": "stdout",
     "output_type": "stream",
     "text": [
      "Number of regions assessed for ASM: 483092\n",
      "Regions with ASM found: 6706 (1.39% of total)\n",
      "\n"
     ]
    }
   ],
   "source": [
    "neg, pos = np.bincount(prepared_df['asm_snp'])\n",
    "total = neg + pos\n",
    "print('Number of regions assessed for ASM: {}\\nRegions with ASM found: {} ({:.2f}% of total)\\n'.format(\n",
    "    total, pos, 100 * pos / total))"
   ]
  },
  {
   "cell_type": "code",
   "execution_count": 73,
   "id": "0cb591cd-0295-4ee8-8334-07199035fed7",
   "metadata": {},
   "outputs": [
    {
     "name": "stdout",
     "output_type": "stream",
     "text": [
      "Weight for class 0: 0.51\n",
      "Weight for class 1: 36.02\n"
     ]
    }
   ],
   "source": [
    "# Scaling by total/2 helps keep the loss to a similar magnitude.\n",
    "# The sum of the weights of all examples stays the same.\n",
    "weight_for_0 = (1 / neg)*(total)/2.0 \n",
    "weight_for_1 = (1 / pos)*(total)/2.0\n",
    "\n",
    "class_weight_asm = {0: weight_for_0, 1: weight_for_1}\n",
    "\n",
    "print('Weight for class 0: {:.2f}'.format(weight_for_0))\n",
    "print('Weight for class 1: {:.2f}'.format(weight_for_1))"
   ]
  },
  {
   "cell_type": "markdown",
   "id": "f8f31db6-6e8b-4050-b1ca-10876e376d8a",
   "metadata": {},
   "source": [
    "## Normalize the features"
   ]
  },
  {
   "cell_type": "code",
   "execution_count": 74,
   "id": "921c0908-86bd-40d6-ab7d-66e4f519b9e4",
   "metadata": {},
   "outputs": [
    {
     "data": {
      "text/plain": [
       "Index(['asm_snp', 'sample_category', 'region_nb_cpg', 'nb_cpg_found',\n",
       "       'nb_reads', 'dnase', 'encode_ChiP_V2', 'tf_motifs', 'global_cpg_fm',\n",
       "       'tot_nb_cpg', 'tot_nb_reads', 'std_read_fm', 'mean_read_fm',\n",
       "       'std_cpg_fm', 'mean_cpg_fm', 'std_cpg_dist', 'mean_cpg_dist',\n",
       "       'read_fm_kernel_0', 'read_fm_kernel_1', 'read_fm_kernel_2',\n",
       "       'read_fm_kernel_3', 'read_fm_kernel_4', 'read_fm_kernel_5',\n",
       "       'read_fm_kernel_6', 'read_fm_kernel_7', 'read_fm_kernel_8',\n",
       "       'read_fm_kernel_9', 'read_fm_kernel_10', 'cpg_fm_kernel_0',\n",
       "       'cpg_fm_kernel_1', 'cpg_fm_kernel_2', 'cpg_fm_kernel_3',\n",
       "       'cpg_fm_kernel_4', 'cpg_fm_kernel_5', 'cpg_fm_kernel_6',\n",
       "       'cpg_fm_kernel_7', 'cpg_fm_kernel_8', 'cpg_fm_kernel_9',\n",
       "       'cpg_fm_kernel_10', 'cpg_dist_kernel_0', 'cpg_dist_kernel_1',\n",
       "       'cpg_dist_kernel_2', 'cpg_dist_kernel_3', 'cpg_dist_kernel_4',\n",
       "       'dnase_null', 'dnase_low', 'dnase_high', 'encode_ChiP_V2_null',\n",
       "       'encode_ChiP_V2_low', 'encode_ChiP_V2_high', 'tf_motifs_null',\n",
       "       'tf_motifs_low', 'tf_motifs_high', 'genomic_matrix'],\n",
       "      dtype='object')"
      ]
     },
     "execution_count": 74,
     "metadata": {},
     "output_type": "execute_result"
    }
   ],
   "source": [
    "prepared_df.columns"
   ]
  },
  {
   "cell_type": "code",
   "execution_count": 75,
   "id": "46dcd565-8237-48da-8926-79d00290eac3",
   "metadata": {},
   "outputs": [],
   "source": [
    "non_continous_columns = ['asm_snp', 'sample_category', 'dnase', \n",
    "                                    'dnase_high', 'dnase_null', 'dnase_low', \n",
    "                                    'encode_ChiP_V2_low', 'encode_ChiP_V2_null', 'encode_ChiP_V2_high',\n",
    "                                    'tf_motifs_null', 'tf_motifs_low', 'tf_motifs_null',\n",
    "                                    'genomic_matrix']"
   ]
  },
  {
   "cell_type": "code",
   "execution_count": 76,
   "id": "7be36d41-5ae6-4a59-974e-56b5621582b8",
   "metadata": {},
   "outputs": [
    {
     "data": {
      "text/html": [
       "<div>\n",
       "<style scoped>\n",
       "    .dataframe tbody tr th:only-of-type {\n",
       "        vertical-align: middle;\n",
       "    }\n",
       "\n",
       "    .dataframe tbody tr th {\n",
       "        vertical-align: top;\n",
       "    }\n",
       "\n",
       "    .dataframe thead th {\n",
       "        text-align: right;\n",
       "    }\n",
       "</style>\n",
       "<table border=\"1\" class=\"dataframe\">\n",
       "  <thead>\n",
       "    <tr style=\"text-align: right;\">\n",
       "      <th></th>\n",
       "      <th>region_nb_cpg</th>\n",
       "      <th>nb_cpg_found</th>\n",
       "      <th>nb_reads</th>\n",
       "      <th>encode_ChiP_V2</th>\n",
       "      <th>tf_motifs</th>\n",
       "      <th>global_cpg_fm</th>\n",
       "      <th>tot_nb_cpg</th>\n",
       "      <th>tot_nb_reads</th>\n",
       "      <th>std_read_fm</th>\n",
       "      <th>mean_read_fm</th>\n",
       "      <th>...</th>\n",
       "      <th>dnase_high</th>\n",
       "      <th>dnase_null</th>\n",
       "      <th>dnase_low</th>\n",
       "      <th>encode_ChiP_V2_low</th>\n",
       "      <th>encode_ChiP_V2_null</th>\n",
       "      <th>encode_ChiP_V2_high</th>\n",
       "      <th>tf_motifs_null</th>\n",
       "      <th>tf_motifs_low</th>\n",
       "      <th>tf_motifs_null</th>\n",
       "      <th>genomic_matrix</th>\n",
       "    </tr>\n",
       "  </thead>\n",
       "  <tbody>\n",
       "    <tr>\n",
       "      <th>0</th>\n",
       "      <td>-0.844228</td>\n",
       "      <td>-0.781621</td>\n",
       "      <td>-0.009571</td>\n",
       "      <td>-0.129449</td>\n",
       "      <td>-0.519321</td>\n",
       "      <td>-1.603182</td>\n",
       "      <td>0.719085</td>\n",
       "      <td>0.370250</td>\n",
       "      <td>0.538110</td>\n",
       "      <td>-1.895438</td>\n",
       "      <td>...</td>\n",
       "      <td>0</td>\n",
       "      <td>1</td>\n",
       "      <td>0</td>\n",
       "      <td>0</td>\n",
       "      <td>1</td>\n",
       "      <td>0</td>\n",
       "      <td>1</td>\n",
       "      <td>0</td>\n",
       "      <td>1</td>\n",
       "      <td>[[0.0, 0.0], [0.0, 0.0], [0.0, 0.0], [0.0, 0.0...</td>\n",
       "    </tr>\n",
       "    <tr>\n",
       "      <th>1</th>\n",
       "      <td>1.550885</td>\n",
       "      <td>1.484286</td>\n",
       "      <td>0.157892</td>\n",
       "      <td>-0.129449</td>\n",
       "      <td>1.203046</td>\n",
       "      <td>0.934097</td>\n",
       "      <td>0.160580</td>\n",
       "      <td>-0.251736</td>\n",
       "      <td>-1.375386</td>\n",
       "      <td>0.880083</td>\n",
       "      <td>...</td>\n",
       "      <td>0</td>\n",
       "      <td>1</td>\n",
       "      <td>0</td>\n",
       "      <td>0</td>\n",
       "      <td>1</td>\n",
       "      <td>0</td>\n",
       "      <td>0</td>\n",
       "      <td>1</td>\n",
       "      <td>0</td>\n",
       "      <td>[[0.0, 0.0], [0.0, 0.0], [0.0, 0.0], [0.0, 0.0...</td>\n",
       "    </tr>\n",
       "    <tr>\n",
       "      <th>2</th>\n",
       "      <td>0.353328</td>\n",
       "      <td>0.477216</td>\n",
       "      <td>-0.751191</td>\n",
       "      <td>-0.129449</td>\n",
       "      <td>-0.232260</td>\n",
       "      <td>-0.251547</td>\n",
       "      <td>0.996009</td>\n",
       "      <td>0.941261</td>\n",
       "      <td>0.205677</td>\n",
       "      <td>0.133074</td>\n",
       "      <td>...</td>\n",
       "      <td>0</td>\n",
       "      <td>1</td>\n",
       "      <td>0</td>\n",
       "      <td>0</td>\n",
       "      <td>1</td>\n",
       "      <td>0</td>\n",
       "      <td>0</td>\n",
       "      <td>1</td>\n",
       "      <td>0</td>\n",
       "      <td>[[0.0, 0.0], [0.0, 0.0], [0.0, 0.0], [0.0, 0.0...</td>\n",
       "    </tr>\n",
       "    <tr>\n",
       "      <th>3</th>\n",
       "      <td>0.592840</td>\n",
       "      <td>0.728983</td>\n",
       "      <td>-0.440189</td>\n",
       "      <td>-0.129449</td>\n",
       "      <td>1.490107</td>\n",
       "      <td>-1.603182</td>\n",
       "      <td>0.719085</td>\n",
       "      <td>0.370250</td>\n",
       "      <td>0.848262</td>\n",
       "      <td>-0.698062</td>\n",
       "      <td>...</td>\n",
       "      <td>1</td>\n",
       "      <td>0</td>\n",
       "      <td>0</td>\n",
       "      <td>0</td>\n",
       "      <td>1</td>\n",
       "      <td>0</td>\n",
       "      <td>0</td>\n",
       "      <td>1</td>\n",
       "      <td>0</td>\n",
       "      <td>[[1.0, 0.808], [0.0, 0.0], [0.0, 0.0], [0.0, 0...</td>\n",
       "    </tr>\n",
       "    <tr>\n",
       "      <th>4</th>\n",
       "      <td>-0.365206</td>\n",
       "      <td>-0.278086</td>\n",
       "      <td>-0.727268</td>\n",
       "      <td>-0.129449</td>\n",
       "      <td>-0.519321</td>\n",
       "      <td>0.566547</td>\n",
       "      <td>-0.854463</td>\n",
       "      <td>-1.878348</td>\n",
       "      <td>-1.355779</td>\n",
       "      <td>0.891570</td>\n",
       "      <td>...</td>\n",
       "      <td>1</td>\n",
       "      <td>0</td>\n",
       "      <td>0</td>\n",
       "      <td>0</td>\n",
       "      <td>1</td>\n",
       "      <td>0</td>\n",
       "      <td>1</td>\n",
       "      <td>0</td>\n",
       "      <td>1</td>\n",
       "      <td>[[0.0, 0.0], [0.0, 0.0], [0.0, 0.0], [0.0, 0.0...</td>\n",
       "    </tr>\n",
       "    <tr>\n",
       "      <th>...</th>\n",
       "      <td>...</td>\n",
       "      <td>...</td>\n",
       "      <td>...</td>\n",
       "      <td>...</td>\n",
       "      <td>...</td>\n",
       "      <td>...</td>\n",
       "      <td>...</td>\n",
       "      <td>...</td>\n",
       "      <td>...</td>\n",
       "      <td>...</td>\n",
       "      <td>...</td>\n",
       "      <td>...</td>\n",
       "      <td>...</td>\n",
       "      <td>...</td>\n",
       "      <td>...</td>\n",
       "      <td>...</td>\n",
       "      <td>...</td>\n",
       "      <td>...</td>\n",
       "      <td>...</td>\n",
       "      <td>...</td>\n",
       "      <td>...</td>\n",
       "    </tr>\n",
       "    <tr>\n",
       "      <th>489883</th>\n",
       "      <td>0.353328</td>\n",
       "      <td>0.225448</td>\n",
       "      <td>-0.320573</td>\n",
       "      <td>-0.129449</td>\n",
       "      <td>-0.519321</td>\n",
       "      <td>-1.603182</td>\n",
       "      <td>0.719085</td>\n",
       "      <td>0.370250</td>\n",
       "      <td>-1.287153</td>\n",
       "      <td>0.848662</td>\n",
       "      <td>...</td>\n",
       "      <td>0</td>\n",
       "      <td>1</td>\n",
       "      <td>0</td>\n",
       "      <td>0</td>\n",
       "      <td>1</td>\n",
       "      <td>0</td>\n",
       "      <td>1</td>\n",
       "      <td>0</td>\n",
       "      <td>1</td>\n",
       "      <td>[[0.0, 0.0], [0.0, 0.0], [0.0, 0.0], [0.0, 0.0...</td>\n",
       "    </tr>\n",
       "    <tr>\n",
       "      <th>489884</th>\n",
       "      <td>0.592840</td>\n",
       "      <td>0.477216</td>\n",
       "      <td>1.043052</td>\n",
       "      <td>-0.129449</td>\n",
       "      <td>-0.519321</td>\n",
       "      <td>-0.619097</td>\n",
       "      <td>0.376794</td>\n",
       "      <td>1.849665</td>\n",
       "      <td>-0.824598</td>\n",
       "      <td>0.784807</td>\n",
       "      <td>...</td>\n",
       "      <td>0</td>\n",
       "      <td>1</td>\n",
       "      <td>0</td>\n",
       "      <td>0</td>\n",
       "      <td>1</td>\n",
       "      <td>0</td>\n",
       "      <td>1</td>\n",
       "      <td>0</td>\n",
       "      <td>1</td>\n",
       "      <td>[[0.0, 0.0], [0.0, 0.0], [0.0, 0.0], [0.0, 0.0...</td>\n",
       "    </tr>\n",
       "    <tr>\n",
       "      <th>489885</th>\n",
       "      <td>-0.365206</td>\n",
       "      <td>-0.529854</td>\n",
       "      <td>-0.320573</td>\n",
       "      <td>-0.129449</td>\n",
       "      <td>-0.519321</td>\n",
       "      <td>-0.180409</td>\n",
       "      <td>-0.681004</td>\n",
       "      <td>0.233424</td>\n",
       "      <td>-1.690885</td>\n",
       "      <td>0.937857</td>\n",
       "      <td>...</td>\n",
       "      <td>0</td>\n",
       "      <td>1</td>\n",
       "      <td>0</td>\n",
       "      <td>0</td>\n",
       "      <td>1</td>\n",
       "      <td>0</td>\n",
       "      <td>1</td>\n",
       "      <td>0</td>\n",
       "      <td>1</td>\n",
       "      <td>[[0.0, 0.0], [0.0, 0.0], [0.0, 0.0], [0.0, 0.0...</td>\n",
       "    </tr>\n",
       "    <tr>\n",
       "      <th>489886</th>\n",
       "      <td>-0.844228</td>\n",
       "      <td>-0.781621</td>\n",
       "      <td>0.181815</td>\n",
       "      <td>-0.129449</td>\n",
       "      <td>-0.519321</td>\n",
       "      <td>0.649543</td>\n",
       "      <td>0.098143</td>\n",
       "      <td>-0.478474</td>\n",
       "      <td>-0.263116</td>\n",
       "      <td>0.682097</td>\n",
       "      <td>...</td>\n",
       "      <td>0</td>\n",
       "      <td>1</td>\n",
       "      <td>0</td>\n",
       "      <td>0</td>\n",
       "      <td>1</td>\n",
       "      <td>0</td>\n",
       "      <td>1</td>\n",
       "      <td>0</td>\n",
       "      <td>1</td>\n",
       "      <td>[[0.0, 0.0], [0.0, 0.0], [0.0, 0.0], [0.0, 0.0...</td>\n",
       "    </tr>\n",
       "    <tr>\n",
       "      <th>489887</th>\n",
       "      <td>0.113817</td>\n",
       "      <td>-0.026319</td>\n",
       "      <td>1.138745</td>\n",
       "      <td>-0.129449</td>\n",
       "      <td>-0.519321</td>\n",
       "      <td>1.242365</td>\n",
       "      <td>0.914709</td>\n",
       "      <td>0.305239</td>\n",
       "      <td>-0.183796</td>\n",
       "      <td>0.748318</td>\n",
       "      <td>...</td>\n",
       "      <td>1</td>\n",
       "      <td>0</td>\n",
       "      <td>0</td>\n",
       "      <td>0</td>\n",
       "      <td>1</td>\n",
       "      <td>0</td>\n",
       "      <td>1</td>\n",
       "      <td>0</td>\n",
       "      <td>1</td>\n",
       "      <td>[[0.0, 0.0], [0.0, 0.0], [0.0, 0.0], [0.0, 0.0...</td>\n",
       "    </tr>\n",
       "  </tbody>\n",
       "</table>\n",
       "<p>483092 rows × 55 columns</p>\n",
       "</div>"
      ],
      "text/plain": [
       "        region_nb_cpg  nb_cpg_found  nb_reads  encode_ChiP_V2  tf_motifs  \\\n",
       "0           -0.844228     -0.781621 -0.009571       -0.129449  -0.519321   \n",
       "1            1.550885      1.484286  0.157892       -0.129449   1.203046   \n",
       "2            0.353328      0.477216 -0.751191       -0.129449  -0.232260   \n",
       "3            0.592840      0.728983 -0.440189       -0.129449   1.490107   \n",
       "4           -0.365206     -0.278086 -0.727268       -0.129449  -0.519321   \n",
       "...               ...           ...       ...             ...        ...   \n",
       "489883       0.353328      0.225448 -0.320573       -0.129449  -0.519321   \n",
       "489884       0.592840      0.477216  1.043052       -0.129449  -0.519321   \n",
       "489885      -0.365206     -0.529854 -0.320573       -0.129449  -0.519321   \n",
       "489886      -0.844228     -0.781621  0.181815       -0.129449  -0.519321   \n",
       "489887       0.113817     -0.026319  1.138745       -0.129449  -0.519321   \n",
       "\n",
       "        global_cpg_fm  tot_nb_cpg  tot_nb_reads  std_read_fm  mean_read_fm  \\\n",
       "0           -1.603182    0.719085      0.370250     0.538110     -1.895438   \n",
       "1            0.934097    0.160580     -0.251736    -1.375386      0.880083   \n",
       "2           -0.251547    0.996009      0.941261     0.205677      0.133074   \n",
       "3           -1.603182    0.719085      0.370250     0.848262     -0.698062   \n",
       "4            0.566547   -0.854463     -1.878348    -1.355779      0.891570   \n",
       "...               ...         ...           ...          ...           ...   \n",
       "489883      -1.603182    0.719085      0.370250    -1.287153      0.848662   \n",
       "489884      -0.619097    0.376794      1.849665    -0.824598      0.784807   \n",
       "489885      -0.180409   -0.681004      0.233424    -1.690885      0.937857   \n",
       "489886       0.649543    0.098143     -0.478474    -0.263116      0.682097   \n",
       "489887       1.242365    0.914709      0.305239    -0.183796      0.748318   \n",
       "\n",
       "        ...  dnase_high  dnase_null  dnase_low  encode_ChiP_V2_low  \\\n",
       "0       ...           0           1          0                   0   \n",
       "1       ...           0           1          0                   0   \n",
       "2       ...           0           1          0                   0   \n",
       "3       ...           1           0          0                   0   \n",
       "4       ...           1           0          0                   0   \n",
       "...     ...         ...         ...        ...                 ...   \n",
       "489883  ...           0           1          0                   0   \n",
       "489884  ...           0           1          0                   0   \n",
       "489885  ...           0           1          0                   0   \n",
       "489886  ...           0           1          0                   0   \n",
       "489887  ...           1           0          0                   0   \n",
       "\n",
       "        encode_ChiP_V2_null  encode_ChiP_V2_high  tf_motifs_null  \\\n",
       "0                         1                    0               1   \n",
       "1                         1                    0               0   \n",
       "2                         1                    0               0   \n",
       "3                         1                    0               0   \n",
       "4                         1                    0               1   \n",
       "...                     ...                  ...             ...   \n",
       "489883                    1                    0               1   \n",
       "489884                    1                    0               1   \n",
       "489885                    1                    0               1   \n",
       "489886                    1                    0               1   \n",
       "489887                    1                    0               1   \n",
       "\n",
       "        tf_motifs_low  tf_motifs_null  \\\n",
       "0                   0               1   \n",
       "1                   1               0   \n",
       "2                   1               0   \n",
       "3                   1               0   \n",
       "4                   0               1   \n",
       "...               ...             ...   \n",
       "489883              0               1   \n",
       "489884              0               1   \n",
       "489885              0               1   \n",
       "489886              0               1   \n",
       "489887              0               1   \n",
       "\n",
       "                                           genomic_matrix  \n",
       "0       [[0.0, 0.0], [0.0, 0.0], [0.0, 0.0], [0.0, 0.0...  \n",
       "1       [[0.0, 0.0], [0.0, 0.0], [0.0, 0.0], [0.0, 0.0...  \n",
       "2       [[0.0, 0.0], [0.0, 0.0], [0.0, 0.0], [0.0, 0.0...  \n",
       "3       [[1.0, 0.808], [0.0, 0.0], [0.0, 0.0], [0.0, 0...  \n",
       "4       [[0.0, 0.0], [0.0, 0.0], [0.0, 0.0], [0.0, 0.0...  \n",
       "...                                                   ...  \n",
       "489883  [[0.0, 0.0], [0.0, 0.0], [0.0, 0.0], [0.0, 0.0...  \n",
       "489884  [[0.0, 0.0], [0.0, 0.0], [0.0, 0.0], [0.0, 0.0...  \n",
       "489885  [[0.0, 0.0], [0.0, 0.0], [0.0, 0.0], [0.0, 0.0...  \n",
       "489886  [[0.0, 0.0], [0.0, 0.0], [0.0, 0.0], [0.0, 0.0...  \n",
       "489887  [[0.0, 0.0], [0.0, 0.0], [0.0, 0.0], [0.0, 0.0...  \n",
       "\n",
       "[483092 rows x 55 columns]"
      ]
     },
     "execution_count": 76,
     "metadata": {},
     "output_type": "execute_result"
    }
   ],
   "source": [
    "# Copy dataframe and remove non-continous variables\n",
    "normalized_df = prepared_df.copy()\n",
    "normalized_df = normalized_df.drop(columns = non_continous_columns)\n",
    "\n",
    "# Apply StandardScaler to continous variables\n",
    "columns = normalized_df.columns\n",
    "scaler = StandardScaler()\n",
    "scaler.fit(normalized_df)\n",
    "normalized_df = pd.DataFrame(data = scaler.transform(normalized_df), index = normalized_df.index)\n",
    "normalized_df.columns = columns\n",
    "\n",
    "# Concatenate with other columns\n",
    "normalized_df = pd.concat([normalized_df, \n",
    "                           prepared_df[non_continous_columns]], axis = 1)\n",
    "\n",
    "normalized_df"
   ]
  },
  {
   "cell_type": "markdown",
   "id": "e1626493-61fd-4c9f-8f2b-df05048c1d96",
   "metadata": {
    "jp-MarkdownHeadingCollapsed": true,
    "tags": []
   },
   "source": [
    "## Perform a PCA to reduce the number of the features to be used in the models"
   ]
  },
  {
   "cell_type": "code",
   "execution_count": 105,
   "id": "7938e1dd-8e0b-48db-8db2-1cb7b0803706",
   "metadata": {},
   "outputs": [],
   "source": [
    "# # Do a test on normalized features\n",
    "# features_df = normalized_df.copy()\n",
    "\n",
    "# # Not normalized features\n",
    "# #features_df = prepared_df.copy()\n"
   ]
  },
  {
   "cell_type": "code",
   "execution_count": 123,
   "id": "35b9ca48-1ce7-4cff-99c5-20cee3f0be3d",
   "metadata": {},
   "outputs": [
    {
     "data": {
      "text/plain": [
       "<AxesSubplot:>"
      ]
     },
     "execution_count": 123,
     "metadata": {},
     "output_type": "execute_result"
    },
    {
     "data": {
      "image/png": "[encoded data removed]",
      "text/plain": [
       "<Figure size 720x720 with 2 Axes>"
      ]
     },
     "metadata": {
      "needs_background": "light"
     },
     "output_type": "display_data"
    }
   ],
   "source": [
    "# corr_matrix = pd.DataFrame(abs(features_df.corr()))\n",
    "# sns.heatmap(corr_matrix)"
   ]
  },
  {
   "cell_type": "code",
   "execution_count": 140,
   "id": "97f3dcc3-da1c-496d-89c9-d012558b6cd0",
   "metadata": {},
   "outputs": [
    {
     "data": {
      "text/html": [
       "<div>\n",
       "<style scoped>\n",
       "    .dataframe tbody tr th:only-of-type {\n",
       "        vertical-align: middle;\n",
       "    }\n",
       "\n",
       "    .dataframe tbody tr th {\n",
       "        vertical-align: top;\n",
       "    }\n",
       "\n",
       "    .dataframe thead th {\n",
       "        text-align: right;\n",
       "    }\n",
       "</style>\n",
       "<table border=\"1\" class=\"dataframe\">\n",
       "  <thead>\n",
       "    <tr style=\"text-align: right;\">\n",
       "      <th></th>\n",
       "      <th>asm_snp</th>\n",
       "    </tr>\n",
       "  </thead>\n",
       "  <tbody>\n",
       "    <tr>\n",
       "      <th>read_fm_kernel_6</th>\n",
       "      <td>0.053496</td>\n",
       "    </tr>\n",
       "    <tr>\n",
       "      <th>std_cpg_fm</th>\n",
       "      <td>0.060246</td>\n",
       "    </tr>\n",
       "    <tr>\n",
       "      <th>cpg_fm_kernel_7</th>\n",
       "      <td>0.066350</td>\n",
       "    </tr>\n",
       "    <tr>\n",
       "      <th>cpg_fm_kernel_8</th>\n",
       "      <td>0.066822</td>\n",
       "    </tr>\n",
       "    <tr>\n",
       "      <th>read_fm_kernel_5</th>\n",
       "      <td>0.067951</td>\n",
       "    </tr>\n",
       "    <tr>\n",
       "      <th>read_fm_kernel_0</th>\n",
       "      <td>0.073214</td>\n",
       "    </tr>\n",
       "    <tr>\n",
       "      <th>sample_category</th>\n",
       "      <td>0.077299</td>\n",
       "    </tr>\n",
       "    <tr>\n",
       "      <th>global_cpg_fm</th>\n",
       "      <td>0.078505</td>\n",
       "    </tr>\n",
       "    <tr>\n",
       "      <th>read_fm_kernel_1</th>\n",
       "      <td>0.083070</td>\n",
       "    </tr>\n",
       "    <tr>\n",
       "      <th>read_fm_kernel_4</th>\n",
       "      <td>0.086682</td>\n",
       "    </tr>\n",
       "    <tr>\n",
       "      <th>cpg_fm_kernel_2</th>\n",
       "      <td>0.086810</td>\n",
       "    </tr>\n",
       "    <tr>\n",
       "      <th>mean_read_fm</th>\n",
       "      <td>0.095021</td>\n",
       "    </tr>\n",
       "    <tr>\n",
       "      <th>mean_cpg_fm</th>\n",
       "      <td>0.095092</td>\n",
       "    </tr>\n",
       "    <tr>\n",
       "      <th>read_fm_kernel_9</th>\n",
       "      <td>0.099203</td>\n",
       "    </tr>\n",
       "    <tr>\n",
       "      <th>read_fm_kernel_3</th>\n",
       "      <td>0.104026</td>\n",
       "    </tr>\n",
       "    <tr>\n",
       "      <th>read_fm_kernel_10</th>\n",
       "      <td>0.106576</td>\n",
       "    </tr>\n",
       "    <tr>\n",
       "      <th>read_fm_kernel_2</th>\n",
       "      <td>0.118325</td>\n",
       "    </tr>\n",
       "    <tr>\n",
       "      <th>cpg_fm_kernel_10</th>\n",
       "      <td>0.137609</td>\n",
       "    </tr>\n",
       "    <tr>\n",
       "      <th>std_read_fm</th>\n",
       "      <td>0.143349</td>\n",
       "    </tr>\n",
       "    <tr>\n",
       "      <th>cpg_fm_kernel_9</th>\n",
       "      <td>0.143990</td>\n",
       "    </tr>\n",
       "    <tr>\n",
       "      <th>cpg_fm_kernel_3</th>\n",
       "      <td>0.155179</td>\n",
       "    </tr>\n",
       "    <tr>\n",
       "      <th>cpg_fm_kernel_6</th>\n",
       "      <td>0.156640</td>\n",
       "    </tr>\n",
       "    <tr>\n",
       "      <th>cpg_fm_kernel_4</th>\n",
       "      <td>0.199885</td>\n",
       "    </tr>\n",
       "    <tr>\n",
       "      <th>cpg_fm_kernel_5</th>\n",
       "      <td>0.203748</td>\n",
       "    </tr>\n",
       "    <tr>\n",
       "      <th>asm_snp</th>\n",
       "      <td>1.000000</td>\n",
       "    </tr>\n",
       "  </tbody>\n",
       "</table>\n",
       "</div>"
      ],
      "text/plain": [
       "                    asm_snp\n",
       "read_fm_kernel_6   0.053496\n",
       "std_cpg_fm         0.060246\n",
       "cpg_fm_kernel_7    0.066350\n",
       "cpg_fm_kernel_8    0.066822\n",
       "read_fm_kernel_5   0.067951\n",
       "read_fm_kernel_0   0.073214\n",
       "sample_category    0.077299\n",
       "global_cpg_fm      0.078505\n",
       "read_fm_kernel_1   0.083070\n",
       "read_fm_kernel_4   0.086682\n",
       "cpg_fm_kernel_2    0.086810\n",
       "mean_read_fm       0.095021\n",
       "mean_cpg_fm        0.095092\n",
       "read_fm_kernel_9   0.099203\n",
       "read_fm_kernel_3   0.104026\n",
       "read_fm_kernel_10  0.106576\n",
       "read_fm_kernel_2   0.118325\n",
       "cpg_fm_kernel_10   0.137609\n",
       "std_read_fm        0.143349\n",
       "cpg_fm_kernel_9    0.143990\n",
       "cpg_fm_kernel_3    0.155179\n",
       "cpg_fm_kernel_6    0.156640\n",
       "cpg_fm_kernel_4    0.199885\n",
       "cpg_fm_kernel_5    0.203748\n",
       "asm_snp            1.000000"
      ]
     },
     "execution_count": 140,
     "metadata": {},
     "output_type": "execute_result"
    }
   ],
   "source": [
    "# corr_matrix = pd.DataFrame(abs(features_df.corr()['asm_snp'])).sort_values(by = 'asm_snp')\n",
    "# corr_matrix"
   ]
  },
  {
   "cell_type": "markdown",
   "id": "f7144bbf-b15f-41cd-97ed-4453a42d71eb",
   "metadata": {},
   "source": [
    "### Remove variables with no correlation"
   ]
  },
  {
   "cell_type": "code",
   "execution_count": 108,
   "id": "e64a3440-74f2-4467-871b-1864750f9494",
   "metadata": {},
   "outputs": [
    {
     "name": "stdout",
     "output_type": "stream",
     "text": [
      "['cpg_dist_kernel_0', 'dnase_low']\n"
     ]
    }
   ],
   "source": [
    "# vars_no_corr = list(corr_matrix[pd.isna(corr_matrix['asm_snp']) == True].index)\n",
    "# print(vars_no_corr)\n",
    "# features_df = features_df.drop(columns = vars_no_corr)"
   ]
  },
  {
   "cell_type": "markdown",
   "id": "cdea96ea-7ca8-40f0-8e38-c252a8863fb4",
   "metadata": {},
   "source": [
    "### Remove variables that are poorly correlated with ASM"
   ]
  },
  {
   "cell_type": "code",
   "execution_count": 109,
   "id": "2b029f39-714d-4d67-984b-43627207f9a8",
   "metadata": {},
   "outputs": [
    {
     "name": "stdout",
     "output_type": "stream",
     "text": [
      "['region_nb_cpg', 'nb_cpg_found', 'nb_reads', 'encode_ChiP_V2', 'tf_motifs', 'tot_nb_cpg', 'tot_nb_reads', 'std_cpg_dist', 'mean_cpg_dist', 'read_fm_kernel_7', 'read_fm_kernel_8', 'cpg_fm_kernel_0', 'cpg_fm_kernel_1', 'cpg_dist_kernel_1', 'cpg_dist_kernel_2', 'cpg_dist_kernel_3', 'cpg_dist_kernel_4', 'tf_motifs_high', 'dnase', 'dnase_high', 'dnase_null', 'encode_ChiP_V2_low', 'encode_ChiP_V2_null', 'encode_ChiP_V2_high', 'tf_motifs_null', 'tf_motifs_low', 'tf_motifs_null']\n"
     ]
    }
   ],
   "source": [
    "# vars_low_corr = list(corr_matrix[corr_matrix['asm_snp'] < MIN_CORR].index)\n",
    "# print(vars_low_corr)\n",
    "# features_df = features_df.drop(columns = vars_low_corr, axis =1)"
   ]
  },
  {
   "cell_type": "markdown",
   "id": "39eee5ed-4858-4277-987a-153e3e8672ea",
   "metadata": {},
   "source": [
    "### Run a PCA for the remaining variables"
   ]
  },
  {
   "cell_type": "code",
   "execution_count": 133,
   "id": "26fa7b62-051b-4cf9-ba28-64fdecd8a229",
   "metadata": {},
   "outputs": [
    {
     "name": "stdout",
     "output_type": "stream",
     "text": [
      "Number of features: 24\n"
     ]
    }
   ],
   "source": [
    "# #Remove the column of genomic matrix and labels\n",
    "# features_df_pca = features_df.copy()\n",
    "# features_df_pca = features_df_pca.drop(columns = ['asm_snp', 'genomic_matrix'])\n",
    "# print(\"Number of features:\", len(features_df_pca.columns))"
   ]
  },
  {
   "cell_type": "code",
   "execution_count": 134,
   "id": "8ff97713-e8bc-4ae6-a489-ce44c5a84508",
   "metadata": {},
   "outputs": [],
   "source": [
    "# pca = PCA(n_components=10)\n",
    "# principalComponents = pca.fit_transform(features_df_pca)"
   ]
  },
  {
   "cell_type": "code",
   "execution_count": 135,
   "id": "25e9ff45-f710-41d7-b5ad-2702828a8e3a",
   "metadata": {},
   "outputs": [
    {
     "name": "stdout",
     "output_type": "stream",
     "text": [
      "['pca_1', 'pca_2', 'pca_3', 'pca_4', 'pca_5', 'pca_6', 'pca_7', 'pca_8', 'pca_9', 'pca_10']\n"
     ]
    }
   ],
   "source": [
    "# columns_pca = []\n",
    "# for k in range(1,11):\n",
    "#     name = 'pca_' + str(k)\n",
    "#     columns_pca = columns_pca + [name]\n",
    "# print(columns_pca)\n",
    "# features_df_pca = pd.DataFrame(data = principalComponents, columns = columns_pca, index = features_df.index)"
   ]
  },
  {
   "cell_type": "code",
   "execution_count": 136,
   "id": "f9cd6768-7341-4029-9ca8-749bf206d40d",
   "metadata": {},
   "outputs": [
    {
     "data": {
      "text/html": [
       "<div>\n",
       "<style scoped>\n",
       "    .dataframe tbody tr th:only-of-type {\n",
       "        vertical-align: middle;\n",
       "    }\n",
       "\n",
       "    .dataframe tbody tr th {\n",
       "        vertical-align: top;\n",
       "    }\n",
       "\n",
       "    .dataframe thead th {\n",
       "        text-align: right;\n",
       "    }\n",
       "</style>\n",
       "<table border=\"1\" class=\"dataframe\">\n",
       "  <thead>\n",
       "    <tr style=\"text-align: right;\">\n",
       "      <th></th>\n",
       "      <th>pca_1</th>\n",
       "      <th>pca_2</th>\n",
       "      <th>pca_3</th>\n",
       "      <th>pca_4</th>\n",
       "      <th>pca_5</th>\n",
       "      <th>pca_6</th>\n",
       "      <th>pca_7</th>\n",
       "      <th>pca_8</th>\n",
       "      <th>pca_9</th>\n",
       "      <th>pca_10</th>\n",
       "      <th>asm_snp</th>\n",
       "      <th>genomic_matrix</th>\n",
       "    </tr>\n",
       "  </thead>\n",
       "  <tbody>\n",
       "    <tr>\n",
       "      <th>0</th>\n",
       "      <td>5.648832</td>\n",
       "      <td>2.841814</td>\n",
       "      <td>-0.804502</td>\n",
       "      <td>-0.282548</td>\n",
       "      <td>-0.640087</td>\n",
       "      <td>-0.546380</td>\n",
       "      <td>0.185798</td>\n",
       "      <td>-0.115402</td>\n",
       "      <td>0.532518</td>\n",
       "      <td>0.289689</td>\n",
       "      <td>0</td>\n",
       "      <td>[[0.0, 0.0], [0.0, 0.0], [0.0, 0.0], [0.0, 0.0...</td>\n",
       "    </tr>\n",
       "    <tr>\n",
       "      <th>1</th>\n",
       "      <td>-3.687701</td>\n",
       "      <td>1.061724</td>\n",
       "      <td>-0.518748</td>\n",
       "      <td>0.458308</td>\n",
       "      <td>0.559741</td>\n",
       "      <td>0.528794</td>\n",
       "      <td>0.064901</td>\n",
       "      <td>-0.038650</td>\n",
       "      <td>-0.262289</td>\n",
       "      <td>-0.180496</td>\n",
       "      <td>0</td>\n",
       "      <td>[[0.0, 0.0], [0.0, 0.0], [0.0, 0.0], [0.0, 0.0...</td>\n",
       "    </tr>\n",
       "    <tr>\n",
       "      <th>2</th>\n",
       "      <td>0.783934</td>\n",
       "      <td>-1.016317</td>\n",
       "      <td>-2.282964</td>\n",
       "      <td>-1.440246</td>\n",
       "      <td>0.357206</td>\n",
       "      <td>-0.263926</td>\n",
       "      <td>-1.028692</td>\n",
       "      <td>0.021469</td>\n",
       "      <td>-0.173809</td>\n",
       "      <td>-0.789667</td>\n",
       "      <td>0</td>\n",
       "      <td>[[0.0, 0.0], [0.0, 0.0], [0.0, 0.0], [0.0, 0.0...</td>\n",
       "    </tr>\n",
       "    <tr>\n",
       "      <th>3</th>\n",
       "      <td>5.968170</td>\n",
       "      <td>-2.562183</td>\n",
       "      <td>-1.700728</td>\n",
       "      <td>1.001177</td>\n",
       "      <td>-0.623926</td>\n",
       "      <td>1.015342</td>\n",
       "      <td>0.965507</td>\n",
       "      <td>-0.705747</td>\n",
       "      <td>1.211605</td>\n",
       "      <td>-0.410239</td>\n",
       "      <td>0</td>\n",
       "      <td>[[1.0, 0.808], [0.0, 0.0], [0.0, 0.0], [0.0, 0...</td>\n",
       "    </tr>\n",
       "    <tr>\n",
       "      <th>4</th>\n",
       "      <td>-3.693951</td>\n",
       "      <td>1.074243</td>\n",
       "      <td>-0.645609</td>\n",
       "      <td>0.383509</td>\n",
       "      <td>0.261182</td>\n",
       "      <td>0.507587</td>\n",
       "      <td>0.063970</td>\n",
       "      <td>-0.236126</td>\n",
       "      <td>-0.234776</td>\n",
       "      <td>-0.112176</td>\n",
       "      <td>0</td>\n",
       "      <td>[[0.0, 0.0], [0.0, 0.0], [0.0, 0.0], [0.0, 0.0...</td>\n",
       "    </tr>\n",
       "    <tr>\n",
       "      <th>...</th>\n",
       "      <td>...</td>\n",
       "      <td>...</td>\n",
       "      <td>...</td>\n",
       "      <td>...</td>\n",
       "      <td>...</td>\n",
       "      <td>...</td>\n",
       "      <td>...</td>\n",
       "      <td>...</td>\n",
       "      <td>...</td>\n",
       "      <td>...</td>\n",
       "      <td>...</td>\n",
       "      <td>...</td>\n",
       "    </tr>\n",
       "    <tr>\n",
       "      <th>489883</th>\n",
       "      <td>-3.259157</td>\n",
       "      <td>0.820616</td>\n",
       "      <td>-0.865058</td>\n",
       "      <td>-0.368734</td>\n",
       "      <td>-1.878826</td>\n",
       "      <td>0.004368</td>\n",
       "      <td>0.447122</td>\n",
       "      <td>-0.366355</td>\n",
       "      <td>0.025628</td>\n",
       "      <td>-0.306312</td>\n",
       "      <td>0</td>\n",
       "      <td>[[0.0, 0.0], [0.0, 0.0], [0.0, 0.0], [0.0, 0.0...</td>\n",
       "    </tr>\n",
       "    <tr>\n",
       "      <th>489884</th>\n",
       "      <td>-3.150317</td>\n",
       "      <td>0.510794</td>\n",
       "      <td>-0.580027</td>\n",
       "      <td>-0.304704</td>\n",
       "      <td>-0.973869</td>\n",
       "      <td>-0.128911</td>\n",
       "      <td>0.296156</td>\n",
       "      <td>-0.216677</td>\n",
       "      <td>0.143690</td>\n",
       "      <td>0.026059</td>\n",
       "      <td>0</td>\n",
       "      <td>[[0.0, 0.0], [0.0, 0.0], [0.0, 0.0], [0.0, 0.0...</td>\n",
       "    </tr>\n",
       "    <tr>\n",
       "      <th>489885</th>\n",
       "      <td>-3.663320</td>\n",
       "      <td>1.468092</td>\n",
       "      <td>-1.012480</td>\n",
       "      <td>0.399935</td>\n",
       "      <td>-0.833682</td>\n",
       "      <td>0.646013</td>\n",
       "      <td>0.396948</td>\n",
       "      <td>-0.243186</td>\n",
       "      <td>-0.474474</td>\n",
       "      <td>-0.210601</td>\n",
       "      <td>0</td>\n",
       "      <td>[[0.0, 0.0], [0.0, 0.0], [0.0, 0.0], [0.0, 0.0...</td>\n",
       "    </tr>\n",
       "    <tr>\n",
       "      <th>489886</th>\n",
       "      <td>-2.579507</td>\n",
       "      <td>-0.409037</td>\n",
       "      <td>0.497304</td>\n",
       "      <td>-0.273411</td>\n",
       "      <td>0.546975</td>\n",
       "      <td>-0.283218</td>\n",
       "      <td>0.010784</td>\n",
       "      <td>-0.008432</td>\n",
       "      <td>0.116585</td>\n",
       "      <td>-0.362557</td>\n",
       "      <td>0</td>\n",
       "      <td>[[0.0, 0.0], [0.0, 0.0], [0.0, 0.0], [0.0, 0.0...</td>\n",
       "    </tr>\n",
       "    <tr>\n",
       "      <th>489887</th>\n",
       "      <td>-3.312784</td>\n",
       "      <td>0.712184</td>\n",
       "      <td>-0.184403</td>\n",
       "      <td>0.441122</td>\n",
       "      <td>0.897003</td>\n",
       "      <td>-0.077398</td>\n",
       "      <td>-0.001935</td>\n",
       "      <td>0.538488</td>\n",
       "      <td>0.060550</td>\n",
       "      <td>0.266547</td>\n",
       "      <td>0</td>\n",
       "      <td>[[0.0, 0.0], [0.0, 0.0], [0.0, 0.0], [0.0, 0.0...</td>\n",
       "    </tr>\n",
       "  </tbody>\n",
       "</table>\n",
       "<p>483092 rows × 12 columns</p>\n",
       "</div>"
      ],
      "text/plain": [
       "           pca_1     pca_2     pca_3     pca_4     pca_5     pca_6     pca_7  \\\n",
       "0       5.648832  2.841814 -0.804502 -0.282548 -0.640087 -0.546380  0.185798   \n",
       "1      -3.687701  1.061724 -0.518748  0.458308  0.559741  0.528794  0.064901   \n",
       "2       0.783934 -1.016317 -2.282964 -1.440246  0.357206 -0.263926 -1.028692   \n",
       "3       5.968170 -2.562183 -1.700728  1.001177 -0.623926  1.015342  0.965507   \n",
       "4      -3.693951  1.074243 -0.645609  0.383509  0.261182  0.507587  0.063970   \n",
       "...          ...       ...       ...       ...       ...       ...       ...   \n",
       "489883 -3.259157  0.820616 -0.865058 -0.368734 -1.878826  0.004368  0.447122   \n",
       "489884 -3.150317  0.510794 -0.580027 -0.304704 -0.973869 -0.128911  0.296156   \n",
       "489885 -3.663320  1.468092 -1.012480  0.399935 -0.833682  0.646013  0.396948   \n",
       "489886 -2.579507 -0.409037  0.497304 -0.273411  0.546975 -0.283218  0.010784   \n",
       "489887 -3.312784  0.712184 -0.184403  0.441122  0.897003 -0.077398 -0.001935   \n",
       "\n",
       "           pca_8     pca_9    pca_10  asm_snp  \\\n",
       "0      -0.115402  0.532518  0.289689        0   \n",
       "1      -0.038650 -0.262289 -0.180496        0   \n",
       "2       0.021469 -0.173809 -0.789667        0   \n",
       "3      -0.705747  1.211605 -0.410239        0   \n",
       "4      -0.236126 -0.234776 -0.112176        0   \n",
       "...          ...       ...       ...      ...   \n",
       "489883 -0.366355  0.025628 -0.306312        0   \n",
       "489884 -0.216677  0.143690  0.026059        0   \n",
       "489885 -0.243186 -0.474474 -0.210601        0   \n",
       "489886 -0.008432  0.116585 -0.362557        0   \n",
       "489887  0.538488  0.060550  0.266547        0   \n",
       "\n",
       "                                           genomic_matrix  \n",
       "0       [[0.0, 0.0], [0.0, 0.0], [0.0, 0.0], [0.0, 0.0...  \n",
       "1       [[0.0, 0.0], [0.0, 0.0], [0.0, 0.0], [0.0, 0.0...  \n",
       "2       [[0.0, 0.0], [0.0, 0.0], [0.0, 0.0], [0.0, 0.0...  \n",
       "3       [[1.0, 0.808], [0.0, 0.0], [0.0, 0.0], [0.0, 0...  \n",
       "4       [[0.0, 0.0], [0.0, 0.0], [0.0, 0.0], [0.0, 0.0...  \n",
       "...                                                   ...  \n",
       "489883  [[0.0, 0.0], [0.0, 0.0], [0.0, 0.0], [0.0, 0.0...  \n",
       "489884  [[0.0, 0.0], [0.0, 0.0], [0.0, 0.0], [0.0, 0.0...  \n",
       "489885  [[0.0, 0.0], [0.0, 0.0], [0.0, 0.0], [0.0, 0.0...  \n",
       "489886  [[0.0, 0.0], [0.0, 0.0], [0.0, 0.0], [0.0, 0.0...  \n",
       "489887  [[0.0, 0.0], [0.0, 0.0], [0.0, 0.0], [0.0, 0.0...  \n",
       "\n",
       "[483092 rows x 12 columns]"
      ]
     },
     "execution_count": 136,
     "metadata": {},
     "output_type": "execute_result"
    }
   ],
   "source": [
    "# features_df_pca = pd.concat([features_df_pca, features_df[['asm_snp', 'genomic_matrix']]], axis = 1)\n",
    "# features_df_pca"
   ]
  },
  {
   "cell_type": "code",
   "execution_count": 137,
   "id": "dd508432-1839-437a-a88a-aaa42b129199",
   "metadata": {},
   "outputs": [
    {
     "data": {
      "text/plain": [
       "<AxesSubplot:>"
      ]
     },
     "execution_count": 137,
     "metadata": {},
     "output_type": "execute_result"
    },
    {
     "data": {
      "image/png": "[encoded data removed]",
      "text/plain": [
       "<Figure size 720x720 with 2 Axes>"
      ]
     },
     "metadata": {
      "needs_background": "light"
     },
     "output_type": "display_data"
    }
   ],
   "source": [
    "# corr_matrix = pd.DataFrame(abs(features_df_pca.corr()))\n",
    "# sns.heatmap(corr_matrix)"
   ]
  },
  {
   "cell_type": "code",
   "execution_count": 141,
   "id": "dc38b188-003e-424b-9579-eda7edd3e583",
   "metadata": {},
   "outputs": [
    {
     "data": {
      "text/html": [
       "<div>\n",
       "<style scoped>\n",
       "    .dataframe tbody tr th:only-of-type {\n",
       "        vertical-align: middle;\n",
       "    }\n",
       "\n",
       "    .dataframe tbody tr th {\n",
       "        vertical-align: top;\n",
       "    }\n",
       "\n",
       "    .dataframe thead th {\n",
       "        text-align: right;\n",
       "    }\n",
       "</style>\n",
       "<table border=\"1\" class=\"dataframe\">\n",
       "  <thead>\n",
       "    <tr style=\"text-align: right;\">\n",
       "      <th></th>\n",
       "      <th>asm_snp</th>\n",
       "    </tr>\n",
       "  </thead>\n",
       "  <tbody>\n",
       "    <tr>\n",
       "      <th>pca_9</th>\n",
       "      <td>0.009998</td>\n",
       "    </tr>\n",
       "    <tr>\n",
       "      <th>pca_3</th>\n",
       "      <td>0.015564</td>\n",
       "    </tr>\n",
       "    <tr>\n",
       "      <th>pca_8</th>\n",
       "      <td>0.018471</td>\n",
       "    </tr>\n",
       "    <tr>\n",
       "      <th>pca_7</th>\n",
       "      <td>0.036512</td>\n",
       "    </tr>\n",
       "    <tr>\n",
       "      <th>pca_6</th>\n",
       "      <td>0.043287</td>\n",
       "    </tr>\n",
       "    <tr>\n",
       "      <th>pca_10</th>\n",
       "      <td>0.048365</td>\n",
       "    </tr>\n",
       "    <tr>\n",
       "      <th>pca_2</th>\n",
       "      <td>0.050133</td>\n",
       "    </tr>\n",
       "    <tr>\n",
       "      <th>pca_5</th>\n",
       "      <td>0.053500</td>\n",
       "    </tr>\n",
       "    <tr>\n",
       "      <th>pca_1</th>\n",
       "      <td>0.144427</td>\n",
       "    </tr>\n",
       "    <tr>\n",
       "      <th>pca_4</th>\n",
       "      <td>0.159708</td>\n",
       "    </tr>\n",
       "    <tr>\n",
       "      <th>asm_snp</th>\n",
       "      <td>1.000000</td>\n",
       "    </tr>\n",
       "  </tbody>\n",
       "</table>\n",
       "</div>"
      ],
      "text/plain": [
       "          asm_snp\n",
       "pca_9    0.009998\n",
       "pca_3    0.015564\n",
       "pca_8    0.018471\n",
       "pca_7    0.036512\n",
       "pca_6    0.043287\n",
       "pca_10   0.048365\n",
       "pca_2    0.050133\n",
       "pca_5    0.053500\n",
       "pca_1    0.144427\n",
       "pca_4    0.159708\n",
       "asm_snp  1.000000"
      ]
     },
     "execution_count": 141,
     "metadata": {},
     "output_type": "execute_result"
    }
   ],
   "source": [
    "# corr_matrix = pd.DataFrame(abs(features_df_pca.corr()['asm_snp'])).sort_values(by = 'asm_snp')\n",
    "# corr_matrix"
   ]
  },
  {
   "cell_type": "markdown",
   "id": "05d39f59-bad8-4ed9-90fd-27d746d1e0b8",
   "metadata": {},
   "source": [
    "## Split the dataset for training and testing\n",
    "\n",
    "We use the sklearn `train_test_split` function. The validation set will be carved out from the training set when training the model. The validation set will be  used during the model fitting to evaluate the loss and any metrics, however the model is not fit with this data. The test set is completely unused during the training phase and is only used at the end to evaluate how well the model generalizes to new data. "
   ]
  },
  {
   "cell_type": "code",
   "execution_count": 77,
   "id": "1fb3c4b5-c0b7-4414-8348-c0605eea67b6",
   "metadata": {},
   "outputs": [],
   "source": [
    "df_for_split = normalized_df.copy()"
   ]
  },
  {
   "cell_type": "code",
   "execution_count": 78,
   "id": "5bde7afa-f9f7-4f27-a627-91be3074dbd2",
   "metadata": {},
   "outputs": [
    {
     "data": {
      "text/plain": [
       "'Image features'"
      ]
     },
     "metadata": {},
     "output_type": "display_data"
    },
    {
     "data": {
      "text/plain": [
       "'Size of the TRAIN dataset for images:'"
      ]
     },
     "metadata": {},
     "output_type": "display_data"
    },
    {
     "data": {
      "text/plain": [
       "(386473, 250, 2)"
      ]
     },
     "metadata": {},
     "output_type": "display_data"
    },
    {
     "data": {
      "text/plain": [
       "'Size of the TEST dataset for images:'"
      ]
     },
     "metadata": {},
     "output_type": "display_data"
    },
    {
     "data": {
      "text/plain": [
       "(96619, 250, 2)"
      ]
     },
     "metadata": {},
     "output_type": "display_data"
    },
    {
     "data": {
      "text/plain": [
       "'SCALAR FEATURES:'"
      ]
     },
     "metadata": {},
     "output_type": "display_data"
    },
    {
     "data": {
      "text/plain": [
       "'Size of the TRAIN datase:'"
      ]
     },
     "metadata": {},
     "output_type": "display_data"
    },
    {
     "data": {
      "text/plain": [
       "(386473, 53)"
      ]
     },
     "metadata": {},
     "output_type": "display_data"
    },
    {
     "data": {
      "text/plain": [
       "'Size of the TEST dataset:'"
      ]
     },
     "metadata": {},
     "output_type": "display_data"
    },
    {
     "data": {
      "text/plain": [
       "(96619, 53)"
      ]
     },
     "metadata": {},
     "output_type": "display_data"
    },
    {
     "data": {
      "text/plain": [
       "'LABELS:'"
      ]
     },
     "metadata": {},
     "output_type": "display_data"
    },
    {
     "data": {
      "text/plain": [
       "'Size of the TRAIN LABELS dataset:'"
      ]
     },
     "metadata": {},
     "output_type": "display_data"
    },
    {
     "data": {
      "text/plain": [
       "(386473,)"
      ]
     },
     "metadata": {},
     "output_type": "display_data"
    },
    {
     "data": {
      "text/plain": [
       "'Size of the TEST LABELS dataset:'"
      ]
     },
     "metadata": {},
     "output_type": "display_data"
    },
    {
     "data": {
      "text/plain": [
       "(96619,)"
      ]
     },
     "metadata": {},
     "output_type": "display_data"
    }
   ],
   "source": [
    "# Use a utility from sklearn to split and shuffle our dataset.\n",
    "train_df, test_df = train_test_split(df_for_split, test_size=TEST_SPLIT)\n",
    "\n",
    "# Form np arrays of labels\n",
    "train_labels = np.array(train_df.pop('asm_snp'))\n",
    "test_labels = np.array(test_df.pop('asm_snp'))\n",
    "\n",
    "# Np arrays of features for CNN/RNN\n",
    "train_image_feature = np.array(train_df['genomic_matrix'].tolist())\n",
    "test_image_feature = np.array(test_df['genomic_matrix'].tolist())\n",
    "\n",
    "# Remove the matrix for the datasets\n",
    "train_df.drop('genomic_matrix', axis = 1, inplace = True)\n",
    "test_df.drop('genomic_matrix', axis = 1, inplace = True)\n",
    "\n",
    "# np arrays for  linear/perceptron\n",
    "train_scalar_features = np.array(train_df)\n",
    "test_scalar_features = np.array(test_df)\n",
    "\n",
    "# Check size of arrays for CNN (X,250,3)\n",
    "display(\"Image features\")\n",
    "display(\"Size of the TRAIN dataset for images:\", train_image_feature.shape)\n",
    "display(\"Size of the TEST dataset for images:\", test_image_feature.shape)\n",
    "\n",
    "# # Check size of arrays for scalar features (X, 39)\n",
    "display(\"SCALAR FEATURES:\")\n",
    "display(\"Size of the TRAIN datase:\", train_scalar_features.shape)\n",
    "display(\"Size of the TEST dataset:\", test_scalar_features.shape)\n",
    "\n",
    "# # Check size of arrays for the labels\n",
    "display(\"LABELS:\")\n",
    "display(\"Size of the TRAIN LABELS dataset:\", train_labels.shape)\n",
    "display(\"Size of the TEST LABELS dataset:\", test_labels.shape)"
   ]
  },
  {
   "cell_type": "markdown",
   "id": "615cef5c-2b03-4553-b66b-2d36a60bfd91",
   "metadata": {
    "tags": []
   },
   "source": [
    "## Logistic regression"
   ]
  },
  {
   "cell_type": "code",
   "execution_count": 16,
   "id": "4a16a918-449b-445f-b312-c81ead250b7b",
   "metadata": {},
   "outputs": [],
   "source": [
    "def make_logistic_regression_model(output_bias = None):\n",
    "    if output_bias is not None:\n",
    "        output_bias = tf.keras.initializers.Constant(output_bias)\n",
    "    model = keras.Sequential()\n",
    "    \n",
    "    # Normalize the features\n",
    "    # model.add(\n",
    "    #     layers.BatchNormalization(\n",
    "    #         axis=-1,\n",
    "    #         momentum = 0.99,\n",
    "    #         epsilon = 0.001,\n",
    "    #         input_dim = train_scalar_features.shape[1])\n",
    "    # )\n",
    "    model.add(\n",
    "        layers.Normalization(\n",
    "            axis = 1,\n",
    "            input_dim = train_scalar_features.shape[1])\n",
    "    )\n",
    "    \n",
    "    # Linear model\n",
    "    model.add(\n",
    "        layers.Dense(\n",
    "                1,  # number of classes\n",
    "                activation='sigmoid', #'sigmoid' 'softmax'\n",
    "                kernel_regularizer = keras.regularizers.L1L2(\n",
    "                    l1 = L1_R, \n",
    "                    l2 = L2_R),\n",
    "                bias_initializer=output_bias\n",
    "                )\n",
    "    )\n",
    " \n",
    "  \n",
    "    model.compile(\n",
    "        optimizer = 'sgd' , # sgd = stochastic gradient descent, rmsprop\n",
    "        loss= 'binary_crossentropy', # 'mse' 'categorical_crossentropy', 'binary_crossentropy'\n",
    "        metrics = METRICS)\n",
    "\n",
    "    return model\n"
   ]
  },
  {
   "cell_type": "code",
   "execution_count": 17,
   "id": "76b1b309-16d9-4b5e-85ab-bde22b42dba0",
   "metadata": {},
   "outputs": [],
   "source": [
    "# normalizer = layers.Normalization()\n",
    "# normalizer.adapt(train_scalar_features)"
   ]
  },
  {
   "cell_type": "code",
   "execution_count": 18,
   "id": "8ee45aaf-045a-46d5-8f7c-1202f013c199",
   "metadata": {},
   "outputs": [],
   "source": [
    "# # Create a Normalization layer and set its internal state using the training data\n",
    "# #normalizer = layers.Normalization()\n",
    "# #normalizer.adapt(train_scalar_features)\n",
    "\n",
    "# input_shape = train_scalar_features.shape[1:]\n",
    "# print(input_shape)\n",
    "# inputs = keras.Input(shape=input_shape)\n",
    "# x = normalizer(inputs)\n",
    "# outputs = layers.Dense(1, activation=\"sigmoid\")(x)\n",
    "# linear_model = keras.Model(inputs, outputs)\n"
   ]
  },
  {
   "cell_type": "code",
   "execution_count": 19,
   "id": "b765c748-85de-468a-ae52-1ba6590a26c9",
   "metadata": {},
   "outputs": [],
   "source": [
    "# linear_model.compile(\n",
    "#         optimizer = 'sgd' , # sgd = stochastic gradient descent, rmsprop\n",
    "#         loss= 'binary_crossentropy', # 'mse' 'categorical_crossentropy', 'binary_crossentropy'\n",
    "#         metrics = METRICS)"
   ]
  },
  {
   "cell_type": "code",
   "execution_count": 20,
   "id": "f2ec731b-3677-4cc9-bc5f-28aa4079e175",
   "metadata": {},
   "outputs": [],
   "source": [
    "linear_model = make_logistic_regression_model()"
   ]
  },
  {
   "cell_type": "code",
   "execution_count": 21,
   "id": "243dcae0-a04f-4fbe-b46b-2f06f39bab9b",
   "metadata": {},
   "outputs": [
    {
     "name": "stdout",
     "output_type": "stream",
     "text": [
      "Model: \"sequential\"\n",
      "_________________________________________________________________\n",
      " Layer (type)                Output Shape              Param #   \n",
      "=================================================================\n",
      " normalization (Normalizatio  (None, 53)               107       \n",
      " n)                                                              \n",
      "                                                                 \n",
      " dense (Dense)               (None, 1)                 54        \n",
      "                                                                 \n",
      "=================================================================\n",
      "Total params: 161\n",
      "Trainable params: 54\n",
      "Non-trainable params: 107\n",
      "_________________________________________________________________\n"
     ]
    },
    {
     "data": {
      "image/png": "[encoded data removed]",
      "text/plain": [
       "<IPython.core.display.Image object>"
      ]
     },
     "execution_count": 21,
     "metadata": {},
     "output_type": "execute_result"
    }
   ],
   "source": [
    "linear_model.summary()\n",
    "keras.utils.plot_model(linear_model, \"linear_model.png\", show_shapes=True)"
   ]
  },
  {
   "cell_type": "code",
   "execution_count": null,
   "id": "9089d144-77ad-4cf6-92bd-01278e2d7055",
   "metadata": {},
   "outputs": [],
   "source": [
    "linear_training = linear_model.fit(\n",
    "    train_scalar_features,\n",
    "    train_labels,\n",
    "    batch_size = BATCH_SIZE,\n",
    "    epochs = EPOCHS,\n",
    "    callbacks = [EARLY_STOPPING],\n",
    "    validation_split = VALIDATION_SPLIT,\n",
    "    class_weight = class_weight_asm,\n",
    "    verbose = 0) "
   ]
  },
  {
   "cell_type": "code",
   "execution_count": 23,
   "id": "0143fd5e-3a70-4c8a-ab63-f3e4fdd8c13d",
   "metadata": {},
   "outputs": [
    {
     "data": {
      "image/png": "[encoded data removed]",
      "text/plain": [
       "<Figure size 720x720 with 4 Axes>"
      ]
     },
     "metadata": {
      "needs_background": "light"
     },
     "output_type": "display_data"
    }
   ],
   "source": [
    "plot_metrics(linear_training)"
   ]
  },
  {
   "cell_type": "code",
   "execution_count": 24,
   "id": "a2c44784-07aa-4f88-91d5-aade135911f5",
   "metadata": {},
   "outputs": [
    {
     "name": "stdout",
     "output_type": "stream",
     "text": [
      "99/99 [==============================] - 0s 4ms/step - loss: 0.4242 - tp: 1183.0000 - fp: 20926.0000 - tn: 76338.0000 - fn: 233.0000 - accuracy: 0.7856 - precision: 0.0535 - sensitivity: 0.8355 - auc: 0.8905\n",
      "Loss 0.424\n",
      "True positives 1183.0\n",
      "False positives 20926.0\n",
      "True negatives 76338.0\n",
      "False negatives 233.0\n",
      "Accuracy 0.786\n",
      "Precision 0.054\n",
      "Sensitivity 0.835\n",
      "AUC 0.89\n"
     ]
    }
   ],
   "source": [
    "# Evaluate model on the test dataset\n",
    "linear_results = linear_model.evaluate(test_scalar_features, test_labels, batch_size= BATCH_SIZE,\n",
    "                                           verbose=1)\n",
    "\n",
    "display_results(linear_results)"
   ]
  },
  {
   "cell_type": "markdown",
   "id": "94734896-b3e3-4f7b-9a29-b932984703e2",
   "metadata": {},
   "source": [
    "## Forest models"
   ]
  },
  {
   "cell_type": "markdown",
   "id": "90ba5104-d4d9-4aaf-bb4b-9a9c6cec04b0",
   "metadata": {},
   "source": [
    "### Simple Forest model"
   ]
  },
  {
   "cell_type": "code",
   "execution_count": 25,
   "id": "e80d4daa-2218-4f95-bb0f-ee33b0424c21",
   "metadata": {},
   "outputs": [
    {
     "name": "stdout",
     "output_type": "stream",
     "text": [
      "Use /tmp/tmpnijjppk3 as temporary training directory\n"
     ]
    }
   ],
   "source": [
    "simple_tree_model = tfdf.keras.RandomForestModel(\n",
    "    task=tfdf.keras.Task.CLASSIFICATION)\n",
    "\n",
    "simple_tree_model.compile(metrics=METRICS)"
   ]
  },
  {
   "cell_type": "code",
   "execution_count": 26,
   "id": "9dc0b62f-aa87-4cf6-bb3d-d9b1f059f2e0",
   "metadata": {},
   "outputs": [
    {
     "data": {
      "text/plain": [
       "<keras.callbacks.History at 0x7f894accdc90>"
      ]
     },
     "execution_count": 26,
     "metadata": {},
     "output_type": "execute_result"
    }
   ],
   "source": [
    "simple_tree_model.fit(x=train_scalar_features, \n",
    "             y = train_labels, \n",
    "             batch_size=BATCH_SIZE,\n",
    "             callbacks = [EARLY_STOPPING],\n",
    "             class_weight=class_weight_asm, \n",
    "             validation_split = VALIDATION_SPLIT,\n",
    "             verbose = 0)\n"
   ]
  },
  {
   "cell_type": "code",
   "execution_count": 27,
   "id": "9bf42da2-3031-4706-af79-1cfaea164975",
   "metadata": {},
   "outputs": [
    {
     "name": "stdout",
     "output_type": "stream",
     "text": [
      "99/99 [==============================] - 4s 32ms/step - loss: 0.0000e+00 - tp: 32.0000 - fp: 13.0000 - tn: 97251.0000 - fn: 1384.0000 - accuracy: 0.9858 - precision: 0.7111 - sensitivity: 0.0226 - auc: 0.8488\n"
     ]
    },
    {
     "data": {
      "text/plain": [
       "{'loss': 0.0,\n",
       " 'tp': 32.0,\n",
       " 'fp': 13.0,\n",
       " 'tn': 97251.0,\n",
       " 'fn': 1384.0,\n",
       " 'accuracy': 0.9858431220054626,\n",
       " 'precision': 0.7111111283302307,\n",
       " 'sensitivity': 0.02259887009859085,\n",
       " 'auc': 0.8487635850906372}"
      ]
     },
     "execution_count": 27,
     "metadata": {},
     "output_type": "execute_result"
    }
   ],
   "source": [
    "simple_tree_results = simple_tree_model.evaluate(\n",
    "    test_scalar_features, \n",
    "    test_labels, \n",
    "    batch_size = BATCH_SIZE, \n",
    "    return_dict=True)\n",
    "\n",
    "simple_tree_results"
   ]
  },
  {
   "cell_type": "markdown",
   "id": "7c4083ba-e019-4380-b8cf-02241ab5df25",
   "metadata": {},
   "source": [
    "### Gradient Boosted Tree model"
   ]
  },
  {
   "cell_type": "code",
   "execution_count": 28,
   "id": "a8c7dad3-27a3-4511-bafa-8bd4a80d7f26",
   "metadata": {},
   "outputs": [],
   "source": [
    "def create_gbt_model():\n",
    "    boosted_tree_model = tfdf.keras.GradientBoostedTreesModel(\n",
    "        #features = specify_feature_usages(df_for_split),\n",
    "        growing_strategy=GROWING_STRATEGY,\n",
    "        num_trees=NUM_TREES,\n",
    "        max_depth=MAX_DEPTH,\n",
    "        min_examples=MIN_EXAMPLES,\n",
    "        subsample=SUBSAMPLE,\n",
    "        task=tfdf.keras.Task.CLASSIFICATION,\n",
    "        loss=\"DEFAULT\",\n",
    "    )\n",
    "\n",
    "    boosted_tree_model.compile(metrics=METRICS)\n",
    "    return boosted_tree_model"
   ]
  },
  {
   "cell_type": "code",
   "execution_count": 29,
   "id": "cb4bf7ee-5a31-4c62-8ce0-96e585e89ecc",
   "metadata": {},
   "outputs": [
    {
     "name": "stdout",
     "output_type": "stream",
     "text": [
      "Use /tmp/tmpexq_7iyh as temporary training directory\n"
     ]
    }
   ],
   "source": [
    "boosted_tree_model = create_gbt_model()"
   ]
  },
  {
   "cell_type": "code",
   "execution_count": 30,
   "id": "cd3318ab-c493-46cf-a3c3-30a380c588f9",
   "metadata": {},
   "outputs": [
    {
     "name": "stdout",
     "output_type": "stream",
     "text": [
      "Model trained in 0:01:40.446060\n",
      "Compiling model\n",
      "277/277 [==============================] - 105s 378ms/step - val_loss: 0.0000e+00 - val_tp: 149.0000 - val_fp: 175.0000 - val_tn: 213812.0000 - val_fn: 2960.0000 - val_accuracy: 0.9856 - val_precision: 0.4599 - val_sensitivity: 0.0479 - val_auc: 0.8726\n"
     ]
    },
    {
     "data": {
      "text/plain": [
       "<keras.callbacks.History at 0x7f894aa491d0>"
      ]
     },
     "execution_count": 30,
     "metadata": {},
     "output_type": "execute_result"
    }
   ],
   "source": [
    "boosted_tree_model.fit(x = train_scalar_features, \n",
    "              y = train_labels, \n",
    "              batch_size=BATCH_SIZE, \n",
    "              validation_split = VALIDATION_SPLIT,\n",
    "              callbacks = [EARLY_STOPPING],\n",
    "              class_weight=class_weight_asm, \n",
    "              verbose = 1)"
   ]
  },
  {
   "cell_type": "code",
   "execution_count": 31,
   "id": "b37be835-9571-4671-82e2-44699b6f5180",
   "metadata": {},
   "outputs": [
    {
     "name": "stdout",
     "output_type": "stream",
     "text": [
      "99/99 [==============================] - 2s 9ms/step - loss: 0.0000e+00 - tp: 102.0000 - fp: 123.0000 - tn: 97141.0000 - fn: 1314.0000 - accuracy: 0.9854 - precision: 0.4533 - sensitivity: 0.0720 - auc: 0.8984\n"
     ]
    },
    {
     "data": {
      "text/plain": [
       "{'loss': 0.0,\n",
       " 'tp': 102.0,\n",
       " 'fp': 123.0,\n",
       " 'tn': 97141.0,\n",
       " 'fn': 1314.0,\n",
       " 'accuracy': 0.9854377508163452,\n",
       " 'precision': 0.4533333480358124,\n",
       " 'sensitivity': 0.07203389704227448,\n",
       " 'auc': 0.8984371423721313}"
      ]
     },
     "execution_count": 31,
     "metadata": {},
     "output_type": "execute_result"
    }
   ],
   "source": [
    "boosted_tree_results = boosted_tree_model.evaluate(\n",
    "    test_scalar_features, \n",
    "    test_labels, \n",
    "    batch_size = BATCH_SIZE, \n",
    "    return_dict=True)\n",
    "boosted_tree_results"
   ]
  },
  {
   "cell_type": "markdown",
   "id": "b066fd87-a5f8-4225-9385-f1b8c21d1b01",
   "metadata": {},
   "source": [
    "## Perceptron model"
   ]
  },
  {
   "cell_type": "code",
   "execution_count": 87,
   "id": "5e55a34e-c704-4f19-8ebc-2eb81070e764",
   "metadata": {},
   "outputs": [],
   "source": [
    "def make_perceptron_model(output_bias = None):\n",
    "    if output_bias is not None:\n",
    "        output_bias = tf.keras.initializers.Constant(output_bias)\n",
    "  \n",
    "    model = keras.Sequential()\n",
    "  \n",
    "#     # Normalize the features\n",
    "#     model.add(\n",
    "#         layers.Normalization(\n",
    "#             axis = 1,\n",
    "#             input_dim = train_scalar_features.shape[-1])\n",
    "#     )\n",
    "        \n",
    "  # Initial perceptron layer\n",
    "    model.add(\n",
    "        layers.Dense(\n",
    "            NB_NODES_PERCEPTRON, \n",
    "            activation=ACTIVATION_FUNCTION,\n",
    "            input_dim = train_scalar_features.shape[-1],\n",
    "            kernel_regularizer = keras.regularizers.L1L2(\n",
    "                    l1 = L1_R, \n",
    "                    l2 = L2_R)\n",
    "        )\n",
    "    )\n",
    "  \n",
    "    # Range of neuron layers\n",
    "    for layer_number in range(0, NB_LAYERS_PERCEPTRON-1): \n",
    "        model.add(layers.Dense(\n",
    "            NB_NODES_PERCEPTRON, \n",
    "            activation = ACTIVATION_FUNCTION,\n",
    "            kernel_regularizer = keras.regularizers.L1L2(\n",
    "                    l1 = L1_R, \n",
    "                    l2 = L2_R)))\n",
    "  \n",
    "        # Dropout layer in between layers\n",
    "        model.add(layers.Dropout(0.5))\n",
    "\n",
    "    # We add a sigmoid to create the probability function of the ASM event.\n",
    "    model.add(\n",
    "        layers.Dense(\n",
    "            1, \n",
    "            activation='sigmoid',\n",
    "            bias_initializer=output_bias,\n",
    "            kernel_regularizer = keras.regularizers.L1L2(\n",
    "                    l1 = L1_R, \n",
    "                    l2 = L2_R)))\n",
    "\n",
    "    model.compile(\n",
    "        optimizer = keras.optimizers.Adam(learning_rate = LEARNING_RATE),\n",
    "        loss = keras.losses.BinaryCrossentropy(),\n",
    "        metrics = METRICS)\n",
    "\n",
    "    return model\n"
   ]
  },
  {
   "cell_type": "code",
   "execution_count": 88,
   "id": "d240b81b-547d-4b53-bd34-7caff787d77a",
   "metadata": {},
   "outputs": [
    {
     "name": "stdout",
     "output_type": "stream",
     "text": [
      "Model: \"sequential_10\"\n",
      "_________________________________________________________________\n",
      " Layer (type)                Output Shape              Param #   \n",
      "=================================================================\n",
      " dense_44 (Dense)            (None, 60)                3240      \n",
      "                                                                 \n",
      " dense_45 (Dense)            (None, 60)                3660      \n",
      "                                                                 \n",
      " dropout_37 (Dropout)        (None, 60)                0         \n",
      "                                                                 \n",
      " dense_46 (Dense)            (None, 60)                3660      \n",
      "                                                                 \n",
      " dropout_38 (Dropout)        (None, 60)                0         \n",
      "                                                                 \n",
      " dense_47 (Dense)            (None, 60)                3660      \n",
      "                                                                 \n",
      " dropout_39 (Dropout)        (None, 60)                0         \n",
      "                                                                 \n",
      " dense_48 (Dense)            (None, 60)                3660      \n",
      "                                                                 \n",
      " dropout_40 (Dropout)        (None, 60)                0         \n",
      "                                                                 \n",
      " dense_49 (Dense)            (None, 1)                 61        \n",
      "                                                                 \n",
      "=================================================================\n",
      "Total params: 17,941\n",
      "Trainable params: 17,941\n",
      "Non-trainable params: 0\n",
      "_________________________________________________________________\n"
     ]
    }
   ],
   "source": [
    "perceptron_model = make_perceptron_model()\n",
    "perceptron_model.summary()"
   ]
  },
  {
   "cell_type": "code",
   "execution_count": 89,
   "id": "7c2a8496-1b8c-49bf-af90-ab57cf6651da",
   "metadata": {},
   "outputs": [
    {
     "name": "stdout",
     "output_type": "stream",
     "text": [
      "Epoch 1/100\n",
      "271/271 [==============================] - 4s 10ms/step - loss: 0.7998 - tp: 3167.0000 - fp: 82779.0000 - tn: 298322.0000 - fn: 2205.0000 - accuracy: 0.7801 - precision: 0.0368 - sensitivity: 0.5895 - auc: 0.7786 - val_loss: 0.7609 - val_tp: 1487.0000 - val_fp: 20956.0000 - val_tn: 93333.0000 - val_fn: 166.0000 - val_accuracy: 0.8178 - val_precision: 0.0663 - val_sensitivity: 0.8996 - val_auc: 0.9280\n",
      "Epoch 2/100\n",
      "271/271 [==============================] - 2s 7ms/step - loss: 0.6555 - tp: 3266.0000 - fp: 49842.0000 - tn: 216970.0000 - fn: 453.0000 - accuracy: 0.8141 - precision: 0.0615 - sensitivity: 0.8782 - auc: 0.9061 - val_loss: 0.6688 - val_tp: 1479.0000 - val_fp: 17371.0000 - val_tn: 96918.0000 - val_fn: 174.0000 - val_accuracy: 0.8487 - val_precision: 0.0785 - val_sensitivity: 0.8947 - val_auc: 0.9369\n",
      "Epoch 3/100\n",
      "271/271 [==============================] - 2s 7ms/step - loss: 0.6071 - tp: 3310.0000 - fp: 44896.0000 - tn: 221916.0000 - fn: 409.0000 - accuracy: 0.8325 - precision: 0.0687 - sensitivity: 0.8900 - auc: 0.9192 - val_loss: 0.6414 - val_tp: 1491.0000 - val_fp: 17362.0000 - val_tn: 96927.0000 - val_fn: 162.0000 - val_accuracy: 0.8489 - val_precision: 0.0791 - val_sensitivity: 0.9020 - val_auc: 0.9406\n",
      "Epoch 4/100\n",
      "271/271 [==============================] - 2s 7ms/step - loss: 0.5789 - tp: 3330.0000 - fp: 43133.0000 - tn: 223679.0000 - fn: 389.0000 - accuracy: 0.8391 - precision: 0.0717 - sensitivity: 0.8954 - auc: 0.9245 - val_loss: 0.6304 - val_tp: 1505.0000 - val_fp: 18020.0000 - val_tn: 96269.0000 - val_fn: 148.0000 - val_accuracy: 0.8433 - val_precision: 0.0771 - val_sensitivity: 0.9105 - val_auc: 0.9424\n",
      "Epoch 5/100\n",
      "271/271 [==============================] - 2s 7ms/step - loss: 0.5518 - tp: 3339.0000 - fp: 42428.0000 - tn: 224384.0000 - fn: 380.0000 - accuracy: 0.8418 - precision: 0.0730 - sensitivity: 0.8978 - auc: 0.9290 - val_loss: 0.6125 - val_tp: 1512.0000 - val_fp: 17936.0000 - val_tn: 96353.0000 - val_fn: 141.0000 - val_accuracy: 0.8441 - val_precision: 0.0777 - val_sensitivity: 0.9147 - val_auc: 0.9440\n",
      "Epoch 6/100\n",
      "271/271 [==============================] - 2s 7ms/step - loss: 0.5336 - tp: 3362.0000 - fp: 41879.0000 - tn: 224933.0000 - fn: 357.0000 - accuracy: 0.8439 - precision: 0.0743 - sensitivity: 0.9040 - auc: 0.9297 - val_loss: 0.5786 - val_tp: 1514.0000 - val_fp: 17571.0000 - val_tn: 96718.0000 - val_fn: 139.0000 - val_accuracy: 0.8473 - val_precision: 0.0793 - val_sensitivity: 0.9159 - val_auc: 0.9447\n",
      "Epoch 7/100\n",
      "271/271 [==============================] - 2s 7ms/step - loss: 0.5079 - tp: 3382.0000 - fp: 40808.0000 - tn: 226004.0000 - fn: 337.0000 - accuracy: 0.8479 - precision: 0.0765 - sensitivity: 0.9094 - auc: 0.9350 - val_loss: 0.5201 - val_tp: 1493.0000 - val_fp: 16004.0000 - val_tn: 98285.0000 - val_fn: 160.0000 - val_accuracy: 0.8606 - val_precision: 0.0853 - val_sensitivity: 0.9032 - val_auc: 0.9462\n",
      "Epoch 8/100\n",
      "271/271 [==============================] - 2s 7ms/step - loss: 0.4889 - tp: 3385.0000 - fp: 39586.0000 - tn: 227226.0000 - fn: 334.0000 - accuracy: 0.8524 - precision: 0.0788 - sensitivity: 0.9102 - auc: 0.9371 - val_loss: 0.5231 - val_tp: 1512.0000 - val_fp: 16989.0000 - val_tn: 97300.0000 - val_fn: 141.0000 - val_accuracy: 0.8523 - val_precision: 0.0817 - val_sensitivity: 0.9147 - val_auc: 0.9465\n",
      "Epoch 9/100\n",
      "271/271 [==============================] - 2s 7ms/step - loss: 0.4766 - tp: 3386.0000 - fp: 39997.0000 - tn: 226815.0000 - fn: 333.0000 - accuracy: 0.8509 - precision: 0.0780 - sensitivity: 0.9105 - auc: 0.9376 - val_loss: 0.5424 - val_tp: 1528.0000 - val_fp: 18195.0000 - val_tn: 96094.0000 - val_fn: 125.0000 - val_accuracy: 0.8420 - val_precision: 0.0775 - val_sensitivity: 0.9244 - val_auc: 0.9467\n",
      "Epoch 10/100\n",
      "271/271 [==============================] - 2s 7ms/step - loss: 0.4579 - tp: 3404.0000 - fp: 39557.0000 - tn: 227255.0000 - fn: 315.0000 - accuracy: 0.8526 - precision: 0.0792 - sensitivity: 0.9153 - auc: 0.9398 - val_loss: 0.5257 - val_tp: 1529.0000 - val_fp: 18499.0000 - val_tn: 95790.0000 - val_fn: 124.0000 - val_accuracy: 0.8394 - val_precision: 0.0763 - val_sensitivity: 0.9250 - val_auc: 0.9472\n",
      "Epoch 11/100\n",
      "271/271 [==============================] - 2s 7ms/step - loss: 0.4426 - tp: 3392.0000 - fp: 39207.0000 - tn: 227605.0000 - fn: 327.0000 - accuracy: 0.8539 - precision: 0.0796 - sensitivity: 0.9121 - auc: 0.9413 - val_loss: 0.5260 - val_tp: 1542.0000 - val_fp: 18877.0000 - val_tn: 95412.0000 - val_fn: 111.0000 - val_accuracy: 0.8362 - val_precision: 0.0755 - val_sensitivity: 0.9328 - val_auc: 0.9476\n",
      "Epoch 12/100\n",
      "271/271 [==============================] - 2s 7ms/step - loss: 0.4294 - tp: 3404.0000 - fp: 39038.0000 - tn: 227774.0000 - fn: 315.0000 - accuracy: 0.8545 - precision: 0.0802 - sensitivity: 0.9153 - auc: 0.9423 - val_loss: 0.5139 - val_tp: 1544.0000 - val_fp: 18997.0000 - val_tn: 95292.0000 - val_fn: 109.0000 - val_accuracy: 0.8352 - val_precision: 0.0752 - val_sensitivity: 0.9341 - val_auc: 0.9479\n",
      "Epoch 13/100\n",
      "271/271 [==============================] - 2s 7ms/step - loss: 0.4188 - tp: 3399.0000 - fp: 38413.0000 - tn: 228399.0000 - fn: 320.0000 - accuracy: 0.8568 - precision: 0.0813 - sensitivity: 0.9140 - auc: 0.9430 - val_loss: 0.4349 - val_tp: 1499.0000 - val_fp: 16026.0000 - val_tn: 98263.0000 - val_fn: 154.0000 - val_accuracy: 0.8604 - val_precision: 0.0855 - val_sensitivity: 0.9068 - val_auc: 0.9488\n",
      "Epoch 14/100\n",
      "271/271 [==============================] - 2s 7ms/step - loss: 0.4066 - tp: 3411.0000 - fp: 38497.0000 - tn: 228315.0000 - fn: 308.0000 - accuracy: 0.8566 - precision: 0.0814 - sensitivity: 0.9172 - auc: 0.9442 - val_loss: 0.4950 - val_tp: 1549.0000 - val_fp: 19121.0000 - val_tn: 95168.0000 - val_fn: 104.0000 - val_accuracy: 0.8342 - val_precision: 0.0749 - val_sensitivity: 0.9371 - val_auc: 0.9489\n",
      "Epoch 15/100\n",
      "271/271 [==============================] - 2s 7ms/step - loss: 0.3973 - tp: 3423.0000 - fp: 38776.0000 - tn: 228036.0000 - fn: 296.0000 - accuracy: 0.8556 - precision: 0.0811 - sensitivity: 0.9204 - auc: 0.9445 - val_loss: 0.3932 - val_tp: 1474.0000 - val_fp: 14524.0000 - val_tn: 99765.0000 - val_fn: 179.0000 - val_accuracy: 0.8732 - val_precision: 0.0921 - val_sensitivity: 0.8917 - val_auc: 0.9494\n",
      "Epoch 16/100\n",
      "271/271 [==============================] - 2s 7ms/step - loss: 0.3879 - tp: 3409.0000 - fp: 37699.0000 - tn: 229113.0000 - fn: 310.0000 - accuracy: 0.8595 - precision: 0.0829 - sensitivity: 0.9166 - auc: 0.9450 - val_loss: 0.4510 - val_tp: 1541.0000 - val_fp: 18270.0000 - val_tn: 96019.0000 - val_fn: 112.0000 - val_accuracy: 0.8415 - val_precision: 0.0778 - val_sensitivity: 0.9322 - val_auc: 0.9497\n",
      "Epoch 17/100\n",
      "271/271 [==============================] - 2s 7ms/step - loss: 0.3772 - tp: 3434.0000 - fp: 38342.0000 - tn: 228470.0000 - fn: 285.0000 - accuracy: 0.8572 - precision: 0.0822 - sensitivity: 0.9234 - auc: 0.9470 - val_loss: 0.4111 - val_tp: 1515.0000 - val_fp: 16362.0000 - val_tn: 97927.0000 - val_fn: 138.0000 - val_accuracy: 0.8577 - val_precision: 0.0847 - val_sensitivity: 0.9165 - val_auc: 0.9502\n",
      "Epoch 18/100\n",
      "271/271 [==============================] - 2s 7ms/step - loss: 0.3694 - tp: 3422.0000 - fp: 37797.0000 - tn: 229015.0000 - fn: 297.0000 - accuracy: 0.8592 - precision: 0.0830 - sensitivity: 0.9201 - auc: 0.9476 - val_loss: 0.3907 - val_tp: 1512.0000 - val_fp: 15730.0000 - val_tn: 98559.0000 - val_fn: 141.0000 - val_accuracy: 0.8631 - val_precision: 0.0877 - val_sensitivity: 0.9147 - val_auc: 0.9507\n",
      "Epoch 19/100\n",
      "271/271 [==============================] - 2s 7ms/step - loss: 0.3616 - tp: 3418.0000 - fp: 37453.0000 - tn: 229359.0000 - fn: 301.0000 - accuracy: 0.8604 - precision: 0.0836 - sensitivity: 0.9191 - auc: 0.9480 - val_loss: 0.3443 - val_tp: 1470.0000 - val_fp: 13547.0000 - val_tn: 100742.0000 - val_fn: 183.0000 - val_accuracy: 0.8816 - val_precision: 0.0979 - val_sensitivity: 0.8893 - val_auc: 0.9511\n",
      "Epoch 20/100\n",
      "271/271 [==============================] - 2s 7ms/step - loss: 0.3556 - tp: 3434.0000 - fp: 37495.0000 - tn: 229317.0000 - fn: 285.0000 - accuracy: 0.8603 - precision: 0.0839 - sensitivity: 0.9234 - auc: 0.9485 - val_loss: 0.4164 - val_tp: 1539.0000 - val_fp: 17869.0000 - val_tn: 96420.0000 - val_fn: 114.0000 - val_accuracy: 0.8449 - val_precision: 0.0793 - val_sensitivity: 0.9310 - val_auc: 0.9512\n",
      "Epoch 21/100\n",
      "271/271 [==============================] - 2s 7ms/step - loss: 0.3481 - tp: 3434.0000 - fp: 36860.0000 - tn: 229952.0000 - fn: 285.0000 - accuracy: 0.8627 - precision: 0.0852 - sensitivity: 0.9234 - auc: 0.9494 - val_loss: 0.3795 - val_tp: 1514.0000 - val_fp: 16074.0000 - val_tn: 98215.0000 - val_fn: 139.0000 - val_accuracy: 0.8602 - val_precision: 0.0861 - val_sensitivity: 0.9159 - val_auc: 0.9516\n",
      "Epoch 22/100\n",
      "271/271 [==============================] - 2s 7ms/step - loss: 0.3423 - tp: 3431.0000 - fp: 37023.0000 - tn: 229789.0000 - fn: 288.0000 - accuracy: 0.8621 - precision: 0.0848 - sensitivity: 0.9226 - auc: 0.9498 - val_loss: 0.3542 - val_tp: 1496.0000 - val_fp: 15160.0000 - val_tn: 99129.0000 - val_fn: 157.0000 - val_accuracy: 0.8679 - val_precision: 0.0898 - val_sensitivity: 0.9050 - val_auc: 0.9518\n",
      "Epoch 23/100\n",
      "271/271 [==============================] - 2s 7ms/step - loss: 0.3393 - tp: 3427.0000 - fp: 37314.0000 - tn: 229498.0000 - fn: 292.0000 - accuracy: 0.8610 - precision: 0.0841 - sensitivity: 0.9215 - auc: 0.9495 - val_loss: 0.3536 - val_tp: 1494.0000 - val_fp: 14811.0000 - val_tn: 99478.0000 - val_fn: 159.0000 - val_accuracy: 0.8709 - val_precision: 0.0916 - val_sensitivity: 0.9038 - val_auc: 0.9518\n",
      "Epoch 24/100\n",
      "271/271 [==============================] - 2s 7ms/step - loss: 0.3335 - tp: 3438.0000 - fp: 36818.0000 - tn: 229994.0000 - fn: 281.0000 - accuracy: 0.8629 - precision: 0.0854 - sensitivity: 0.9244 - auc: 0.9506 - val_loss: 0.3521 - val_tp: 1504.0000 - val_fp: 15182.0000 - val_tn: 99107.0000 - val_fn: 149.0000 - val_accuracy: 0.8678 - val_precision: 0.0901 - val_sensitivity: 0.9099 - val_auc: 0.9519\n",
      "Epoch 25/100\n",
      "271/271 [==============================] - 2s 7ms/step - loss: 0.3301 - tp: 3444.0000 - fp: 37058.0000 - tn: 229754.0000 - fn: 275.0000 - accuracy: 0.8620 - precision: 0.0850 - sensitivity: 0.9261 - auc: 0.9506 - val_loss: 0.3298 - val_tp: 1491.0000 - val_fp: 14450.0000 - val_tn: 99839.0000 - val_fn: 162.0000 - val_accuracy: 0.8740 - val_precision: 0.0935 - val_sensitivity: 0.9020 - val_auc: 0.9522\n",
      "Epoch 26/100\n",
      "271/271 [==============================] - 2s 7ms/step - loss: 0.3249 - tp: 3457.0000 - fp: 36643.0000 - tn: 230169.0000 - fn: 262.0000 - accuracy: 0.8636 - precision: 0.0862 - sensitivity: 0.9296 - auc: 0.9513 - val_loss: 0.3401 - val_tp: 1494.0000 - val_fp: 15032.0000 - val_tn: 99257.0000 - val_fn: 159.0000 - val_accuracy: 0.8690 - val_precision: 0.0904 - val_sensitivity: 0.9038 - val_auc: 0.9522\n",
      "Epoch 27/100\n",
      "271/271 [==============================] - 2s 7ms/step - loss: 0.3217 - tp: 3443.0000 - fp: 36753.0000 - tn: 230059.0000 - fn: 276.0000 - accuracy: 0.8631 - precision: 0.0857 - sensitivity: 0.9258 - auc: 0.9519 - val_loss: 0.3740 - val_tp: 1528.0000 - val_fp: 17142.0000 - val_tn: 97147.0000 - val_fn: 125.0000 - val_accuracy: 0.8511 - val_precision: 0.0818 - val_sensitivity: 0.9244 - val_auc: 0.9524\n",
      "Epoch 28/100\n",
      "271/271 [==============================] - 2s 7ms/step - loss: 0.3188 - tp: 3425.0000 - fp: 36327.0000 - tn: 230485.0000 - fn: 294.0000 - accuracy: 0.8646 - precision: 0.0862 - sensitivity: 0.9209 - auc: 0.9520 - val_loss: 0.3279 - val_tp: 1496.0000 - val_fp: 14338.0000 - val_tn: 99951.0000 - val_fn: 157.0000 - val_accuracy: 0.8750 - val_precision: 0.0945 - val_sensitivity: 0.9050 - val_auc: 0.9528\n",
      "Epoch 29/100\n",
      "271/271 [==============================] - 2s 7ms/step - loss: 0.3175 - tp: 3455.0000 - fp: 36695.0000 - tn: 230117.0000 - fn: 264.0000 - accuracy: 0.8634 - precision: 0.0861 - sensitivity: 0.9290 - auc: 0.9519 - val_loss: 0.3321 - val_tp: 1491.0000 - val_fp: 14842.0000 - val_tn: 99447.0000 - val_fn: 162.0000 - val_accuracy: 0.8706 - val_precision: 0.0913 - val_sensitivity: 0.9020 - val_auc: 0.9527\n",
      "Epoch 30/100\n",
      "271/271 [==============================] - 2s 7ms/step - loss: 0.3146 - tp: 3446.0000 - fp: 36578.0000 - tn: 230234.0000 - fn: 273.0000 - accuracy: 0.8638 - precision: 0.0861 - sensitivity: 0.9266 - auc: 0.9525 - val_loss: 0.3655 - val_tp: 1529.0000 - val_fp: 16952.0000 - val_tn: 97337.0000 - val_fn: 124.0000 - val_accuracy: 0.8527 - val_precision: 0.0827 - val_sensitivity: 0.9250 - val_auc: 0.9530\n",
      "Epoch 31/100\n",
      "271/271 [==============================] - 2s 7ms/step - loss: 0.3143 - tp: 3443.0000 - fp: 36695.0000 - tn: 230117.0000 - fn: 276.0000 - accuracy: 0.8633 - precision: 0.0858 - sensitivity: 0.9258 - auc: 0.9520 - val_loss: 0.3525 - val_tp: 1511.0000 - val_fp: 16061.0000 - val_tn: 98228.0000 - val_fn: 142.0000 - val_accuracy: 0.8602 - val_precision: 0.0860 - val_sensitivity: 0.9141 - val_auc: 0.9529\n",
      "Epoch 32/100\n",
      "271/271 [==============================] - 2s 7ms/step - loss: 0.3109 - tp: 3457.0000 - fp: 37089.0000 - tn: 229723.0000 - fn: 262.0000 - accuracy: 0.8619 - precision: 0.0853 - sensitivity: 0.9296 - auc: 0.9526 - val_loss: 0.2999 - val_tp: 1485.0000 - val_fp: 13695.0000 - val_tn: 100594.0000 - val_fn: 168.0000 - val_accuracy: 0.8804 - val_precision: 0.0978 - val_sensitivity: 0.8984 - val_auc: 0.9535\n",
      "Epoch 33/100\n",
      "271/271 [==============================] - 2s 7ms/step - loss: 0.3085 - tp: 3453.0000 - fp: 36237.0000 - tn: 230575.0000 - fn: 266.0000 - accuracy: 0.8651 - precision: 0.0870 - sensitivity: 0.9285 - auc: 0.9529 - val_loss: 0.3783 - val_tp: 1541.0000 - val_fp: 17958.0000 - val_tn: 96331.0000 - val_fn: 112.0000 - val_accuracy: 0.8441 - val_precision: 0.0790 - val_sensitivity: 0.9322 - val_auc: 0.9533\n",
      "Epoch 34/100\n",
      "271/271 [==============================] - 2s 7ms/step - loss: 0.3070 - tp: 3454.0000 - fp: 36893.0000 - tn: 229919.0000 - fn: 265.0000 - accuracy: 0.8626 - precision: 0.0856 - sensitivity: 0.9287 - auc: 0.9531 - val_loss: 0.3665 - val_tp: 1526.0000 - val_fp: 16928.0000 - val_tn: 97361.0000 - val_fn: 127.0000 - val_accuracy: 0.8529 - val_precision: 0.0827 - val_sensitivity: 0.9232 - val_auc: 0.9533\n",
      "Epoch 35/100\n",
      "271/271 [==============================] - 2s 7ms/step - loss: 0.3042 - tp: 3452.0000 - fp: 35980.0000 - tn: 230832.0000 - fn: 267.0000 - accuracy: 0.8660 - precision: 0.0875 - sensitivity: 0.9282 - auc: 0.9538 - val_loss: 0.2981 - val_tp: 1486.0000 - val_fp: 13941.0000 - val_tn: 100348.0000 - val_fn: 167.0000 - val_accuracy: 0.8783 - val_precision: 0.0963 - val_sensitivity: 0.8990 - val_auc: 0.9536\n",
      "Epoch 36/100\n",
      "271/271 [==============================] - 2s 7ms/step - loss: 0.3000 - tp: 3457.0000 - fp: 35958.0000 - tn: 230854.0000 - fn: 262.0000 - accuracy: 0.8661 - precision: 0.0877 - sensitivity: 0.9296 - auc: 0.9548 - val_loss: 0.3606 - val_tp: 1529.0000 - val_fp: 16650.0000 - val_tn: 97639.0000 - val_fn: 124.0000 - val_accuracy: 0.8553 - val_precision: 0.0841 - val_sensitivity: 0.9250 - val_auc: 0.9540\n",
      "Epoch 37/100\n",
      "271/271 [==============================] - 2s 7ms/step - loss: 0.3025 - tp: 3468.0000 - fp: 36652.0000 - tn: 230160.0000 - fn: 251.0000 - accuracy: 0.8636 - precision: 0.0864 - sensitivity: 0.9325 - auc: 0.9537 - val_loss: 0.3160 - val_tp: 1511.0000 - val_fp: 15492.0000 - val_tn: 98797.0000 - val_fn: 142.0000 - val_accuracy: 0.8652 - val_precision: 0.0889 - val_sensitivity: 0.9141 - val_auc: 0.9537\n",
      "Epoch 38/100\n",
      "271/271 [==============================] - 2s 7ms/step - loss: 0.2989 - tp: 3453.0000 - fp: 36179.0000 - tn: 230633.0000 - fn: 266.0000 - accuracy: 0.8653 - precision: 0.0871 - sensitivity: 0.9285 - auc: 0.9545 - val_loss: 0.3280 - val_tp: 1510.0000 - val_fp: 15432.0000 - val_tn: 98857.0000 - val_fn: 143.0000 - val_accuracy: 0.8657 - val_precision: 0.0891 - val_sensitivity: 0.9135 - val_auc: 0.9539\n",
      "Epoch 39/100\n",
      "271/271 [==============================] - 2s 7ms/step - loss: 0.2997 - tp: 3465.0000 - fp: 36444.0000 - tn: 230368.0000 - fn: 254.0000 - accuracy: 0.8643 - precision: 0.0868 - sensitivity: 0.9317 - auc: 0.9543 - val_loss: 0.2977 - val_tp: 1494.0000 - val_fp: 14260.0000 - val_tn: 100029.0000 - val_fn: 159.0000 - val_accuracy: 0.8756 - val_precision: 0.0948 - val_sensitivity: 0.9038 - val_auc: 0.9546\n",
      "Epoch 40/100\n",
      "271/271 [==============================] - 2s 7ms/step - loss: 0.2985 - tp: 3475.0000 - fp: 36473.0000 - tn: 230339.0000 - fn: 244.0000 - accuracy: 0.8643 - precision: 0.0870 - sensitivity: 0.9344 - auc: 0.9546 - val_loss: 0.3380 - val_tp: 1526.0000 - val_fp: 16539.0000 - val_tn: 97750.0000 - val_fn: 127.0000 - val_accuracy: 0.8563 - val_precision: 0.0845 - val_sensitivity: 0.9232 - val_auc: 0.9538\n",
      "Epoch 41/100\n",
      "271/271 [==============================] - 2s 7ms/step - loss: 0.2964 - tp: 3463.0000 - fp: 36531.0000 - tn: 230281.0000 - fn: 256.0000 - accuracy: 0.8640 - precision: 0.0866 - sensitivity: 0.9312 - auc: 0.9550 - val_loss: 0.3158 - val_tp: 1510.0000 - val_fp: 14904.0000 - val_tn: 99385.0000 - val_fn: 143.0000 - val_accuracy: 0.8702 - val_precision: 0.0920 - val_sensitivity: 0.9135 - val_auc: 0.9544\n",
      "Epoch 42/100\n",
      "271/271 [==============================] - 2s 7ms/step - loss: 0.2969 - tp: 3458.0000 - fp: 36126.0000 - tn: 230686.0000 - fn: 261.0000 - accuracy: 0.8655 - precision: 0.0874 - sensitivity: 0.9298 - auc: 0.9548 - val_loss: 0.2983 - val_tp: 1496.0000 - val_fp: 14157.0000 - val_tn: 100132.0000 - val_fn: 157.0000 - val_accuracy: 0.8765 - val_precision: 0.0956 - val_sensitivity: 0.9050 - val_auc: 0.9540\n",
      "Epoch 43/100\n",
      "271/271 [==============================] - 2s 7ms/step - loss: 0.2956 - tp: 3458.0000 - fp: 36256.0000 - tn: 230556.0000 - fn: 261.0000 - accuracy: 0.8650 - precision: 0.0871 - sensitivity: 0.9298 - auc: 0.9550 - val_loss: 0.3045 - val_tp: 1500.0000 - val_fp: 14774.0000 - val_tn: 99515.0000 - val_fn: 153.0000 - val_accuracy: 0.8713 - val_precision: 0.0922 - val_sensitivity: 0.9074 - val_auc: 0.9542\n",
      "Epoch 44/100\n",
      "271/271 [==============================] - 2s 7ms/step - loss: 0.2948 - tp: 3473.0000 - fp: 36398.0000 - tn: 230414.0000 - fn: 246.0000 - accuracy: 0.8645 - precision: 0.0871 - sensitivity: 0.9339 - auc: 0.9551 - val_loss: 0.3094 - val_tp: 1497.0000 - val_fp: 14525.0000 - val_tn: 99764.0000 - val_fn: 156.0000 - val_accuracy: 0.8734 - val_precision: 0.0934 - val_sensitivity: 0.9056 - val_auc: 0.9545\n",
      "Epoch 45/100\n",
      "271/271 [==============================] - 2s 7ms/step - loss: 0.2959 - tp: 3455.0000 - fp: 36753.0000 - tn: 230059.0000 - fn: 264.0000 - accuracy: 0.8632 - precision: 0.0859 - sensitivity: 0.9290 - auc: 0.9545 - val_loss: 0.3153 - val_tp: 1507.0000 - val_fp: 15134.0000 - val_tn: 99155.0000 - val_fn: 146.0000 - val_accuracy: 0.8682 - val_precision: 0.0906 - val_sensitivity: 0.9117 - val_auc: 0.9546\n",
      "Epoch 46/100\n",
      "271/271 [==============================] - 2s 7ms/step - loss: 0.2934 - tp: 3474.0000 - fp: 36457.0000 - tn: 230355.0000 - fn: 245.0000 - accuracy: 0.8643 - precision: 0.0870 - sensitivity: 0.9341 - auc: 0.9551 - val_loss: 0.2814 - val_tp: 1475.0000 - val_fp: 13208.0000 - val_tn: 101081.0000 - val_fn: 178.0000 - val_accuracy: 0.8845 - val_precision: 0.1005 - val_sensitivity: 0.8923 - val_auc: 0.9548\n",
      "Epoch 47/100\n",
      "271/271 [==============================] - 2s 7ms/step - loss: 0.2904 - tp: 3466.0000 - fp: 36080.0000 - tn: 230732.0000 - fn: 253.0000 - accuracy: 0.8657 - precision: 0.0876 - sensitivity: 0.9320 - auc: 0.9560 - val_loss: 0.2933 - val_tp: 1496.0000 - val_fp: 13822.0000 - val_tn: 100467.0000 - val_fn: 157.0000 - val_accuracy: 0.8794 - val_precision: 0.0977 - val_sensitivity: 0.9050 - val_auc: 0.9555\n",
      "Epoch 48/100\n",
      "271/271 [==============================] - 2s 7ms/step - loss: 0.2905 - tp: 3479.0000 - fp: 36226.0000 - tn: 230586.0000 - fn: 240.0000 - accuracy: 0.8652 - precision: 0.0876 - sensitivity: 0.9355 - auc: 0.9559 - val_loss: 0.2920 - val_tp: 1490.0000 - val_fp: 14084.0000 - val_tn: 100205.0000 - val_fn: 163.0000 - val_accuracy: 0.8771 - val_precision: 0.0957 - val_sensitivity: 0.9014 - val_auc: 0.9543\n",
      "Epoch 49/100\n",
      "271/271 [==============================] - 2s 7ms/step - loss: 0.2895 - tp: 3465.0000 - fp: 35836.0000 - tn: 230976.0000 - fn: 254.0000 - accuracy: 0.8666 - precision: 0.0882 - sensitivity: 0.9317 - auc: 0.9559 - val_loss: 0.3167 - val_tp: 1510.0000 - val_fp: 15320.0000 - val_tn: 98969.0000 - val_fn: 143.0000 - val_accuracy: 0.8666 - val_precision: 0.0897 - val_sensitivity: 0.9135 - val_auc: 0.9550\n",
      "Epoch 50/100\n",
      "271/271 [==============================] - 2s 7ms/step - loss: 0.2898 - tp: 3461.0000 - fp: 36548.0000 - tn: 230264.0000 - fn: 258.0000 - accuracy: 0.8639 - precision: 0.0865 - sensitivity: 0.9306 - auc: 0.9559 - val_loss: 0.3014 - val_tp: 1493.0000 - val_fp: 14225.0000 - val_tn: 100064.0000 - val_fn: 160.0000 - val_accuracy: 0.8759 - val_precision: 0.0950 - val_sensitivity: 0.9032 - val_auc: 0.9547\n",
      "Epoch 51/100\n",
      "271/271 [==============================] - 2s 7ms/step - loss: 0.2900 - tp: 3474.0000 - fp: 36053.0000 - tn: 230759.0000 - fn: 245.0000 - accuracy: 0.8658 - precision: 0.0879 - sensitivity: 0.9341 - auc: 0.9557 - val_loss: 0.2864 - val_tp: 1504.0000 - val_fp: 14091.0000 - val_tn: 100198.0000 - val_fn: 149.0000 - val_accuracy: 0.8772 - val_precision: 0.0964 - val_sensitivity: 0.9099 - val_auc: 0.9555\n",
      "Epoch 52/100\n",
      "271/271 [==============================] - 2s 7ms/step - loss: 0.2887 - tp: 3472.0000 - fp: 36304.0000 - tn: 230508.0000 - fn: 247.0000 - accuracy: 0.8649 - precision: 0.0873 - sensitivity: 0.9336 - auc: 0.9558 - val_loss: 0.3442 - val_tp: 1547.0000 - val_fp: 17494.0000 - val_tn: 96795.0000 - val_fn: 106.0000 - val_accuracy: 0.8482 - val_precision: 0.0812 - val_sensitivity: 0.9359 - val_auc: 0.9542\n",
      "Epoch 53/100\n",
      "271/271 [==============================] - 2s 7ms/step - loss: 0.2876 - tp: 3467.0000 - fp: 36226.0000 - tn: 230586.0000 - fn: 252.0000 - accuracy: 0.8652 - precision: 0.0873 - sensitivity: 0.9322 - auc: 0.9560 - val_loss: 0.3127 - val_tp: 1510.0000 - val_fp: 15344.0000 - val_tn: 98945.0000 - val_fn: 143.0000 - val_accuracy: 0.8664 - val_precision: 0.0896 - val_sensitivity: 0.9135 - val_auc: 0.9553\n",
      "Epoch 54/100\n",
      "271/271 [==============================] - 2s 7ms/step - loss: 0.2867 - tp: 3466.0000 - fp: 35790.0000 - tn: 231022.0000 - fn: 253.0000 - accuracy: 0.8668 - precision: 0.0883 - sensitivity: 0.9320 - auc: 0.9564 - val_loss: 0.3119 - val_tp: 1498.0000 - val_fp: 14902.0000 - val_tn: 99387.0000 - val_fn: 155.0000 - val_accuracy: 0.8701 - val_precision: 0.0913 - val_sensitivity: 0.9062 - val_auc: 0.9542\n",
      "Epoch 55/100\n",
      "271/271 [==============================] - 2s 7ms/step - loss: 0.2874 - tp: 3476.0000 - fp: 36512.0000 - tn: 230300.0000 - fn: 243.0000 - accuracy: 0.8641 - precision: 0.0869 - sensitivity: 0.9347 - auc: 0.9561 - val_loss: 0.2874 - val_tp: 1492.0000 - val_fp: 14099.0000 - val_tn: 100190.0000 - val_fn: 161.0000 - val_accuracy: 0.8770 - val_precision: 0.0957 - val_sensitivity: 0.9026 - val_auc: 0.9558\n",
      "Epoch 56/100\n",
      "271/271 [==============================] - 2s 7ms/step - loss: 0.2856 - tp: 3482.0000 - fp: 36045.0000 - tn: 230767.0000 - fn: 237.0000 - accuracy: 0.8659 - precision: 0.0881 - sensitivity: 0.9363 - auc: 0.9565 - val_loss: 0.2886 - val_tp: 1487.0000 - val_fp: 13803.0000 - val_tn: 100486.0000 - val_fn: 166.0000 - val_accuracy: 0.8795 - val_precision: 0.0973 - val_sensitivity: 0.8996 - val_auc: 0.9554\n",
      "Epoch 57/100\n",
      "271/271 [==============================] - 2s 7ms/step - loss: 0.2847 - tp: 3455.0000 - fp: 36140.0000 - tn: 230672.0000 - fn: 264.0000 - accuracy: 0.8654 - precision: 0.0873 - sensitivity: 0.9290 - auc: 0.9568 - val_loss: 0.3187 - val_tp: 1527.0000 - val_fp: 15534.0000 - val_tn: 98755.0000 - val_fn: 126.0000 - val_accuracy: 0.8649 - val_precision: 0.0895 - val_sensitivity: 0.9238 - val_auc: 0.9555\n",
      "Epoch 58/100\n",
      "271/271 [==============================] - 2s 7ms/step - loss: 0.2855 - tp: 3461.0000 - fp: 36026.0000 - tn: 230786.0000 - fn: 258.0000 - accuracy: 0.8659 - precision: 0.0876 - sensitivity: 0.9306 - auc: 0.9565 - val_loss: 0.3024 - val_tp: 1512.0000 - val_fp: 14920.0000 - val_tn: 99369.0000 - val_fn: 141.0000 - val_accuracy: 0.8701 - val_precision: 0.0920 - val_sensitivity: 0.9147 - val_auc: 0.9556\n",
      "Epoch 59/100\n",
      "271/271 [==============================] - 2s 7ms/step - loss: 0.2831 - tp: 3472.0000 - fp: 36172.0000 - tn: 230640.0000 - fn: 247.0000 - accuracy: 0.8654 - precision: 0.0876 - sensitivity: 0.9336 - auc: 0.9570 - val_loss: 0.3236 - val_tp: 1507.0000 - val_fp: 15513.0000 - val_tn: 98776.0000 - val_fn: 146.0000 - val_accuracy: 0.8649 - val_precision: 0.0885 - val_sensitivity: 0.9117 - val_auc: 0.9547\n",
      "Epoch 60/100\n",
      "271/271 [==============================] - 2s 7ms/step - loss: 0.2839 - tp: 3465.0000 - fp: 36076.0000 - tn: 230736.0000 - fn: 254.0000 - accuracy: 0.8657 - precision: 0.0876 - sensitivity: 0.9317 - auc: 0.9568 - val_loss: 0.3493 - val_tp: 1536.0000 - val_fp: 16582.0000 - val_tn: 97707.0000 - val_fn: 117.0000 - val_accuracy: 0.8560 - val_precision: 0.0848 - val_sensitivity: 0.9292 - val_auc: 0.9551\n",
      "Epoch 61/100\n",
      "271/271 [==============================] - 2s 7ms/step - loss: 0.2829 - tp: 3476.0000 - fp: 35962.0000 - tn: 230850.0000 - fn: 243.0000 - accuracy: 0.8662 - precision: 0.0881 - sensitivity: 0.9347 - auc: 0.9571 - val_loss: 0.3286 - val_tp: 1536.0000 - val_fp: 16507.0000 - val_tn: 97782.0000 - val_fn: 117.0000 - val_accuracy: 0.8566 - val_precision: 0.0851 - val_sensitivity: 0.9292 - val_auc: 0.9558\n",
      "Epoch 62/100\n",
      "271/271 [==============================] - 2s 7ms/step - loss: 0.2821 - tp: 3470.0000 - fp: 36167.0000 - tn: 230645.0000 - fn: 249.0000 - accuracy: 0.8654 - precision: 0.0875 - sensitivity: 0.9330 - auc: 0.9573 - val_loss: 0.3602 - val_tp: 1539.0000 - val_fp: 17620.0000 - val_tn: 96669.0000 - val_fn: 114.0000 - val_accuracy: 0.8470 - val_precision: 0.0803 - val_sensitivity: 0.9310 - val_auc: 0.9555\n",
      "Epoch 63/100\n",
      "271/271 [==============================] - 2s 7ms/step - loss: 0.2834 - tp: 3473.0000 - fp: 36078.0000 - tn: 230734.0000 - fn: 246.0000 - accuracy: 0.8657 - precision: 0.0878 - sensitivity: 0.9339 - auc: 0.9567 - val_loss: 0.3450 - val_tp: 1538.0000 - val_fp: 16706.0000 - val_tn: 97583.0000 - val_fn: 115.0000 - val_accuracy: 0.8549 - val_precision: 0.0843 - val_sensitivity: 0.9304 - val_auc: 0.9558\n",
      "Epoch 64/100\n",
      "271/271 [==============================] - 2s 7ms/step - loss: 0.2855 - tp: 3458.0000 - fp: 36134.0000 - tn: 230678.0000 - fn: 261.0000 - accuracy: 0.8655 - precision: 0.0873 - sensitivity: 0.9298 - auc: 0.9564 - val_loss: 0.3424 - val_tp: 1535.0000 - val_fp: 17681.0000 - val_tn: 96608.0000 - val_fn: 118.0000 - val_accuracy: 0.8465 - val_precision: 0.0799 - val_sensitivity: 0.9286 - val_auc: 0.9544\n",
      "Epoch 65/100\n",
      "271/271 [==============================] - 2s 7ms/step - loss: 0.2823 - tp: 3467.0000 - fp: 36223.0000 - tn: 230589.0000 - fn: 252.0000 - accuracy: 0.8652 - precision: 0.0874 - sensitivity: 0.9322 - auc: 0.9569 - val_loss: 0.3645 - val_tp: 1545.0000 - val_fp: 17636.0000 - val_tn: 96653.0000 - val_fn: 108.0000 - val_accuracy: 0.8470 - val_precision: 0.0805 - val_sensitivity: 0.9347 - val_auc: 0.9556\n",
      "Epoch 66/100\n",
      "271/271 [==============================] - 2s 7ms/step - loss: 0.2816 - tp: 3479.0000 - fp: 36206.0000 - tn: 230606.0000 - fn: 240.0000 - accuracy: 0.8653 - precision: 0.0877 - sensitivity: 0.9355 - auc: 0.9570 - val_loss: 0.3135 - val_tp: 1517.0000 - val_fp: 15120.0000 - val_tn: 99169.0000 - val_fn: 136.0000 - val_accuracy: 0.8684 - val_precision: 0.0912 - val_sensitivity: 0.9177 - val_auc: 0.9559\n",
      "Epoch 67/100\n",
      "271/271 [==============================] - 2s 7ms/step - loss: 0.2818 - tp: 3478.0000 - fp: 36037.0000 - tn: 230775.0000 - fn: 241.0000 - accuracy: 0.8659 - precision: 0.0880 - sensitivity: 0.9352 - auc: 0.9570 - val_loss: 0.3011 - val_tp: 1504.0000 - val_fp: 14477.0000 - val_tn: 99812.0000 - val_fn: 149.0000 - val_accuracy: 0.8739 - val_precision: 0.0941 - val_sensitivity: 0.9099 - val_auc: 0.9561\n",
      "Epoch 68/100\n",
      "271/271 [==============================] - 2s 7ms/step - loss: 0.2792 - tp: 3477.0000 - fp: 35830.0000 - tn: 230982.0000 - fn: 242.0000 - accuracy: 0.8667 - precision: 0.0885 - sensitivity: 0.9349 - auc: 0.9574 - val_loss: 0.3343 - val_tp: 1538.0000 - val_fp: 16834.0000 - val_tn: 97455.0000 - val_fn: 115.0000 - val_accuracy: 0.8538 - val_precision: 0.0837 - val_sensitivity: 0.9304 - val_auc: 0.9561\n",
      "Epoch 69/100\n",
      "271/271 [==============================] - 2s 7ms/step - loss: 0.2805 - tp: 3471.0000 - fp: 35966.0000 - tn: 230846.0000 - fn: 248.0000 - accuracy: 0.8661 - precision: 0.0880 - sensitivity: 0.9333 - auc: 0.9575 - val_loss: 0.2806 - val_tp: 1487.0000 - val_fp: 13952.0000 - val_tn: 100337.0000 - val_fn: 166.0000 - val_accuracy: 0.8782 - val_precision: 0.0963 - val_sensitivity: 0.8996 - val_auc: 0.9559\n",
      "Epoch 70/100\n",
      "271/271 [==============================] - 2s 7ms/step - loss: 0.2813 - tp: 3485.0000 - fp: 36362.0000 - tn: 230450.0000 - fn: 234.0000 - accuracy: 0.8647 - precision: 0.0875 - sensitivity: 0.9371 - auc: 0.9570 - val_loss: 0.2742 - val_tp: 1474.0000 - val_fp: 13092.0000 - val_tn: 101197.0000 - val_fn: 179.0000 - val_accuracy: 0.8855 - val_precision: 0.1012 - val_sensitivity: 0.8917 - val_auc: 0.9556\n",
      "Epoch 71/100\n",
      "271/271 [==============================] - 2s 7ms/step - loss: 0.2787 - tp: 3486.0000 - fp: 35803.0000 - tn: 231009.0000 - fn: 233.0000 - accuracy: 0.8668 - precision: 0.0887 - sensitivity: 0.9373 - auc: 0.9579 - val_loss: 0.2945 - val_tp: 1495.0000 - val_fp: 13867.0000 - val_tn: 100422.0000 - val_fn: 158.0000 - val_accuracy: 0.8790 - val_precision: 0.0973 - val_sensitivity: 0.9044 - val_auc: 0.9560\n",
      "Epoch 72/100\n",
      "271/271 [==============================] - 2s 7ms/step - loss: 0.2800 - tp: 3466.0000 - fp: 35967.0000 - tn: 230845.0000 - fn: 253.0000 - accuracy: 0.8661 - precision: 0.0879 - sensitivity: 0.9320 - auc: 0.9573 - val_loss: 0.3496 - val_tp: 1541.0000 - val_fp: 17238.0000 - val_tn: 97051.0000 - val_fn: 112.0000 - val_accuracy: 0.8504 - val_precision: 0.0821 - val_sensitivity: 0.9322 - val_auc: 0.9557\n",
      "Epoch 73/100\n",
      "271/271 [==============================] - 2s 7ms/step - loss: 0.2784 - tp: 3478.0000 - fp: 35803.0000 - tn: 231009.0000 - fn: 241.0000 - accuracy: 0.8668 - precision: 0.0885 - sensitivity: 0.9352 - auc: 0.9574 - val_loss: 0.3582 - val_tp: 1555.0000 - val_fp: 18160.0000 - val_tn: 96129.0000 - val_fn: 98.0000 - val_accuracy: 0.8425 - val_precision: 0.0789 - val_sensitivity: 0.9407 - val_auc: 0.9561\n",
      "Epoch 74/100\n",
      "271/271 [==============================] - 2s 7ms/step - loss: 0.2770 - tp: 3480.0000 - fp: 35994.0000 - tn: 230818.0000 - fn: 239.0000 - accuracy: 0.8661 - precision: 0.0882 - sensitivity: 0.9357 - auc: 0.9582 - val_loss: 0.3442 - val_tp: 1545.0000 - val_fp: 16953.0000 - val_tn: 97336.0000 - val_fn: 108.0000 - val_accuracy: 0.8528 - val_precision: 0.0835 - val_sensitivity: 0.9347 - val_auc: 0.9564\n",
      "Epoch 75/100\n",
      "271/271 [==============================] - 2s 7ms/step - loss: 0.2776 - tp: 3486.0000 - fp: 35993.0000 - tn: 230819.0000 - fn: 233.0000 - accuracy: 0.8661 - precision: 0.0883 - sensitivity: 0.9373 - auc: 0.9577 - val_loss: 0.3159 - val_tp: 1524.0000 - val_fp: 15539.0000 - val_tn: 98750.0000 - val_fn: 129.0000 - val_accuracy: 0.8649 - val_precision: 0.0893 - val_sensitivity: 0.9220 - val_auc: 0.9557\n",
      "Epoch 76/100\n",
      "271/271 [==============================] - 2s 7ms/step - loss: 0.2763 - tp: 3490.0000 - fp: 35717.0000 - tn: 231095.0000 - fn: 229.0000 - accuracy: 0.8671 - precision: 0.0890 - sensitivity: 0.9384 - auc: 0.9583 - val_loss: 0.2481 - val_tp: 1444.0000 - val_fp: 11651.0000 - val_tn: 102638.0000 - val_fn: 209.0000 - val_accuracy: 0.8977 - val_precision: 0.1103 - val_sensitivity: 0.8736 - val_auc: 0.9566\n",
      "Epoch 77/100\n",
      "271/271 [==============================] - 2s 7ms/step - loss: 0.2775 - tp: 3475.0000 - fp: 35470.0000 - tn: 231342.0000 - fn: 244.0000 - accuracy: 0.8680 - precision: 0.0892 - sensitivity: 0.9344 - auc: 0.9578 - val_loss: 0.3374 - val_tp: 1537.0000 - val_fp: 17224.0000 - val_tn: 97065.0000 - val_fn: 116.0000 - val_accuracy: 0.8504 - val_precision: 0.0819 - val_sensitivity: 0.9298 - val_auc: 0.9560\n",
      "Epoch 78/100\n",
      "271/271 [==============================] - 2s 7ms/step - loss: 0.2762 - tp: 3481.0000 - fp: 35492.0000 - tn: 231320.0000 - fn: 238.0000 - accuracy: 0.8679 - precision: 0.0893 - sensitivity: 0.9360 - auc: 0.9582 - val_loss: 0.4017 - val_tp: 1573.0000 - val_fp: 19792.0000 - val_tn: 94497.0000 - val_fn: 80.0000 - val_accuracy: 0.8286 - val_precision: 0.0736 - val_sensitivity: 0.9516 - val_auc: 0.9558\n",
      "Epoch 79/100\n",
      "271/271 [==============================] - 2s 7ms/step - loss: 0.2765 - tp: 3487.0000 - fp: 36160.0000 - tn: 230652.0000 - fn: 232.0000 - accuracy: 0.8655 - precision: 0.0880 - sensitivity: 0.9376 - auc: 0.9579 - val_loss: 0.3066 - val_tp: 1528.0000 - val_fp: 15381.0000 - val_tn: 98908.0000 - val_fn: 125.0000 - val_accuracy: 0.8663 - val_precision: 0.0904 - val_sensitivity: 0.9244 - val_auc: 0.9568\n",
      "Epoch 80/100\n",
      "271/271 [==============================] - 2s 7ms/step - loss: 0.2788 - tp: 3496.0000 - fp: 36039.0000 - tn: 230773.0000 - fn: 223.0000 - accuracy: 0.8660 - precision: 0.0884 - sensitivity: 0.9400 - auc: 0.9573 - val_loss: 0.3343 - val_tp: 1527.0000 - val_fp: 16398.0000 - val_tn: 97891.0000 - val_fn: 126.0000 - val_accuracy: 0.8575 - val_precision: 0.0852 - val_sensitivity: 0.9238 - val_auc: 0.9558\n",
      "Epoch 81/100\n",
      "271/271 [==============================] - 2s 7ms/step - loss: 0.2759 - tp: 3489.0000 - fp: 35597.0000 - tn: 231215.0000 - fn: 230.0000 - accuracy: 0.8676 - precision: 0.0893 - sensitivity: 0.9382 - auc: 0.9582 - val_loss: 0.3107 - val_tp: 1527.0000 - val_fp: 15758.0000 - val_tn: 98531.0000 - val_fn: 126.0000 - val_accuracy: 0.8630 - val_precision: 0.0883 - val_sensitivity: 0.9238 - val_auc: 0.9565\n",
      "Epoch 82/100\n",
      "271/271 [==============================] - 2s 7ms/step - loss: 0.2762 - tp: 3473.0000 - fp: 35736.0000 - tn: 231076.0000 - fn: 246.0000 - accuracy: 0.8670 - precision: 0.0886 - sensitivity: 0.9339 - auc: 0.9583 - val_loss: 0.2605 - val_tp: 1467.0000 - val_fp: 12796.0000 - val_tn: 101493.0000 - val_fn: 186.0000 - val_accuracy: 0.8880 - val_precision: 0.1029 - val_sensitivity: 0.8875 - val_auc: 0.9567\n",
      "Epoch 83/100\n",
      "271/271 [==============================] - 2s 7ms/step - loss: 0.2741 - tp: 3483.0000 - fp: 35692.0000 - tn: 231120.0000 - fn: 236.0000 - accuracy: 0.8672 - precision: 0.0889 - sensitivity: 0.9365 - auc: 0.9588 - val_loss: 0.2688 - val_tp: 1481.0000 - val_fp: 13195.0000 - val_tn: 101094.0000 - val_fn: 172.0000 - val_accuracy: 0.8847 - val_precision: 0.1009 - val_sensitivity: 0.8959 - val_auc: 0.9566\n",
      "Epoch 84/100\n",
      "271/271 [==============================] - 2s 7ms/step - loss: 0.2744 - tp: 3487.0000 - fp: 35755.0000 - tn: 231057.0000 - fn: 232.0000 - accuracy: 0.8670 - precision: 0.0889 - sensitivity: 0.9376 - auc: 0.9586 - val_loss: 0.3034 - val_tp: 1524.0000 - val_fp: 14913.0000 - val_tn: 99376.0000 - val_fn: 129.0000 - val_accuracy: 0.8703 - val_precision: 0.0927 - val_sensitivity: 0.9220 - val_auc: 0.9565\n",
      "Epoch 85/100\n",
      "271/271 [==============================] - 2s 7ms/step - loss: 0.2747 - tp: 3494.0000 - fp: 35764.0000 - tn: 231048.0000 - fn: 225.0000 - accuracy: 0.8670 - precision: 0.0890 - sensitivity: 0.9395 - auc: 0.9583 - val_loss: 0.2808 - val_tp: 1497.0000 - val_fp: 14207.0000 - val_tn: 100082.0000 - val_fn: 156.0000 - val_accuracy: 0.8761 - val_precision: 0.0953 - val_sensitivity: 0.9056 - val_auc: 0.9565\n",
      "Epoch 86/100\n",
      "271/271 [==============================] - 2s 7ms/step - loss: 0.2723 - tp: 3462.0000 - fp: 35100.0000 - tn: 231712.0000 - fn: 257.0000 - accuracy: 0.8693 - precision: 0.0898 - sensitivity: 0.9309 - auc: 0.9591 - val_loss: 0.2981 - val_tp: 1492.0000 - val_fp: 14733.0000 - val_tn: 99556.0000 - val_fn: 161.0000 - val_accuracy: 0.8715 - val_precision: 0.0920 - val_sensitivity: 0.9026 - val_auc: 0.9549\n",
      "Epoch 87/100\n",
      "271/271 [==============================] - 2s 7ms/step - loss: 0.2733 - tp: 3497.0000 - fp: 35781.0000 - tn: 231031.0000 - fn: 222.0000 - accuracy: 0.8669 - precision: 0.0890 - sensitivity: 0.9403 - auc: 0.9590 - val_loss: 0.3156 - val_tp: 1525.0000 - val_fp: 15495.0000 - val_tn: 98794.0000 - val_fn: 128.0000 - val_accuracy: 0.8653 - val_precision: 0.0896 - val_sensitivity: 0.9226 - val_auc: 0.9564\n",
      "Epoch 88/100\n",
      "271/271 [==============================] - 2s 7ms/step - loss: 0.2728 - tp: 3497.0000 - fp: 35586.0000 - tn: 231226.0000 - fn: 222.0000 - accuracy: 0.8676 - precision: 0.0895 - sensitivity: 0.9403 - auc: 0.9591 - val_loss: 0.3078 - val_tp: 1520.0000 - val_fp: 15518.0000 - val_tn: 98771.0000 - val_fn: 133.0000 - val_accuracy: 0.8650 - val_precision: 0.0892 - val_sensitivity: 0.9195 - val_auc: 0.9564\n",
      "Epoch 89/100\n",
      "271/271 [==============================] - 2s 7ms/step - loss: 0.2735 - tp: 3483.0000 - fp: 35437.0000 - tn: 231375.0000 - fn: 236.0000 - accuracy: 0.8681 - precision: 0.0895 - sensitivity: 0.9365 - auc: 0.9585 - val_loss: 0.3367 - val_tp: 1546.0000 - val_fp: 16837.0000 - val_tn: 97452.0000 - val_fn: 107.0000 - val_accuracy: 0.8539 - val_precision: 0.0841 - val_sensitivity: 0.9353 - val_auc: 0.9569\n",
      "Epoch 90/100\n",
      "271/271 [==============================] - 2s 7ms/step - loss: 0.2731 - tp: 3493.0000 - fp: 35447.0000 - tn: 231365.0000 - fn: 226.0000 - accuracy: 0.8681 - precision: 0.0897 - sensitivity: 0.9392 - auc: 0.9590 - val_loss: 0.3276 - val_tp: 1527.0000 - val_fp: 16351.0000 - val_tn: 97938.0000 - val_fn: 126.0000 - val_accuracy: 0.8579 - val_precision: 0.0854 - val_sensitivity: 0.9238 - val_auc: 0.9558\n",
      "Epoch 91/100\n",
      "271/271 [==============================] - 2s 7ms/step - loss: 0.2725 - tp: 3485.0000 - fp: 35695.0000 - tn: 231117.0000 - fn: 234.0000 - accuracy: 0.8672 - precision: 0.0889 - sensitivity: 0.9371 - auc: 0.9591 - val_loss: 0.2787 - val_tp: 1502.0000 - val_fp: 14183.0000 - val_tn: 100106.0000 - val_fn: 151.0000 - val_accuracy: 0.8764 - val_precision: 0.0958 - val_sensitivity: 0.9087 - val_auc: 0.9561\n",
      "Epoch 92/100\n",
      "271/271 [==============================] - 2s 7ms/step - loss: 0.2745 - tp: 3491.0000 - fp: 35683.0000 - tn: 231129.0000 - fn: 228.0000 - accuracy: 0.8673 - precision: 0.0891 - sensitivity: 0.9387 - auc: 0.9585 - val_loss: 0.3125 - val_tp: 1531.0000 - val_fp: 15942.0000 - val_tn: 98347.0000 - val_fn: 122.0000 - val_accuracy: 0.8614 - val_precision: 0.0876 - val_sensitivity: 0.9262 - val_auc: 0.9570\n",
      "Epoch 93/100\n",
      "271/271 [==============================] - 2s 7ms/step - loss: 0.2709 - tp: 3493.0000 - fp: 35463.0000 - tn: 231349.0000 - fn: 226.0000 - accuracy: 0.8681 - precision: 0.0897 - sensitivity: 0.9392 - auc: 0.9593 - val_loss: 0.2929 - val_tp: 1504.0000 - val_fp: 14638.0000 - val_tn: 99651.0000 - val_fn: 149.0000 - val_accuracy: 0.8725 - val_precision: 0.0932 - val_sensitivity: 0.9099 - val_auc: 0.9559\n",
      "Epoch 94/100\n",
      "271/271 [==============================] - 2s 7ms/step - loss: 0.2711 - tp: 3487.0000 - fp: 35007.0000 - tn: 231805.0000 - fn: 232.0000 - accuracy: 0.8697 - precision: 0.0906 - sensitivity: 0.9376 - auc: 0.9594 - val_loss: 0.2979 - val_tp: 1513.0000 - val_fp: 14675.0000 - val_tn: 99614.0000 - val_fn: 140.0000 - val_accuracy: 0.8722 - val_precision: 0.0935 - val_sensitivity: 0.9153 - val_auc: 0.9566\n",
      "Epoch 95/100\n",
      "271/271 [==============================] - 2s 7ms/step - loss: 0.2720 - tp: 3482.0000 - fp: 35201.0000 - tn: 231611.0000 - fn: 237.0000 - accuracy: 0.8690 - precision: 0.0900 - sensitivity: 0.9363 - auc: 0.9589 - val_loss: 0.3257 - val_tp: 1545.0000 - val_fp: 16807.0000 - val_tn: 97482.0000 - val_fn: 108.0000 - val_accuracy: 0.8541 - val_precision: 0.0842 - val_sensitivity: 0.9347 - val_auc: 0.9572\n",
      "Epoch 96/100\n",
      "271/271 [==============================] - 2s 7ms/step - loss: 0.2722 - tp: 3494.0000 - fp: 35609.0000 - tn: 231203.0000 - fn: 225.0000 - accuracy: 0.8675 - precision: 0.0894 - sensitivity: 0.9395 - auc: 0.9590 - val_loss: 0.2990 - val_tp: 1522.0000 - val_fp: 15102.0000 - val_tn: 99187.0000 - val_fn: 131.0000 - val_accuracy: 0.8686 - val_precision: 0.0916 - val_sensitivity: 0.9208 - val_auc: 0.9568\n",
      "Epoch 97/100\n",
      "271/271 [==============================] - 2s 7ms/step - loss: 0.2720 - tp: 3492.0000 - fp: 35546.0000 - tn: 231266.0000 - fn: 227.0000 - accuracy: 0.8678 - precision: 0.0895 - sensitivity: 0.9390 - auc: 0.9590 - val_loss: 0.2864 - val_tp: 1511.0000 - val_fp: 14545.0000 - val_tn: 99744.0000 - val_fn: 142.0000 - val_accuracy: 0.8733 - val_precision: 0.0941 - val_sensitivity: 0.9141 - val_auc: 0.9568\n",
      "Epoch 98/100\n",
      "271/271 [==============================] - 2s 7ms/step - loss: 0.2721 - tp: 3490.0000 - fp: 35486.0000 - tn: 231326.0000 - fn: 229.0000 - accuracy: 0.8680 - precision: 0.0895 - sensitivity: 0.9384 - auc: 0.9590 - val_loss: 0.2597 - val_tp: 1470.0000 - val_fp: 12893.0000 - val_tn: 101396.0000 - val_fn: 183.0000 - val_accuracy: 0.8872 - val_precision: 0.1023 - val_sensitivity: 0.8893 - val_auc: 0.9561\n",
      "Epoch 99/100\n",
      "271/271 [==============================] - 2s 7ms/step - loss: 0.2745 - tp: 3483.0000 - fp: 35949.0000 - tn: 230863.0000 - fn: 236.0000 - accuracy: 0.8662 - precision: 0.0883 - sensitivity: 0.9365 - auc: 0.9585 - val_loss: 0.3411 - val_tp: 1536.0000 - val_fp: 16703.0000 - val_tn: 97586.0000 - val_fn: 117.0000 - val_accuracy: 0.8549 - val_precision: 0.0842 - val_sensitivity: 0.9292 - val_auc: 0.9561\n",
      "Epoch 100/100\n",
      "271/271 [==============================] - 2s 7ms/step - loss: 0.2712 - tp: 3482.0000 - fp: 35073.0000 - tn: 231739.0000 - fn: 237.0000 - accuracy: 0.8695 - precision: 0.0903 - sensitivity: 0.9363 - auc: 0.9591 - val_loss: 0.2926 - val_tp: 1514.0000 - val_fp: 14685.0000 - val_tn: 99604.0000 - val_fn: 139.0000 - val_accuracy: 0.8721 - val_precision: 0.0935 - val_sensitivity: 0.9159 - val_auc: 0.9573\n"
     ]
    }
   ],
   "source": [
    "perceptron_training = perceptron_model.fit(\n",
    "    train_scalar_features,\n",
    "    train_labels,\n",
    "    batch_size=BATCH_SIZE,\n",
    "    epochs=EPOCHS,\n",
    "    callbacks = [EARLY_STOPPING],\n",
    "    validation_split = VALIDATION_SPLIT,\n",
    "    class_weight=class_weight_asm,\n",
    "    verbose = 1) "
   ]
  },
  {
   "cell_type": "code",
   "execution_count": 90,
   "id": "e84bda20-b408-47a8-b3e2-d47bd4dd1c88",
   "metadata": {},
   "outputs": [
    {
     "data": {
      "image/png": "[encoded data removed]",
      "text/plain": [
       "<Figure size 720x720 with 4 Axes>"
      ]
     },
     "metadata": {
      "needs_background": "light"
     },
     "output_type": "display_data"
    }
   ],
   "source": [
    "plot_metrics(perceptron_training)"
   ]
  },
  {
   "cell_type": "code",
   "execution_count": 91,
   "id": "f00cfbe0-f510-4126-8765-92540accf00d",
   "metadata": {},
   "outputs": [
    {
     "name": "stdout",
     "output_type": "stream",
     "text": [
      "97/97 [==============================] - 0s 4ms/step - loss: 0.2947 - tp: 1220.0000 - fp: 12299.0000 - tn: 82986.0000 - fn: 114.0000 - accuracy: 0.8715 - precision: 0.0902 - sensitivity: 0.9145 - auc: 0.9569\n",
      "Loss 0.295\n",
      "True positives 1220.0\n",
      "False positives 12299.0\n",
      "True negatives 82986.0\n",
      "False negatives 114.0\n",
      "Accuracy 0.872\n",
      "Precision 0.09\n",
      "Sensitivity 0.915\n",
      "AUC 0.957\n"
     ]
    }
   ],
   "source": [
    "perceptron_results = perceptron_model.evaluate(test_scalar_features, \n",
    "                                               test_labels, \n",
    "                                               batch_size= BATCH_SIZE,\n",
    "                                               verbose=1)\n",
    "display_results(perceptron_results)"
   ]
  },
  {
   "cell_type": "markdown",
   "id": "93948497-6b99-4032-abf4-3e8c34904cb4",
   "metadata": {},
   "source": [
    "## CNN model with the genomic picture as sole input"
   ]
  },
  {
   "cell_type": "code",
   "execution_count": 37,
   "id": "866a3648-bb78-4ca9-a3a4-39cc9ef83e70",
   "metadata": {},
   "outputs": [],
   "source": [
    "def make_simple_cnn_model(output_bias = None):\n",
    "\n",
    "    if output_bias is not None:\n",
    "        output_bias = tf.keras.initializers.Constant(output_bias)\n",
    "\n",
    "    # Start the model\n",
    "    model = keras.Sequential()\n",
    "    \n",
    "    # Normalize the features\n",
    "    # model.add(\n",
    "    #     layers.BatchNormalization(\n",
    "    #         axis=-1,\n",
    "    #         momentum = 0.99,\n",
    "    #         epsilon = 0.001,\n",
    "    #         input_shape=(train_image_feature.shape[1], train_image_feature.shape[2])\n",
    "    #     )\n",
    "    # )  \n",
    "    \n",
    "    # Add a convolutional layer\n",
    "    model.add(layers.Conv1D(\n",
    "        filters = CNN_FILTERS, \n",
    "        kernel_size = CNN_KERNEL,\n",
    "        activation = ACTIVATION_FUNCTION,\n",
    "        input_shape=(train_image_feature.shape[1], train_image_feature.shape[2]),\n",
    "        kernel_regularizer = keras.regularizers.L1L2(\n",
    "                            l1 = L1_R, \n",
    "                            l2 = L2_R)))\n",
    "\n",
    "    # Pooling\n",
    "    model.add(layers.MaxPooling1D(pool_size=2))\n",
    "  \n",
    "    # Flattening\n",
    "    model.add(layers.Flatten())\n",
    "  \n",
    "    # Output layer (Sigmoid)\n",
    "    model.add(layers.Dense(1, activation='sigmoid', \n",
    "                         kernel_regularizer = keras.regularizers.L1L2(\n",
    "                            l1 = L1_R, \n",
    "                            l2 = L2_R),\n",
    "                         bias_initializer=output_bias))\n",
    "\n",
    "    model.compile(\n",
    "        optimizer = keras.optimizers.Adam(learning_rate = LEARNING_RATE),\n",
    "        loss = 'binary_crossentropy',\n",
    "        metrics = METRICS)\n",
    "\n",
    "    return model"
   ]
  },
  {
   "cell_type": "code",
   "execution_count": 38,
   "id": "178d6a6e-9ff5-41eb-8803-44b42db2d8c5",
   "metadata": {},
   "outputs": [],
   "source": [
    "simple_cnn_model = make_simple_cnn_model()"
   ]
  },
  {
   "cell_type": "code",
   "execution_count": 39,
   "id": "67a41d72-5ca6-42ca-87c5-c953ddde7874",
   "metadata": {},
   "outputs": [
    {
     "name": "stdout",
     "output_type": "stream",
     "text": [
      "Model: \"sequential_2\"\n",
      "_________________________________________________________________\n",
      " Layer (type)                Output Shape              Param #   \n",
      "=================================================================\n",
      " conv1d (Conv1D)             (None, 901, 8)            1608      \n",
      "                                                                 \n",
      " max_pooling1d (MaxPooling1D  (None, 450, 8)           0         \n",
      " )                                                               \n",
      "                                                                 \n",
      " flatten (Flatten)           (None, 3600)              0         \n",
      "                                                                 \n",
      " dense_7 (Dense)             (None, 1)                 3601      \n",
      "                                                                 \n",
      "=================================================================\n",
      "Total params: 5,209\n",
      "Trainable params: 5,209\n",
      "Non-trainable params: 0\n",
      "_________________________________________________________________\n"
     ]
    },
    {
     "data": {
      "image/png": "[encoded data removed]",
      "text/plain": [
       "<IPython.core.display.Image object>"
      ]
     },
     "execution_count": 39,
     "metadata": {},
     "output_type": "execute_result"
    }
   ],
   "source": [
    "simple_cnn_model.summary()\n",
    "keras.utils.plot_model(simple_cnn_model, \"cnn_model.png\", show_shapes=True)"
   ]
  },
  {
   "cell_type": "code",
   "execution_count": 40,
   "id": "0a1b71e7-d194-44d8-96f9-29a4b6be7520",
   "metadata": {},
   "outputs": [
    {
     "name": "stdout",
     "output_type": "stream",
     "text": [
      "Epoch 1/100\n"
     ]
    },
    {
     "name": "stderr",
     "output_type": "stream",
     "text": [
      "2022-03-16 22:34:23.020481: I tensorflow/stream_executor/cuda/cuda_dnn.cc:366] Loaded cuDNN version 8200\n"
     ]
    },
    {
     "name": "stdout",
     "output_type": "stream",
     "text": [
      "277/277 [==============================] - 12s 18ms/step - loss: 0.6803 - tp: 3978.0000 - fp: 151571.0000 - tn: 218041.0000 - fn: 1393.0000 - accuracy: 0.5921 - precision: 0.0256 - sensitivity: 0.7406 - auc: 0.7286 - val_loss: 0.7362 - val_tp: 1392.0000 - val_fp: 45482.0000 - val_tn: 71241.0000 - val_fn: 301.0000 - val_accuracy: 0.6134 - val_precision: 0.0297 - val_sensitivity: 0.8222 - val_auc: 0.7725\n",
      "Epoch 2/100\n",
      "277/277 [==============================] - 3s 11ms/step - loss: 0.6360 - tp: 2811.0000 - fp: 80901.0000 - tn: 191447.0000 - fn: 1144.0000 - accuracy: 0.7031 - precision: 0.0336 - sensitivity: 0.7107 - auc: 0.7712 - val_loss: 0.6071 - val_tp: 1018.0000 - val_fp: 28102.0000 - val_tn: 88621.0000 - val_fn: 675.0000 - val_accuracy: 0.7570 - val_precision: 0.0350 - val_sensitivity: 0.6013 - val_auc: 0.7663\n",
      "Epoch 3/100\n",
      "277/277 [==============================] - 3s 11ms/step - loss: 0.6240 - tp: 2867.0000 - fp: 78823.0000 - tn: 193525.0000 - fn: 1088.0000 - accuracy: 0.7108 - precision: 0.0351 - sensitivity: 0.7249 - auc: 0.7826 - val_loss: 0.6854 - val_tp: 1316.0000 - val_fp: 37104.0000 - val_tn: 79619.0000 - val_fn: 377.0000 - val_accuracy: 0.6835 - val_precision: 0.0343 - val_sensitivity: 0.7773 - val_auc: 0.7857\n",
      "Epoch 4/100\n",
      "277/277 [==============================] - 3s 11ms/step - loss: 0.6048 - tp: 3028.0000 - fp: 80923.0000 - tn: 191425.0000 - fn: 927.0000 - accuracy: 0.7038 - precision: 0.0361 - sensitivity: 0.7656 - auc: 0.8004 - val_loss: 0.6568 - val_tp: 1381.0000 - val_fp: 38630.0000 - val_tn: 78093.0000 - val_fn: 312.0000 - val_accuracy: 0.6711 - val_precision: 0.0345 - val_sensitivity: 0.8157 - val_auc: 0.8084\n",
      "Epoch 5/100\n",
      "277/277 [==============================] - 3s 11ms/step - loss: 0.5763 - tp: 3187.0000 - fp: 81374.0000 - tn: 190974.0000 - fn: 768.0000 - accuracy: 0.7027 - precision: 0.0377 - sensitivity: 0.8058 - auc: 0.8236 - val_loss: 0.5429 - val_tp: 1243.0000 - val_fp: 29559.0000 - val_tn: 87164.0000 - val_fn: 450.0000 - val_accuracy: 0.7466 - val_precision: 0.0404 - val_sensitivity: 0.7342 - val_auc: 0.8162\n",
      "Epoch 6/100\n",
      "277/277 [==============================] - 3s 11ms/step - loss: 0.5494 - tp: 3193.0000 - fp: 77650.0000 - tn: 194698.0000 - fn: 762.0000 - accuracy: 0.7162 - precision: 0.0395 - sensitivity: 0.8073 - auc: 0.8352 - val_loss: 0.6554 - val_tp: 1471.0000 - val_fp: 42485.0000 - val_tn: 74238.0000 - val_fn: 222.0000 - val_accuracy: 0.6393 - val_precision: 0.0335 - val_sensitivity: 0.8689 - val_auc: 0.8293\n",
      "Epoch 7/100\n",
      "277/277 [==============================] - 3s 11ms/step - loss: 0.5338 - tp: 3190.0000 - fp: 75661.0000 - tn: 196687.0000 - fn: 765.0000 - accuracy: 0.7234 - precision: 0.0405 - sensitivity: 0.8066 - auc: 0.8401 - val_loss: 0.4876 - val_tp: 1198.0000 - val_fp: 27054.0000 - val_tn: 89669.0000 - val_fn: 495.0000 - val_accuracy: 0.7674 - val_precision: 0.0424 - val_sensitivity: 0.7076 - val_auc: 0.8187\n",
      "Epoch 8/100\n",
      "277/277 [==============================] - 3s 11ms/step - loss: 0.5298 - tp: 3157.0000 - fp: 74318.0000 - tn: 198030.0000 - fn: 798.0000 - accuracy: 0.7281 - precision: 0.0407 - sensitivity: 0.7982 - auc: 0.8389 - val_loss: 0.5667 - val_tp: 1345.0000 - val_fp: 34054.0000 - val_tn: 82669.0000 - val_fn: 348.0000 - val_accuracy: 0.7095 - val_precision: 0.0380 - val_sensitivity: 0.7944 - val_auc: 0.8256\n",
      "Epoch 9/100\n",
      "277/277 [==============================] - 3s 11ms/step - loss: 0.5242 - tp: 3171.0000 - fp: 73394.0000 - tn: 198954.0000 - fn: 784.0000 - accuracy: 0.7315 - precision: 0.0414 - sensitivity: 0.8018 - auc: 0.8431 - val_loss: 0.5109 - val_tp: 1248.0000 - val_fp: 28953.0000 - val_tn: 87770.0000 - val_fn: 445.0000 - val_accuracy: 0.7517 - val_precision: 0.0413 - val_sensitivity: 0.7372 - val_auc: 0.8237\n",
      "Epoch 10/100\n",
      "277/277 [==============================] - 3s 11ms/step - loss: 0.5221 - tp: 3166.0000 - fp: 72449.0000 - tn: 199899.0000 - fn: 789.0000 - accuracy: 0.7349 - precision: 0.0419 - sensitivity: 0.8005 - auc: 0.8441 - val_loss: 0.5743 - val_tp: 1349.0000 - val_fp: 33788.0000 - val_tn: 82935.0000 - val_fn: 344.0000 - val_accuracy: 0.7118 - val_precision: 0.0384 - val_sensitivity: 0.7968 - val_auc: 0.8281\n",
      "Epoch 11/100\n",
      "277/277 [==============================] - 3s 11ms/step - loss: 0.5202 - tp: 3190.0000 - fp: 72831.0000 - tn: 199517.0000 - fn: 765.0000 - accuracy: 0.7336 - precision: 0.0420 - sensitivity: 0.8066 - auc: 0.8457 - val_loss: 0.4720 - val_tp: 1166.0000 - val_fp: 24697.0000 - val_tn: 92026.0000 - val_fn: 527.0000 - val_accuracy: 0.7870 - val_precision: 0.0451 - val_sensitivity: 0.6887 - val_auc: 0.8247\n",
      "Epoch 12/100\n",
      "277/277 [==============================] - 3s 11ms/step - loss: 0.5190 - tp: 3184.0000 - fp: 71276.0000 - tn: 201072.0000 - fn: 771.0000 - accuracy: 0.7392 - precision: 0.0428 - sensitivity: 0.8051 - auc: 0.8467 - val_loss: 0.5354 - val_tp: 1279.0000 - val_fp: 30040.0000 - val_tn: 86683.0000 - val_fn: 414.0000 - val_accuracy: 0.7428 - val_precision: 0.0408 - val_sensitivity: 0.7555 - val_auc: 0.8274\n",
      "Epoch 13/100\n",
      "277/277 [==============================] - 3s 11ms/step - loss: 0.5178 - tp: 3187.0000 - fp: 71707.0000 - tn: 200641.0000 - fn: 768.0000 - accuracy: 0.7377 - precision: 0.0426 - sensitivity: 0.8058 - auc: 0.8474 - val_loss: 0.5393 - val_tp: 1288.0000 - val_fp: 30599.0000 - val_tn: 86124.0000 - val_fn: 405.0000 - val_accuracy: 0.7382 - val_precision: 0.0404 - val_sensitivity: 0.7608 - val_auc: 0.8275\n",
      "Epoch 14/100\n",
      "277/277 [==============================] - 3s 11ms/step - loss: 0.5164 - tp: 3200.0000 - fp: 71489.0000 - tn: 200859.0000 - fn: 755.0000 - accuracy: 0.7385 - precision: 0.0428 - sensitivity: 0.8091 - auc: 0.8487 - val_loss: 0.5408 - val_tp: 1281.0000 - val_fp: 30435.0000 - val_tn: 86288.0000 - val_fn: 412.0000 - val_accuracy: 0.7395 - val_precision: 0.0404 - val_sensitivity: 0.7566 - val_auc: 0.8279\n",
      "Epoch 15/100\n",
      "277/277 [==============================] - 3s 11ms/step - loss: 0.5160 - tp: 3195.0000 - fp: 71595.0000 - tn: 200753.0000 - fn: 760.0000 - accuracy: 0.7381 - precision: 0.0427 - sensitivity: 0.8078 - auc: 0.8491 - val_loss: 0.5539 - val_tp: 1305.0000 - val_fp: 31268.0000 - val_tn: 85455.0000 - val_fn: 388.0000 - val_accuracy: 0.7327 - val_precision: 0.0401 - val_sensitivity: 0.7708 - val_auc: 0.8291\n",
      "Epoch 16/100\n",
      "277/277 [==============================] - 3s 10ms/step - loss: 0.5160 - tp: 3175.0000 - fp: 71095.0000 - tn: 201253.0000 - fn: 780.0000 - accuracy: 0.7399 - precision: 0.0427 - sensitivity: 0.8028 - auc: 0.8497 - val_loss: 0.5200 - val_tp: 1258.0000 - val_fp: 29249.0000 - val_tn: 87474.0000 - val_fn: 435.0000 - val_accuracy: 0.7493 - val_precision: 0.0412 - val_sensitivity: 0.7431 - val_auc: 0.8260\n"
     ]
    }
   ],
   "source": [
    "simple_cnn_training = simple_cnn_model.fit(\n",
    "    train_image_feature,\n",
    "    train_labels,\n",
    "    batch_size=BATCH_SIZE,\n",
    "    epochs=EPOCHS,\n",
    "    callbacks = [EARLY_STOPPING],\n",
    "    validation_split = VALIDATION_SPLIT,\n",
    "    class_weight=class_weight_asm,\n",
    "    verbose = 0) "
   ]
  },
  {
   "cell_type": "code",
   "execution_count": 41,
   "id": "4dbe8d23-6562-496b-88f8-ce2940716b1f",
   "metadata": {},
   "outputs": [
    {
     "data": {
      "image/png": "[encoded data removed]",
      "text/plain": [
       "<Figure size 720x720 with 4 Axes>"
      ]
     },
     "metadata": {
      "needs_background": "light"
     },
     "output_type": "display_data"
    }
   ],
   "source": [
    "plot_metrics(simple_cnn_training)"
   ]
  },
  {
   "cell_type": "code",
   "execution_count": 42,
   "id": "4c3ebb40-563d-4eb7-8dff-b9325311b54d",
   "metadata": {},
   "outputs": [
    {
     "name": "stdout",
     "output_type": "stream",
     "text": [
      "99/99 [==============================] - 1s 7ms/step - loss: 0.6510 - tp: 1216.0000 - fp: 35000.0000 - tn: 62264.0000 - fn: 200.0000 - accuracy: 0.6433 - precision: 0.0336 - sensitivity: 0.8588 - auc: 0.8312\n",
      "Loss 0.651\n",
      "True positives 1216.0\n",
      "False positives 35000.0\n",
      "True negatives 62264.0\n",
      "False negatives 200.0\n",
      "Accuracy 0.643\n",
      "Precision 0.034\n",
      "Sensitivity 0.859\n",
      "AUC 0.831\n"
     ]
    }
   ],
   "source": [
    "# Evaluate model on the test dataset\n",
    "simple_cnn_results = simple_cnn_model.evaluate(\n",
    "    test_image_feature, \n",
    "    test_labels, \n",
    "    batch_size = BATCH_SIZE,\n",
    "    verbose=1)\n",
    "\n",
    "display_results(simple_cnn_results)"
   ]
  },
  {
   "cell_type": "markdown",
   "id": "9a59acce-8448-4ba7-a628-cd913dbfc62c",
   "metadata": {},
   "source": [
    "## Recurrent Neural Network"
   ]
  },
  {
   "cell_type": "code",
   "execution_count": 43,
   "id": "70faf688-173b-4b2e-882f-47eb3f71443d",
   "metadata": {},
   "outputs": [],
   "source": [
    "def make_simple_rnn_model():\n",
    "\n",
    "    nb_dim_in_genomic_seq = train_image_feature.shape[2] # Should be 3\n",
    "\n",
    "    model = keras.models.Sequential()\n",
    "    \n",
    "    # Normalize the features\n",
    "    model.add(\n",
    "        layers.BatchNormalization(\n",
    "            axis=-1,\n",
    "            momentum = 0.99,\n",
    "            epsilon = 0.001,\n",
    "            input_shape=(train_image_feature.shape[1], train_image_feature.shape[2])\n",
    "        )\n",
    "    )  \n",
    "    \n",
    "    model.add(layers.LSTM(RNN_UNITS, input_shape=(None, nb_dim_in_genomic_seq), go_backwards = True))\n",
    "\n",
    "    # Output layer (Sigmoid)\n",
    "    model.add(layers.Dense(1, activation='sigmoid', \n",
    "                         kernel_regularizer = keras.regularizers.L1L2(\n",
    "                            l1 = L1_R, \n",
    "                            l2 = L2_R)\n",
    "                         ))\n",
    "\n",
    "    model.compile(\n",
    "      optimizer = keras.optimizers.Adam(learning_rate =LEARNING_RATE),\n",
    "      loss = 'binary_crossentropy',\n",
    "      metrics = METRICS)\n",
    "    \n",
    "    return model"
   ]
  },
  {
   "cell_type": "code",
   "execution_count": 44,
   "id": "31d3372d-f038-4344-b4c1-8757e5cad58c",
   "metadata": {},
   "outputs": [],
   "source": [
    "simple_rnn_model = make_simple_rnn_model()"
   ]
  },
  {
   "cell_type": "code",
   "execution_count": 45,
   "id": "c92b5625-732d-40cc-8e7b-ea0588cf4d55",
   "metadata": {},
   "outputs": [
    {
     "name": "stdout",
     "output_type": "stream",
     "text": [
      "Model: \"sequential_3\"\n",
      "_________________________________________________________________\n",
      " Layer (type)                Output Shape              Param #   \n",
      "=================================================================\n",
      " batch_normalization (BatchN  (None, 1000, 2)          8         \n",
      " ormalization)                                                   \n",
      "                                                                 \n",
      " lstm (LSTM)                 (None, 128)               67072     \n",
      "                                                                 \n",
      " dense_8 (Dense)             (None, 1)                 129       \n",
      "                                                                 \n",
      "=================================================================\n",
      "Total params: 67,209\n",
      "Trainable params: 67,205\n",
      "Non-trainable params: 4\n",
      "_________________________________________________________________\n"
     ]
    },
    {
     "data": {
      "image/png": "[encoded data removed]",
      "text/plain": [
       "<IPython.core.display.Image object>"
      ]
     },
     "execution_count": 45,
     "metadata": {},
     "output_type": "execute_result"
    }
   ],
   "source": [
    "simple_rnn_model.summary()\n",
    "keras.utils.plot_model(simple_rnn_model, \"cnn_model.png\", show_shapes=True)"
   ]
  },
  {
   "cell_type": "code",
   "execution_count": null,
   "id": "85bee2d1-7c8a-4b27-aa24-412f7cf1a39c",
   "metadata": {},
   "outputs": [],
   "source": [
    "simple_rnn_training = simple_rnn_model.fit(\n",
    "    train_image_feature,\n",
    "    train_labels,\n",
    "    batch_size=BATCH_SIZE,\n",
    "    epochs=EPOCHS,\n",
    "    callbacks = [EARLY_STOPPING],\n",
    "    validation_split = VALIDATION_SPLIT,\n",
    "    class_weight=class_weight_asm,\n",
    "    verbose = 0) "
   ]
  },
  {
   "cell_type": "code",
   "execution_count": 47,
   "id": "3396c444-e534-484c-a0f4-94a9b03dea8b",
   "metadata": {},
   "outputs": [
    {
     "data": {
      "image/png": "[encoded data removed]",
      "text/plain": [
       "<Figure size 720x720 with 4 Axes>"
      ]
     },
     "metadata": {
      "needs_background": "light"
     },
     "output_type": "display_data"
    }
   ],
   "source": [
    "plot_metrics(simple_rnn_training)"
   ]
  },
  {
   "cell_type": "code",
   "execution_count": 48,
   "id": "905674c1-98d1-4d77-9884-4d0f26b09785",
   "metadata": {},
   "outputs": [
    {
     "name": "stdout",
     "output_type": "stream",
     "text": [
      "99/99 [==============================] - 2s 24ms/step - loss: 0.6798 - tp: 1196.0000 - fp: 33397.0000 - tn: 63867.0000 - fn: 220.0000 - accuracy: 0.6593 - precision: 0.0346 - sensitivity: 0.8446 - auc: 0.7586\n",
      "Loss 0.68\n",
      "True positives 1196.0\n",
      "False positives 33397.0\n",
      "True negatives 63867.0\n",
      "False negatives 220.0\n",
      "Accuracy 0.659\n",
      "Precision 0.035\n",
      "Sensitivity 0.845\n",
      "AUC 0.759\n"
     ]
    }
   ],
   "source": [
    "# Evaluate model on the test dataset\n",
    "simple_rnn_results = simple_rnn_model.evaluate(\n",
    "    test_image_feature, \n",
    "    test_labels, \n",
    "    batch_size = BATCH_SIZE,\n",
    "    verbose=1)\n",
    "\n",
    "display_results(simple_rnn_results)"
   ]
  },
  {
   "cell_type": "markdown",
   "id": "6597e7ea-b54e-4733-bd98-bdaf014a46c2",
   "metadata": {},
   "source": [
    "## Save model results into CSV file"
   ]
  },
  {
   "cell_type": "code",
   "execution_count": 49,
   "id": "5b8eed8e-1bef-4e96-a29c-a6a576232ef6",
   "metadata": {},
   "outputs": [],
   "source": [
    "# MODELS FOR WHICH WE NEED TO RECORD THE RESULTS\n",
    "\n",
    "models = ['linear', 'perceptron', 'simple_cnn', 'simple_rnn', 'simple_tree', 'boosted_tree']\n",
    "#models = ['simple_rnn']\n",
    "\n",
    "# Loss is better than AUC for monitoring\n",
    "PARAM_TO_CHANGE = \"baseline\""
   ]
  },
  {
   "cell_type": "code",
   "execution_count": 67,
   "id": "f92a19f2-0a4e-47dd-a372-44c1ef7869c8",
   "metadata": {},
   "outputs": [
    {
     "name": "stdout",
     "output_type": "stream",
     "text": [
      "does not exist\n"
     ]
    }
   ],
   "source": [
    "#Initialize DF if it does not exist\n",
    "try: \n",
    "    model_results.head()\n",
    "    print(\"does not exist\")\n",
    "except AttributeError:\n",
    "    pass\n",
    "except NameError:\n",
    "    model_results = pd.DataFrame([\n",
    "                \"param_testing\", \"data_path\", \"nb_data_points\", \"genomic_region\", \"test_split\", \"val_split\", \n",
    "                \"stop_monitor\", \"stop_restore_w\", \n",
    "                \"epochs\", \"batch_size\",\n",
    "                \"L1_R\", \"L2_R\",\n",
    "                'activation_function', 'nb_nodes_perceptron',\n",
    "                'nb_layers_perceptron', 'nb_nodes_after_cnn',\n",
    "                'cnn_filters', 'cnn_kernel', 'RNN_units',\n",
    "                'growing_strat', 'num_trees', 'min_examples', 'max_depth', 'subsample', 'sampling_method',\n",
    "                'nb_params',\n",
    "                'loss', 'tp', 'fp', 'tn', 'fn', 'accuracy', 'precision', \n",
    "                'sensitivity', 'AUC'], columns = ['parameters'])\n"
   ]
  },
  {
   "cell_type": "code",
   "execution_count": 52,
   "id": "38f38cfd-aa26-4037-993f-c624e4f67afc",
   "metadata": {},
   "outputs": [],
   "source": [
    "model_results = pd.DataFrame([\n",
    "                \"param_testing\", \"data_path\", \"nb_data_points\", \"genomic_region\", \"test_split\", \"val_split\", \n",
    "                \"stop_monitor\", \"stop_restore_w\", \n",
    "                \"epochs\", \"batch_size\",\n",
    "                \"L1_R\", \"L2_R\",\n",
    "                'activation_function', 'nb_nodes_perceptron',\n",
    "                'nb_layers_perceptron', 'nb_nodes_after_cnn',\n",
    "                'cnn_filters', 'cnn_kernel', 'RNN_units',\n",
    "                'growing_strat', 'num_trees', 'min_examples', 'max_depth', 'subsample', 'sampling_method',\n",
    "                'nb_params',\n",
    "                'loss', 'tp', 'fp', 'tn', 'fn', 'accuracy', 'precision', \n",
    "                'sensitivity', 'AUC'], columns = ['parameters'])"
   ]
  },
  {
   "cell_type": "code",
   "execution_count": 53,
   "id": "b04c1239-2544-404b-920b-154ee451d73f",
   "metadata": {},
   "outputs": [
    {
     "name": "stdout",
     "output_type": "stream",
     "text": [
      "model: linear\n",
      "model: perceptron\n",
      "model: simple_cnn\n",
      "model: simple_rnn\n",
      "model: simple_tree\n",
      "model: boosted_tree\n"
     ]
    },
    {
     "data": {
      "text/html": [
       "<div>\n",
       "<style scoped>\n",
       "    .dataframe tbody tr th:only-of-type {\n",
       "        vertical-align: middle;\n",
       "    }\n",
       "\n",
       "    .dataframe tbody tr th {\n",
       "        vertical-align: top;\n",
       "    }\n",
       "\n",
       "    .dataframe thead th {\n",
       "        text-align: right;\n",
       "    }\n",
       "</style>\n",
       "<table border=\"1\" class=\"dataframe\">\n",
       "  <thead>\n",
       "    <tr style=\"text-align: right;\">\n",
       "      <th></th>\n",
       "      <th>parameters</th>\n",
       "      <th>linear</th>\n",
       "      <th>perceptron</th>\n",
       "      <th>simple_cnn</th>\n",
       "      <th>simple_rnn</th>\n",
       "      <th>simple_tree</th>\n",
       "      <th>boosted_tree</th>\n",
       "    </tr>\n",
       "  </thead>\n",
       "  <tbody>\n",
       "    <tr>\n",
       "      <th>0</th>\n",
       "      <td>param_testing</td>\n",
       "      <td>baseline</td>\n",
       "      <td>baseline</td>\n",
       "      <td>baseline</td>\n",
       "      <td>baseline</td>\n",
       "      <td>baseline</td>\n",
       "      <td>baseline</td>\n",
       "    </tr>\n",
       "    <tr>\n",
       "      <th>1</th>\n",
       "      <td>data_path</td>\n",
       "      <td>deepasm/notebook/1000bp_500000rows_2022-03-16_...</td>\n",
       "      <td>deepasm/notebook/1000bp_500000rows_2022-03-16_...</td>\n",
       "      <td>deepasm/notebook/1000bp_500000rows_2022-03-16_...</td>\n",
       "      <td>deepasm/notebook/1000bp_500000rows_2022-03-16_...</td>\n",
       "      <td>deepasm/notebook/1000bp_500000rows_2022-03-16_...</td>\n",
       "      <td>deepasm/notebook/1000bp_500000rows_2022-03-16_...</td>\n",
       "    </tr>\n",
       "    <tr>\n",
       "      <th>2</th>\n",
       "      <td>nb_data_points</td>\n",
       "      <td>493399</td>\n",
       "      <td>493399</td>\n",
       "      <td>493399</td>\n",
       "      <td>493399</td>\n",
       "      <td>493399</td>\n",
       "      <td>493399</td>\n",
       "    </tr>\n",
       "    <tr>\n",
       "      <th>3</th>\n",
       "      <td>genomic_region</td>\n",
       "      <td>1000</td>\n",
       "      <td>1000</td>\n",
       "      <td>1000</td>\n",
       "      <td>1000</td>\n",
       "      <td>1000</td>\n",
       "      <td>1000</td>\n",
       "    </tr>\n",
       "    <tr>\n",
       "      <th>4</th>\n",
       "      <td>test_split</td>\n",
       "      <td>0.2</td>\n",
       "      <td>0.2</td>\n",
       "      <td>0.2</td>\n",
       "      <td>0.2</td>\n",
       "      <td>0.2</td>\n",
       "      <td>0.2</td>\n",
       "    </tr>\n",
       "    <tr>\n",
       "      <th>5</th>\n",
       "      <td>val_split</td>\n",
       "      <td>0.3</td>\n",
       "      <td>0.3</td>\n",
       "      <td>0.3</td>\n",
       "      <td>0.3</td>\n",
       "      <td>0.3</td>\n",
       "      <td>0.3</td>\n",
       "    </tr>\n",
       "    <tr>\n",
       "      <th>6</th>\n",
       "      <td>stop_monitor</td>\n",
       "      <td>val_auc</td>\n",
       "      <td>val_auc</td>\n",
       "      <td>val_auc</td>\n",
       "      <td>val_auc</td>\n",
       "      <td>val_auc</td>\n",
       "      <td>val_auc</td>\n",
       "    </tr>\n",
       "    <tr>\n",
       "      <th>7</th>\n",
       "      <td>stop_restore_w</td>\n",
       "      <td>True</td>\n",
       "      <td>True</td>\n",
       "      <td>True</td>\n",
       "      <td>True</td>\n",
       "      <td>True</td>\n",
       "      <td>True</td>\n",
       "    </tr>\n",
       "    <tr>\n",
       "      <th>8</th>\n",
       "      <td>epochs</td>\n",
       "      <td>100</td>\n",
       "      <td>100</td>\n",
       "      <td>100</td>\n",
       "      <td>100</td>\n",
       "      <td>100</td>\n",
       "      <td>100</td>\n",
       "    </tr>\n",
       "    <tr>\n",
       "      <th>9</th>\n",
       "      <td>batch_size</td>\n",
       "      <td>1000</td>\n",
       "      <td>1000</td>\n",
       "      <td>1000</td>\n",
       "      <td>1000</td>\n",
       "      <td>1000</td>\n",
       "      <td>1000</td>\n",
       "    </tr>\n",
       "    <tr>\n",
       "      <th>10</th>\n",
       "      <td>L1_R</td>\n",
       "      <td>0</td>\n",
       "      <td>0</td>\n",
       "      <td>0</td>\n",
       "      <td>0</td>\n",
       "      <td>0</td>\n",
       "      <td>0</td>\n",
       "    </tr>\n",
       "    <tr>\n",
       "      <th>11</th>\n",
       "      <td>L2_R</td>\n",
       "      <td>0.001</td>\n",
       "      <td>0.001</td>\n",
       "      <td>0.001</td>\n",
       "      <td>0.001</td>\n",
       "      <td>0.001</td>\n",
       "      <td>0.001</td>\n",
       "    </tr>\n",
       "    <tr>\n",
       "      <th>12</th>\n",
       "      <td>activation_function</td>\n",
       "      <td>tanh</td>\n",
       "      <td>tanh</td>\n",
       "      <td>tanh</td>\n",
       "      <td>tanh</td>\n",
       "      <td>tanh</td>\n",
       "      <td>tanh</td>\n",
       "    </tr>\n",
       "    <tr>\n",
       "      <th>13</th>\n",
       "      <td>nb_nodes_perceptron</td>\n",
       "      <td>60</td>\n",
       "      <td>60</td>\n",
       "      <td>60</td>\n",
       "      <td>60</td>\n",
       "      <td>60</td>\n",
       "      <td>60</td>\n",
       "    </tr>\n",
       "    <tr>\n",
       "      <th>14</th>\n",
       "      <td>nb_layers_perceptron</td>\n",
       "      <td>5</td>\n",
       "      <td>5</td>\n",
       "      <td>5</td>\n",
       "      <td>5</td>\n",
       "      <td>5</td>\n",
       "      <td>5</td>\n",
       "    </tr>\n",
       "    <tr>\n",
       "      <th>15</th>\n",
       "      <td>nb_nodes_after_cnn</td>\n",
       "      <td>2</td>\n",
       "      <td>2</td>\n",
       "      <td>2</td>\n",
       "      <td>2</td>\n",
       "      <td>2</td>\n",
       "      <td>2</td>\n",
       "    </tr>\n",
       "    <tr>\n",
       "      <th>16</th>\n",
       "      <td>cnn_filters</td>\n",
       "      <td>8</td>\n",
       "      <td>8</td>\n",
       "      <td>8</td>\n",
       "      <td>8</td>\n",
       "      <td>8</td>\n",
       "      <td>8</td>\n",
       "    </tr>\n",
       "    <tr>\n",
       "      <th>17</th>\n",
       "      <td>cnn_kernel</td>\n",
       "      <td>100</td>\n",
       "      <td>100</td>\n",
       "      <td>100</td>\n",
       "      <td>100</td>\n",
       "      <td>100</td>\n",
       "      <td>100</td>\n",
       "    </tr>\n",
       "    <tr>\n",
       "      <th>18</th>\n",
       "      <td>RNN_units</td>\n",
       "      <td>128</td>\n",
       "      <td>128</td>\n",
       "      <td>128</td>\n",
       "      <td>128</td>\n",
       "      <td>128</td>\n",
       "      <td>128</td>\n",
       "    </tr>\n",
       "    <tr>\n",
       "      <th>19</th>\n",
       "      <td>growing_strat</td>\n",
       "      <td>BEST_FIRST_GLOBAL</td>\n",
       "      <td>BEST_FIRST_GLOBAL</td>\n",
       "      <td>BEST_FIRST_GLOBAL</td>\n",
       "      <td>BEST_FIRST_GLOBAL</td>\n",
       "      <td>BEST_FIRST_GLOBAL</td>\n",
       "      <td>BEST_FIRST_GLOBAL</td>\n",
       "    </tr>\n",
       "    <tr>\n",
       "      <th>20</th>\n",
       "      <td>num_trees</td>\n",
       "      <td>600</td>\n",
       "      <td>600</td>\n",
       "      <td>600</td>\n",
       "      <td>600</td>\n",
       "      <td>600</td>\n",
       "      <td>600</td>\n",
       "    </tr>\n",
       "    <tr>\n",
       "      <th>21</th>\n",
       "      <td>min_examples</td>\n",
       "      <td>10</td>\n",
       "      <td>10</td>\n",
       "      <td>10</td>\n",
       "      <td>10</td>\n",
       "      <td>10</td>\n",
       "      <td>10</td>\n",
       "    </tr>\n",
       "    <tr>\n",
       "      <th>22</th>\n",
       "      <td>max_depth</td>\n",
       "      <td>12</td>\n",
       "      <td>12</td>\n",
       "      <td>12</td>\n",
       "      <td>12</td>\n",
       "      <td>12</td>\n",
       "      <td>12</td>\n",
       "    </tr>\n",
       "    <tr>\n",
       "      <th>23</th>\n",
       "      <td>subsample</td>\n",
       "      <td>0.5</td>\n",
       "      <td>0.5</td>\n",
       "      <td>0.5</td>\n",
       "      <td>0.5</td>\n",
       "      <td>0.5</td>\n",
       "      <td>0.5</td>\n",
       "    </tr>\n",
       "    <tr>\n",
       "      <th>24</th>\n",
       "      <td>sampling_method</td>\n",
       "      <td>RANDOM</td>\n",
       "      <td>RANDOM</td>\n",
       "      <td>RANDOM</td>\n",
       "      <td>RANDOM</td>\n",
       "      <td>RANDOM</td>\n",
       "      <td>RANDOM</td>\n",
       "    </tr>\n",
       "    <tr>\n",
       "      <th>25</th>\n",
       "      <td>nb_params</td>\n",
       "      <td>161</td>\n",
       "      <td>17941</td>\n",
       "      <td>5209</td>\n",
       "      <td>67209</td>\n",
       "      <td>1</td>\n",
       "      <td>1</td>\n",
       "    </tr>\n",
       "    <tr>\n",
       "      <th>26</th>\n",
       "      <td>loss</td>\n",
       "      <td>0.424</td>\n",
       "      <td>0.341</td>\n",
       "      <td>0.651</td>\n",
       "      <td>0.68</td>\n",
       "      <td>0.0</td>\n",
       "      <td>0.0</td>\n",
       "    </tr>\n",
       "    <tr>\n",
       "      <th>27</th>\n",
       "      <td>tp</td>\n",
       "      <td>1183.0</td>\n",
       "      <td>1166.0</td>\n",
       "      <td>1216.0</td>\n",
       "      <td>1196.0</td>\n",
       "      <td>32.0</td>\n",
       "      <td>102.0</td>\n",
       "    </tr>\n",
       "    <tr>\n",
       "      <th>28</th>\n",
       "      <td>fp</td>\n",
       "      <td>20926.0</td>\n",
       "      <td>15614.0</td>\n",
       "      <td>35000.0</td>\n",
       "      <td>33397.0</td>\n",
       "      <td>13.0</td>\n",
       "      <td>123.0</td>\n",
       "    </tr>\n",
       "    <tr>\n",
       "      <th>29</th>\n",
       "      <td>tn</td>\n",
       "      <td>76338.0</td>\n",
       "      <td>81650.0</td>\n",
       "      <td>62264.0</td>\n",
       "      <td>63867.0</td>\n",
       "      <td>97251.0</td>\n",
       "      <td>97141.0</td>\n",
       "    </tr>\n",
       "    <tr>\n",
       "      <th>30</th>\n",
       "      <td>fn</td>\n",
       "      <td>233.0</td>\n",
       "      <td>250.0</td>\n",
       "      <td>200.0</td>\n",
       "      <td>220.0</td>\n",
       "      <td>1384.0</td>\n",
       "      <td>1314.0</td>\n",
       "    </tr>\n",
       "    <tr>\n",
       "      <th>31</th>\n",
       "      <td>accuracy</td>\n",
       "      <td>0.786</td>\n",
       "      <td>0.839</td>\n",
       "      <td>0.643</td>\n",
       "      <td>0.659</td>\n",
       "      <td>0.986</td>\n",
       "      <td>0.985</td>\n",
       "    </tr>\n",
       "    <tr>\n",
       "      <th>32</th>\n",
       "      <td>precision</td>\n",
       "      <td>0.054</td>\n",
       "      <td>0.069</td>\n",
       "      <td>0.034</td>\n",
       "      <td>0.035</td>\n",
       "      <td>0.711</td>\n",
       "      <td>0.453</td>\n",
       "    </tr>\n",
       "    <tr>\n",
       "      <th>33</th>\n",
       "      <td>sensitivity</td>\n",
       "      <td>0.835</td>\n",
       "      <td>0.823</td>\n",
       "      <td>0.859</td>\n",
       "      <td>0.845</td>\n",
       "      <td>0.023</td>\n",
       "      <td>0.072</td>\n",
       "    </tr>\n",
       "    <tr>\n",
       "      <th>34</th>\n",
       "      <td>AUC</td>\n",
       "      <td>0.89</td>\n",
       "      <td>0.917</td>\n",
       "      <td>0.831</td>\n",
       "      <td>0.759</td>\n",
       "      <td>0.849</td>\n",
       "      <td>0.898</td>\n",
       "    </tr>\n",
       "  </tbody>\n",
       "</table>\n",
       "</div>"
      ],
      "text/plain": [
       "              parameters                                             linear  \\\n",
       "0          param_testing                                           baseline   \n",
       "1              data_path  deepasm/notebook/1000bp_500000rows_2022-03-16_...   \n",
       "2         nb_data_points                                             493399   \n",
       "3         genomic_region                                               1000   \n",
       "4             test_split                                                0.2   \n",
       "5              val_split                                                0.3   \n",
       "6           stop_monitor                                            val_auc   \n",
       "7         stop_restore_w                                               True   \n",
       "8                 epochs                                                100   \n",
       "9             batch_size                                               1000   \n",
       "10                  L1_R                                                  0   \n",
       "11                  L2_R                                              0.001   \n",
       "12   activation_function                                               tanh   \n",
       "13   nb_nodes_perceptron                                                 60   \n",
       "14  nb_layers_perceptron                                                  5   \n",
       "15    nb_nodes_after_cnn                                                  2   \n",
       "16           cnn_filters                                                  8   \n",
       "17            cnn_kernel                                                100   \n",
       "18             RNN_units                                                128   \n",
       "19         growing_strat                                  BEST_FIRST_GLOBAL   \n",
       "20             num_trees                                                600   \n",
       "21          min_examples                                                 10   \n",
       "22             max_depth                                                 12   \n",
       "23             subsample                                                0.5   \n",
       "24       sampling_method                                             RANDOM   \n",
       "25             nb_params                                                161   \n",
       "26                  loss                                              0.424   \n",
       "27                    tp                                             1183.0   \n",
       "28                    fp                                            20926.0   \n",
       "29                    tn                                            76338.0   \n",
       "30                    fn                                              233.0   \n",
       "31              accuracy                                              0.786   \n",
       "32             precision                                              0.054   \n",
       "33           sensitivity                                              0.835   \n",
       "34                   AUC                                               0.89   \n",
       "\n",
       "                                           perceptron  \\\n",
       "0                                            baseline   \n",
       "1   deepasm/notebook/1000bp_500000rows_2022-03-16_...   \n",
       "2                                              493399   \n",
       "3                                                1000   \n",
       "4                                                 0.2   \n",
       "5                                                 0.3   \n",
       "6                                             val_auc   \n",
       "7                                                True   \n",
       "8                                                 100   \n",
       "9                                                1000   \n",
       "10                                                  0   \n",
       "11                                              0.001   \n",
       "12                                               tanh   \n",
       "13                                                 60   \n",
       "14                                                  5   \n",
       "15                                                  2   \n",
       "16                                                  8   \n",
       "17                                                100   \n",
       "18                                                128   \n",
       "19                                  BEST_FIRST_GLOBAL   \n",
       "20                                                600   \n",
       "21                                                 10   \n",
       "22                                                 12   \n",
       "23                                                0.5   \n",
       "24                                             RANDOM   \n",
       "25                                              17941   \n",
       "26                                              0.341   \n",
       "27                                             1166.0   \n",
       "28                                            15614.0   \n",
       "29                                            81650.0   \n",
       "30                                              250.0   \n",
       "31                                              0.839   \n",
       "32                                              0.069   \n",
       "33                                              0.823   \n",
       "34                                              0.917   \n",
       "\n",
       "                                           simple_cnn  \\\n",
       "0                                            baseline   \n",
       "1   deepasm/notebook/1000bp_500000rows_2022-03-16_...   \n",
       "2                                              493399   \n",
       "3                                                1000   \n",
       "4                                                 0.2   \n",
       "5                                                 0.3   \n",
       "6                                             val_auc   \n",
       "7                                                True   \n",
       "8                                                 100   \n",
       "9                                                1000   \n",
       "10                                                  0   \n",
       "11                                              0.001   \n",
       "12                                               tanh   \n",
       "13                                                 60   \n",
       "14                                                  5   \n",
       "15                                                  2   \n",
       "16                                                  8   \n",
       "17                                                100   \n",
       "18                                                128   \n",
       "19                                  BEST_FIRST_GLOBAL   \n",
       "20                                                600   \n",
       "21                                                 10   \n",
       "22                                                 12   \n",
       "23                                                0.5   \n",
       "24                                             RANDOM   \n",
       "25                                               5209   \n",
       "26                                              0.651   \n",
       "27                                             1216.0   \n",
       "28                                            35000.0   \n",
       "29                                            62264.0   \n",
       "30                                              200.0   \n",
       "31                                              0.643   \n",
       "32                                              0.034   \n",
       "33                                              0.859   \n",
       "34                                              0.831   \n",
       "\n",
       "                                           simple_rnn  \\\n",
       "0                                            baseline   \n",
       "1   deepasm/notebook/1000bp_500000rows_2022-03-16_...   \n",
       "2                                              493399   \n",
       "3                                                1000   \n",
       "4                                                 0.2   \n",
       "5                                                 0.3   \n",
       "6                                             val_auc   \n",
       "7                                                True   \n",
       "8                                                 100   \n",
       "9                                                1000   \n",
       "10                                                  0   \n",
       "11                                              0.001   \n",
       "12                                               tanh   \n",
       "13                                                 60   \n",
       "14                                                  5   \n",
       "15                                                  2   \n",
       "16                                                  8   \n",
       "17                                                100   \n",
       "18                                                128   \n",
       "19                                  BEST_FIRST_GLOBAL   \n",
       "20                                                600   \n",
       "21                                                 10   \n",
       "22                                                 12   \n",
       "23                                                0.5   \n",
       "24                                             RANDOM   \n",
       "25                                              67209   \n",
       "26                                               0.68   \n",
       "27                                             1196.0   \n",
       "28                                            33397.0   \n",
       "29                                            63867.0   \n",
       "30                                              220.0   \n",
       "31                                              0.659   \n",
       "32                                              0.035   \n",
       "33                                              0.845   \n",
       "34                                              0.759   \n",
       "\n",
       "                                          simple_tree  \\\n",
       "0                                            baseline   \n",
       "1   deepasm/notebook/1000bp_500000rows_2022-03-16_...   \n",
       "2                                              493399   \n",
       "3                                                1000   \n",
       "4                                                 0.2   \n",
       "5                                                 0.3   \n",
       "6                                             val_auc   \n",
       "7                                                True   \n",
       "8                                                 100   \n",
       "9                                                1000   \n",
       "10                                                  0   \n",
       "11                                              0.001   \n",
       "12                                               tanh   \n",
       "13                                                 60   \n",
       "14                                                  5   \n",
       "15                                                  2   \n",
       "16                                                  8   \n",
       "17                                                100   \n",
       "18                                                128   \n",
       "19                                  BEST_FIRST_GLOBAL   \n",
       "20                                                600   \n",
       "21                                                 10   \n",
       "22                                                 12   \n",
       "23                                                0.5   \n",
       "24                                             RANDOM   \n",
       "25                                                  1   \n",
       "26                                                0.0   \n",
       "27                                               32.0   \n",
       "28                                               13.0   \n",
       "29                                            97251.0   \n",
       "30                                             1384.0   \n",
       "31                                              0.986   \n",
       "32                                              0.711   \n",
       "33                                              0.023   \n",
       "34                                              0.849   \n",
       "\n",
       "                                         boosted_tree  \n",
       "0                                            baseline  \n",
       "1   deepasm/notebook/1000bp_500000rows_2022-03-16_...  \n",
       "2                                              493399  \n",
       "3                                                1000  \n",
       "4                                                 0.2  \n",
       "5                                                 0.3  \n",
       "6                                             val_auc  \n",
       "7                                                True  \n",
       "8                                                 100  \n",
       "9                                                1000  \n",
       "10                                                  0  \n",
       "11                                              0.001  \n",
       "12                                               tanh  \n",
       "13                                                 60  \n",
       "14                                                  5  \n",
       "15                                                  2  \n",
       "16                                                  8  \n",
       "17                                                100  \n",
       "18                                                128  \n",
       "19                                  BEST_FIRST_GLOBAL  \n",
       "20                                                600  \n",
       "21                                                 10  \n",
       "22                                                 12  \n",
       "23                                                0.5  \n",
       "24                                             RANDOM  \n",
       "25                                                  1  \n",
       "26                                                0.0  \n",
       "27                                              102.0  \n",
       "28                                              123.0  \n",
       "29                                            97141.0  \n",
       "30                                             1314.0  \n",
       "31                                              0.985  \n",
       "32                                              0.453  \n",
       "33                                              0.072  \n",
       "34                                              0.898  "
      ]
     },
     "execution_count": 53,
     "metadata": {},
     "output_type": "execute_result"
    }
   ],
   "source": [
    "for model in models:\n",
    "  print(\"model:\", model) \n",
    "  name_results = model + \"_results\"\n",
    "  name_model = model + \"_model\"\n",
    "\n",
    "  command_nb_params = \"nb_params = \" + name_model + \".count_params()\"\n",
    "  exec(command_nb_params)\n",
    "\n",
    "  # Parameters common to all models\n",
    "  common_param = pd.DataFrame([\n",
    "     PARAM_TO_CHANGE,\n",
    "     PROCESSED_DATA_PATH,\n",
    "     normalized_df.shape[0],\n",
    "     GENOMIC_INTERVAL,\n",
    "      TEST_SPLIT,\n",
    "     VALIDATION_SPLIT,\n",
    "     EARLY_STOPPING.monitor,\n",
    "     EARLY_STOPPING.restore_best_weights,\n",
    "     EPOCHS,\n",
    "     BATCH_SIZE,\n",
    "     L1_R,\n",
    "     L2_R,\n",
    "     ACTIVATION_FUNCTION,\n",
    "     NB_NODES_PERCEPTRON,\n",
    "     NB_LAYERS_PERCEPTRON,\n",
    "     NB_NODES_AFTER_CNN,\n",
    "     CNN_FILTERS,\n",
    "     CNN_KERNEL,\n",
    "     RNN_UNITS,\n",
    "     GROWING_STRATEGY,\n",
    "     NUM_TREES,\n",
    "     MIN_EXAMPLES,\n",
    "     MAX_DEPTH,\n",
    "     SUBSAMPLE,\n",
    "     SAMPLING_METHOD,\n",
    "     nb_params])\n",
    "\n",
    "  # Create dataframe from the model results\n",
    "  if \"tree\" in model:\n",
    "      #print(\"Found a tree\")\n",
    "      command_df_new_results = \"tmp = pd.DataFrame(np.round(list(\" + name_results + \".values()), 3))\"\n",
    "  else:\n",
    "      #print(\"Not a tree\")\n",
    "      command_df_new_results = \"tmp = pd.DataFrame(np.round(\" + name_results + \", 3))\"\n",
    "  exec(command_df_new_results)\n",
    "  #print(tmp)\n",
    "\n",
    "  # Append the two dataframes\n",
    "  new_column = common_param.append(tmp, ignore_index = True)\n",
    "\n",
    "  # Rename the dataframe\n",
    "  new_column.columns = [model]\n",
    "  #print(new_column)\n",
    "\n",
    "  # Add the results to the dataframe of results\n",
    "  model_results = model_results.merge(new_column, left_index = True, right_index = True)\n",
    " \n",
    "model_results"
   ]
  },
  {
   "cell_type": "code",
   "execution_count": 54,
   "id": "0818d9d3-5ac2-4b14-94ea-7c786eb0c828",
   "metadata": {},
   "outputs": [],
   "source": [
    "model_results.to_csv('model_results.csv', index=False)"
   ]
  },
  {
   "cell_type": "code",
   "execution_count": 53,
   "id": "da651f4c-53ed-4576-a78a-81a7d2cbbcdc",
   "metadata": {},
   "outputs": [
    {
     "data": {
      "text/plain": [
       "1"
      ]
     },
     "execution_count": 53,
     "metadata": {},
     "output_type": "execute_result"
    }
   ],
   "source": [
    "simple_tree_model.count_params()"
   ]
  },
  {
   "cell_type": "code",
   "execution_count": 57,
   "id": "faa8381b-990e-4332-8a2b-bd331684fca0",
   "metadata": {},
   "outputs": [
    {
     "data": {
      "text/plain": [
       "[0.349692165851593,\n",
       " 1208.0,\n",
       " 15611.0,\n",
       " 79670.0,\n",
       " 130.0,\n",
       " 0.8370817303657532,\n",
       " 0.07182352989912033,\n",
       " 0.9028400778770447,\n",
       " 0.9380250573158264]"
      ]
     },
     "execution_count": 57,
     "metadata": {},
     "output_type": "execute_result"
    }
   ],
   "source": [
    "linear_results"
   ]
  },
  {
   "cell_type": "code",
   "execution_count": 59,
   "id": "feb47ebb-0f73-4a33-8dff-59cd994615df",
   "metadata": {},
   "outputs": [
    {
     "data": {
      "text/plain": [
       "[0.0,\n",
       " 93.0,\n",
       " 30.0,\n",
       " 95251.0,\n",
       " 1245.0,\n",
       " 0.9868038296699524,\n",
       " 0.7560975551605225,\n",
       " 0.06950672715902328,\n",
       " 0.9194270372390747]"
      ]
     },
     "execution_count": 59,
     "metadata": {},
     "output_type": "execute_result"
    }
   ],
   "source": [
    "list(simple_tree_results.values())"
   ]
  },
  {
   "cell_type": "code",
   "execution_count": 56,
   "id": "5d1c2e7a-7402-49fa-9b24-d94cc5d680a2",
   "metadata": {},
   "outputs": [
    {
     "ename": "TypeError",
     "evalue": "unsupported operand type(s) for *: 'dict' and 'float'",
     "output_type": "error",
     "traceback": [
      "\u001b[0;31m---------------------------------------------------------------------------\u001b[0m",
      "\u001b[0;31mTypeError\u001b[0m                                 Traceback (most recent call last)",
      "\u001b[0;32m/tmp/ipykernel_24988/2805384635.py\u001b[0m in \u001b[0;36m<module>\u001b[0;34m\u001b[0m\n\u001b[0;32m----> 1\u001b[0;31m \u001b[0mtmp\u001b[0m \u001b[0;34m=\u001b[0m \u001b[0mpd\u001b[0m\u001b[0;34m.\u001b[0m\u001b[0mDataFrame\u001b[0m\u001b[0;34m(\u001b[0m\u001b[0mnp\u001b[0m\u001b[0;34m.\u001b[0m\u001b[0mround\u001b[0m\u001b[0;34m(\u001b[0m\u001b[0msimple_tree_results\u001b[0m\u001b[0;34m,\u001b[0m \u001b[0;36m3\u001b[0m\u001b[0;34m)\u001b[0m\u001b[0;34m)\u001b[0m\u001b[0;34m\u001b[0m\u001b[0;34m\u001b[0m\u001b[0m\n\u001b[0m",
      "\u001b[0;32m<__array_function__ internals>\u001b[0m in \u001b[0;36mround_\u001b[0;34m(*args, **kwargs)\u001b[0m\n",
      "\u001b[0;32m/opt/conda/lib/python3.7/site-packages/numpy/core/fromnumeric.py\u001b[0m in \u001b[0;36mround_\u001b[0;34m(a, decimals, out)\u001b[0m\n\u001b[1;32m   3737\u001b[0m     \u001b[0maround\u001b[0m \u001b[0;34m:\u001b[0m \u001b[0mequivalent\u001b[0m \u001b[0mfunction\u001b[0m\u001b[0;34m;\u001b[0m \u001b[0msee\u001b[0m \u001b[0;32mfor\u001b[0m \u001b[0mdetails\u001b[0m\u001b[0;34m.\u001b[0m\u001b[0;34m\u001b[0m\u001b[0;34m\u001b[0m\u001b[0m\n\u001b[1;32m   3738\u001b[0m     \"\"\"\n\u001b[0;32m-> 3739\u001b[0;31m     \u001b[0;32mreturn\u001b[0m \u001b[0maround\u001b[0m\u001b[0;34m(\u001b[0m\u001b[0ma\u001b[0m\u001b[0;34m,\u001b[0m \u001b[0mdecimals\u001b[0m\u001b[0;34m=\u001b[0m\u001b[0mdecimals\u001b[0m\u001b[0;34m,\u001b[0m \u001b[0mout\u001b[0m\u001b[0;34m=\u001b[0m\u001b[0mout\u001b[0m\u001b[0;34m)\u001b[0m\u001b[0;34m\u001b[0m\u001b[0;34m\u001b[0m\u001b[0m\n\u001b[0m\u001b[1;32m   3740\u001b[0m \u001b[0;34m\u001b[0m\u001b[0m\n\u001b[1;32m   3741\u001b[0m \u001b[0;34m\u001b[0m\u001b[0m\n",
      "\u001b[0;32m<__array_function__ internals>\u001b[0m in \u001b[0;36maround\u001b[0;34m(*args, **kwargs)\u001b[0m\n",
      "\u001b[0;32m/opt/conda/lib/python3.7/site-packages/numpy/core/fromnumeric.py\u001b[0m in \u001b[0;36maround\u001b[0;34m(a, decimals, out)\u001b[0m\n\u001b[1;32m   3312\u001b[0m \u001b[0;34m\u001b[0m\u001b[0m\n\u001b[1;32m   3313\u001b[0m     \"\"\"\n\u001b[0;32m-> 3314\u001b[0;31m     \u001b[0;32mreturn\u001b[0m \u001b[0m_wrapfunc\u001b[0m\u001b[0;34m(\u001b[0m\u001b[0ma\u001b[0m\u001b[0;34m,\u001b[0m \u001b[0;34m'round'\u001b[0m\u001b[0;34m,\u001b[0m \u001b[0mdecimals\u001b[0m\u001b[0;34m=\u001b[0m\u001b[0mdecimals\u001b[0m\u001b[0;34m,\u001b[0m \u001b[0mout\u001b[0m\u001b[0;34m=\u001b[0m\u001b[0mout\u001b[0m\u001b[0;34m)\u001b[0m\u001b[0;34m\u001b[0m\u001b[0;34m\u001b[0m\u001b[0m\n\u001b[0m\u001b[1;32m   3315\u001b[0m \u001b[0;34m\u001b[0m\u001b[0m\n\u001b[1;32m   3316\u001b[0m \u001b[0;34m\u001b[0m\u001b[0m\n",
      "\u001b[0;32m/opt/conda/lib/python3.7/site-packages/numpy/core/fromnumeric.py\u001b[0m in \u001b[0;36m_wrapfunc\u001b[0;34m(obj, method, *args, **kwds)\u001b[0m\n\u001b[1;32m     52\u001b[0m     \u001b[0mbound\u001b[0m \u001b[0;34m=\u001b[0m \u001b[0mgetattr\u001b[0m\u001b[0;34m(\u001b[0m\u001b[0mobj\u001b[0m\u001b[0;34m,\u001b[0m \u001b[0mmethod\u001b[0m\u001b[0;34m,\u001b[0m \u001b[0;32mNone\u001b[0m\u001b[0;34m)\u001b[0m\u001b[0;34m\u001b[0m\u001b[0;34m\u001b[0m\u001b[0m\n\u001b[1;32m     53\u001b[0m     \u001b[0;32mif\u001b[0m \u001b[0mbound\u001b[0m \u001b[0;32mis\u001b[0m \u001b[0;32mNone\u001b[0m\u001b[0;34m:\u001b[0m\u001b[0;34m\u001b[0m\u001b[0;34m\u001b[0m\u001b[0m\n\u001b[0;32m---> 54\u001b[0;31m         \u001b[0;32mreturn\u001b[0m \u001b[0m_wrapit\u001b[0m\u001b[0;34m(\u001b[0m\u001b[0mobj\u001b[0m\u001b[0;34m,\u001b[0m \u001b[0mmethod\u001b[0m\u001b[0;34m,\u001b[0m \u001b[0;34m*\u001b[0m\u001b[0margs\u001b[0m\u001b[0;34m,\u001b[0m \u001b[0;34m**\u001b[0m\u001b[0mkwds\u001b[0m\u001b[0;34m)\u001b[0m\u001b[0;34m\u001b[0m\u001b[0;34m\u001b[0m\u001b[0m\n\u001b[0m\u001b[1;32m     55\u001b[0m \u001b[0;34m\u001b[0m\u001b[0m\n\u001b[1;32m     56\u001b[0m     \u001b[0;32mtry\u001b[0m\u001b[0;34m:\u001b[0m\u001b[0;34m\u001b[0m\u001b[0;34m\u001b[0m\u001b[0m\n",
      "\u001b[0;32m/opt/conda/lib/python3.7/site-packages/numpy/core/fromnumeric.py\u001b[0m in \u001b[0;36m_wrapit\u001b[0;34m(obj, method, *args, **kwds)\u001b[0m\n\u001b[1;32m     41\u001b[0m     \u001b[0;32mexcept\u001b[0m \u001b[0mAttributeError\u001b[0m\u001b[0;34m:\u001b[0m\u001b[0;34m\u001b[0m\u001b[0;34m\u001b[0m\u001b[0m\n\u001b[1;32m     42\u001b[0m         \u001b[0mwrap\u001b[0m \u001b[0;34m=\u001b[0m \u001b[0;32mNone\u001b[0m\u001b[0;34m\u001b[0m\u001b[0;34m\u001b[0m\u001b[0m\n\u001b[0;32m---> 43\u001b[0;31m     \u001b[0mresult\u001b[0m \u001b[0;34m=\u001b[0m \u001b[0mgetattr\u001b[0m\u001b[0;34m(\u001b[0m\u001b[0masarray\u001b[0m\u001b[0;34m(\u001b[0m\u001b[0mobj\u001b[0m\u001b[0;34m)\u001b[0m\u001b[0;34m,\u001b[0m \u001b[0mmethod\u001b[0m\u001b[0;34m)\u001b[0m\u001b[0;34m(\u001b[0m\u001b[0;34m*\u001b[0m\u001b[0margs\u001b[0m\u001b[0;34m,\u001b[0m \u001b[0;34m**\u001b[0m\u001b[0mkwds\u001b[0m\u001b[0;34m)\u001b[0m\u001b[0;34m\u001b[0m\u001b[0;34m\u001b[0m\u001b[0m\n\u001b[0m\u001b[1;32m     44\u001b[0m     \u001b[0;32mif\u001b[0m \u001b[0mwrap\u001b[0m\u001b[0;34m:\u001b[0m\u001b[0;34m\u001b[0m\u001b[0;34m\u001b[0m\u001b[0m\n\u001b[1;32m     45\u001b[0m         \u001b[0;32mif\u001b[0m \u001b[0;32mnot\u001b[0m \u001b[0misinstance\u001b[0m\u001b[0;34m(\u001b[0m\u001b[0mresult\u001b[0m\u001b[0;34m,\u001b[0m \u001b[0mmu\u001b[0m\u001b[0;34m.\u001b[0m\u001b[0mndarray\u001b[0m\u001b[0;34m)\u001b[0m\u001b[0;34m:\u001b[0m\u001b[0;34m\u001b[0m\u001b[0;34m\u001b[0m\u001b[0m\n",
      "\u001b[0;31mTypeError\u001b[0m: unsupported operand type(s) for *: 'dict' and 'float'"
     ]
    }
   ],
   "source": [
    "tmp = pd.DataFrame(np.round(simple_tree_results, 3))"
   ]
  },
  {
   "cell_type": "code",
   "execution_count": null,
   "id": "087e1f0f-990f-4203-be19-ee8f96730c8f",
   "metadata": {},
   "outputs": [],
   "source": []
  }
 ],
 "metadata": {
  "environment": {
   "kernel": "python3",
   "name": "tf2-gpu.2-7.m87",
   "type": "gcloud",
   "uri": "gcr.io/deeplearning-platform-release/tf2-gpu.2-7:m87"
  },
  "kernelspec": {
   "display_name": "Python 3",
   "language": "python",
   "name": "python3"
  },
  "language_info": {
   "codemirror_mode": {
    "name": "ipython",
    "version": 3
   },
   "file_extension": ".py",
   "mimetype": "text/x-python",
   "name": "python",
   "nbconvert_exporter": "python",
   "pygments_lexer": "ipython3",
   "version": "3.7.12"
  },
  "toc-autonumbering": false,
  "toc-showcode": false,
  "toc-showmarkdowntxt": false
 },
 "nbformat": 4,
 "nbformat_minor": 5
}
